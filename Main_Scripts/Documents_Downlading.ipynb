{
 "cells": [
  {
   "cell_type": "code",
   "execution_count": 4,
   "id": "8c6ab8d9",
   "metadata": {},
   "outputs": [
    {
     "name": "stdout",
     "output_type": "stream",
     "text": [
      "The autoreload extension is already loaded. To reload it, use:\n",
      "  %reload_ext autoreload\n"
     ]
    }
   ],
   "source": [
    "%load_ext autoreload\n",
    "%autoreload 2\n",
    "\n",
    "import sys \n",
    "import wikipediaapi\n",
    "MODULES_PATH = \"../Modules\"\n",
    "\n",
    "if MODULES_PATH not in sys.path:\n",
    "    sys.path.append(MODULES_PATH)\n",
    "\n",
    "from Documents_Download import *"
   ]
  },
  {
   "cell_type": "code",
   "execution_count": null,
   "id": "ccb16200",
   "metadata": {},
   "outputs": [],
   "source": []
  },
  {
   "cell_type": "markdown",
   "id": "e6724d77",
   "metadata": {},
   "source": []
  },
  {
   "cell_type": "code",
   "execution_count": 8,
   "id": "d648479f",
   "metadata": {},
   "outputs": [],
   "source": [
    "wiki = wikipediaapi.Wikipedia(\n",
    "        user_agent=\"My_Project_Name (merlin@example.com)\",\n",
    "    language='en'\n",
    ")"
   ]
  },
  {
   "cell_type": "code",
   "execution_count": null,
   "id": "a291aa6e",
   "metadata": {},
   "outputs": [
    {
     "data": {
      "application/vnd.jupyter.widget-view+json": {
       "model_id": "9653af7fb6a642aba8ac3256d6eaeae1",
       "version_major": 2,
       "version_minor": 0
      },
      "text/plain": [
       "Processing root categories:   0%|          | 0/792 [00:00<?, ?category/s]"
      ]
     },
     "metadata": {},
     "output_type": "display_data"
    },
    {
     "name": "stdout",
     "output_type": "stream",
     "text": [
      "Category 'Category:Applied physics' does not exist.\n",
      "Category 'Category:Relativity' does not exist.\n",
      "Category 'Category:Solid state physics' does not exist.\n",
      "Category 'Category:Optical physics' does not exist.\n",
      "Category 'Category:High energy physics' does not exist.\n",
      "Category 'Category:Gravitational physics' does not exist.\n",
      "Category 'Category:Nanophysics' does not exist.\n",
      "Category 'Category:Cryophysics' does not exist.\n",
      "Category 'Category:Physics of materials' does not exist.\n",
      "Category 'Category:Non-relativistic quantum mechanics' does not exist.\n",
      "Category 'Category:Soft matter physics' does not exist.\n",
      "Category 'Category:Condensed matter theory' does not exist.\n",
      "Category 'Category:Thermal physics' does not exist.\n",
      "Category 'Category:Atomic, molecular, and optical physics (AMO)' does not exist.\n",
      "Category 'Category:Biological physics' does not exist.\n",
      "Category 'Category:Computational astrophysics' does not exist.\n",
      "Category 'Category:Dark matter physics' does not exist.\n",
      "Category 'Category:Experimental nuclear physics' does not exist.\n",
      "Category 'Category:Femtochemistry' does not exist.\n",
      "Category 'Category:Gravitational wave astronomy' does not exist.\n",
      "Category 'Category:Hadron physics' does not exist.\n",
      "Category 'Category:Laser physics' does not exist.\n",
      "Category 'Category:Neutrino physics' does not exist.\n",
      "Category 'Category:Quantum chaos' does not exist.\n",
      "Category 'Category:Quantum thermodynamics' does not exist.\n",
      "Category 'Category:Semiconductor physics' does not exist.\n",
      "Category 'Category:Ultrafast physics' does not exist.\n",
      "Category 'Category:X-ray physics' does not exist.\n",
      "Category 'Category:Materials chemistry' does not exist.\n",
      "Category 'Category:Pharmaceutical chemistry' does not exist.\n",
      "Category 'Category:Biophysical chemistry' does not exist.\n",
      "Category 'Category:Bioorganic chemistry' does not exist.\n",
      "Category 'Category:Computational drug design' does not exist.\n",
      "Category 'Category:Flow chemistry' does not exist.\n",
      "Category 'Category:Forensic chemistry' does not exist.\n",
      "Category 'Category:Industrial chemistry' does not exist.\n",
      "Category 'Category:Marine chemistry' does not exist.\n",
      "Category 'Category:Mechanochemistry' does not exist.\n",
      "Category 'Category:Nanoscience' does not exist.\n",
      "Category 'Category:Petrochemistry' does not exist.\n",
      "Category 'Category:Polymer science' does not exist.\n",
      "Category 'Category:Sonochemistry' does not exist.\n",
      "Category 'Category:Structural chemistry' does not exist.\n",
      "Category 'Category:Synthetic chemistry' does not exist.\n",
      "Category 'Category:Behavioral biology' does not exist.\n",
      "Category 'Category:Microbial ecology' does not exist.\n",
      "Category 'Category:Metabolomics' does not exist.\n",
      "Category 'Category:Environmental biology' does not exist.\n",
      "Category 'Category:Synthetic ecology' does not exist.\n",
      "Category 'Category:Aerobiology' does not exist.\n",
      "Category 'Category:Agrobiology' does not exist.\n",
      "Category 'Category:Aquatic biology' does not exist.\n",
      "Category 'Category:Bioclimatology' does not exist.\n",
      "Category 'Category:Biohydrology' does not exist.\n",
      "[Warn] Network error on 'Gene banks' (attempt 1/3): HTTPSConnectionPool(host='en.wikipedia.org', port=443): Read timed out. (read timeout=10.0)\n",
      "Category 'Category:Cancer biology' does not exist.\n",
      "Category 'Category:Cell physiology' does not exist.\n",
      "Category 'Category:Conservation genetics' does not exist.\n",
      "Category 'Category:Enzymology' does not exist.\n",
      "Category 'Category:Evolutionary genetics' does not exist.\n",
      "Category 'Category:Exobiology' does not exist.\n",
      "Category 'Category:Extremophile biology' does not exist.\n",
      "Category 'Category:Freshwater biology' does not exist.\n",
      "Category 'Category:Genome biology' does not exist.\n",
      "Category 'Category:Immunogenetics' does not exist.\n",
      "Category 'Category:Marine biotechnology' does not exist.\n",
      "Category 'Category:Medical biology' does not exist.\n",
      "Category 'Category:Microbial genetics' does not exist.\n",
      "Category 'Category:Microbial physiology' does not exist.\n",
      "Category 'Category:Neurogenetics' does not exist.\n",
      "Category 'Category:Pathobiology' does not exist.\n",
      "Category 'Category:Population biology' does not exist.\n",
      "Category 'Category:Proteogenomics' does not exist.\n",
      "Category 'Category:Psychobiology' does not exist.\n",
      "Category 'Category:Reproductive biology' does not exist.\n",
      "Category 'Category:Wildlife biology' does not exist.\n",
      "Category 'Category:Xenobiology' does not exist.\n",
      "Category 'Category:Environmental geology' does not exist.\n",
      "[Warn] Network error on 'Impact craters on the Moon' (attempt 1/3): HTTPSConnectionPool(host='en.wikipedia.org', port=443): Read timed out. (read timeout=10.0)\n",
      "Category 'Category:Aeronomy' does not exist.\n",
      "Category 'Category:Agricultural geology' does not exist.\n",
      "Category 'Category:Astrogeology' does not exist.\n",
      "Category 'Category:Cryology' does not exist.\n",
      "Category 'Category:Engineering geology' does not exist.\n",
      "Category 'Category:Environmental geochemistry' does not exist.\n",
      "Category 'Category:Hydrochemistry' does not exist.\n",
      "Category 'Category:Hydrometeorology' does not exist.\n",
      "Category 'Category:Karstology' does not exist.\n",
      "Category 'Category:Meteoritics' does not exist.\n",
      "Category 'Category:Mineral physics' does not exist.\n",
      "Category 'Category:Planetary geophysics' does not exist.\n",
      "Category 'Category:Quaternary science' does not exist.\n",
      "Category 'Category:Seismotectonics' does not exist.\n",
      "Category 'Category:Subsurface hydrology' does not exist.\n",
      "Category 'Category:Volcanic gas monitoring' does not exist.\n",
      "Category 'Category:Wetland science' does not exist.\n",
      "Category 'Category:Genetic counseling' does not exist.\n",
      "Category 'Category:Nutrition science' does not exist.\n",
      "Category 'Category:Reproductive medicine' does not exist.\n",
      "[Warn] Network error on 'Cholera outbreaks' (attempt 1/3): HTTPSConnectionPool(host='en.wikipedia.org', port=443): Read timed out. (read timeout=10.0)\n",
      "Category 'Category:Precision medicine' does not exist.\n",
      "Category 'Category:Allergy and immunology' does not exist.\n",
      "Category 'Category:Cardiothoracic surgery' does not exist.\n",
      "Category 'Category:Clinical biochemistry' does not exist.\n",
      "Category 'Category:Clinical immunology' does not exist.\n",
      "Category 'Category:Critical care medicine' does not exist.\n",
      "Category 'Category:Family medicine' does not exist.\n",
      "Category 'Category:Forensic medicine' does not exist.\n",
      "Category 'Category:Integrative medicine' does not exist.\n",
      "Category 'Category:Laboratory medicine' does not exist.\n",
      "Category 'Category:Molecular medicine' does not exist.\n",
      "Category 'Category:Oncologic pathology' does not exist.\n",
      "Category 'Category:Psychosomatic medicine' does not exist.\n",
      "Category 'Category:Transplant surgery' does not exist.\n",
      "Category 'Category:Theorems in mathematics' does not exist.\n",
      "Category 'Category:Number fields' does not exist.\n",
      "Category 'Category:Axiomatic set theory' does not exist.\n",
      "Category 'Category:Quantum algebra' does not exist.\n",
      "Category 'Category:Random matrix theory' does not exist.\n",
      "Category 'Category:Topological combinatorics' does not exist.\n",
      "Category 'Category:Variational calculus' does not exist.\n",
      "Category 'Category:Wavelet theory' does not exist.\n",
      "Category 'Category:Cybersecurity' does not exist.\n",
      "Category 'Category:Computational complexity' does not exist.\n",
      "Category 'Category:Blockchain technology' does not exist.\n",
      "Category 'Category:High-performance computing' does not exist.\n",
      "Category 'Category:Database systems' does not exist.\n",
      "Category 'Category:Cryptanalysis' does not exist.\n",
      "Category 'Category:Embedded software' does not exist.\n",
      "Category 'Category:Control systems engineering' does not exist.\n",
      "Category 'Category:Algorithm design' does not exist.\n",
      "Category 'Category:Edge computing' does not exist.\n",
      "[Warn] Network error on 'Programming languages conferences' (attempt 1/3): HTTPSConnectionPool(host='en.wikipedia.org', port=443): Read timed out. (read timeout=10.0)\n",
      "[Warn] Network error on 'Programming languages conferences' (attempt 2/3): HTTPSConnectionPool(host='en.wikipedia.org', port=443): Max retries exceeded with url: /w/api.php?format=json&redirects=1&action=query&list=categorymembers&cmtitle=Category%3AProgramming+languages+conferences&cmlimit=500 (Caused by NameResolutionError(\"<urllib3.connection.HTTPSConnection object at 0x7d2a95ebb8c0>: Failed to resolve 'en.wikipedia.org' ([Errno -3] Temporary failure in name resolution)\"))\n",
      "Category 'Category:Social computing' does not exist.\n",
      "Category 'Category:Web engineering' does not exist.\n",
      "Category 'Category:Behavioral science' does not exist.\n",
      "Category 'Category:Affective neuroscience' does not exist.\n",
      "Category 'Category:Child psychology' does not exist.\n",
      "Category 'Category:Community psychology' does not exist.\n",
      "Category 'Category:Consumer psychology' does not exist.\n",
      "Category 'Category:Counseling psychology' does not exist.\n",
      "Category 'Category:Cultural psychology' does not exist.\n",
      "Category 'Category:Ecological psychology' does not exist.\n",
      "Category 'Category:Experimental aesthetics' does not exist.\n",
      "Category 'Category:Family psychology' does not exist.\n",
      "Category 'Category:Geriatric psychology' does not exist.\n",
      "Category 'Category:Industrial psychology' does not exist.\n",
      "Category 'Category:Media psychology' does not exist.\n",
      "Category 'Category:Neuropsychoanalysis' does not exist.\n",
      "Category 'Category:Occupational psychology' does not exist.\n",
      "Category 'Category:Pediatric psychology' does not exist.\n",
      "Category 'Category:Psychobiology' does not exist.\n",
      "Category 'Category:Psychophysiology' does not exist.\n",
      "Category 'Category:Rehabilitation psychology' does not exist.\n",
      "Category 'Category:School psychology' does not exist.\n",
      "Category 'Category:Environmental biotechnology' does not exist.\n",
      "Category 'Category:Systems neuroscience' does not exist.\n",
      "Category 'Category:Sustainability science' does not exist.\n",
      "Category 'Category:Climate change science' does not exist.\n",
      "[Warn] Network error on 'German philosophers of technology' (attempt 1/3): HTTPSConnectionPool(host='en.wikipedia.org', port=443): Read timed out. (read timeout=10.0)\n",
      "Category 'Category:Urban science' does not exist.\n",
      "Category 'Category:Data ethics' does not exist.\n",
      "Category 'Category:Ethics of artificial intelligence' does not exist.\n",
      "Category 'Category:Network neuroscience' does not exist.\n",
      "Category 'Category:Synthetic chemistry' does not exist.\n",
      "Category 'Category:Bioinformatics engineering' does not exist.\n",
      "Category 'Category:Complex systems' does not exist.\n",
      "Category 'Category:Technology ethics' does not exist.\n",
      "Category 'Category:Biomechatronics' does not exist.\n",
      "Category 'Category:Computational sociology' does not exist.\n",
      "Category 'Category:Ecological engineering' does not exist.\n",
      "Category 'Category:Future studies' does not exist.\n",
      "Category 'Category:Human augmentation' does not exist.\n",
      "Category 'Category:Molecular engineering' does not exist.\n",
      "Category 'Category:Optogenetics' does not exist.\n",
      "Category 'Category:Pervasive computing' does not exist.\n",
      "Category 'Category:Science of team science' does not exist.\n",
      "Category 'Category:Technological singularity' does not exist.\n",
      "Category 'Category:Wearable technology' does not exist.\n",
      "Category 'Category:Research methodology' does not exist.\n",
      "Category 'Category:Technology management' does not exist.\n",
      "Category 'Category:Ethics of science' does not exist.\n",
      "Category 'Category:Science and society' does not exist.\n",
      "Category 'Category:Critical theory of technology' does not exist.\n",
      "Category 'Category:Innovation studies' does not exist.\n",
      "Category 'Category:Public understanding of science' does not exist.\n",
      "Category 'Category:Scientometrics' does not exist.\n",
      "Category 'Category:Social construction of technology' does not exist.\n",
      "Category 'Category:Technology and society' does not exist.\n",
      "Category 'Category:Innovation management' does not exist.\n",
      "Category 'Category:R&D management' does not exist.\n",
      "Category 'Category:Entrepreneurship in science' does not exist.\n",
      "Category 'Category:Science management' does not exist.\n",
      "Category 'Category:Research policy' does not exist.\n",
      "Category 'Category:Academic entrepreneurship' does not exist.\n",
      "Category 'Category:Corporate foresight' does not exist.\n",
      "Category 'Category:Design thinking' does not exist.\n",
      "Category 'Category:Digital transformation' does not exist.\n",
      "Category 'Category:High-tech entrepreneurship' does not exist.\n",
      "Category 'Category:Industrial innovation' does not exist.\n",
      "Category 'Category:Lean startup' does not exist.\n",
      "Category 'Category:Open innovation' does not exist.\n",
      "Category 'Category:Research commercialization' does not exist.\n",
      "Category 'Category:Technology roadmapping' does not exist.\n",
      "Category 'Category:Materials engineering' does not exist.\n",
      "Category 'Category:Nuclear engineering' does not exist.\n",
      "Category 'Category:Bioinformatics engineering' does not exist.\n",
      "Category 'Category:Renewable energy engineering' does not exist.\n",
      "Category 'Category:Acoustical engineering' does not exist.\n",
      "Category 'Category:Agricultural engineering' does not exist.\n",
      "Category 'Category:Construction engineering' does not exist.\n",
      "Category 'Category:Corrosion engineering' does not exist.\n",
      "Category 'Category:Ecological engineering' does not exist.\n",
      "Category 'Category:Engineering geology' does not exist.\n",
      "Category 'Category:Engineering physics' does not exist.\n",
      "Category 'Category:Fire protection engineering' does not exist.\n",
      "Category 'Category:Geological engineering' does not exist.\n",
      "Category 'Category:Manufacturing engineering' does not exist.\n",
      "Category 'Category:Mechatronics' does not exist.\n",
      "Category 'Category:Metallurgical engineering' does not exist.\n",
      "Category 'Category:Nanotechnology engineering' does not exist.\n",
      "Category 'Category:Ocean engineering' does not exist.\n",
      "Category 'Category:Optical engineering' does not exist.\n",
      "Category 'Category:Plastics engineering' does not exist.\n",
      "Category 'Category:Radio-frequency engineering' does not exist.\n",
      "Category 'Category:Robotic engineering' does not exist.\n",
      "Category 'Category:Sanitary engineering' does not exist.\n",
      "Category 'Category:Semiconductor engineering' does not exist.\n",
      "Category 'Category:Thermal engineering' does not exist.\n",
      "Category 'Category:Water resources engineering' does not exist.\n",
      "Category 'Category:Wireless engineering' does not exist.\n"
     ]
    }
   ],
   "source": [
    "if __name__ == \"__main__\":\n",
    "\n",
    "    )\n",
    "\n",
    "    Input_Categories = [\n",
    "        # Physique (suppléments)\n",
    "        \"Physics\", \"Applied physics\", \"Theoretical physics\", \"Quantum mechanics\", \"Classical mechanics\",\n",
    "        \"Thermodynamics\", \"Electromagnetism\", \"Optics\", \"Astrophysics\", \"Nuclear physics\",\n",
    "        \"Particle physics\", \"Statistical mechanics\", \"Condensed matter physics\", \"Mathematical physics\",\n",
    "        \"Plasma physics\", \"Geophysics\", \"Biophysics\", \"Acoustics\", \"Fluid mechanics\", \"Relativity\",\n",
    "        \"Quantum field theory\", \"Solid state physics\", \"Optical physics\", \"Photonics\", \"Atomic physics\",\n",
    "        \"High energy physics\", \"Computational physics\", \"Experimental physics\", \"Gravitational physics\",\n",
    "        \"Quantum optics\", \"Nanophysics\", \"Cosmology\", \"Cryophysics\", \"Physics of materials\",\n",
    "        \"Non-relativistic quantum mechanics\", \"String theory\", \"Soft matter physics\", \"Classical field theory\",\n",
    "        \"Nonlinear optics\", \"Condensed matter theory\", \"Quantum information science\", \"Statistical physics\",\n",
    "        \"Thermal physics\", \"Accelerator physics\", \"Astroparticle physics\", \"Atomic, molecular, and optical physics (AMO)\",\n",
    "        \"Biological physics\", \"Chemical physics\", \"Computational astrophysics\", \"Dark matter physics\",\n",
    "        \"Experimental nuclear physics\", \"Femtochemistry\", \"Gravitational wave astronomy\", \"Hadron physics\",\n",
    "        \"Laser physics\", \"Magnetohydrodynamics\", \"Medical physics\", \"Mesoscopic physics\",\n",
    "        \"Neutrino physics\", \"Non-equilibrium thermodynamics\", \"Quantum chaos\", \"Quantum computing\",\n",
    "        \"Quantum gravity\", \"Quantum thermodynamics\", \"Semiconductor physics\", \"Superconductivity\",\n",
    "        \"Ultrafast physics\", \"X-ray physics\",\n",
    "\n",
    "        # Chimie (suppléments)\n",
    "        \"Chemistry\", \"Organic chemistry\", \"Inorganic chemistry\", \"Physical chemistry\", \"Analytical chemistry\",\n",
    "        \"Biochemistry\", \"Theoretical chemistry\", \"Nuclear chemistry\", \"Polymer chemistry\", \"Electrochemistry\",\n",
    "        \"Environmental chemistry\", \"Materials chemistry\", \"Surface chemistry\", \"Pharmaceutical chemistry\",\n",
    "        \"Radiochemistry\", \"Supramolecular chemistry\", \"Green chemistry\", \"Computational chemistry\",\n",
    "        \"Photochemistry\", \"Catalysis\", \"Organometallic chemistry\", \"Chemical kinetics\", \"Astrochemistry\",\n",
    "        \"Coordination chemistry\", \"Medicinal chemistry\", \"Chemical thermodynamics\", \"Quantum chemistry\",\n",
    "        \"Biophysical chemistry\", \"Atmospheric chemistry\", \"Bioinorganic chemistry\", \"Bioorganic chemistry\",\n",
    "        \"Chemical biology\", \"Chemical engineering\", \"Computational drug design\", \"Crystal engineering\",\n",
    "        \"Electroanalytical chemistry\", \"Flow chemistry\", \"Food chemistry\", \"Forensic chemistry\",\n",
    "        \"Geochemistry\", \"Industrial chemistry\", \"Marine chemistry\", \"Mechanochemistry\",\n",
    "        \"Metallurgy\", \"Microfluidics\", \"Nanoscience\", \"Petrochemistry\",\n",
    "        \"Photoelectrochemistry\", \"Physical organic chemistry\", \"Polymer science\", \"Solid-state chemistry\",\n",
    "        \"Sonochemistry\", \"Spectroscopy\", \"Stereochemistry\", \"Structural chemistry\",\n",
    "        \"Surface science\", \"Synthetic chemistry\", \"Thermochemistry\", \"Water chemistry\",\n",
    "\n",
    "        # Biologie (suppléments)\n",
    "        \"Biology\", \"Molecular biology\", \"Cell biology\", \"Genetics\", \"Evolutionary biology\", \"Ecology\",\n",
    "        \"Microbiology\", \"Botany\", \"Zoology\", \"Marine biology\", \"Physiology\", \"Neuroscience\",\n",
    "        \"Developmental biology\", \"Immunology\", \"Bioinformatics\", \"Synthetic biology\", \"Systems biology\",\n",
    "        \"Structural biology\", \"Behavioral biology\", \"Conservation biology\", \"Ethology\", \"Microbial ecology\",\n",
    "        \"Genomics\", \"Proteomics\", \"Metabolomics\", \"Epigenetics\", \"Neurobiology\", \"Biophysics\",\n",
    "        \"Virology\", \"Mycology\", \"Paleobiology\", \"Chronobiology\", \"Cryobiology\",\n",
    "        \"Evolutionary developmental biology\", \"Population genetics\", \"Environmental biology\",\n",
    "        \"Molecular genetics\", \"Cell signaling\", \"Synthetic ecology\", \"Aerobiology\",\n",
    "        \"Agrobiology\", \"Anatomy\", \"Animal behavior\", \"Aquatic biology\", \"Astrobiology\",\n",
    "        \"Bacteriology\", \"Bioclimatology\", \"Biodiversity\", \"Bioengineering\", \"Biogeography\",\n",
    "        \"Biohydrology\", \"Biological anthropology\", \"Biomechanics\", \"Biomineralization\",\n",
    "        \"Biostatistics\", \"Biotechnology\", \"Cancer biology\", \"Cell physiology\",\n",
    "        \"Chemical biology\", \"Computational biology\", \"Conservation genetics\", \"Cryobiology\",\n",
    "        \"Ecological genetics\", \"Endocrinology\", \"Entomology\", \"Environmental microbiology\",\n",
    "        \"Enzymology\", \"Epidemiology\", \"Evolutionary ecology\", \"Evolutionary genetics\",\n",
    "        \"Exobiology\", \"Extremophile biology\", \"Freshwater biology\", \"Genetic engineering\",\n",
    "        \"Genome biology\", \"Histology\", \"Human biology\", \"Immunogenetics\",\n",
    "        \"Limnology\", \"Marine biotechnology\", \"Mathematical biology\", \"Medical biology\",\n",
    "        \"Microbial genetics\", \"Microbial physiology\", \"Molecular ecology\", \"Molecular evolution\",\n",
    "        \"Neuroethology\", \"Neurogenetics\", \"Paleogenetics\", \"Parasitology\",\n",
    "        \"Pathobiology\", \"Pharmacogenomics\", \"Phylogenetics\", \"Plant physiology\",\n",
    "        \"Population biology\", \"Protein engineering\", \"Proteogenomics\", \"Psychobiology\",\n",
    "        \"Radiobiology\", \"Reproductive biology\", \"Soil biology\", \"Systems ecology\",\n",
    "        \"Theoretical biology\", \"Toxicology\", \"Wildlife biology\", \"Xenobiology\",\n",
    "\n",
    "        # Sciences de la Terre et environnement (suppléments)\n",
    "        \"Earth sciences\", \"Geology\", \"Oceanography\", \"Meteorology\", \"Environmental science\",\n",
    "        \"Climatology\", \"Volcanology\", \"Seismology\", \"Soil science\", \"Hydrology\", \"Paleontology\",\n",
    "        \"Geochemistry\", \"Geomorphology\", \"Atmospheric sciences\", \"Environmental engineering\",\n",
    "        \"Glaciology\", \"Geodesy\", \"Natural hazards\", \"Environmental toxicology\", \"Planetary science\",\n",
    "        \"Biogeochemistry\", \"Hydrogeology\", \"Tectonics\", \"Remote sensing\", \"Mineralogy\",\n",
    "        \"Geophysics\", \"Environmental geology\", \"Environmental monitoring\", \"Atmospheric chemistry\",\n",
    "        \"Planetary geology\", \"Aeronomy\", \"Agricultural geology\", \"Astrogeology\",\n",
    "        \"Biogeography\", \"Coastal geography\", \"Cryology\", \"Economic geology\",\n",
    "        \"Engineering geology\", \"Environmental geochemistry\", \"Fluvial geomorphology\",\n",
    "        \"Geobiology\", \"Geochronology\", \"Geodynamics\", \"Geomicrobiology\",\n",
    "        \"Geostatistics\", \"Hydrochemistry\", \"Hydrometeorology\", \"Karstology\",\n",
    "        \"Landscape ecology\", \"Limnology\", \"Marine geology\", \"Meteoritics\",\n",
    "        \"Micropaleontology\", \"Mineral physics\", \"Paleoclimatology\", \"Paleoecology\",\n",
    "        \"Paleogeography\", \"Petrology\", \"Planetary geophysics\", \"Quaternary science\",\n",
    "        \"Sedimentology\", \"Seismotectonics\", \"Speleology\", \"Stratigraphy\",\n",
    "        \"Structural geology\", \"Subsurface hydrology\", \"Volcanic gas monitoring\",\n",
    "        \"Weather forecasting\", \"Wetland science\",\n",
    "\n",
    "        # Médecine et santé (suppléments)\n",
    "        \"Medicine\", \"Pharmacology\", \"Pathology\", \"Immunology\", \"Epidemiology\", \"Neuroscience\",\n",
    "        \"Surgery\", \"Radiology\", \"Oncology\", \"Cardiology\", \"Neurology\", \"Psychiatry\",\n",
    "        \"Dentistry\", \"Public health\", \"Genetic counseling\", \"Toxicology\", \"Biomedical engineering\",\n",
    "        \"Nutrition science\", \"Clinical research\", \"Anesthesiology\", \"Pediatrics\", \"Geriatrics\",\n",
    "        \"Endocrinology\", \"Dermatology\", \"Ophthalmology\", \"Reproductive medicine\", \"Medical genetics\",\n",
    "        \"Infectious diseases\", \"Hematology\", \"Orthopedics\", \"Urology\", \"Precision medicine\",\n",
    "        \"Medical imaging\", \"Neonatology\", \"Clinical pharmacology\", \"Physiotherapy\",\n",
    "        \"Medical microbiology\", \"Allergy and immunology\", \"Andrology\", \"Bariatrics\",\n",
    "        \"Cardiothoracic surgery\", \"Clinical biochemistry\", \"Clinical immunology\",\n",
    "        \"Clinical pathology\", \"Colorectal surgery\", \"Critical care medicine\",\n",
    "        \"Cytopathology\", \"Emergency medicine\", \"Family medicine\", \"Forensic medicine\",\n",
    "        \"Gastroenterology\", \"General practice\", \"Gerontology\", \"Gynecology\",\n",
    "        \"Hepatology\", \"Histopathology\", \"Integrative medicine\", \"Internal medicine\",\n",
    "        \"Interventional radiology\", \"Laboratory medicine\", \"Military medicine\",\n",
    "        \"Molecular medicine\", \"Nephrology\", \"Neuropathology\", \"Neurosurgery\",\n",
    "        \"Nuclear medicine\", \"Obstetrics\", \"Occupational medicine\", \"Oncologic pathology\",\n",
    "        \"Osteopathy\", \"Otolaryngology\", \"Pain management\", \"Palliative care\",\n",
    "        \"Parasitology\", \"Pediatric surgery\", \"Plastic surgery\", \"Preventive medicine\",\n",
    "        \"Psychosomatic medicine\", \"Pulmonology\", \"Radiation oncology\", \"Rehabilitation medicine\",\n",
    "        \"Rheumatology\", \"Sports medicine\", \"Telemedicine\", \"Transfusion medicine\",\n",
    "        \"Transplant surgery\", \"Traumatology\", \"Tropical medicine\", \"Vascular surgery\",\n",
    "        \"Veterinary medicine\", \"Wilderness medicine\",\n",
    "\n",
    "        # Mathématiques (suppléments)\n",
    "        \"Mathematics\", \"Algebra\", \"Geometry\", \"Topology\", \"Number theory\", \"Calculus\", \"Analysis\",\n",
    "        \"Combinatorics\", \"Logic\", \"Set theory\", \"Probability theory\", \"Statistics\", \"Differential equations\",\n",
    "        \"Discrete mathematics\", \"Linear algebra\", \"Mathematical analysis\", \"Mathematical logic\",\n",
    "        \"Dynamical systems\", \"Chaos theory\", \"Computational mathematics\", \"Mathematical modeling\",\n",
    "        \"Complex analysis\", \"Real analysis\", \"Category theory\", \"Numerical analysis\", \"Optimization\",\n",
    "        \"Game theory\", \"Graph theory\", \"Algebraic geometry\", \"Fourier analysis\", \"Mathematical physics\",\n",
    "        \"Cryptography\", \"Stochastic processes\", \"Differential geometry\", \"Functional analysis\",\n",
    "        \"Theorems in mathematics\", \"Theorems in geometry\", \"Plane geometry\", \"Euclidean geometry\",\n",
    "        \"Euclidean plane geometry\", \"Mathematical proofs\", \"Mathematical theorems\", \"Greek mathematics\",\n",
    "        \"Algebraic topology\", \"Homological algebra\", \"Lie groups\", \"Measure theory\",\n",
    "        \"Probability distributions\", \"Ergodic theory\", \"Non-Euclidean geometry\", \"Riemannian geometry\",\n",
    "        \"Mathematical optimization\", \"Partial differential equations\", \"Model theory\",\n",
    "        \"Commutative algebra\", \"Number fields\", \"Representation theory\", \"Functional equations\",\n",
    "        \"Convex geometry\", \"Symplectic geometry\", \"Additive combinatorics\", \"Approximation theory\",\n",
    "        \"Arithmetic geometry\", \"Axiomatic set theory\", \"Calculus of variations\", \"Descriptive set theory\",\n",
    "        \"Enumerative combinatorics\", \"Finite geometry\", \"Geometric topology\", \"Harmonic analysis\",\n",
    "        \"Homotopy theory\", \"K-theory\", \"Large deviations theory\", \"Low-dimensional topology\",\n",
    "        \"Matrix theory\", \"Modular arithmetic\", \"Multilinear algebra\", \"Noncommutative geometry\",\n",
    "        \"Operator theory\", \"Order theory\", \"Percolation theory\", \"Projective geometry\",\n",
    "        \"Quantum algebra\", \"Random matrix theory\", \"Spectral theory\", \"Topological combinatorics\",\n",
    "        \"Universal algebra\", \"Variational calculus\", \"Wavelet theory\",\n",
    "\n",
    "        # Informatique & ingénierie (suppléments)\n",
    "        \"Computer science\", \"Artificial intelligence\", \"Machine learning\", \"Software engineering\",\n",
    "        \"Electrical engineering\", \"Mechanical engineering\", \"Civil engineering\", \"Robotics\",\n",
    "        \"Data science\", \"Computer vision\", \"Natural language processing\", \"Cybersecurity\",\n",
    "        \"Human-computer interaction\", \"Network science\", \"Quantum computing\", \"Embedded systems\",\n",
    "        \"Control theory\", \"Signal processing\", \"Bioengineering\", \"Systems engineering\",\n",
    "        \"Information theory\", \"Distributed computing\", \"Computational complexity\", \"Cloud computing\",\n",
    "        \"Computer graphics\", \"Parallel computing\", \"Data mining\", \"Computer architecture\",\n",
    "        \"Blockchain technology\", \"Augmented reality\", \"Virtual reality\", \"Internet of things\",\n",
    "        \"High-performance computing\", \"Computer networks\", \"Formal methods\", \"Compiler theory\",\n",
    "        \"Database systems\", \"Operating systems\", \"Software testing\", \"Cryptanalysis\",\n",
    "        \"Computational geometry\", \"Machine vision\", \"Speech recognition\", \"Natural computation\",\n",
    "        \"Embedded software\", \"Digital signal processing\", \"Control systems engineering\", \"Algorithm design\",\n",
    "        \"Automata theory\", \"Big data\", \"Bioinformatics\", \"Computational neuroscience\",\n",
    "        \"Computer algebra\", \"Computer security\", \"Data compression\", \"Data structures\",\n",
    "        \"Decision theory\", \"Digital forensics\", \"Edge computing\", \"Expert systems\",\n",
    "        \"Fuzzy logic\", \"Genetic algorithms\", \"Image processing\", \"Information retrieval\",\n",
    "        \"Knowledge representation\", \"Logic programming\", \"Multi-agent systems\", \"Neural networks\",\n",
    "        \"Pattern recognition\", \"Programming languages\", \"Recommender systems\", \"Semantic Web\",\n",
    "        \"Social computing\", \"Software architecture\", \"Ubiquitous computing\", \"Web engineering\",\n",
    "\n",
    "        # Psychologie & neurosciences (suppléments)\n",
    "        \"Psychology\", \"Cognitive science\", \"Neuroscience\", \"Behavioral science\", \"Developmental psychology\",\n",
    "        \"Social psychology\", \"Clinical psychology\", \"Neuropsychology\", \"Psychophysics\",\n",
    "        \"Experimental psychology\", \"Health psychology\", \"Educational psychology\",\n",
    "        \"Forensic psychology\", \"Organizational psychology\", \"Positive psychology\", \"Psychometrics\",\n",
    "        \"Cognitive neuroscience\", \"Affective neuroscience\", \"Neuroimaging\", \"Behavioral neuroscience\",\n",
    "        \"Psycholinguistics\", \"Animal cognition\", \"Applied psychology\", \"Biopsychology\",\n",
    "        \"Child psychology\", \"Community psychology\", \"Comparative psychology\", \"Consumer psychology\",\n",
    "        \"Counseling psychology\", \"Cultural psychology\", \"Differential psychology\", \"Ecological psychology\",\n",
    "        \"Environmental psychology\", \"Evolutionary psychology\", \"Experimental aesthetics\",\n",
    "        \"Family psychology\", \"Geriatric psychology\", \"Industrial psychology\", \"Mathematical psychology\",\n",
    "        \"Media psychology\", \"Military psychology\", \"Moral psychology\", \"Music psychology\",\n",
    "        \"Neuropsychoanalysis\", \"Occupational psychology\", \"Pediatric psychology\", \"Personality psychology\",\n",
    "        \"Political psychology\", \"Psychoanalysis\", \"Psychobiology\", \"Psychodynamics\",\n",
    "        \"Psychopathology\", \"Psychopharmacology\", \"Psychophysiology\", \"Quantitative psychology\",\n",
    "        \"Rehabilitation psychology\", \"School psychology\", \"Sport psychology\", \"Traffic psychology\",\n",
    "        \"Transpersonal psychology\", \"Visual perception\",\n",
    "\n",
    "        # Sciences interdisciplinaires et émergentes (suppléments)\n",
    "        \"Biotechnology\", \"Nanotechnology\", \"Environmental biotechnology\", \"Synthetic biology\",\n",
    "        \"Astrobiology\", \"Cognitive neuroscience\", \"Computational biology\", \"Systems neuroscience\",\n",
    "        \"Sustainability science\", \"Renewable energy\", \"Climate change science\", \"Space science\",\n",
    "        \"Materials science\", \"Quantum information science\", \"Science and technology studies\",\n",
    "        \"Philosophy of science\", \"Science communication\", \"History of science\",\n",
    "        \"Geomatics\", \"Urban science\", \"Data ethics\", \"Ethics of artificial intelligence\",\n",
    "        \"Energy engineering\", \"Food science\", \"Agricultural science\", \"Network neuroscience\",\n",
    "        \"Synthetic chemistry\", \"Bioinformatics engineering\", \"Planetary habitability\",\n",
    "        \"Complex systems\", \"Information science\", \"Technology ethics\", \"Artificial life\",\n",
    "        \"Bioengineering\", \"Biomechatronics\", \"Computational sociology\", \"Cryonics\",\n",
    "        \"Digital humanities\", \"Ecological engineering\", \"Evolutionary computation\",\n",
    "        \"Future studies\", \"Genomics\", \"Human augmentation\", \"Industrial ecology\",\n",
    "        \"Knowledge engineering\", \"Molecular engineering\", \"Neurotechnology\", \"Optogenetics\",\n",
    "        \"Pervasive computing\", \"Quantum biology\", \"Robotics\", \"Science of team science\",\n",
    "        \"Sociobiology\", \"Systems theory\", \"Technological singularity\", \"Tissue engineering\",\n",
    "        \"Wearable technology\", \"Web science\",\n",
    "\n",
    "        # Sciences sociales appliquées à la science (suppléments)\n",
    "        \"Science policy\", \"Science communication\", \"Sociology of science\",\n",
    "        \"Science education\", \"Research methodology\", \"Technology management\",\n",
    "        \"Ethics of science\", \"Science diplomacy\", \"Citizen science\",\n",
    "        \"Philosophy of technology\", \"Science and society\", \"Academic publishing\",\n",
    "        \"Bibliometrics\", \"Critical theory of technology\", \"Epistemology\",\n",
    "        \"Innovation studies\", \"Intellectual history\", \"Knowledge management\",\n",
    "        \"Metascience\", \"Open science\", \"Philosophy of mathematics\",\n",
    "        \"Philosophy of physics\", \"Public understanding of science\",\n",
    "        \"Research ethics\", \"Scientometrics\", \"Social construction of technology\",\n",
    "        \"Sociology of knowledge\", \"Technology and society\", \"Women in science\",\n",
    "\n",
    "        # Sciences de gestion liées à l'innovation scientifique (suppléments)\n",
    "        \"Innovation management\", \"Technology transfer\", \"Intellectual property\", \"R&D management\",\n",
    "        \"Entrepreneurship in science\", \"Technology assessment\", \"Science management\",\n",
    "        \"Research policy\", \"Academic entrepreneurship\", \"Business analytics\",\n",
    "        \"Corporate foresight\", \"Design thinking\", \"Digital transformation\",\n",
    "        \"Foresight (futures studies)\", \"High-tech entrepreneurship\",\n",
    "        \"Industrial innovation\", \"Knowledge economy\", \"Lean startup\",\n",
    "        \"Open innovation\", \"Product lifecycle management\", \"Project management\",\n",
    "        \"Research commercialization\", \"Risk management\", \"Strategic management\",\n",
    "        \"Technology forecasting\", \"Technology roadmapping\", \"Venture capital\",\n",
    "\n",
    "        # Domaines appliqués (suppléments)\n",
    "        \"Environmental engineering\", \"Biomedical engineering\", \"Chemical engineering\",\n",
    "        \"Industrial engineering\", \"Systems biology\", \"Pharmaceutical sciences\",\n",
    "        \"Forensic science\", \"Materials engineering\", \"Aerospace engineering\",\n",
    "        \"Nuclear engineering\", \"Geotechnical engineering\", \"Bioinformatics engineering\",\n",
    "        \"Renewable energy engineering\", \"Food engineering\", \"Transportation engineering\",\n",
    "        \"Acoustical engineering\", \"Agricultural engineering\", \"Automotive engineering\",\n",
    "        \"Biological engineering\", \"Ceramic engineering\", \"Construction engineering\",\n",
    "        \"Corrosion engineering\", \"Earthquake engineering\", \"Ecological engineering\",\n",
    "        \"Electrical engineering\", \"Electronic engineering\", \"Energy engineering\",\n",
    "        \"Engineering geology\", \"Engineering physics\", \"Fire protection engineering\",\n",
    "        \"Genetic engineering\", \"Geological engineering\", \"Hydraulic engineering\",\n",
    "        \"Manufacturing engineering\", \"Marine engineering\", \"Mechatronics\",\n",
    "        \"Metallurgical engineering\", \"Mining engineering\", \"Nanotechnology engineering\",\n",
    "        \"Ocean engineering\", \"Optical engineering\", \"Petroleum engineering\",\n",
    "        \"Plastics engineering\", \"Power engineering\", \"Process engineering\",\n",
    "        \"Quality engineering\", \"Radio-frequency engineering\", \"Robotic engineering\",\n",
    "        \"Safety engineering\", \"Sanitary engineering\", \"Semiconductor engineering\",\n",
    "        \"Software engineering\", \"Structural engineering\", \"Systems engineering\",\n",
    "        \"Textile engineering\", \"Thermal engineering\", \"Tissue engineering\",\n",
    "        \"Water resources engineering\", \"Wireless engineering\",\n",
    "    ]\n",
    "\n",
    "\n",
    "    # Définir les hyperparamètres dans des variables séparées\n",
    "    Max_Recursion_Level = 3\n",
    "    Max_Pages_Per_Category = 100\n",
    "    Max_Subcategories_Per_Category = 10\n",
    "\n",
    "    tree = Fetch_Wikipedia_Category_Tree(\n",
    "        Wiki_Api=wiki,\n",
    "        Input_Category_List=Input_Categories,\n",
    "        Max_Recursion_Level=Max_Recursion_Level,\n",
    "        Max_Pages_Per_Category=Max_Pages_Per_Category,\n",
    "        Max_Subcategories_Per_Category=Max_Subcategories_Per_Category\n",
    "    )\n",
    "\n",
    "    # print(tree)\n",
    "\n",
    "    # # Construire et afficher le graphe\n",
    "    # Tree_Graph = Build_Tree_Graph(tree)\n",
    "    # Draw_Tree_Graph_Colored(Tree_Graph)\n",
    "\n",
    "\n",
    "  "
   ]
  },
  {
   "cell_type": "code",
   "execution_count": null,
   "id": "74caa1f8",
   "metadata": {},
   "outputs": [],
   "source": [
    "\n",
    "\n",
    "with open(\"wikipedia_tree.pkl\", \"wb\") as f:\n",
    "    pickle.dump(tree, f)"
   ]
  },
  {
   "cell_type": "code",
   "execution_count": 5,
   "id": "77c085c0",
   "metadata": {},
   "outputs": [],
   "source": [
    "import pickle\n",
    "# Load the tree from the file\n",
    "with open(\"wikipedia_tree.pkl\", \"rb\") as f:\n",
    "    loaded_tree = pickle.load(f)\n",
    "\n"
   ]
  },
  {
   "cell_type": "code",
   "execution_count": 9,
   "id": "e3159415",
   "metadata": {},
   "outputs": [
    {
     "data": {
      "application/vnd.jupyter.widget-view+json": {
       "model_id": "e445a1ff523d43ba80618c860cb9cd94",
       "version_major": 2,
       "version_minor": 0
      },
      "text/plain": [
       "Categories (flat):   0%|          | 0/527 [00:00<?, ?cat/s]"
      ]
     },
     "metadata": {},
     "output_type": "display_data"
    },
    {
     "data": {
      "application/vnd.jupyter.widget-view+json": {
       "model_id": "0c2678e833864550ae6ece79f02c6acb",
       "version_major": 2,
       "version_minor": 0
      },
      "text/plain": [
       "Pages in Physics:   0%|          | 0/24 [00:00<?, ?page/s]"
      ]
     },
     "metadata": {},
     "output_type": "display_data"
    },
    {
     "data": {
      "application/vnd.jupyter.widget-view+json": {
       "model_id": "dba49c0949be4b73bd25f02cf1dbc320",
       "version_major": 2,
       "version_minor": 0
      },
      "text/plain": [
       "Categories (flat):   0%|          | 0/10 [00:00<?, ?cat/s]"
      ]
     },
     "metadata": {},
     "output_type": "display_data"
    },
    {
     "data": {
      "application/vnd.jupyter.widget-view+json": {
       "model_id": "db15e2ed2bba41628539009dbd452a3e",
       "version_major": 2,
       "version_minor": 0
      },
      "text/plain": [
       "Pages in Physics by country: 0page [00:00, ?page/s]"
      ]
     },
     "metadata": {},
     "output_type": "display_data"
    },
    {
     "data": {
      "application/vnd.jupyter.widget-view+json": {
       "model_id": "a7475bc526734b8cbb1127d3ce20d86e",
       "version_major": 2,
       "version_minor": 0
      },
      "text/plain": [
       "Categories (flat):   0%|          | 0/10 [00:00<?, ?cat/s]"
      ]
     },
     "metadata": {},
     "output_type": "display_data"
    },
    {
     "data": {
      "application/vnd.jupyter.widget-view+json": {
       "model_id": "78cae61920c94b76af916c35abc88584",
       "version_major": 2,
       "version_minor": 0
      },
      "text/plain": [
       "Pages in Nuclear technology by country: 0page [00:00, ?page/s]"
      ]
     },
     "metadata": {},
     "output_type": "display_data"
    },
    {
     "data": {
      "application/vnd.jupyter.widget-view+json": {
       "model_id": "e444666c24484ab1bd96e17059308391",
       "version_major": 2,
       "version_minor": 0
      },
      "text/plain": [
       "Categories (flat):   0%|          | 0/10 [00:00<?, ?cat/s]"
      ]
     },
     "metadata": {},
     "output_type": "display_data"
    },
    {
     "data": {
      "application/vnd.jupyter.widget-view+json": {
       "model_id": "c28cf3c9ea9f4deebdc0c7535f766fcb",
       "version_major": 2,
       "version_minor": 0
      },
      "text/plain": [
       "Pages in Anti-nuclear movement by country:   0%|          | 0/10 [00:00<?, ?page/s]"
      ]
     },
     "metadata": {},
     "output_type": "display_data"
    },
    {
     "data": {
      "application/vnd.jupyter.widget-view+json": {
       "model_id": "c0222664d33e4be7a9e93540a2b6dce6",
       "version_major": 2,
       "version_minor": 0
      },
      "text/plain": [
       "Pages in Nuclear history by country: 0page [00:00, ?page/s]"
      ]
     },
     "metadata": {},
     "output_type": "display_data"
    },
    {
     "data": {
      "application/vnd.jupyter.widget-view+json": {
       "model_id": "bf82e988041a48d29fc5c5a1b70ef45b",
       "version_major": 2,
       "version_minor": 0
      },
      "text/plain": [
       "Pages in Anti-nuclear activists by nationality: 0page [00:00, ?page/s]"
      ]
     },
     "metadata": {},
     "output_type": "display_data"
    },
    {
     "data": {
      "application/vnd.jupyter.widget-view+json": {
       "model_id": "427e34b138044f76b603324ba353a6d6",
       "version_major": 2,
       "version_minor": 0
      },
      "text/plain": [
       "Pages in Nuclear power by country:   0%|          | 0/20 [00:00<?, ?page/s]"
      ]
     },
     "metadata": {},
     "output_type": "display_data"
    },
    {
     "data": {
      "application/vnd.jupyter.widget-view+json": {
       "model_id": "e663ebb5843c4e85be6d898bcdd42f44",
       "version_major": 2,
       "version_minor": 0
      },
      "text/plain": [
       "Pages in Nuclear technology by former country: 0page [00:00, ?page/s]"
      ]
     },
     "metadata": {},
     "output_type": "display_data"
    },
    {
     "data": {
      "application/vnd.jupyter.widget-view+json": {
       "model_id": "22e6c3ffba494f8b9b99a9f145c96068",
       "version_major": 2,
       "version_minor": 0
      },
      "text/plain": [
       "Pages in Nuclear technology organizations by country: 0page [00:00, ?page/s]"
      ]
     },
     "metadata": {},
     "output_type": "display_data"
    },
    {
     "data": {
      "application/vnd.jupyter.widget-view+json": {
       "model_id": "72500dc92aa34fd1b35752084c0d3003",
       "version_major": 2,
       "version_minor": 0
      },
      "text/plain": [
       "Pages in Nuclear physicists by nationality: 0page [00:00, ?page/s]"
      ]
     },
     "metadata": {},
     "output_type": "display_data"
    },
    {
     "data": {
      "application/vnd.jupyter.widget-view+json": {
       "model_id": "d470698250704985a4874d214445249a",
       "version_major": 2,
       "version_minor": 0
      },
      "text/plain": [
       "Pages in Nuclear weapons by country:   0%|          | 0/2 [00:00<?, ?page/s]"
      ]
     },
     "metadata": {},
     "output_type": "display_data"
    },
    {
     "data": {
      "application/vnd.jupyter.widget-view+json": {
       "model_id": "78fedeeb75434c99826022f3f75de032",
       "version_major": 2,
       "version_minor": 0
      },
      "text/plain": [
       "Pages in Nuclear technology in Argentina:   0%|          | 0/8 [00:00<?, ?page/s]"
      ]
     },
     "metadata": {},
     "output_type": "display_data"
    },
    {
     "data": {
      "application/vnd.jupyter.widget-view+json": {
       "model_id": "4c3fd71aea4c49c78ca11f6acd842f6a",
       "version_major": 2,
       "version_minor": 0
      },
      "text/plain": [
       "Pages in Nuclear technology in Australia:   0%|          | 0/7 [00:00<?, ?page/s]"
      ]
     },
     "metadata": {},
     "output_type": "display_data"
    },
    {
     "data": {
      "application/vnd.jupyter.widget-view+json": {
       "model_id": "95a1cf7b77ca4a539f5c1a1095e552fe",
       "version_major": 2,
       "version_minor": 0
      },
      "text/plain": [
       "Pages in Physicists by nationality: 0page [00:00, ?page/s]"
      ]
     },
     "metadata": {},
     "output_type": "display_data"
    },
    {
     "data": {
      "application/vnd.jupyter.widget-view+json": {
       "model_id": "229ad821915249dfa01845b9ed8aa611",
       "version_major": 2,
       "version_minor": 0
      },
      "text/plain": [
       "Categories (flat):   0%|          | 0/10 [00:00<?, ?cat/s]"
      ]
     },
     "metadata": {},
     "output_type": "display_data"
    },
    {
     "data": {
      "application/vnd.jupyter.widget-view+json": {
       "model_id": "b2d81a784da34db8b07a7fbae2c2a457",
       "version_major": 2,
       "version_minor": 0
      },
      "text/plain": [
       "Pages in 20th-century physicists by nationality: 0page [00:00, ?page/s]"
      ]
     },
     "metadata": {},
     "output_type": "display_data"
    },
    {
     "data": {
      "application/vnd.jupyter.widget-view+json": {
       "model_id": "04bd544edd9c4feb89ad88c4704b257d",
       "version_major": 2,
       "version_minor": 0
      },
      "text/plain": [
       "Pages in 21st-century physicists by nationality: 0page [00:00, ?page/s]"
      ]
     },
     "metadata": {},
     "output_type": "display_data"
    },
    {
     "data": {
      "application/vnd.jupyter.widget-view+json": {
       "model_id": "563cd8296e7749639f18991a99c7f5d0",
       "version_major": 2,
       "version_minor": 0
      },
      "text/plain": [
       "Pages in Physicists by nationality and century: 0page [00:00, ?page/s]"
      ]
     },
     "metadata": {},
     "output_type": "display_data"
    },
    {
     "data": {
      "application/vnd.jupyter.widget-view+json": {
       "model_id": "ea53c91240c1499eb7a9a771e949c186",
       "version_major": 2,
       "version_minor": 0
      },
      "text/plain": [
       "Pages in Astrophysicists by nationality: 0page [00:00, ?page/s]"
      ]
     },
     "metadata": {},
     "output_type": "display_data"
    },
    {
     "data": {
      "application/vnd.jupyter.widget-view+json": {
       "model_id": "fbe2f7a63d5a4c20bce0b27440d5af3f",
       "version_major": 2,
       "version_minor": 0
      },
      "text/plain": [
       "Pages in Cosmologists by nationality: 0page [00:00, ?page/s]"
      ]
     },
     "metadata": {},
     "output_type": "display_data"
    },
    {
     "data": {
      "application/vnd.jupyter.widget-view+json": {
       "model_id": "4d910232fcaa4ac783a5dcaf4532a98b",
       "version_major": 2,
       "version_minor": 0
      },
      "text/plain": [
       "Pages in Geophysicists by nationality: 0page [00:00, ?page/s]"
      ]
     },
     "metadata": {},
     "output_type": "display_data"
    },
    {
     "data": {
      "application/vnd.jupyter.widget-view+json": {
       "model_id": "802246829d714bf4ba164a9b845bbc0d",
       "version_major": 2,
       "version_minor": 0
      },
      "text/plain": [
       "Pages in Nuclear physicists by nationality: 0page [00:00, ?page/s]"
      ]
     },
     "metadata": {},
     "output_type": "display_data"
    },
    {
     "data": {
      "application/vnd.jupyter.widget-view+json": {
       "model_id": "f009253d7d1e4585b4393d1c503856e2",
       "version_major": 2,
       "version_minor": 0
      },
      "text/plain": [
       "Pages in Physical chemists by nationality: 0page [00:00, ?page/s]"
      ]
     },
     "metadata": {},
     "output_type": "display_data"
    },
    {
     "data": {
      "application/vnd.jupyter.widget-view+json": {
       "model_id": "2633ad8fd4344889b0be1eafe43b47d2",
       "version_major": 2,
       "version_minor": 0
      },
      "text/plain": [
       "Pages in Plasma physicists by nationality: 0page [00:00, ?page/s]"
      ]
     },
     "metadata": {},
     "output_type": "display_data"
    },
    {
     "data": {
      "application/vnd.jupyter.widget-view+json": {
       "model_id": "b13ba82f940444f89e01fc7bc55b2ea3",
       "version_major": 2,
       "version_minor": 0
      },
      "text/plain": [
       "Pages in Relativity theorists by nationality: 0page [00:00, ?page/s]"
      ]
     },
     "metadata": {},
     "output_type": "display_data"
    },
    {
     "data": {
      "application/vnd.jupyter.widget-view+json": {
       "model_id": "e4b90aacefdd4ec0967c00930e39d66b",
       "version_major": 2,
       "version_minor": 0
      },
      "text/plain": [
       "Pages in Physics in Canada: 0page [00:00, ?page/s]"
      ]
     },
     "metadata": {},
     "output_type": "display_data"
    },
    {
     "data": {
      "application/vnd.jupyter.widget-view+json": {
       "model_id": "8ebf13f5b9814cf8a464d89b59a57c5f",
       "version_major": 2,
       "version_minor": 0
      },
      "text/plain": [
       "Categories (flat):   0%|          | 0/2 [00:00<?, ?cat/s]"
      ]
     },
     "metadata": {},
     "output_type": "display_data"
    },
    {
     "data": {
      "application/vnd.jupyter.widget-view+json": {
       "model_id": "5f7572871a1249098425599533641816",
       "version_major": 2,
       "version_minor": 0
      },
      "text/plain": [
       "Pages in Canadian physicists:   0%|          | 0/100 [00:00<?, ?page/s]"
      ]
     },
     "metadata": {},
     "output_type": "display_data"
    },
    {
     "data": {
      "application/vnd.jupyter.widget-view+json": {
       "model_id": "914209322104449e9a5ec25735def159",
       "version_major": 2,
       "version_minor": 0
      },
      "text/plain": [
       "Pages in Physics departments in Canada:   0%|          | 0/1 [00:00<?, ?page/s]"
      ]
     },
     "metadata": {},
     "output_type": "display_data"
    },
    {
     "data": {
      "application/vnd.jupyter.widget-view+json": {
       "model_id": "4965a015e5574b42ac9e491f310f0d2f",
       "version_major": 2,
       "version_minor": 0
      },
      "text/plain": [
       "Pages in Physics in China:   0%|          | 0/2 [00:00<?, ?page/s]"
      ]
     },
     "metadata": {},
     "output_type": "display_data"
    },
    {
     "data": {
      "application/vnd.jupyter.widget-view+json": {
       "model_id": "ad5f20b5e3274a929da286b6f1be7206",
       "version_major": 2,
       "version_minor": 0
      },
      "text/plain": [
       "Categories (flat):   0%|          | 0/3 [00:00<?, ?cat/s]"
      ]
     },
     "metadata": {},
     "output_type": "display_data"
    },
    {
     "data": {
      "application/vnd.jupyter.widget-view+json": {
       "model_id": "b17fc6fcb36d4aa2bf0679e56a2c1b28",
       "version_major": 2,
       "version_minor": 0
      },
      "text/plain": [
       "Pages in Chinese Optical Society:   0%|          | 0/1 [00:00<?, ?page/s]"
      ]
     },
     "metadata": {},
     "output_type": "display_data"
    },
    {
     "data": {
      "application/vnd.jupyter.widget-view+json": {
       "model_id": "9da577d1784645fcbef69240929ad8e0",
       "version_major": 2,
       "version_minor": 0
      },
      "text/plain": [
       "Pages in Chinese Physical Society:   0%|          | 0/1 [00:00<?, ?page/s]"
      ]
     },
     "metadata": {},
     "output_type": "display_data"
    },
    {
     "data": {
      "application/vnd.jupyter.widget-view+json": {
       "model_id": "f633cf97b20c4ad595b82c0f4b7d678c",
       "version_major": 2,
       "version_minor": 0
      },
      "text/plain": [
       "Pages in Chinese physicists:   0%|          | 0/45 [00:00<?, ?page/s]"
      ]
     },
     "metadata": {},
     "output_type": "display_data"
    },
    {
     "data": {
      "application/vnd.jupyter.widget-view+json": {
       "model_id": "de046da43e274151b69a126064df0e79",
       "version_major": 2,
       "version_minor": 0
      },
      "text/plain": [
       "Pages in Physics in Germany:   0%|          | 0/3 [00:00<?, ?page/s]"
      ]
     },
     "metadata": {},
     "output_type": "display_data"
    },
    {
     "data": {
      "application/vnd.jupyter.widget-view+json": {
       "model_id": "3fe93610a178403293010fc3a2aad62c",
       "version_major": 2,
       "version_minor": 0
      },
      "text/plain": [
       "Categories (flat):   0%|          | 0/3 [00:00<?, ?cat/s]"
      ]
     },
     "metadata": {},
     "output_type": "display_data"
    },
    {
     "data": {
      "application/vnd.jupyter.widget-view+json": {
       "model_id": "b2ecaa970d714b4884f6e57b79a57a3d",
       "version_major": 2,
       "version_minor": 0
      },
      "text/plain": [
       "Pages in German physicists:   0%|          | 0/61 [00:00<?, ?page/s]"
      ]
     },
     "metadata": {},
     "output_type": "display_data"
    },
    {
     "data": {
      "application/vnd.jupyter.widget-view+json": {
       "model_id": "bb604cd437b04b58aae95a0b8efc06b4",
       "version_major": 2,
       "version_minor": 0
      },
      "text/plain": [
       "Pages in German Physical Society:   0%|          | 0/3 [00:00<?, ?page/s]"
      ]
     },
     "metadata": {},
     "output_type": "display_data"
    },
    {
     "data": {
      "application/vnd.jupyter.widget-view+json": {
       "model_id": "0c406fd2e6f54374ba2d2047f468ee60",
       "version_major": 2,
       "version_minor": 0
      },
      "text/plain": [
       "Pages in Nuclear technology in Germany:   0%|          | 0/5 [00:00<?, ?page/s]"
      ]
     },
     "metadata": {},
     "output_type": "display_data"
    },
    {
     "data": {
      "application/vnd.jupyter.widget-view+json": {
       "model_id": "16b44a6e5d8d4279a6c0327d32330d15",
       "version_major": 2,
       "version_minor": 0
      },
      "text/plain": [
       "Pages in Physics institutes in Italy:   0%|          | 0/2 [00:00<?, ?page/s]"
      ]
     },
     "metadata": {},
     "output_type": "display_data"
    },
    {
     "data": {
      "application/vnd.jupyter.widget-view+json": {
       "model_id": "6185709840764ba1a15c5e9d07200f9f",
       "version_major": 2,
       "version_minor": 0
      },
      "text/plain": [
       "Pages in Physics institutes in the Netherlands: 0page [00:00, ?page/s]"
      ]
     },
     "metadata": {},
     "output_type": "display_data"
    },
    {
     "data": {
      "application/vnd.jupyter.widget-view+json": {
       "model_id": "7e6f4cd620f14009b95b5ac3c916d004",
       "version_major": 2,
       "version_minor": 0
      },
      "text/plain": [
       "Categories (flat):   0%|          | 0/1 [00:00<?, ?cat/s]"
      ]
     },
     "metadata": {},
     "output_type": "display_data"
    },
    {
     "data": {
      "application/vnd.jupyter.widget-view+json": {
       "model_id": "9bec4a23794842aebce0244b9e325b89",
       "version_major": 2,
       "version_minor": 0
      },
      "text/plain": [
       "Pages in Nuclear research institutes in the Netherlands:   0%|          | 0/1 [00:00<?, ?page/s]"
      ]
     },
     "metadata": {},
     "output_type": "display_data"
    },
    {
     "data": {
      "application/vnd.jupyter.widget-view+json": {
       "model_id": "95fd97b8ec054fe499c7dbf756151ddb",
       "version_major": 2,
       "version_minor": 0
      },
      "text/plain": [
       "Pages in Physics in Russia: 0page [00:00, ?page/s]"
      ]
     },
     "metadata": {},
     "output_type": "display_data"
    },
    {
     "data": {
      "application/vnd.jupyter.widget-view+json": {
       "model_id": "797addac5ddf43c097f42440268f87ce",
       "version_major": 2,
       "version_minor": 0
      },
      "text/plain": [
       "Categories (flat):   0%|          | 0/4 [00:00<?, ?cat/s]"
      ]
     },
     "metadata": {},
     "output_type": "display_data"
    },
    {
     "data": {
      "application/vnd.jupyter.widget-view+json": {
       "model_id": "cec6dadf88e64bf8a393259a6e3315d3",
       "version_major": 2,
       "version_minor": 0
      },
      "text/plain": [
       "Pages in Physics institutes in Russia:   0%|          | 0/1 [00:00<?, ?page/s]"
      ]
     },
     "metadata": {},
     "output_type": "display_data"
    },
    {
     "data": {
      "application/vnd.jupyter.widget-view+json": {
       "model_id": "cd9db0aa85ef493cb0e9eeb2fc943d5b",
       "version_major": 2,
       "version_minor": 0
      },
      "text/plain": [
       "Pages in Moscow Institute of Physics and Technology:   0%|          | 0/8 [00:00<?, ?page/s]"
      ]
     },
     "metadata": {},
     "output_type": "display_data"
    },
    {
     "data": {
      "application/vnd.jupyter.widget-view+json": {
       "model_id": "63c398da8fe64dada29ac9784fa41256",
       "version_major": 2,
       "version_minor": 0
      },
      "text/plain": [
       "Pages in Nanotechnology in Russia: 0page [00:00, ?page/s]"
      ]
     },
     "metadata": {},
     "output_type": "display_data"
    },
    {
     "data": {
      "application/vnd.jupyter.widget-view+json": {
       "model_id": "b41e09369c964932937901f46c00b8ff",
       "version_major": 2,
       "version_minor": 0
      },
      "text/plain": [
       "Pages in Russian physicists:   0%|          | 0/100 [00:00<?, ?page/s]"
      ]
     },
     "metadata": {},
     "output_type": "display_data"
    },
    {
     "data": {
      "application/vnd.jupyter.widget-view+json": {
       "model_id": "80ca4efb2f8f49b0bebcd00959fbdd03",
       "version_major": 2,
       "version_minor": 0
      },
      "text/plain": [
       "Pages in Physics in Ukraine: 0page [00:00, ?page/s]"
      ]
     },
     "metadata": {},
     "output_type": "display_data"
    },
    {
     "data": {
      "application/vnd.jupyter.widget-view+json": {
       "model_id": "a957bea7d92244ca968b7c34cd4369bd",
       "version_major": 2,
       "version_minor": 0
      },
      "text/plain": [
       "Categories (flat):   0%|          | 0/2 [00:00<?, ?cat/s]"
      ]
     },
     "metadata": {},
     "output_type": "display_data"
    },
    {
     "data": {
      "application/vnd.jupyter.widget-view+json": {
       "model_id": "8d4748af63814175a87af8e9c2ae11f5",
       "version_major": 2,
       "version_minor": 0
      },
      "text/plain": [
       "Pages in Ukrainian physicists: 0page [00:00, ?page/s]"
      ]
     },
     "metadata": {},
     "output_type": "display_data"
    },
    {
     "data": {
      "application/vnd.jupyter.widget-view+json": {
       "model_id": "aebbde61d4fd4f08a27d4c59d1d1ccca",
       "version_major": 2,
       "version_minor": 0
      },
      "text/plain": [
       "Pages in Physics education in Ukraine:   0%|          | 0/1 [00:00<?, ?page/s]"
      ]
     },
     "metadata": {},
     "output_type": "display_data"
    },
    {
     "data": {
      "application/vnd.jupyter.widget-view+json": {
       "model_id": "6093123f8eef471fbcf98de051d744d5",
       "version_major": 2,
       "version_minor": 0
      },
      "text/plain": [
       "Pages in Physics in the United Kingdom:   0%|          | 0/1 [00:00<?, ?page/s]"
      ]
     },
     "metadata": {},
     "output_type": "display_data"
    },
    {
     "data": {
      "application/vnd.jupyter.widget-view+json": {
       "model_id": "b3ebfffd2a514aa386bf9fb48044b5bc",
       "version_major": 2,
       "version_minor": 0
      },
      "text/plain": [
       "Categories (flat):   0%|          | 0/1 [00:00<?, ?cat/s]"
      ]
     },
     "metadata": {},
     "output_type": "display_data"
    },
    {
     "data": {
      "application/vnd.jupyter.widget-view+json": {
       "model_id": "561b5c0e29c64c30a684e007770f0586",
       "version_major": 2,
       "version_minor": 0
      },
      "text/plain": [
       "Pages in Physics education in the United Kingdom:   0%|          | 0/39 [00:00<?, ?page/s]"
      ]
     },
     "metadata": {},
     "output_type": "display_data"
    },
    {
     "data": {
      "application/vnd.jupyter.widget-view+json": {
       "model_id": "afa7e7ae43d94d66b0bee3119e2da2df",
       "version_major": 2,
       "version_minor": 0
      },
      "text/plain": [
       "Pages in Subfields of physics:   0%|          | 0/4 [00:00<?, ?page/s]"
      ]
     },
     "metadata": {},
     "output_type": "display_data"
    },
    {
     "data": {
      "application/vnd.jupyter.widget-view+json": {
       "model_id": "46e11084671b4193862eece1113e72ec",
       "version_major": 2,
       "version_minor": 0
      },
      "text/plain": [
       "Categories (flat):   0%|          | 0/10 [00:00<?, ?cat/s]"
      ]
     },
     "metadata": {},
     "output_type": "display_data"
    },
    {
     "data": {
      "application/vnd.jupyter.widget-view+json": {
       "model_id": "5a2bf72986c5478f917efc3dc60bc0d2",
       "version_major": 2,
       "version_minor": 0
      },
      "text/plain": [
       "Pages in Applied and interdisciplinary physics:   0%|          | 0/53 [00:00<?, ?page/s]"
      ]
     },
     "metadata": {},
     "output_type": "display_data"
    },
    {
     "data": {
      "application/vnd.jupyter.widget-view+json": {
       "model_id": "17242ffa1b3643b6b6206d36a78d154d",
       "version_major": 2,
       "version_minor": 0
      },
      "text/plain": [
       "Categories (flat):   0%|          | 0/10 [00:00<?, ?cat/s]"
      ]
     },
     "metadata": {},
     "output_type": "display_data"
    },
    {
     "data": {
      "application/vnd.jupyter.widget-view+json": {
       "model_id": "508da09fb1f44c64b6ded7c1ee0ac74c",
       "version_major": 2,
       "version_minor": 0
      },
      "text/plain": [
       "Pages in Accelerator physics:   0%|          | 0/100 [00:00<?, ?page/s]"
      ]
     },
     "metadata": {},
     "output_type": "display_data"
    },
    {
     "data": {
      "application/vnd.jupyter.widget-view+json": {
       "model_id": "5785fca2cb644863be4967bb79b9f7dd",
       "version_major": 2,
       "version_minor": 0
      },
      "text/plain": [
       "Pages in Applied physicists:   0%|          | 0/2 [00:00<?, ?page/s]"
      ]
     },
     "metadata": {},
     "output_type": "display_data"
    },
    {
     "data": {
      "application/vnd.jupyter.widget-view+json": {
       "model_id": "ee8c1444da8c4e8da13c39dc80c5c888",
       "version_major": 2,
       "version_minor": 0
      },
      "text/plain": [
       "Pages in Atmospheric physics:   0%|          | 0/4 [00:00<?, ?page/s]"
      ]
     },
     "metadata": {},
     "output_type": "display_data"
    },
    {
     "data": {
      "application/vnd.jupyter.widget-view+json": {
       "model_id": "5ae4ef8d81bd4e14989243bfa219c3a9",
       "version_major": 2,
       "version_minor": 0
      },
      "text/plain": [
       "Pages in Ballistics:   0%|          | 0/80 [00:00<?, ?page/s]"
      ]
     },
     "metadata": {},
     "output_type": "display_data"
    },
    {
     "data": {
      "application/vnd.jupyter.widget-view+json": {
       "model_id": "d171621a224d43b2915ef718ca6a35e8",
       "version_major": 2,
       "version_minor": 0
      },
      "text/plain": [
       "Pages in Biophysics:   0%|          | 0/100 [00:00<?, ?page/s]"
      ]
     },
     "metadata": {},
     "output_type": "display_data"
    },
    {
     "data": {
      "application/vnd.jupyter.widget-view+json": {
       "model_id": "cf2ba2b43e1a4abdaa799660e5bde7d8",
       "version_major": 2,
       "version_minor": 0
      },
      "text/plain": [
       "Pages in Physical chemistry:   0%|          | 0/100 [00:00<?, ?page/s]"
      ]
     },
     "metadata": {},
     "output_type": "display_data"
    },
    {
     "name": "stdout",
     "output_type": "stream",
     "text": [
      "[Erreur] Impossible de charger la page 'Balliol-Trinity Laboratories' : HTTPSConnectionPool(host='en.wikipedia.org', port=443): Read timed out. (read timeout=10.0)\n",
      "[Erreur] Impossible de charger la page 'Bates–Guggenheim Convention' : HTTPSConnectionPool(host='en.wikipedia.org', port=443): Max retries exceeded with url: /w/api.php?format=json&redirects=1&action=query&prop=info&titles=Bates%E2%80%93Guggenheim+Convention&inprop=protection%7Ctalkid%7Cwatched%7Cwatchers%7Cvisitingwatchers%7Cnotificationtimestamp%7Csubjectid%7Curl%7Creadable%7Cpreload%7Cdisplaytitle%7Cvarianttitles (Caused by NewConnectionError('<urllib3.connection.HTTPSConnection object at 0x744198d22150>: Failed to establish a new connection: [Errno 101] Network is unreachable'))\n",
      "[Erreur] Impossible de charger la page 'Benesi–Hildebrand method' : HTTPSConnectionPool(host='en.wikipedia.org', port=443): Max retries exceeded with url: /w/api.php?format=json&redirects=1&action=query&prop=info&titles=Benesi%E2%80%93Hildebrand+method&inprop=protection%7Ctalkid%7Cwatched%7Cwatchers%7Cvisitingwatchers%7Cnotificationtimestamp%7Csubjectid%7Curl%7Creadable%7Cpreload%7Cdisplaytitle%7Cvarianttitles (Caused by NewConnectionError('<urllib3.connection.HTTPSConnection object at 0x744178a4ca40>: Failed to establish a new connection: [Errno 101] Network is unreachable'))\n",
      "[Erreur] Impossible de charger la page 'Benson group increment theory' : HTTPSConnectionPool(host='en.wikipedia.org', port=443): Max retries exceeded with url: /w/api.php?format=json&redirects=1&action=query&prop=info&titles=Benson+group+increment+theory&inprop=protection%7Ctalkid%7Cwatched%7Cwatchers%7Cvisitingwatchers%7Cnotificationtimestamp%7Csubjectid%7Curl%7Creadable%7Cpreload%7Cdisplaytitle%7Cvarianttitles (Caused by NewConnectionError('<urllib3.connection.HTTPSConnection object at 0x744178a4c890>: Failed to establish a new connection: [Errno 101] Network is unreachable'))\n",
      "[Erreur] Impossible de charger la page 'BET theory' : HTTPSConnectionPool(host='en.wikipedia.org', port=443): Max retries exceeded with url: /w/api.php?format=json&redirects=1&action=query&prop=info&titles=BET+theory&inprop=protection%7Ctalkid%7Cwatched%7Cwatchers%7Cvisitingwatchers%7Cnotificationtimestamp%7Csubjectid%7Curl%7Creadable%7Cpreload%7Cdisplaytitle%7Cvarianttitles (Caused by NewConnectionError('<urllib3.connection.HTTPSConnection object at 0x744178a4d490>: Failed to establish a new connection: [Errno 101] Network is unreachable'))\n",
      "[Erreur] Impossible de charger la page 'Bioaerosol' : HTTPSConnectionPool(host='en.wikipedia.org', port=443): Max retries exceeded with url: /w/api.php?format=json&redirects=1&action=query&prop=info&titles=Bioaerosol&inprop=protection%7Ctalkid%7Cwatched%7Cwatchers%7Cvisitingwatchers%7Cnotificationtimestamp%7Csubjectid%7Curl%7Creadable%7Cpreload%7Cdisplaytitle%7Cvarianttitles (Caused by NewConnectionError('<urllib3.connection.HTTPSConnection object at 0x744178a4d9d0>: Failed to establish a new connection: [Errno 101] Network is unreachable'))\n",
      "[Erreur] Impossible de charger la page 'Bioceramic' : HTTPSConnectionPool(host='en.wikipedia.org', port=443): Max retries exceeded with url: /w/api.php?format=json&redirects=1&action=query&prop=info&titles=Bioceramic&inprop=protection%7Ctalkid%7Cwatched%7Cwatchers%7Cvisitingwatchers%7Cnotificationtimestamp%7Csubjectid%7Curl%7Creadable%7Cpreload%7Cdisplaytitle%7Cvarianttitles (Caused by NewConnectionError('<urllib3.connection.HTTPSConnection object at 0x744178aa8260>: Failed to establish a new connection: [Errno 101] Network is unreachable'))\n",
      "[Erreur] Impossible de charger la page 'Bjerrum length' : HTTPSConnectionPool(host='en.wikipedia.org', port=443): Max retries exceeded with url: /w/api.php?format=json&redirects=1&action=query&prop=info&titles=Bjerrum+length&inprop=protection%7Ctalkid%7Cwatched%7Cwatchers%7Cvisitingwatchers%7Cnotificationtimestamp%7Csubjectid%7Curl%7Creadable%7Cpreload%7Cdisplaytitle%7Cvarianttitles (Caused by NewConnectionError('<urllib3.connection.HTTPSConnection object at 0x744178aa8320>: Failed to establish a new connection: [Errno 101] Network is unreachable'))\n",
      "[Erreur] Impossible de charger la page 'Boiling-point elevation' : HTTPSConnectionPool(host='en.wikipedia.org', port=443): Max retries exceeded with url: /w/api.php?format=json&redirects=1&action=query&prop=info&titles=Boiling-point+elevation&inprop=protection%7Ctalkid%7Cwatched%7Cwatchers%7Cvisitingwatchers%7Cnotificationtimestamp%7Csubjectid%7Curl%7Creadable%7Cpreload%7Cdisplaytitle%7Cvarianttitles (Caused by NewConnectionError('<urllib3.connection.HTTPSConnection object at 0x744198d22150>: Failed to establish a new connection: [Errno 101] Network is unreachable'))\n",
      "[Erreur] Impossible de charger la page 'Bolaamphiphile' : HTTPSConnectionPool(host='en.wikipedia.org', port=443): Max retries exceeded with url: /w/api.php?format=json&redirects=1&action=query&prop=info&titles=Bolaamphiphile&inprop=protection%7Ctalkid%7Cwatched%7Cwatchers%7Cvisitingwatchers%7Cnotificationtimestamp%7Csubjectid%7Curl%7Creadable%7Cpreload%7Cdisplaytitle%7Cvarianttitles (Caused by NewConnectionError('<urllib3.connection.HTTPSConnection object at 0x744178a4d130>: Failed to establish a new connection: [Errno 101] Network is unreachable'))\n",
      "[Erreur] Impossible de charger la page 'Butler–Volmer equation' : HTTPSConnectionPool(host='en.wikipedia.org', port=443): Max retries exceeded with url: /w/api.php?format=json&redirects=1&action=query&prop=info&titles=Butler%E2%80%93Volmer+equation&inprop=protection%7Ctalkid%7Cwatched%7Cwatchers%7Cvisitingwatchers%7Cnotificationtimestamp%7Csubjectid%7Curl%7Creadable%7Cpreload%7Cdisplaytitle%7Cvarianttitles (Caused by NewConnectionError('<urllib3.connection.HTTPSConnection object at 0x744178a4cda0>: Failed to establish a new connection: [Errno 101] Network is unreachable'))\n",
      "[Erreur] Impossible de charger la page 'Capacitance probe' : HTTPSConnectionPool(host='en.wikipedia.org', port=443): Max retries exceeded with url: /w/api.php?format=json&redirects=1&action=query&prop=info&titles=Capacitance+probe&inprop=protection%7Ctalkid%7Cwatched%7Cwatchers%7Cvisitingwatchers%7Cnotificationtimestamp%7Csubjectid%7Curl%7Creadable%7Cpreload%7Cdisplaytitle%7Cvarianttitles (Caused by NewConnectionError('<urllib3.connection.HTTPSConnection object at 0x744178a4cd40>: Failed to establish a new connection: [Errno 101] Network is unreachable'))\n",
      "[Erreur] Impossible de charger la page 'Chemical affinity' : HTTPSConnectionPool(host='en.wikipedia.org', port=443): Max retries exceeded with url: /w/api.php?format=json&redirects=1&action=query&prop=info&titles=Chemical+affinity&inprop=protection%7Ctalkid%7Cwatched%7Cwatchers%7Cvisitingwatchers%7Cnotificationtimestamp%7Csubjectid%7Curl%7Creadable%7Cpreload%7Cdisplaytitle%7Cvarianttitles (Caused by NewConnectionError('<urllib3.connection.HTTPSConnection object at 0x744178a4de20>: Failed to establish a new connection: [Errno 101] Network is unreachable'))\n",
      "[Erreur] Impossible de charger la page 'Chemical equilibrium' : HTTPSConnectionPool(host='en.wikipedia.org', port=443): Max retries exceeded with url: /w/api.php?format=json&redirects=1&action=query&prop=info&titles=Chemical+equilibrium&inprop=protection%7Ctalkid%7Cwatched%7Cwatchers%7Cvisitingwatchers%7Cnotificationtimestamp%7Csubjectid%7Curl%7Creadable%7Cpreload%7Cdisplaytitle%7Cvarianttitles (Caused by NewConnectionError('<urllib3.connection.HTTPSConnection object at 0x744178a4e000>: Failed to establish a new connection: [Errno 101] Network is unreachable'))\n",
      "[Erreur] Impossible de charger la page 'Chemical polarity' : HTTPSConnectionPool(host='en.wikipedia.org', port=443): Max retries exceeded with url: /w/api.php?format=json&redirects=1&action=query&prop=info&titles=Chemical+polarity&inprop=protection%7Ctalkid%7Cwatched%7Cwatchers%7Cvisitingwatchers%7Cnotificationtimestamp%7Csubjectid%7Curl%7Creadable%7Cpreload%7Cdisplaytitle%7Cvarianttitles (Caused by NewConnectionError('<urllib3.connection.HTTPSConnection object at 0x744178a4e600>: Failed to establish a new connection: [Errno 101] Network is unreachable'))\n",
      "[Erreur] Impossible de charger la page 'Chemical potential' : HTTPSConnectionPool(host='en.wikipedia.org', port=443): Max retries exceeded with url: /w/api.php?format=json&redirects=1&action=query&prop=info&titles=Chemical+potential&inprop=protection%7Ctalkid%7Cwatched%7Cwatchers%7Cvisitingwatchers%7Cnotificationtimestamp%7Csubjectid%7Curl%7Creadable%7Cpreload%7Cdisplaytitle%7Cvarianttitles (Caused by NewConnectionError('<urllib3.connection.HTTPSConnection object at 0x744178aeec90>: Failed to establish a new connection: [Errno 101] Network is unreachable'))\n",
      "[Erreur] Impossible de charger la page 'Chemical stability' : HTTPSConnectionPool(host='en.wikipedia.org', port=443): Max retries exceeded with url: /w/api.php?format=json&redirects=1&action=query&prop=info&titles=Chemical+stability&inprop=protection%7Ctalkid%7Cwatched%7Cwatchers%7Cvisitingwatchers%7Cnotificationtimestamp%7Csubjectid%7Curl%7Creadable%7Cpreload%7Cdisplaytitle%7Cvarianttitles (Caused by NewConnectionError('<urllib3.connection.HTTPSConnection object at 0x744178aabb00>: Failed to establish a new connection: [Errno 101] Network is unreachable'))\n",
      "[Erreur] Impossible de charger la page 'Chemical thermodynamics' : HTTPSConnectionPool(host='en.wikipedia.org', port=443): Max retries exceeded with url: /w/api.php?format=json&redirects=1&action=query&prop=info&titles=Chemical+thermodynamics&inprop=protection%7Ctalkid%7Cwatched%7Cwatchers%7Cvisitingwatchers%7Cnotificationtimestamp%7Csubjectid%7Curl%7Creadable%7Cpreload%7Cdisplaytitle%7Cvarianttitles (Caused by NewConnectionError('<urllib3.connection.HTTPSConnection object at 0x744178aab620>: Failed to establish a new connection: [Errno 101] Network is unreachable'))\n",
      "[Erreur] Impossible de charger la page 'Chemisorption' : HTTPSConnectionPool(host='en.wikipedia.org', port=443): Max retries exceeded with url: /w/api.php?format=json&redirects=1&action=query&prop=info&titles=Chemisorption&inprop=protection%7Ctalkid%7Cwatched%7Cwatchers%7Cvisitingwatchers%7Cnotificationtimestamp%7Csubjectid%7Curl%7Creadable%7Cpreload%7Cdisplaytitle%7Cvarianttitles (Caused by NewConnectionError('<urllib3.connection.HTTPSConnection object at 0x744178a4e3f0>: Failed to establish a new connection: [Errno 101] Network is unreachable'))\n",
      "[Erreur] Impossible de charger la page 'CIDNP' : HTTPSConnectionPool(host='en.wikipedia.org', port=443): Max retries exceeded with url: /w/api.php?format=json&redirects=1&action=query&prop=info&titles=CIDNP&inprop=protection%7Ctalkid%7Cwatched%7Cwatchers%7Cvisitingwatchers%7Cnotificationtimestamp%7Csubjectid%7Curl%7Creadable%7Cpreload%7Cdisplaytitle%7Cvarianttitles (Caused by NewConnectionError('<urllib3.connection.HTTPSConnection object at 0x744178a4e120>: Failed to establish a new connection: [Errno 101] Network is unreachable'))\n",
      "[Erreur] Impossible de charger la page 'Coalescence (chemistry)' : HTTPSConnectionPool(host='en.wikipedia.org', port=443): Max retries exceeded with url: /w/api.php?format=json&redirects=1&action=query&prop=info&titles=Coalescence+%28chemistry%29&inprop=protection%7Ctalkid%7Cwatched%7Cwatchers%7Cvisitingwatchers%7Cnotificationtimestamp%7Csubjectid%7Curl%7Creadable%7Cpreload%7Cdisplaytitle%7Cvarianttitles (Caused by NewConnectionError('<urllib3.connection.HTTPSConnection object at 0x744178a4de20>: Failed to establish a new connection: [Errno 101] Network is unreachable'))\n",
      "[Erreur] Impossible de charger la page 'Coffee Joulies' : HTTPSConnectionPool(host='en.wikipedia.org', port=443): Max retries exceeded with url: /w/api.php?format=json&redirects=1&action=query&prop=info&titles=Coffee+Joulies&inprop=protection%7Ctalkid%7Cwatched%7Cwatchers%7Cvisitingwatchers%7Cnotificationtimestamp%7Csubjectid%7Curl%7Creadable%7Cpreload%7Cdisplaytitle%7Cvarianttitles (Caused by NewConnectionError('<urllib3.connection.HTTPSConnection object at 0x744178a4c9b0>: Failed to establish a new connection: [Errno 101] Network is unreachable'))\n",
      "[Erreur] Impossible de charger la page 'Coffee ring effect' : HTTPSConnectionPool(host='en.wikipedia.org', port=443): Max retries exceeded with url: /w/api.php?format=json&redirects=1&action=query&prop=info&titles=Coffee+ring+effect&inprop=protection%7Ctalkid%7Cwatched%7Cwatchers%7Cvisitingwatchers%7Cnotificationtimestamp%7Csubjectid%7Curl%7Creadable%7Cpreload%7Cdisplaytitle%7Cvarianttitles (Caused by NewConnectionError('<urllib3.connection.HTTPSConnection object at 0x744178a4d4c0>: Failed to establish a new connection: [Errno 101] Network is unreachable'))\n",
      "[Erreur] Impossible de charger la page 'Colligative properties' : HTTPSConnectionPool(host='en.wikipedia.org', port=443): Max retries exceeded with url: /w/api.php?format=json&redirects=1&action=query&prop=info&titles=Colligative+properties&inprop=protection%7Ctalkid%7Cwatched%7Cwatchers%7Cvisitingwatchers%7Cnotificationtimestamp%7Csubjectid%7Curl%7Creadable%7Cpreload%7Cdisplaytitle%7Cvarianttitles (Caused by NewConnectionError('<urllib3.connection.HTTPSConnection object at 0x744178a4d3a0>: Failed to establish a new connection: [Errno 101] Network is unreachable'))\n",
      "[Erreur] Impossible de charger la page 'Colloid-facilitated transport' : HTTPSConnectionPool(host='en.wikipedia.org', port=443): Max retries exceeded with url: /w/api.php?format=json&redirects=1&action=query&prop=info&titles=Colloid-facilitated+transport&inprop=protection%7Ctalkid%7Cwatched%7Cwatchers%7Cvisitingwatchers%7Cnotificationtimestamp%7Csubjectid%7Curl%7Creadable%7Cpreload%7Cdisplaytitle%7Cvarianttitles (Caused by NewConnectionError('<urllib3.connection.HTTPSConnection object at 0x744178aaa5a0>: Failed to establish a new connection: [Errno 101] Network is unreachable'))\n",
      "[Erreur] Impossible de charger la page 'Computational chemistry' : HTTPSConnectionPool(host='en.wikipedia.org', port=443): Max retries exceeded with url: /w/api.php?format=json&redirects=1&action=query&prop=info&titles=Computational+chemistry&inprop=protection%7Ctalkid%7Cwatched%7Cwatchers%7Cvisitingwatchers%7Cnotificationtimestamp%7Csubjectid%7Curl%7Creadable%7Cpreload%7Cdisplaytitle%7Cvarianttitles (Caused by NewConnectionError('<urllib3.connection.HTTPSConnection object at 0x744178aa8590>: Failed to establish a new connection: [Errno 101] Network is unreachable'))\n",
      "[Erreur] Impossible de charger la page 'Conductivity (electrolytic)' : HTTPSConnectionPool(host='en.wikipedia.org', port=443): Max retries exceeded with url: /w/api.php?format=json&redirects=1&action=query&prop=info&titles=Conductivity+%28electrolytic%29&inprop=protection%7Ctalkid%7Cwatched%7Cwatchers%7Cvisitingwatchers%7Cnotificationtimestamp%7Csubjectid%7Curl%7Creadable%7Cpreload%7Cdisplaytitle%7Cvarianttitles (Caused by NewConnectionError('<urllib3.connection.HTTPSConnection object at 0x744178aa8050>: Failed to establish a new connection: [Errno 101] Network is unreachable'))\n",
      "[Erreur] Impossible de charger la page 'Coomber's relationship' : HTTPSConnectionPool(host='en.wikipedia.org', port=443): Max retries exceeded with url: /w/api.php?format=json&redirects=1&action=query&prop=info&titles=Coomber%27s+relationship&inprop=protection%7Ctalkid%7Cwatched%7Cwatchers%7Cvisitingwatchers%7Cnotificationtimestamp%7Csubjectid%7Curl%7Creadable%7Cpreload%7Cdisplaytitle%7Cvarianttitles (Caused by NewConnectionError('<urllib3.connection.HTTPSConnection object at 0x744178a4d760>: Failed to establish a new connection: [Errno 101] Network is unreachable'))\n",
      "[Erreur] Impossible de charger la page 'Copper coulometer' : HTTPSConnectionPool(host='en.wikipedia.org', port=443): Max retries exceeded with url: /w/api.php?format=json&redirects=1&action=query&prop=info&titles=Copper+coulometer&inprop=protection%7Ctalkid%7Cwatched%7Cwatchers%7Cvisitingwatchers%7Cnotificationtimestamp%7Csubjectid%7Curl%7Creadable%7Cpreload%7Cdisplaytitle%7Cvarianttitles (Caused by NewConnectionError('<urllib3.connection.HTTPSConnection object at 0x744178a4cb60>: Failed to establish a new connection: [Errno 101] Network is unreachable'))\n",
      "[Erreur] Impossible de charger la page 'Crossed molecular beam' : HTTPSConnectionPool(host='en.wikipedia.org', port=443): Max retries exceeded with url: /w/api.php?format=json&redirects=1&action=query&prop=info&titles=Crossed+molecular+beam&inprop=protection%7Ctalkid%7Cwatched%7Cwatchers%7Cvisitingwatchers%7Cnotificationtimestamp%7Csubjectid%7Curl%7Creadable%7Cpreload%7Cdisplaytitle%7Cvarianttitles (Caused by NewConnectionError('<urllib3.connection.HTTPSConnection object at 0x744178a4d3d0>: Failed to establish a new connection: [Errno 101] Network is unreachable'))\n",
      "[Erreur] Impossible de charger la page 'Cryochemistry' : HTTPSConnectionPool(host='en.wikipedia.org', port=443): Max retries exceeded with url: /w/api.php?format=json&redirects=1&action=query&prop=info&titles=Cryochemistry&inprop=protection%7Ctalkid%7Cwatched%7Cwatchers%7Cvisitingwatchers%7Cnotificationtimestamp%7Csubjectid%7Curl%7Creadable%7Cpreload%7Cdisplaytitle%7Cvarianttitles (Caused by NewConnectionError('<urllib3.connection.HTTPSConnection object at 0x744178a4e240>: Failed to establish a new connection: [Errno 101] Network is unreachable'))\n",
      "[Erreur] Impossible de charger la page 'Crystallographic database' : HTTPSConnectionPool(host='en.wikipedia.org', port=443): Max retries exceeded with url: /w/api.php?format=json&redirects=1&action=query&prop=info&titles=Crystallographic+database&inprop=protection%7Ctalkid%7Cwatched%7Cwatchers%7Cvisitingwatchers%7Cnotificationtimestamp%7Csubjectid%7Curl%7Creadable%7Cpreload%7Cdisplaytitle%7Cvarianttitles (Caused by NewConnectionError('<urllib3.connection.HTTPSConnection object at 0x744178a4e570>: Failed to establish a new connection: [Errno 101] Network is unreachable'))\n",
      "[Erreur] Impossible de charger la page 'Cubic harmonic' : HTTPSConnectionPool(host='en.wikipedia.org', port=443): Max retries exceeded with url: /w/api.php?format=json&redirects=1&action=query&prop=info&titles=Cubic+harmonic&inprop=protection%7Ctalkid%7Cwatched%7Cwatchers%7Cvisitingwatchers%7Cnotificationtimestamp%7Csubjectid%7Curl%7Creadable%7Cpreload%7Cdisplaytitle%7Cvarianttitles (Caused by NewConnectionError('<urllib3.connection.HTTPSConnection object at 0x744178a4e9f0>: Failed to establish a new connection: [Errno 101] Network is unreachable'))\n",
      "[Erreur] Impossible de charger la page 'Dalton's law' : HTTPSConnectionPool(host='en.wikipedia.org', port=443): Max retries exceeded with url: /w/api.php?format=json&redirects=1&action=query&prop=info&titles=Dalton%27s+law&inprop=protection%7Ctalkid%7Cwatched%7Cwatchers%7Cvisitingwatchers%7Cnotificationtimestamp%7Csubjectid%7Curl%7Creadable%7Cpreload%7Cdisplaytitle%7Cvarianttitles (Caused by NewConnectionError('<urllib3.connection.HTTPSConnection object at 0x744178aef650>: Failed to establish a new connection: [Errno 101] Network is unreachable'))\n",
      "[Erreur] Impossible de charger la page 'Darken's equations' : HTTPSConnectionPool(host='en.wikipedia.org', port=443): Max retries exceeded with url: /w/api.php?format=json&redirects=1&action=query&prop=info&titles=Darken%27s+equations&inprop=protection%7Ctalkid%7Cwatched%7Cwatchers%7Cvisitingwatchers%7Cnotificationtimestamp%7Csubjectid%7Curl%7Creadable%7Cpreload%7Cdisplaytitle%7Cvarianttitles (Caused by NewConnectionError('<urllib3.connection.HTTPSConnection object at 0x744178aa8d40>: Failed to establish a new connection: [Errno 101] Network is unreachable'))\n",
      "[Erreur] Impossible de charger la page 'Peter Debye Award' : HTTPSConnectionPool(host='en.wikipedia.org', port=443): Max retries exceeded with url: /w/api.php?format=json&redirects=1&action=query&prop=info&titles=Peter+Debye+Award&inprop=protection%7Ctalkid%7Cwatched%7Cwatchers%7Cvisitingwatchers%7Cnotificationtimestamp%7Csubjectid%7Curl%7Creadable%7Cpreload%7Cdisplaytitle%7Cvarianttitles (Caused by NewConnectionError('<urllib3.connection.HTTPSConnection object at 0x744178aa95b0>: Failed to establish a new connection: [Errno 101] Network is unreachable'))\n",
      "[Erreur] Impossible de charger la page 'Defining equation (physical chemistry)' : HTTPSConnectionPool(host='en.wikipedia.org', port=443): Max retries exceeded with url: /w/api.php?format=json&redirects=1&action=query&prop=info&titles=Defining+equation+%28physical+chemistry%29&inprop=protection%7Ctalkid%7Cwatched%7Cwatchers%7Cvisitingwatchers%7Cnotificationtimestamp%7Csubjectid%7Curl%7Creadable%7Cpreload%7Cdisplaytitle%7Cvarianttitles (Caused by NewConnectionError('<urllib3.connection.HTTPSConnection object at 0x744178aaaa20>: Failed to establish a new connection: [Errno 101] Network is unreachable'))\n",
      "[Erreur] Impossible de charger la page 'Deflagration' : HTTPSConnectionPool(host='en.wikipedia.org', port=443): Max retries exceeded with url: /w/api.php?format=json&redirects=1&action=query&prop=info&titles=Deflagration&inprop=protection%7Ctalkid%7Cwatched%7Cwatchers%7Cvisitingwatchers%7Cnotificationtimestamp%7Csubjectid%7Curl%7Creadable%7Cpreload%7Cdisplaytitle%7Cvarianttitles (Caused by NewConnectionError('<urllib3.connection.HTTPSConnection object at 0x744178a4ea50>: Failed to establish a new connection: [Errno 101] Network is unreachable'))\n",
      "[Erreur] Impossible de charger la page 'Degree of ionization' : HTTPSConnectionPool(host='en.wikipedia.org', port=443): Max retries exceeded with url: /w/api.php?format=json&redirects=1&action=query&prop=info&titles=Degree+of+ionization&inprop=protection%7Ctalkid%7Cwatched%7Cwatchers%7Cvisitingwatchers%7Cnotificationtimestamp%7Csubjectid%7Curl%7Creadable%7Cpreload%7Cdisplaytitle%7Cvarianttitles (Caused by NewConnectionError('<urllib3.connection.HTTPSConnection object at 0x744178a4e720>: Failed to establish a new connection: [Errno 101] Network is unreachable'))\n",
      "[Erreur] Impossible de charger la page 'Deposition (chemistry)' : HTTPSConnectionPool(host='en.wikipedia.org', port=443): Max retries exceeded with url: /w/api.php?format=json&redirects=1&action=query&prop=info&titles=Deposition+%28chemistry%29&inprop=protection%7Ctalkid%7Cwatched%7Cwatchers%7Cvisitingwatchers%7Cnotificationtimestamp%7Csubjectid%7Curl%7Creadable%7Cpreload%7Cdisplaytitle%7Cvarianttitles (Caused by NewConnectionError('<urllib3.connection.HTTPSConnection object at 0x744178a4e210>: Failed to establish a new connection: [Errno 101] Network is unreachable'))\n",
      "[Erreur] Impossible de charger la page 'Derjaguin approximation' : HTTPSConnectionPool(host='en.wikipedia.org', port=443): Max retries exceeded with url: /w/api.php?format=json&redirects=1&action=query&prop=info&titles=Derjaguin+approximation&inprop=protection%7Ctalkid%7Cwatched%7Cwatchers%7Cvisitingwatchers%7Cnotificationtimestamp%7Csubjectid%7Curl%7Creadable%7Cpreload%7Cdisplaytitle%7Cvarianttitles (Caused by NewConnectionError('<urllib3.connection.HTTPSConnection object at 0x744178a4d790>: Failed to establish a new connection: [Errno 101] Network is unreachable'))\n",
      "[Erreur] Impossible de charger la page 'Diamond anvil cell' : HTTPSConnectionPool(host='en.wikipedia.org', port=443): Max retries exceeded with url: /w/api.php?format=json&redirects=1&action=query&prop=info&titles=Diamond+anvil+cell&inprop=protection%7Ctalkid%7Cwatched%7Cwatchers%7Cvisitingwatchers%7Cnotificationtimestamp%7Csubjectid%7Curl%7Creadable%7Cpreload%7Cdisplaytitle%7Cvarianttitles (Caused by NewConnectionError('<urllib3.connection.HTTPSConnection object at 0x744178a4d760>: Failed to establish a new connection: [Errno 101] Network is unreachable'))\n",
      "[Erreur] Impossible de charger la page 'Differential dynamic microscopy' : HTTPSConnectionPool(host='en.wikipedia.org', port=443): Max retries exceeded with url: /w/api.php?format=json&redirects=1&action=query&prop=info&titles=Differential+dynamic+microscopy&inprop=protection%7Ctalkid%7Cwatched%7Cwatchers%7Cvisitingwatchers%7Cnotificationtimestamp%7Csubjectid%7Curl%7Creadable%7Cpreload%7Cdisplaytitle%7Cvarianttitles (Caused by NewConnectionError('<urllib3.connection.HTTPSConnection object at 0x744178aaa2a0>: Failed to establish a new connection: [Errno 101] Network is unreachable'))\n",
      "[Erreur] Impossible de charger la page 'Dissociative adsorption' : HTTPSConnectionPool(host='en.wikipedia.org', port=443): Max retries exceeded with url: /w/api.php?format=json&redirects=1&action=query&prop=info&titles=Dissociative+adsorption&inprop=protection%7Ctalkid%7Cwatched%7Cwatchers%7Cvisitingwatchers%7Cnotificationtimestamp%7Csubjectid%7Curl%7Creadable%7Cpreload%7Cdisplaytitle%7Cvarianttitles (Caused by NewConnectionError('<urllib3.connection.HTTPSConnection object at 0x744198d24a10>: Failed to establish a new connection: [Errno 101] Network is unreachable'))\n",
      "[Erreur] Impossible de charger la page 'DLVO theory' : HTTPSConnectionPool(host='en.wikipedia.org', port=443): Max retries exceeded with url: /w/api.php?format=json&redirects=1&action=query&prop=info&titles=DLVO+theory&inprop=protection%7Ctalkid%7Cwatched%7Cwatchers%7Cvisitingwatchers%7Cnotificationtimestamp%7Csubjectid%7Curl%7Creadable%7Cpreload%7Cdisplaytitle%7Cvarianttitles (Caused by NewConnectionError('<urllib3.connection.HTTPSConnection object at 0x744198d228d0>: Failed to establish a new connection: [Errno 101] Network is unreachable'))\n",
      "[Erreur] Impossible de charger la page 'Donnan potential' : HTTPSConnectionPool(host='en.wikipedia.org', port=443): Max retries exceeded with url: /w/api.php?format=json&redirects=1&action=query&prop=info&titles=Donnan+potential&inprop=protection%7Ctalkid%7Cwatched%7Cwatchers%7Cvisitingwatchers%7Cnotificationtimestamp%7Csubjectid%7Curl%7Creadable%7Cpreload%7Cdisplaytitle%7Cvarianttitles (Caused by NewConnectionError('<urllib3.connection.HTTPSConnection object at 0x744178aeec90>: Failed to establish a new connection: [Errno 101] Network is unreachable'))\n",
      "[Erreur] Impossible de charger la page 'Double layer (biology)' : HTTPSConnectionPool(host='en.wikipedia.org', port=443): Max retries exceeded with url: /w/api.php?format=json&redirects=1&action=query&prop=info&titles=Double+layer+%28biology%29&inprop=protection%7Ctalkid%7Cwatched%7Cwatchers%7Cvisitingwatchers%7Cnotificationtimestamp%7Csubjectid%7Curl%7Creadable%7Cpreload%7Cdisplaytitle%7Cvarianttitles (Caused by NewConnectionError('<urllib3.connection.HTTPSConnection object at 0x744178a4c7d0>: Failed to establish a new connection: [Errno 101] Network is unreachable'))\n",
      "[Erreur] Impossible de charger la page 'Dynamic light scattering' : HTTPSConnectionPool(host='en.wikipedia.org', port=443): Max retries exceeded with url: /w/api.php?format=json&redirects=1&action=query&prop=info&titles=Dynamic+light+scattering&inprop=protection%7Ctalkid%7Cwatched%7Cwatchers%7Cvisitingwatchers%7Cnotificationtimestamp%7Csubjectid%7Curl%7Creadable%7Cpreload%7Cdisplaytitle%7Cvarianttitles (Caused by NewConnectionError('<urllib3.connection.HTTPSConnection object at 0x744178a4e0f0>: Failed to establish a new connection: [Errno 101] Network is unreachable'))\n",
      "[Erreur] Impossible de charger la page 'Dynamic vapor sorption' : HTTPSConnectionPool(host='en.wikipedia.org', port=443): Max retries exceeded with url: /w/api.php?format=json&redirects=1&action=query&prop=info&titles=Dynamic+vapor+sorption&inprop=protection%7Ctalkid%7Cwatched%7Cwatchers%7Cvisitingwatchers%7Cnotificationtimestamp%7Csubjectid%7Curl%7Creadable%7Cpreload%7Cdisplaytitle%7Cvarianttitles (Caused by NewConnectionError('<urllib3.connection.HTTPSConnection object at 0x744178a4e240>: Failed to establish a new connection: [Errno 101] Network is unreachable'))\n",
      "[Erreur] Impossible de charger la page 'E. Bright Wilson Award in Spectroscopy' : HTTPSConnectionPool(host='en.wikipedia.org', port=443): Max retries exceeded with url: /w/api.php?format=json&redirects=1&action=query&prop=info&titles=E.+Bright+Wilson+Award+in+Spectroscopy&inprop=protection%7Ctalkid%7Cwatched%7Cwatchers%7Cvisitingwatchers%7Cnotificationtimestamp%7Csubjectid%7Curl%7Creadable%7Cpreload%7Cdisplaytitle%7Cvarianttitles (Caused by NewConnectionError('<urllib3.connection.HTTPSConnection object at 0x744178a4e810>: Failed to establish a new connection: [Errno 101] Network is unreachable'))\n",
      "[Erreur] Impossible de charger la page 'Effective medium approximations' : HTTPSConnectionPool(host='en.wikipedia.org', port=443): Max retries exceeded with url: /w/api.php?format=json&redirects=1&action=query&prop=info&titles=Effective+medium+approximations&inprop=protection%7Ctalkid%7Cwatched%7Cwatchers%7Cvisitingwatchers%7Cnotificationtimestamp%7Csubjectid%7Curl%7Creadable%7Cpreload%7Cdisplaytitle%7Cvarianttitles (Caused by NewConnectionError('<urllib3.connection.HTTPSConnection object at 0x744178a4c4a0>: Failed to establish a new connection: [Errno 101] Network is unreachable'))\n",
      "[Erreur] Impossible de charger la page 'Effusion' : HTTPSConnectionPool(host='en.wikipedia.org', port=443): Max retries exceeded with url: /w/api.php?format=json&redirects=1&action=query&prop=info&titles=Effusion&inprop=protection%7Ctalkid%7Cwatched%7Cwatchers%7Cvisitingwatchers%7Cnotificationtimestamp%7Csubjectid%7Curl%7Creadable%7Cpreload%7Cdisplaytitle%7Cvarianttitles (Caused by NewConnectionError('<urllib3.connection.HTTPSConnection object at 0x744178aecd10>: Failed to establish a new connection: [Errno 101] Network is unreachable'))\n",
      "[Erreur] Impossible de charger la page 'Electrochemical equivalent' : HTTPSConnectionPool(host='en.wikipedia.org', port=443): Max retries exceeded with url: /w/api.php?format=json&redirects=1&action=query&prop=info&titles=Electrochemical+equivalent&inprop=protection%7Ctalkid%7Cwatched%7Cwatchers%7Cvisitingwatchers%7Cnotificationtimestamp%7Csubjectid%7Curl%7Creadable%7Cpreload%7Cdisplaytitle%7Cvarianttitles (Caused by NewConnectionError('<urllib3.connection.HTTPSConnection object at 0x744198d228d0>: Failed to establish a new connection: [Errno 101] Network is unreachable'))\n",
      "[Erreur] Impossible de charger la page 'Electrochemistry' : HTTPSConnectionPool(host='en.wikipedia.org', port=443): Max retries exceeded with url: /w/api.php?format=json&redirects=1&action=query&prop=info&titles=Electrochemistry&inprop=protection%7Ctalkid%7Cwatched%7Cwatchers%7Cvisitingwatchers%7Cnotificationtimestamp%7Csubjectid%7Curl%7Creadable%7Cpreload%7Cdisplaytitle%7Cvarianttitles (Caused by NewConnectionError('<urllib3.connection.HTTPSConnection object at 0x744178aa81a0>: Failed to establish a new connection: [Errno 101] Network is unreachable'))\n",
      "[Erreur] Impossible de charger la page 'Electrodeionization' : HTTPSConnectionPool(host='en.wikipedia.org', port=443): Max retries exceeded with url: /w/api.php?format=json&redirects=1&action=query&prop=info&titles=Electrodeionization&inprop=protection%7Ctalkid%7Cwatched%7Cwatchers%7Cvisitingwatchers%7Cnotificationtimestamp%7Csubjectid%7Curl%7Creadable%7Cpreload%7Cdisplaytitle%7Cvarianttitles (Caused by NewConnectionError('<urllib3.connection.HTTPSConnection object at 0x744178aaaf60>: Failed to establish a new connection: [Errno 101] Network is unreachable'))\n",
      "[Erreur] Impossible de charger la page 'Electrolyte' : HTTPSConnectionPool(host='en.wikipedia.org', port=443): Max retries exceeded with url: /w/api.php?format=json&redirects=1&action=query&prop=info&titles=Electrolyte&inprop=protection%7Ctalkid%7Cwatched%7Cwatchers%7Cvisitingwatchers%7Cnotificationtimestamp%7Csubjectid%7Curl%7Creadable%7Cpreload%7Cdisplaytitle%7Cvarianttitles (Caused by NewConnectionError('<urllib3.connection.HTTPSConnection object at 0x744178a4cfb0>: Failed to establish a new connection: [Errno 101] Network is unreachable'))\n",
      "[Erreur] Impossible de charger la page 'Electron affinity' : HTTPSConnectionPool(host='en.wikipedia.org', port=443): Max retries exceeded with url: /w/api.php?format=json&redirects=1&action=query&prop=info&titles=Electron+affinity&inprop=protection%7Ctalkid%7Cwatched%7Cwatchers%7Cvisitingwatchers%7Cnotificationtimestamp%7Csubjectid%7Curl%7Creadable%7Cpreload%7Cdisplaytitle%7Cvarianttitles (Caused by NewConnectionError('<urllib3.connection.HTTPSConnection object at 0x744178a4e2d0>: Failed to establish a new connection: [Errno 101] Network is unreachable'))\n",
      "[Erreur] Impossible de charger la page 'Electron transfer' : HTTPSConnectionPool(host='en.wikipedia.org', port=443): Max retries exceeded with url: /w/api.php?format=json&redirects=1&action=query&prop=info&titles=Electron+transfer&inprop=protection%7Ctalkid%7Cwatched%7Cwatchers%7Cvisitingwatchers%7Cnotificationtimestamp%7Csubjectid%7Curl%7Creadable%7Cpreload%7Cdisplaytitle%7Cvarianttitles (Caused by NewConnectionError('<urllib3.connection.HTTPSConnection object at 0x744178a4d430>: Failed to establish a new connection: [Errno 101] Network is unreachable'))\n",
      "[Erreur] Impossible de charger la page 'Elementary reaction' : HTTPSConnectionPool(host='en.wikipedia.org', port=443): Max retries exceeded with url: /w/api.php?format=json&redirects=1&action=query&prop=info&titles=Elementary+reaction&inprop=protection%7Ctalkid%7Cwatched%7Cwatchers%7Cvisitingwatchers%7Cnotificationtimestamp%7Csubjectid%7Curl%7Creadable%7Cpreload%7Cdisplaytitle%7Cvarianttitles (Caused by NewConnectionError('<urllib3.connection.HTTPSConnection object at 0x744178a4d730>: Failed to establish a new connection: [Errno 101] Network is unreachable'))\n",
      "[Erreur] Impossible de charger la page 'Empirical valence bond' : HTTPSConnectionPool(host='en.wikipedia.org', port=443): Max retries exceeded with url: /w/api.php?format=json&redirects=1&action=query&prop=info&titles=Empirical+valence+bond&inprop=protection%7Ctalkid%7Cwatched%7Cwatchers%7Cvisitingwatchers%7Cnotificationtimestamp%7Csubjectid%7Curl%7Creadable%7Cpreload%7Cdisplaytitle%7Cvarianttitles (Caused by NewConnectionError('<urllib3.connection.HTTPSConnection object at 0x744178a4d7c0>: Failed to establish a new connection: [Errno 101] Network is unreachable'))\n",
      "[Erreur] Impossible de charger la page 'Eötvös rule' : HTTPSConnectionPool(host='en.wikipedia.org', port=443): Max retries exceeded with url: /w/api.php?format=json&redirects=1&action=query&prop=info&titles=E%C3%B6tv%C3%B6s+rule&inprop=protection%7Ctalkid%7Cwatched%7Cwatchers%7Cvisitingwatchers%7Cnotificationtimestamp%7Csubjectid%7Curl%7Creadable%7Cpreload%7Cdisplaytitle%7Cvarianttitles (Caused by NewConnectionError('<urllib3.connection.HTTPSConnection object at 0x744178aaaf60>: Failed to establish a new connection: [Errno 101] Network is unreachable'))\n",
      "[Erreur] Impossible de charger la page 'Equilibrium chemistry' : HTTPSConnectionPool(host='en.wikipedia.org', port=443): Max retries exceeded with url: /w/api.php?format=json&redirects=1&action=query&prop=info&titles=Equilibrium+chemistry&inprop=protection%7Ctalkid%7Cwatched%7Cwatchers%7Cvisitingwatchers%7Cnotificationtimestamp%7Csubjectid%7Curl%7Creadable%7Cpreload%7Cdisplaytitle%7Cvarianttitles (Caused by NewConnectionError('<urllib3.connection.HTTPSConnection object at 0x744178aaae10>: Failed to establish a new connection: [Errno 101] Network is unreachable'))\n",
      "[Erreur] Impossible de charger la page 'Ethenium' : HTTPSConnectionPool(host='en.wikipedia.org', port=443): Max retries exceeded with url: /w/api.php?format=json&redirects=1&action=query&prop=info&titles=Ethenium&inprop=protection%7Ctalkid%7Cwatched%7Cwatchers%7Cvisitingwatchers%7Cnotificationtimestamp%7Csubjectid%7Curl%7Creadable%7Cpreload%7Cdisplaytitle%7Cvarianttitles (Caused by NewConnectionError('<urllib3.connection.HTTPSConnection object at 0x744178aa8590>: Failed to establish a new connection: [Errno 101] Network is unreachable'))\n",
      "[Erreur] Impossible de charger la page 'Evaporation suppressing monolayers' : HTTPSConnectionPool(host='en.wikipedia.org', port=443): Max retries exceeded with url: /w/api.php?format=json&redirects=1&action=query&prop=info&titles=Evaporation+suppressing+monolayers&inprop=protection%7Ctalkid%7Cwatched%7Cwatchers%7Cvisitingwatchers%7Cnotificationtimestamp%7Csubjectid%7Curl%7Creadable%7Cpreload%7Cdisplaytitle%7Cvarianttitles (Caused by NewConnectionError('<urllib3.connection.HTTPSConnection object at 0x744178aaafc0>: Failed to establish a new connection: [Errno 101] Network is unreachable'))\n",
      "[Erreur] Impossible de charger la page 'Explosive boiling' : HTTPSConnectionPool(host='en.wikipedia.org', port=443): Max retries exceeded with url: /w/api.php?format=json&redirects=1&action=query&prop=info&titles=Explosive+boiling&inprop=protection%7Ctalkid%7Cwatched%7Cwatchers%7Cvisitingwatchers%7Cnotificationtimestamp%7Csubjectid%7Curl%7Creadable%7Cpreload%7Cdisplaytitle%7Cvarianttitles (Caused by NewConnectionError('<urllib3.connection.HTTPSConnection object at 0x744178a4e3f0>: Failed to establish a new connection: [Errno 101] Network is unreachable'))\n",
      "[Erreur] Impossible de charger la page 'Extent of reaction' : HTTPSConnectionPool(host='en.wikipedia.org', port=443): Max retries exceeded with url: /w/api.php?format=json&redirects=1&action=query&prop=info&titles=Extent+of+reaction&inprop=protection%7Ctalkid%7Cwatched%7Cwatchers%7Cvisitingwatchers%7Cnotificationtimestamp%7Csubjectid%7Curl%7Creadable%7Cpreload%7Cdisplaytitle%7Cvarianttitles (Caused by NewConnectionError('<urllib3.connection.HTTPSConnection object at 0x744178a4d700>: Failed to establish a new connection: [Errno 101] Network is unreachable'))\n",
      "[Erreur] Impossible de charger la page 'Eyring equation' : HTTPSConnectionPool(host='en.wikipedia.org', port=443): Max retries exceeded with url: /w/api.php?format=json&redirects=1&action=query&prop=info&titles=Eyring+equation&inprop=protection%7Ctalkid%7Cwatched%7Cwatchers%7Cvisitingwatchers%7Cnotificationtimestamp%7Csubjectid%7Curl%7Creadable%7Cpreload%7Cdisplaytitle%7Cvarianttitles (Caused by NewConnectionError('<urllib3.connection.HTTPSConnection object at 0x744178a4ce30>: Failed to establish a new connection: [Errno 101] Network is unreachable'))\n",
      "[Erreur] Impossible de charger la page 'Femtochemistry' : HTTPSConnectionPool(host='en.wikipedia.org', port=443): Max retries exceeded with url: /w/api.php?format=json&redirects=1&action=query&prop=info&titles=Femtochemistry&inprop=protection%7Ctalkid%7Cwatched%7Cwatchers%7Cvisitingwatchers%7Cnotificationtimestamp%7Csubjectid%7Curl%7Creadable%7Cpreload%7Cdisplaytitle%7Cvarianttitles (Caused by NewConnectionError('<urllib3.connection.HTTPSConnection object at 0x744178a4de20>: Failed to establish a new connection: [Errno 101] Network is unreachable'))\n",
      "[Erreur] Impossible de charger la page 'Fick's laws of diffusion' : HTTPSConnectionPool(host='en.wikipedia.org', port=443): Max retries exceeded with url: /w/api.php?format=json&redirects=1&action=query&prop=info&titles=Fick%27s+laws+of+diffusion&inprop=protection%7Ctalkid%7Cwatched%7Cwatchers%7Cvisitingwatchers%7Cnotificationtimestamp%7Csubjectid%7Curl%7Creadable%7Cpreload%7Cdisplaytitle%7Cvarianttitles (Caused by NewConnectionError('<urllib3.connection.HTTPSConnection object at 0x744178a4dbb0>: Failed to establish a new connection: [Errno 101] Network is unreachable'))\n",
      "[Erreur] Impossible de charger la page 'Field effect (chemistry)' : HTTPSConnectionPool(host='en.wikipedia.org', port=443): Max retries exceeded with url: /w/api.php?format=json&redirects=1&action=query&prop=info&titles=Field+effect+%28chemistry%29&inprop=protection%7Ctalkid%7Cwatched%7Cwatchers%7Cvisitingwatchers%7Cnotificationtimestamp%7Csubjectid%7Curl%7Creadable%7Cpreload%7Cdisplaytitle%7Cvarianttitles (Caused by NewConnectionError('<urllib3.connection.HTTPSConnection object at 0x744178aa84d0>: Failed to establish a new connection: [Errno 101] Network is unreachable'))\n",
      "[Erreur] Impossible de charger la page 'Fiveling' : HTTPSConnectionPool(host='en.wikipedia.org', port=443): Max retries exceeded with url: /w/api.php?format=json&redirects=1&action=query&prop=info&titles=Fiveling&inprop=protection%7Ctalkid%7Cwatched%7Cwatchers%7Cvisitingwatchers%7Cnotificationtimestamp%7Csubjectid%7Curl%7Creadable%7Cpreload%7Cdisplaytitle%7Cvarianttitles (Caused by NewConnectionError('<urllib3.connection.HTTPSConnection object at 0x744178aab7a0>: Failed to establish a new connection: [Errno 101] Network is unreachable'))\n",
      "[Erreur] Impossible de charger la page 'Fluorescence correlation spectroscopy' : HTTPSConnectionPool(host='en.wikipedia.org', port=443): Max retries exceeded with url: /w/api.php?format=json&redirects=1&action=query&prop=info&titles=Fluorescence+correlation+spectroscopy&inprop=protection%7Ctalkid%7Cwatched%7Cwatchers%7Cvisitingwatchers%7Cnotificationtimestamp%7Csubjectid%7Curl%7Creadable%7Cpreload%7Cdisplaytitle%7Cvarianttitles (Caused by NewConnectionError('<urllib3.connection.HTTPSConnection object at 0x744178aa9ee0>: Failed to establish a new connection: [Errno 101] Network is unreachable'))\n",
      "[Erreur] Impossible de charger la page 'Fluorescence cross-correlation spectroscopy' : HTTPSConnectionPool(host='en.wikipedia.org', port=443): Max retries exceeded with url: /w/api.php?format=json&redirects=1&action=query&prop=info&titles=Fluorescence+cross-correlation+spectroscopy&inprop=protection%7Ctalkid%7Cwatched%7Cwatchers%7Cvisitingwatchers%7Cnotificationtimestamp%7Csubjectid%7Curl%7Creadable%7Cpreload%7Cdisplaytitle%7Cvarianttitles (Caused by NewConnectionError('<urllib3.connection.HTTPSConnection object at 0x744198d22a80>: Failed to establish a new connection: [Errno 101] Network is unreachable'))\n",
      "[Erreur] Impossible de charger la page 'Food physical chemistry' : HTTPSConnectionPool(host='en.wikipedia.org', port=443): Max retries exceeded with url: /w/api.php?format=json&redirects=1&action=query&prop=info&titles=Food+physical+chemistry&inprop=protection%7Ctalkid%7Cwatched%7Cwatchers%7Cvisitingwatchers%7Cnotificationtimestamp%7Csubjectid%7Curl%7Creadable%7Cpreload%7Cdisplaytitle%7Cvarianttitles (Caused by NewConnectionError('<urllib3.connection.HTTPSConnection object at 0x744178aed310>: Failed to establish a new connection: [Errno 101] Network is unreachable'))\n",
      "[Erreur] Impossible de charger la page 'Frequency domain sensor' : HTTPSConnectionPool(host='en.wikipedia.org', port=443): Max retries exceeded with url: /w/api.php?format=json&redirects=1&action=query&prop=info&titles=Frequency+domain+sensor&inprop=protection%7Ctalkid%7Cwatched%7Cwatchers%7Cvisitingwatchers%7Cnotificationtimestamp%7Csubjectid%7Curl%7Creadable%7Cpreload%7Cdisplaytitle%7Cvarianttitles (Caused by NewConnectionError('<urllib3.connection.HTTPSConnection object at 0x744178aeddf0>: Failed to establish a new connection: [Errno 101] Network is unreachable'))\n",
      "[Erreur] Impossible de charger la page 'Frigorific mixture' : HTTPSConnectionPool(host='en.wikipedia.org', port=443): Max retries exceeded with url: /w/api.php?format=json&redirects=1&action=query&prop=info&titles=Frigorific+mixture&inprop=protection%7Ctalkid%7Cwatched%7Cwatchers%7Cvisitingwatchers%7Cnotificationtimestamp%7Csubjectid%7Curl%7Creadable%7Cpreload%7Cdisplaytitle%7Cvarianttitles (Caused by NewConnectionError('<urllib3.connection.HTTPSConnection object at 0x744198d273b0>: Failed to establish a new connection: [Errno 101] Network is unreachable'))\n",
      "[Erreur] Impossible de charger la page 'Fugacity' : HTTPSConnectionPool(host='en.wikipedia.org', port=443): Max retries exceeded with url: /w/api.php?format=json&redirects=1&action=query&prop=info&titles=Fugacity&inprop=protection%7Ctalkid%7Cwatched%7Cwatchers%7Cvisitingwatchers%7Cnotificationtimestamp%7Csubjectid%7Curl%7Creadable%7Cpreload%7Cdisplaytitle%7Cvarianttitles (Caused by NewConnectionError('<urllib3.connection.HTTPSConnection object at 0x744178a4ddf0>: Failed to establish a new connection: [Errno 101] Network is unreachable'))\n",
      "[Erreur] Impossible de charger la page 'Gel' : HTTPSConnectionPool(host='en.wikipedia.org', port=443): Max retries exceeded with url: /w/api.php?format=json&redirects=1&action=query&prop=info&titles=Gel&inprop=protection%7Ctalkid%7Cwatched%7Cwatchers%7Cvisitingwatchers%7Cnotificationtimestamp%7Csubjectid%7Curl%7Creadable%7Cpreload%7Cdisplaytitle%7Cvarianttitles (Caused by NewConnectionError('<urllib3.connection.HTTPSConnection object at 0x744178a4e240>: Failed to establish a new connection: [Errno 101] Network is unreachable'))\n",
      "[Erreur] Impossible de charger la page 'Gelation' : HTTPSConnectionPool(host='en.wikipedia.org', port=443): Max retries exceeded with url: /w/api.php?format=json&redirects=1&action=query&prop=info&titles=Gelation&inprop=protection%7Ctalkid%7Cwatched%7Cwatchers%7Cvisitingwatchers%7Cnotificationtimestamp%7Csubjectid%7Curl%7Creadable%7Cpreload%7Cdisplaytitle%7Cvarianttitles (Caused by NewConnectionError('<urllib3.connection.HTTPSConnection object at 0x744198d25970>: Failed to establish a new connection: [Errno 101] Network is unreachable'))\n",
      "[Erreur] Impossible de charger la page 'William Gelbart' : HTTPSConnectionPool(host='en.wikipedia.org', port=443): Max retries exceeded with url: /w/api.php?format=json&redirects=1&action=query&prop=info&titles=William+Gelbart&inprop=protection%7Ctalkid%7Cwatched%7Cwatchers%7Cvisitingwatchers%7Cnotificationtimestamp%7Csubjectid%7Curl%7Creadable%7Cpreload%7Cdisplaytitle%7Cvarianttitles (Caused by NewConnectionError('<urllib3.connection.HTTPSConnection object at 0x744178aed580>: Failed to establish a new connection: [Errno 101] Network is unreachable'))\n",
      "[Erreur] Impossible de charger la page 'Gibbs–Donnan effect' : HTTPSConnectionPool(host='en.wikipedia.org', port=443): Max retries exceeded with url: /w/api.php?format=json&redirects=1&action=query&prop=info&titles=Gibbs%E2%80%93Donnan+effect&inprop=protection%7Ctalkid%7Cwatched%7Cwatchers%7Cvisitingwatchers%7Cnotificationtimestamp%7Csubjectid%7Curl%7Creadable%7Cpreload%7Cdisplaytitle%7Cvarianttitles (Caused by NewConnectionError('<urllib3.connection.HTTPSConnection object at 0x744198d205f0>: Failed to establish a new connection: [Errno 101] Network is unreachable'))\n"
     ]
    },
    {
     "data": {
      "application/vnd.jupyter.widget-view+json": {
       "model_id": "386a190f4a2648c4ace036cab0e63311",
       "version_major": 2,
       "version_minor": 0
      },
      "text/plain": [
       "Pages in Chemical physics:   0%|          | 0/36 [00:00<?, ?page/s]"
      ]
     },
     "metadata": {},
     "output_type": "display_data"
    },
    {
     "name": "stdout",
     "output_type": "stream",
     "text": [
      "[Erreur] Impossible de charger la page 'Chemical physics' : HTTPSConnectionPool(host='en.wikipedia.org', port=443): Max retries exceeded with url: /w/api.php?format=json&redirects=1&action=query&prop=info&titles=Chemical+physics&inprop=protection%7Ctalkid%7Cwatched%7Cwatchers%7Cvisitingwatchers%7Cnotificationtimestamp%7Csubjectid%7Curl%7Creadable%7Cpreload%7Cdisplaytitle%7Cvarianttitles (Caused by NewConnectionError('<urllib3.connection.HTTPSConnection object at 0x744178aab650>: Failed to establish a new connection: [Errno 101] Network is unreachable'))\n",
      "[Erreur] Impossible de charger la page 'Computational chemistry' : HTTPSConnectionPool(host='en.wikipedia.org', port=443): Max retries exceeded with url: /w/api.php?format=json&redirects=1&action=query&prop=info&titles=Computational+chemistry&inprop=protection%7Ctalkid%7Cwatched%7Cwatchers%7Cvisitingwatchers%7Cnotificationtimestamp%7Csubjectid%7Curl%7Creadable%7Cpreload%7Cdisplaytitle%7Cvarianttitles (Caused by NewConnectionError('<urllib3.connection.HTTPSConnection object at 0x744178aabe30>: Failed to establish a new connection: [Errno 101] Network is unreachable'))\n",
      "[Erreur] Impossible de charger la page 'Dalian Institute of Chemical Physics' : HTTPSConnectionPool(host='en.wikipedia.org', port=443): Max retries exceeded with url: /w/api.php?format=json&redirects=1&action=query&prop=info&titles=Dalian+Institute+of+Chemical+Physics&inprop=protection%7Ctalkid%7Cwatched%7Cwatchers%7Cvisitingwatchers%7Cnotificationtimestamp%7Csubjectid%7Curl%7Creadable%7Cpreload%7Cdisplaytitle%7Cvarianttitles (Caused by NewConnectionError('<urllib3.connection.HTTPSConnection object at 0x744178aaa1b0>: Failed to establish a new connection: [Errno 101] Network is unreachable'))\n",
      "[Erreur] Impossible de charger la page 'Dissociative adsorption' : HTTPSConnectionPool(host='en.wikipedia.org', port=443): Max retries exceeded with url: /w/api.php?format=json&redirects=1&action=query&prop=info&titles=Dissociative+adsorption&inprop=protection%7Ctalkid%7Cwatched%7Cwatchers%7Cvisitingwatchers%7Cnotificationtimestamp%7Csubjectid%7Curl%7Creadable%7Cpreload%7Cdisplaytitle%7Cvarianttitles (Caused by NewConnectionError('<urllib3.connection.HTTPSConnection object at 0x744178a4d9a0>: Failed to establish a new connection: [Errno 101] Network is unreachable'))\n",
      "[Erreur] Impossible de charger la page 'Dynamic nuclear polarization' : HTTPSConnectionPool(host='en.wikipedia.org', port=443): Max retries exceeded with url: /w/api.php?format=json&redirects=1&action=query&prop=info&titles=Dynamic+nuclear+polarization&inprop=protection%7Ctalkid%7Cwatched%7Cwatchers%7Cvisitingwatchers%7Cnotificationtimestamp%7Csubjectid%7Curl%7Creadable%7Cpreload%7Cdisplaytitle%7Cvarianttitles (Caused by NewConnectionError('<urllib3.connection.HTTPSConnection object at 0x744178aaafc0>: Failed to establish a new connection: [Errno 101] Network is unreachable'))\n",
      "[Erreur] Impossible de charger la page 'Effective field theory' : HTTPSConnectionPool(host='en.wikipedia.org', port=443): Max retries exceeded with url: /w/api.php?format=json&redirects=1&action=query&prop=info&titles=Effective+field+theory&inprop=protection%7Ctalkid%7Cwatched%7Cwatchers%7Cvisitingwatchers%7Cnotificationtimestamp%7Csubjectid%7Curl%7Creadable%7Cpreload%7Cdisplaytitle%7Cvarianttitles (Caused by NewConnectionError('<urllib3.connection.HTTPSConnection object at 0x744178aab650>: Failed to establish a new connection: [Errno 101] Network is unreachable'))\n",
      "[Erreur] Impossible de charger la page 'Electromagnetic absorption by water' : HTTPSConnectionPool(host='en.wikipedia.org', port=443): Max retries exceeded with url: /w/api.php?format=json&redirects=1&action=query&prop=info&titles=Electromagnetic+absorption+by+water&inprop=protection%7Ctalkid%7Cwatched%7Cwatchers%7Cvisitingwatchers%7Cnotificationtimestamp%7Csubjectid%7Curl%7Creadable%7Cpreload%7Cdisplaytitle%7Cvarianttitles (Caused by NewConnectionError('<urllib3.connection.HTTPSConnection object at 0x744198d21190>: Failed to establish a new connection: [Errno 101] Network is unreachable'))\n",
      "[Erreur] Impossible de charger la page 'Electrostatic deflection (structural element)' : HTTPSConnectionPool(host='en.wikipedia.org', port=443): Max retries exceeded with url: /w/api.php?format=json&redirects=1&action=query&prop=info&titles=Electrostatic+deflection+%28structural+element%29&inprop=protection%7Ctalkid%7Cwatched%7Cwatchers%7Cvisitingwatchers%7Cnotificationtimestamp%7Csubjectid%7Curl%7Creadable%7Cpreload%7Cdisplaytitle%7Cvarianttitles (Caused by NewConnectionError('<urllib3.connection.HTTPSConnection object at 0x7441738cfc80>: Failed to establish a new connection: [Errno 101] Network is unreachable'))\n",
      "[Erreur] Impossible de charger la page 'Extended Wulff constructions' : HTTPSConnectionPool(host='en.wikipedia.org', port=443): Max retries exceeded with url: /w/api.php?format=json&redirects=1&action=query&prop=info&titles=Extended+Wulff+constructions&inprop=protection%7Ctalkid%7Cwatched%7Cwatchers%7Cvisitingwatchers%7Cnotificationtimestamp%7Csubjectid%7Curl%7Creadable%7Cpreload%7Cdisplaytitle%7Cvarianttitles (Caused by NewConnectionError('<urllib3.connection.HTTPSConnection object at 0x744178aee5a0>: Failed to establish a new connection: [Errno 101] Network is unreachable'))\n",
      "[Erreur] Impossible de charger la page 'Fiveling' : HTTPSConnectionPool(host='en.wikipedia.org', port=443): Max retries exceeded with url: /w/api.php?format=json&redirects=1&action=query&prop=info&titles=Fiveling&inprop=protection%7Ctalkid%7Cwatched%7Cwatchers%7Cvisitingwatchers%7Cnotificationtimestamp%7Csubjectid%7Curl%7Creadable%7Cpreload%7Cdisplaytitle%7Cvarianttitles (Caused by NewConnectionError('<urllib3.connection.HTTPSConnection object at 0x744198d25cd0>: Failed to establish a new connection: [Errno 101] Network is unreachable'))\n",
      "[Erreur] Impossible de charger la page 'Fuel mass fraction' : HTTPSConnectionPool(host='en.wikipedia.org', port=443): Max retries exceeded with url: /w/api.php?format=json&redirects=1&action=query&prop=info&titles=Fuel+mass+fraction&inprop=protection%7Ctalkid%7Cwatched%7Cwatchers%7Cvisitingwatchers%7Cnotificationtimestamp%7Csubjectid%7Curl%7Creadable%7Cpreload%7Cdisplaytitle%7Cvarianttitles (Caused by NewConnectionError('<urllib3.connection.HTTPSConnection object at 0x744178aee9c0>: Failed to establish a new connection: [Errno 101] Network is unreachable'))\n",
      "[Erreur] Impossible de charger la page 'High-entropy alloy' : HTTPSConnectionPool(host='en.wikipedia.org', port=443): Max retries exceeded with url: /w/api.php?format=json&redirects=1&action=query&prop=info&titles=High-entropy+alloy&inprop=protection%7Ctalkid%7Cwatched%7Cwatchers%7Cvisitingwatchers%7Cnotificationtimestamp%7Csubjectid%7Curl%7Creadable%7Cpreload%7Cdisplaytitle%7Cvarianttitles (Caused by NewConnectionError('<urllib3.connection.HTTPSConnection object at 0x744178a4ddf0>: Failed to establish a new connection: [Errno 101] Network is unreachable'))\n"
     ]
    },
    {
     "data": {
      "application/vnd.jupyter.widget-view+json": {
       "model_id": "13f6dcf9bca24cb68ab77cb6ae633844",
       "version_major": 2,
       "version_minor": 0
      },
      "text/plain": [
       "Pages in Cryogenics:   0%|          | 0/67 [00:00<?, ?page/s]"
      ]
     },
     "metadata": {},
     "output_type": "display_data"
    },
    {
     "data": {
      "application/vnd.jupyter.widget-view+json": {
       "model_id": "ae5f012d704542a8897e3e6438dcf331",
       "version_major": 2,
       "version_minor": 0
      },
      "text/plain": [
       "Pages in Physics education:   0%|          | 0/64 [00:00<?, ?page/s]"
      ]
     },
     "metadata": {},
     "output_type": "display_data"
    },
    {
     "data": {
      "application/vnd.jupyter.widget-view+json": {
       "model_id": "1dc0da3635b14e879715a6407e414d5e",
       "version_major": 2,
       "version_minor": 0
      },
      "text/plain": [
       "Pages in Geophysics:   0%|          | 0/100 [00:00<?, ?page/s]"
      ]
     },
     "metadata": {},
     "output_type": "display_data"
    },
    {
     "data": {
      "application/vnd.jupyter.widget-view+json": {
       "model_id": "931f04f2825e4e579364b0342c521f8d",
       "version_major": 2,
       "version_minor": 0
      },
      "text/plain": [
       "Pages in Astrophysics:   0%|          | 0/100 [00:00<?, ?page/s]"
      ]
     },
     "metadata": {},
     "output_type": "display_data"
    },
    {
     "data": {
      "application/vnd.jupyter.widget-view+json": {
       "model_id": "30c3c57806334c37be6633325e6c89a4",
       "version_major": 2,
       "version_minor": 0
      },
      "text/plain": [
       "Categories (flat):   0%|          | 0/10 [00:00<?, ?cat/s]"
      ]
     },
     "metadata": {},
     "output_type": "display_data"
    },
    {
     "data": {
      "application/vnd.jupyter.widget-view+json": {
       "model_id": "e405be45663845978324c49e826ae1cc",
       "version_major": 2,
       "version_minor": 0
      },
      "text/plain": [
       "Pages in Asteroseismology:   0%|          | 0/6 [00:00<?, ?page/s]"
      ]
     },
     "metadata": {},
     "output_type": "display_data"
    },
    {
     "data": {
      "application/vnd.jupyter.widget-view+json": {
       "model_id": "03a351157cdd472fbdc8033176cff891",
       "version_major": 2,
       "version_minor": 0
      },
      "text/plain": [
       "Pages in Astronomical spectroscopy:   0%|          | 0/33 [00:00<?, ?page/s]"
      ]
     },
     "metadata": {},
     "output_type": "display_data"
    },
    {
     "data": {
      "application/vnd.jupyter.widget-view+json": {
       "model_id": "5047a132efcb4ce58d2d563e2f41b126",
       "version_major": 2,
       "version_minor": 0
      },
      "text/plain": [
       "Pages in Astroparticle physics:   0%|          | 0/30 [00:00<?, ?page/s]"
      ]
     },
     "metadata": {},
     "output_type": "display_data"
    },
    {
     "data": {
      "application/vnd.jupyter.widget-view+json": {
       "model_id": "85ff215233ec49039153f892f0c24e28",
       "version_major": 2,
       "version_minor": 0
      },
      "text/plain": [
       "Pages in Astrophysicists:   0%|          | 0/29 [00:00<?, ?page/s]"
      ]
     },
     "metadata": {},
     "output_type": "display_data"
    },
    {
     "data": {
      "application/vnd.jupyter.widget-view+json": {
       "model_id": "b6d8520f54e54499bcbcb3cb812a4ef3",
       "version_major": 2,
       "version_minor": 0
      },
      "text/plain": [
       "Pages in Astrophysics journals:   0%|          | 0/18 [00:00<?, ?page/s]"
      ]
     },
     "metadata": {},
     "output_type": "display_data"
    },
    {
     "data": {
      "application/vnd.jupyter.widget-view+json": {
       "model_id": "61aad0200cd646588450ef8e89674226",
       "version_major": 2,
       "version_minor": 0
      },
      "text/plain": [
       "Pages in Astrophysics theories:   0%|          | 0/5 [00:00<?, ?page/s]"
      ]
     },
     "metadata": {},
     "output_type": "display_data"
    },
    {
     "data": {
      "application/vnd.jupyter.widget-view+json": {
       "model_id": "cdf1c9408db04bc4954f38fb6e463f66",
       "version_major": 2,
       "version_minor": 0
      },
      "text/plain": [
       "Pages in Black holes:   0%|          | 0/100 [00:00<?, ?page/s]"
      ]
     },
     "metadata": {},
     "output_type": "display_data"
    },
    {
     "data": {
      "application/vnd.jupyter.widget-view+json": {
       "model_id": "081483e04bb8475891d2960a58356c15",
       "version_major": 2,
       "version_minor": 0
      },
      "text/plain": [
       "Pages in Celestial mechanics:   0%|          | 0/47 [00:00<?, ?page/s]"
      ]
     },
     "metadata": {},
     "output_type": "display_data"
    },
    {
     "data": {
      "application/vnd.jupyter.widget-view+json": {
       "model_id": "37370dfb4a06482586ef4220ed843c7d",
       "version_major": 2,
       "version_minor": 0
      },
      "text/plain": [
       "Pages in Concepts in astrophysics:   0%|          | 0/54 [00:00<?, ?page/s]"
      ]
     },
     "metadata": {},
     "output_type": "display_data"
    },
    {
     "data": {
      "application/vnd.jupyter.widget-view+json": {
       "model_id": "1f01676f10ae4ec785ac6b70d6cab89e",
       "version_major": 2,
       "version_minor": 0
      },
      "text/plain": [
       "Pages in Cosmic rays:   0%|          | 0/26 [00:00<?, ?page/s]"
      ]
     },
     "metadata": {},
     "output_type": "display_data"
    },
    {
     "data": {
      "application/vnd.jupyter.widget-view+json": {
       "model_id": "a710d3e84fea44079ea87578f9e2fc17",
       "version_major": 2,
       "version_minor": 0
      },
      "text/plain": [
       "Pages in Atomic, molecular, and optical physics:   0%|          | 0/46 [00:00<?, ?page/s]"
      ]
     },
     "metadata": {},
     "output_type": "display_data"
    },
    {
     "data": {
      "application/vnd.jupyter.widget-view+json": {
       "model_id": "a7dcdfb500714dd8a99708437214c05b",
       "version_major": 2,
       "version_minor": 0
      },
      "text/plain": [
       "Categories (flat):   0%|          | 0/5 [00:00<?, ?cat/s]"
      ]
     },
     "metadata": {},
     "output_type": "display_data"
    },
    {
     "data": {
      "application/vnd.jupyter.widget-view+json": {
       "model_id": "3daa10932fb340b8bd6baea2a3671684",
       "version_major": 2,
       "version_minor": 0
      },
      "text/plain": [
       "Pages in Atomic physics:   0%|          | 0/100 [00:00<?, ?page/s]"
      ]
     },
     "metadata": {},
     "output_type": "display_data"
    },
    {
     "data": {
      "application/vnd.jupyter.widget-view+json": {
       "model_id": "33795ce4e66446d7834f0b16a1e5ab3d",
       "version_major": 2,
       "version_minor": 0
      },
      "text/plain": [
       "Pages in Molecular physics:   0%|          | 0/79 [00:00<?, ?page/s]"
      ]
     },
     "metadata": {},
     "output_type": "display_data"
    },
    {
     "data": {
      "application/vnd.jupyter.widget-view+json": {
       "model_id": "e0b08ac257aa4129a5047baa5630eebb",
       "version_major": 2,
       "version_minor": 0
      },
      "text/plain": [
       "Pages in Optics:   0%|          | 0/100 [00:00<?, ?page/s]"
      ]
     },
     "metadata": {},
     "output_type": "display_data"
    },
    {
     "data": {
      "application/vnd.jupyter.widget-view+json": {
       "model_id": "79d70c85a4da4ba5b152e379c8c45db9",
       "version_major": 2,
       "version_minor": 0
      },
      "text/plain": [
       "Pages in Quantum chemistry:   0%|          | 0/100 [00:00<?, ?page/s]"
      ]
     },
     "metadata": {},
     "output_type": "display_data"
    },
    {
     "data": {
      "application/vnd.jupyter.widget-view+json": {
       "model_id": "2dbf02c46af7498680fe7a9666837a46",
       "version_major": 2,
       "version_minor": 0
      },
      "text/plain": [
       "Pages in Atomic, molecular, and optical physics stubs:   0%|          | 0/33 [00:00<?, ?page/s]"
      ]
     },
     "metadata": {},
     "output_type": "display_data"
    },
    {
     "data": {
      "application/vnd.jupyter.widget-view+json": {
       "model_id": "c175545823fa4498a069ff84f111459c",
       "version_major": 2,
       "version_minor": 0
      },
      "text/plain": [
       "Pages in Classical mechanics:   0%|          | 0/100 [00:00<?, ?page/s]"
      ]
     },
     "metadata": {},
     "output_type": "display_data"
    },
    {
     "data": {
      "application/vnd.jupyter.widget-view+json": {
       "model_id": "778e86683242477688a3edd83feb2204",
       "version_major": 2,
       "version_minor": 0
      },
      "text/plain": [
       "Categories (flat):   0%|          | 0/10 [00:00<?, ?cat/s]"
      ]
     },
     "metadata": {},
     "output_type": "display_data"
    },
    {
     "data": {
      "application/vnd.jupyter.widget-view+json": {
       "model_id": "27db60682e8a45b5a4458ae60bb501e3",
       "version_major": 2,
       "version_minor": 0
      },
      "text/plain": [
       "Pages in Acoustics:   0%|          | 0/100 [00:00<?, ?page/s]"
      ]
     },
     "metadata": {},
     "output_type": "display_data"
    },
    {
     "data": {
      "application/vnd.jupyter.widget-view+json": {
       "model_id": "3e1b7d3494484502845db3778ee18623",
       "version_major": 2,
       "version_minor": 0
      },
      "text/plain": [
       "Pages in Celestial mechanics:   0%|          | 0/47 [00:00<?, ?page/s]"
      ]
     },
     "metadata": {},
     "output_type": "display_data"
    },
    {
     "data": {
      "application/vnd.jupyter.widget-view+json": {
       "model_id": "f0a4f590c9094e89b2273c7babce9951",
       "version_major": 2,
       "version_minor": 0
      },
      "text/plain": [
       "Pages in Continuum mechanics:   0%|          | 0/100 [00:00<?, ?page/s]"
      ]
     },
     "metadata": {},
     "output_type": "display_data"
    },
    {
     "data": {
      "application/vnd.jupyter.widget-view+json": {
       "model_id": "bdb4140b4661423ab1940c357bfb61ac",
       "version_major": 2,
       "version_minor": 0
      },
      "text/plain": [
       "Pages in Dynamics (mechanics):   0%|          | 0/37 [00:00<?, ?page/s]"
      ]
     },
     "metadata": {},
     "output_type": "display_data"
    },
    {
     "data": {
      "application/vnd.jupyter.widget-view+json": {
       "model_id": "30632390a5624d2786aca5d57cf2474a",
       "version_major": 2,
       "version_minor": 0
      },
      "text/plain": [
       "Pages in Force:   0%|          | 0/69 [00:00<?, ?page/s]"
      ]
     },
     "metadata": {},
     "output_type": "display_data"
    },
    {
     "data": {
      "application/vnd.jupyter.widget-view+json": {
       "model_id": "87f36574d90a4005910147611f23e04a",
       "version_major": 2,
       "version_minor": 0
      },
      "text/plain": [
       "Pages in Frames of reference:   0%|          | 0/17 [00:00<?, ?page/s]"
      ]
     },
     "metadata": {},
     "output_type": "display_data"
    },
    {
     "data": {
      "application/vnd.jupyter.widget-view+json": {
       "model_id": "a2a8e34888c9487c85597724c21b86d7",
       "version_major": 2,
       "version_minor": 0
      },
      "text/plain": [
       "Pages in Hamiltonian mechanics:   0%|          | 0/53 [00:00<?, ?page/s]"
      ]
     },
     "metadata": {},
     "output_type": "display_data"
    },
    {
     "data": {
      "application/vnd.jupyter.widget-view+json": {
       "model_id": "8f824e18649f4e009a16e08a523f4055",
       "version_major": 2,
       "version_minor": 0
      },
      "text/plain": [
       "Pages in Kinematics:   0%|          | 0/38 [00:00<?, ?page/s]"
      ]
     },
     "metadata": {},
     "output_type": "display_data"
    },
    {
     "data": {
      "application/vnd.jupyter.widget-view+json": {
       "model_id": "6ae7a37918ed43acadfbf18cd301e9e2",
       "version_major": 2,
       "version_minor": 0
      },
      "text/plain": [
       "Pages in Lagrangian mechanics:   0%|          | 0/37 [00:00<?, ?page/s]"
      ]
     },
     "metadata": {},
     "output_type": "display_data"
    },
    {
     "data": {
      "application/vnd.jupyter.widget-view+json": {
       "model_id": "7739da0ee13740b7a3aa9ce08756cf3a",
       "version_major": 2,
       "version_minor": 0
      },
      "text/plain": [
       "Pages in Rotation:   0%|          | 0/76 [00:00<?, ?page/s]"
      ]
     },
     "metadata": {},
     "output_type": "display_data"
    },
    {
     "data": {
      "application/vnd.jupyter.widget-view+json": {
       "model_id": "ab4c4825677c4717b03303179fbd3c17",
       "version_major": 2,
       "version_minor": 0
      },
      "text/plain": [
       "Pages in Computational physics:   0%|          | 0/100 [00:00<?, ?page/s]"
      ]
     },
     "metadata": {},
     "output_type": "display_data"
    },
    {
     "data": {
      "application/vnd.jupyter.widget-view+json": {
       "model_id": "83b6228a660f4dc4a8b3756889247d45",
       "version_major": 2,
       "version_minor": 0
      },
      "text/plain": [
       "Categories (flat):   0%|          | 0/10 [00:00<?, ?cat/s]"
      ]
     },
     "metadata": {},
     "output_type": "display_data"
    },
    {
     "data": {
      "application/vnd.jupyter.widget-view+json": {
       "model_id": "dff6be2b7e2f498aaf6f9ae89f9414f3",
       "version_major": 2,
       "version_minor": 0
      },
      "text/plain": [
       "Pages in Computational electromagnetics:   0%|          | 0/33 [00:00<?, ?page/s]"
      ]
     },
     "metadata": {},
     "output_type": "display_data"
    },
    {
     "data": {
      "application/vnd.jupyter.widget-view+json": {
       "model_id": "554ca2cbcdb542f88d9bb8aeb4b2dfc5",
       "version_major": 2,
       "version_minor": 0
      },
      "text/plain": [
       "Pages in Computational fluid dynamics:   0%|          | 0/100 [00:00<?, ?page/s]"
      ]
     },
     "metadata": {},
     "output_type": "display_data"
    },
    {
     "name": "stdout",
     "output_type": "stream",
     "text": [
      "[Erreur] Impossible de charger la page 'OpenFOAM' : HTTPSConnectionPool(host='en.wikipedia.org', port=443): Read timed out. (read timeout=10.0)\n",
      "[Erreur] Impossible de charger la page 'OpenLB' : HTTPSConnectionPool(host='en.wikipedia.org', port=443): Max retries exceeded with url: /w/api.php?format=json&redirects=1&action=query&prop=info&titles=OpenLB&inprop=protection%7Ctalkid%7Cwatched%7Cwatchers%7Cvisitingwatchers%7Cnotificationtimestamp%7Csubjectid%7Curl%7Creadable%7Cpreload%7Cdisplaytitle%7Cvarianttitles (Caused by NewConnectionError('<urllib3.connection.HTTPSConnection object at 0x744178bceba0>: Failed to establish a new connection: [Errno 101] Network is unreachable'))\n",
      "[Erreur] Impossible de charger la page 'OpenVSP' : HTTPSConnectionPool(host='en.wikipedia.org', port=443): Max retries exceeded with url: /w/api.php?format=json&redirects=1&action=query&prop=info&titles=OpenVSP&inprop=protection%7Ctalkid%7Cwatched%7Cwatchers%7Cvisitingwatchers%7Cnotificationtimestamp%7Csubjectid%7Curl%7Creadable%7Cpreload%7Cdisplaytitle%7Cvarianttitles (Caused by NewConnectionError('<urllib3.connection.HTTPSConnection object at 0x744178bc7ad0>: Failed to establish a new connection: [Errno 101] Network is unreachable'))\n",
      "[Erreur] Impossible de charger la page 'Overflow (software)' : HTTPSConnectionPool(host='en.wikipedia.org', port=443): Max retries exceeded with url: /w/api.php?format=json&redirects=1&action=query&prop=info&titles=Overflow+%28software%29&inprop=protection%7Ctalkid%7Cwatched%7Cwatchers%7Cvisitingwatchers%7Cnotificationtimestamp%7Csubjectid%7Curl%7Creadable%7Cpreload%7Cdisplaytitle%7Cvarianttitles (Caused by NewConnectionError('<urllib3.connection.HTTPSConnection object at 0x744178bcdc10>: Failed to establish a new connection: [Errno 101] Network is unreachable'))\n",
      "[Erreur] Impossible de charger la page 'Particle method' : HTTPSConnectionPool(host='en.wikipedia.org', port=443): Max retries exceeded with url: /w/api.php?format=json&redirects=1&action=query&prop=info&titles=Particle+method&inprop=protection%7Ctalkid%7Cwatched%7Cwatchers%7Cvisitingwatchers%7Cnotificationtimestamp%7Csubjectid%7Curl%7Creadable%7Cpreload%7Cdisplaytitle%7Cvarianttitles (Caused by NewConnectionError('<urllib3.connection.HTTPSConnection object at 0x744178bce780>: Failed to establish a new connection: [Errno 101] Network is unreachable'))\n",
      "[Erreur] Impossible de charger la page 'Particle-in-cell' : HTTPSConnectionPool(host='en.wikipedia.org', port=443): Max retries exceeded with url: /w/api.php?format=json&redirects=1&action=query&prop=info&titles=Particle-in-cell&inprop=protection%7Ctalkid%7Cwatched%7Cwatchers%7Cvisitingwatchers%7Cnotificationtimestamp%7Csubjectid%7Curl%7Creadable%7Cpreload%7Cdisplaytitle%7Cvarianttitles (Caused by NewConnectionError('<urllib3.connection.HTTPSConnection object at 0x744178bce420>: Failed to establish a new connection: [Errno 101] Network is unreachable'))\n",
      "[Erreur] Impossible de charger la page 'Pencil Code' : HTTPSConnectionPool(host='en.wikipedia.org', port=443): Max retries exceeded with url: /w/api.php?format=json&redirects=1&action=query&prop=info&titles=Pencil+Code&inprop=protection%7Ctalkid%7Cwatched%7Cwatchers%7Cvisitingwatchers%7Cnotificationtimestamp%7Csubjectid%7Curl%7Creadable%7Cpreload%7Cdisplaytitle%7Cvarianttitles (Caused by NewConnectionError('<urllib3.connection.HTTPSConnection object at 0x744178a4f5f0>: Failed to establish a new connection: [Errno 101] Network is unreachable'))\n",
      "[Erreur] Impossible de charger la page 'PISO algorithm' : HTTPSConnectionPool(host='en.wikipedia.org', port=443): Max retries exceeded with url: /w/api.php?format=json&redirects=1&action=query&prop=info&titles=PISO+algorithm&inprop=protection%7Ctalkid%7Cwatched%7Cwatchers%7Cvisitingwatchers%7Cnotificationtimestamp%7Csubjectid%7Curl%7Creadable%7Cpreload%7Cdisplaytitle%7Cvarianttitles (Caused by NewConnectionError('<urllib3.connection.HTTPSConnection object at 0x744178aed6a0>: Failed to establish a new connection: [Errno 101] Network is unreachable'))\n",
      "[Erreur] Impossible de charger la page 'PLOT3D file format' : HTTPSConnectionPool(host='en.wikipedia.org', port=443): Max retries exceeded with url: /w/api.php?format=json&redirects=1&action=query&prop=info&titles=PLOT3D+file+format&inprop=protection%7Ctalkid%7Cwatched%7Cwatchers%7Cvisitingwatchers%7Cnotificationtimestamp%7Csubjectid%7Curl%7Creadable%7Cpreload%7Cdisplaytitle%7Cvarianttitles (Caused by NewConnectionError('<urllib3.connection.HTTPSConnection object at 0x744178aa96a0>: Failed to establish a new connection: [Errno 101] Network is unreachable'))\n"
     ]
    },
    {
     "data": {
      "application/vnd.jupyter.widget-view+json": {
       "model_id": "b7a243da86dc421da3b39a3685f71e57",
       "version_major": 2,
       "version_minor": 0
      },
      "text/plain": [
       "Pages in Computational particle physics:   0%|          | 0/9 [00:00<?, ?page/s]"
      ]
     },
     "metadata": {},
     "output_type": "display_data"
    },
    {
     "name": "stdout",
     "output_type": "stream",
     "text": [
      "[Erreur] Impossible de charger la page 'Computational particle physics' : HTTPSConnectionPool(host='en.wikipedia.org', port=443): Max retries exceeded with url: /w/api.php?format=json&redirects=1&action=query&prop=info&titles=Computational+particle+physics&inprop=protection%7Ctalkid%7Cwatched%7Cwatchers%7Cvisitingwatchers%7Cnotificationtimestamp%7Csubjectid%7Curl%7Creadable%7Cpreload%7Cdisplaytitle%7Cvarianttitles (Caused by NewConnectionError('<urllib3.connection.HTTPSConnection object at 0x744178a4ddf0>: Failed to establish a new connection: [Errno 101] Network is unreachable'))\n",
      "[Erreur] Impossible de charger la page 'Automatic calculation of particle interaction or decay' : HTTPSConnectionPool(host='en.wikipedia.org', port=443): Max retries exceeded with url: /w/api.php?format=json&redirects=1&action=query&prop=info&titles=Automatic+calculation+of+particle+interaction+or+decay&inprop=protection%7Ctalkid%7Cwatched%7Cwatchers%7Cvisitingwatchers%7Cnotificationtimestamp%7Csubjectid%7Curl%7Creadable%7Cpreload%7Cdisplaytitle%7Cvarianttitles (Caused by NewConnectionError('<urllib3.connection.HTTPSConnection object at 0x744178a4d280>: Failed to establish a new connection: [Errno 101] Network is unreachable'))\n",
      "[Erreur] Impossible de charger la page 'Centre for High Energy Physics' : HTTPSConnectionPool(host='en.wikipedia.org', port=443): Max retries exceeded with url: /w/api.php?format=json&redirects=1&action=query&prop=info&titles=Centre+for+High+Energy+Physics&inprop=protection%7Ctalkid%7Cwatched%7Cwatchers%7Cvisitingwatchers%7Cnotificationtimestamp%7Csubjectid%7Curl%7Creadable%7Cpreload%7Cdisplaytitle%7Cvarianttitles (Caused by NewConnectionError('<urllib3.connection.HTTPSConnection object at 0x744198d29340>: Failed to establish a new connection: [Errno 101] Network is unreachable'))\n",
      "[Erreur] Impossible de charger la page 'Collaborative Computational Project Q' : HTTPSConnectionPool(host='en.wikipedia.org', port=443): Max retries exceeded with url: /w/api.php?format=json&redirects=1&action=query&prop=info&titles=Collaborative+Computational+Project+Q&inprop=protection%7Ctalkid%7Cwatched%7Cwatchers%7Cvisitingwatchers%7Cnotificationtimestamp%7Csubjectid%7Curl%7Creadable%7Cpreload%7Cdisplaytitle%7Cvarianttitles (Caused by NewConnectionError('<urllib3.connection.HTTPSConnection object at 0x744178bcc4d0>: Failed to establish a new connection: [Errno 101] Network is unreachable'))\n",
      "[Erreur] Impossible de charger la page 'Event generator' : HTTPSConnectionPool(host='en.wikipedia.org', port=443): Max retries exceeded with url: /w/api.php?format=json&redirects=1&action=query&prop=info&titles=Event+generator&inprop=protection%7Ctalkid%7Cwatched%7Cwatchers%7Cvisitingwatchers%7Cnotificationtimestamp%7Csubjectid%7Curl%7Creadable%7Cpreload%7Cdisplaytitle%7Cvarianttitles (Caused by NewConnectionError('<urllib3.connection.HTTPSConnection object at 0x744178bcd190>: Failed to establish a new connection: [Errno 101] Network is unreachable'))\n",
      "[Erreur] Impossible de charger la page 'HEPnet' : HTTPSConnectionPool(host='en.wikipedia.org', port=443): Max retries exceeded with url: /w/api.php?format=json&redirects=1&action=query&prop=info&titles=HEPnet&inprop=protection%7Ctalkid%7Cwatched%7Cwatchers%7Cvisitingwatchers%7Cnotificationtimestamp%7Csubjectid%7Curl%7Creadable%7Cpreload%7Cdisplaytitle%7Cvarianttitles (Caused by NewConnectionError('<urllib3.connection.HTTPSConnection object at 0x744198d204a0>: Failed to establish a new connection: [Errno 101] Network is unreachable'))\n",
      "[Erreur] Impossible de charger la page 'Les Houches Accords' : HTTPSConnectionPool(host='en.wikipedia.org', port=443): Max retries exceeded with url: /w/api.php?format=json&redirects=1&action=query&prop=info&titles=Les+Houches+Accords&inprop=protection%7Ctalkid%7Cwatched%7Cwatchers%7Cvisitingwatchers%7Cnotificationtimestamp%7Csubjectid%7Curl%7Creadable%7Cpreload%7Cdisplaytitle%7Cvarianttitles (Caused by NewConnectionError('<urllib3.connection.HTTPSConnection object at 0x744178bc6960>: Failed to establish a new connection: [Errno 101] Network is unreachable'))\n",
      "[Erreur] Impossible de charger la page 'NNPDF' : HTTPSConnectionPool(host='en.wikipedia.org', port=443): Max retries exceeded with url: /w/api.php?format=json&redirects=1&action=query&prop=info&titles=NNPDF&inprop=protection%7Ctalkid%7Cwatched%7Cwatchers%7Cvisitingwatchers%7Cnotificationtimestamp%7Csubjectid%7Curl%7Creadable%7Cpreload%7Cdisplaytitle%7Cvarianttitles (Caused by NewConnectionError('<urllib3.connection.HTTPSConnection object at 0x744178bc69c0>: Failed to establish a new connection: [Errno 101] Network is unreachable'))\n",
      "[Erreur] Impossible de charger la page 'STARlight' : HTTPSConnectionPool(host='en.wikipedia.org', port=443): Max retries exceeded with url: /w/api.php?format=json&redirects=1&action=query&prop=info&titles=STARlight&inprop=protection%7Ctalkid%7Cwatched%7Cwatchers%7Cvisitingwatchers%7Cnotificationtimestamp%7Csubjectid%7Curl%7Creadable%7Cpreload%7Cdisplaytitle%7Cvarianttitles (Caused by NewConnectionError('<urllib3.connection.HTTPSConnection object at 0x744178bc7f20>: Failed to establish a new connection: [Errno 101] Network is unreachable'))\n"
     ]
    },
    {
     "data": {
      "application/vnd.jupyter.widget-view+json": {
       "model_id": "cdd904b436774686b7d4414057775819",
       "version_major": 2,
       "version_minor": 0
      },
      "text/plain": [
       "Pages in Computational physicists:   0%|          | 0/59 [00:00<?, ?page/s]"
      ]
     },
     "metadata": {},
     "output_type": "display_data"
    },
    {
     "name": "stdout",
     "output_type": "stream",
     "text": [
      "[Erreur] Impossible de charger la page 'Farid F. Abraham' : HTTPSConnectionPool(host='en.wikipedia.org', port=443): Max retries exceeded with url: /w/api.php?format=json&redirects=1&action=query&prop=info&titles=Farid+F.+Abraham&inprop=protection%7Ctalkid%7Cwatched%7Cwatchers%7Cvisitingwatchers%7Cnotificationtimestamp%7Csubjectid%7Curl%7Creadable%7Cpreload%7Cdisplaytitle%7Cvarianttitles (Caused by NewConnectionError('<urllib3.connection.HTTPSConnection object at 0x744178bcd130>: Failed to establish a new connection: [Errno 101] Network is unreachable'))\n",
      "[Erreur] Impossible de charger la page 'Joan Adler' : HTTPSConnectionPool(host='en.wikipedia.org', port=443): Max retries exceeded with url: /w/api.php?format=json&redirects=1&action=query&prop=info&titles=Joan+Adler&inprop=protection%7Ctalkid%7Cwatched%7Cwatchers%7Cvisitingwatchers%7Cnotificationtimestamp%7Csubjectid%7Curl%7Creadable%7Cpreload%7Cdisplaytitle%7Cvarianttitles (Caused by NewConnectionError('<urllib3.connection.HTTPSConnection object at 0x744178a4f980>: Failed to establish a new connection: [Errno 101] Network is unreachable'))\n",
      "[Erreur] Impossible de charger la page 'Anwar Ali (physicist)' : HTTPSConnectionPool(host='en.wikipedia.org', port=443): Max retries exceeded with url: /w/api.php?format=json&redirects=1&action=query&prop=info&titles=Anwar+Ali+%28physicist%29&inprop=protection%7Ctalkid%7Cwatched%7Cwatchers%7Cvisitingwatchers%7Cnotificationtimestamp%7Csubjectid%7Curl%7Creadable%7Cpreload%7Cdisplaytitle%7Cvarianttitles (Caused by NewConnectionError('<urllib3.connection.HTTPSConnection object at 0x744178a4e450>: Failed to establish a new connection: [Errno 101] Network is unreachable'))\n",
      "[Erreur] Impossible de charger la page 'Amanda Barnard' : HTTPSConnectionPool(host='en.wikipedia.org', port=443): Max retries exceeded with url: /w/api.php?format=json&redirects=1&action=query&prop=info&titles=Amanda+Barnard&inprop=protection%7Ctalkid%7Cwatched%7Cwatchers%7Cvisitingwatchers%7Cnotificationtimestamp%7Csubjectid%7Curl%7Creadable%7Cpreload%7Cdisplaytitle%7Cvarianttitles (Caused by NewConnectionError('<urllib3.connection.HTTPSConnection object at 0x744178aefc50>: Failed to establish a new connection: [Errno 101] Network is unreachable'))\n",
      "[Erreur] Impossible de charger la page 'Massimo Boninsegni' : HTTPSConnectionPool(host='en.wikipedia.org', port=443): Max retries exceeded with url: /w/api.php?format=json&redirects=1&action=query&prop=info&titles=Massimo+Boninsegni&inprop=protection%7Ctalkid%7Cwatched%7Cwatchers%7Cvisitingwatchers%7Cnotificationtimestamp%7Csubjectid%7Curl%7Creadable%7Cpreload%7Cdisplaytitle%7Cvarianttitles (Caused by NewConnectionError('<urllib3.connection.HTTPSConnection object at 0x744178bc4b90>: Failed to establish a new connection: [Errno 101] Network is unreachable'))\n",
      "[Erreur] Impossible de charger la page 'Philip George Burke' : HTTPSConnectionPool(host='en.wikipedia.org', port=443): Max retries exceeded with url: /w/api.php?format=json&redirects=1&action=query&prop=info&titles=Philip+George+Burke&inprop=protection%7Ctalkid%7Cwatched%7Cwatchers%7Cvisitingwatchers%7Cnotificationtimestamp%7Csubjectid%7Curl%7Creadable%7Cpreload%7Cdisplaytitle%7Cvarianttitles (Caused by NewConnectionError('<urllib3.connection.HTTPSConnection object at 0x744178bc5490>: Failed to establish a new connection: [Errno 101] Network is unreachable'))\n",
      "[Erreur] Impossible de charger la page 'Roberto Car' : HTTPSConnectionPool(host='en.wikipedia.org', port=443): Max retries exceeded with url: /w/api.php?format=json&redirects=1&action=query&prop=info&titles=Roberto+Car&inprop=protection%7Ctalkid%7Cwatched%7Cwatchers%7Cvisitingwatchers%7Cnotificationtimestamp%7Csubjectid%7Curl%7Creadable%7Cpreload%7Cdisplaytitle%7Cvarianttitles (Caused by NewConnectionError('<urllib3.connection.HTTPSConnection object at 0x744178b740e0>: Failed to establish a new connection: [Errno 101] Network is unreachable'))\n",
      "[Erreur] Impossible de charger la page 'David Ceperley' : HTTPSConnectionPool(host='en.wikipedia.org', port=443): Max retries exceeded with url: /w/api.php?format=json&redirects=1&action=query&prop=info&titles=David+Ceperley&inprop=protection%7Ctalkid%7Cwatched%7Cwatchers%7Cvisitingwatchers%7Cnotificationtimestamp%7Csubjectid%7Curl%7Creadable%7Cpreload%7Cdisplaytitle%7Cvarianttitles (Caused by NewConnectionError('<urllib3.connection.HTTPSConnection object at 0x744178aee6c0>: Failed to establish a new connection: [Errno 101] Network is unreachable'))\n",
      "[Erreur] Impossible de charger la page 'James R. Chelikowsky' : HTTPSConnectionPool(host='en.wikipedia.org', port=443): Max retries exceeded with url: /w/api.php?format=json&redirects=1&action=query&prop=info&titles=James+R.+Chelikowsky&inprop=protection%7Ctalkid%7Cwatched%7Cwatchers%7Cvisitingwatchers%7Cnotificationtimestamp%7Csubjectid%7Curl%7Creadable%7Cpreload%7Cdisplaytitle%7Cvarianttitles (Caused by NewConnectionError('<urllib3.connection.HTTPSConnection object at 0x744178bcff50>: Failed to establish a new connection: [Errno 101] Network is unreachable'))\n",
      "[Erreur] Impossible de charger la page 'Almadena Chtchelkanova' : HTTPSConnectionPool(host='en.wikipedia.org', port=443): Max retries exceeded with url: /w/api.php?format=json&redirects=1&action=query&prop=info&titles=Almadena+Chtchelkanova&inprop=protection%7Ctalkid%7Cwatched%7Cwatchers%7Cvisitingwatchers%7Cnotificationtimestamp%7Csubjectid%7Curl%7Creadable%7Cpreload%7Cdisplaytitle%7Cvarianttitles (Caused by NewConnectionError('<urllib3.connection.HTTPSConnection object at 0x744178bce960>: Failed to establish a new connection: [Errno 101] Network is unreachable'))\n",
      "[Erreur] Impossible de charger la page 'Richard Crandall' : HTTPSConnectionPool(host='en.wikipedia.org', port=443): Max retries exceeded with url: /w/api.php?format=json&redirects=1&action=query&prop=info&titles=Richard+Crandall&inprop=protection%7Ctalkid%7Cwatched%7Cwatchers%7Cvisitingwatchers%7Cnotificationtimestamp%7Csubjectid%7Curl%7Creadable%7Cpreload%7Cdisplaytitle%7Cvarianttitles (Caused by NewConnectionError('<urllib3.connection.HTTPSConnection object at 0x744178bc4680>: Failed to establish a new connection: [Errno 101] Network is unreachable'))\n",
      "[Erreur] Impossible de charger la page 'Michael Creutz' : HTTPSConnectionPool(host='en.wikipedia.org', port=443): Max retries exceeded with url: /w/api.php?format=json&redirects=1&action=query&prop=info&titles=Michael+Creutz&inprop=protection%7Ctalkid%7Cwatched%7Cwatchers%7Cvisitingwatchers%7Cnotificationtimestamp%7Csubjectid%7Curl%7Creadable%7Cpreload%7Cdisplaytitle%7Cvarianttitles (Caused by NewConnectionError('<urllib3.connection.HTTPSConnection object at 0x744178a4c680>: Failed to establish a new connection: [Errno 101] Network is unreachable'))\n",
      "[Erreur] Impossible de charger la page 'John M. Dawson' : HTTPSConnectionPool(host='en.wikipedia.org', port=443): Max retries exceeded with url: /w/api.php?format=json&redirects=1&action=query&prop=info&titles=John+M.+Dawson&inprop=protection%7Ctalkid%7Cwatched%7Cwatchers%7Cvisitingwatchers%7Cnotificationtimestamp%7Csubjectid%7Curl%7Creadable%7Cpreload%7Cdisplaytitle%7Cvarianttitles (Caused by NewConnectionError('<urllib3.connection.HTTPSConnection object at 0x744178a4dd30>: Failed to establish a new connection: [Errno 101] Network is unreachable'))\n",
      "[Erreur] Impossible de charger la page 'Daan Frenkel' : HTTPSConnectionPool(host='en.wikipedia.org', port=443): Max retries exceeded with url: /w/api.php?format=json&redirects=1&action=query&prop=info&titles=Daan+Frenkel&inprop=protection%7Ctalkid%7Cwatched%7Cwatchers%7Cvisitingwatchers%7Cnotificationtimestamp%7Csubjectid%7Curl%7Creadable%7Cpreload%7Cdisplaytitle%7Cvarianttitles (Caused by NewConnectionError('<urllib3.connection.HTTPSConnection object at 0x744178b74410>: Failed to establish a new connection: [Errno 101] Network is unreachable'))\n",
      "[Erreur] Impossible de charger la page 'Gary S. Grest' : HTTPSConnectionPool(host='en.wikipedia.org', port=443): Max retries exceeded with url: /w/api.php?format=json&redirects=1&action=query&prop=info&titles=Gary+S.+Grest&inprop=protection%7Ctalkid%7Cwatched%7Cwatchers%7Cvisitingwatchers%7Cnotificationtimestamp%7Csubjectid%7Curl%7Creadable%7Cpreload%7Cdisplaytitle%7Cvarianttitles (Caused by NewConnectionError('<urllib3.connection.HTTPSConnection object at 0x744178b74bc0>: Failed to establish a new connection: [Errno 101] Network is unreachable'))\n",
      "[Erreur] Impossible de charger la page 'Michael Hartl' : HTTPSConnectionPool(host='en.wikipedia.org', port=443): Max retries exceeded with url: /w/api.php?format=json&redirects=1&action=query&prop=info&titles=Michael+Hartl&inprop=protection%7Ctalkid%7Cwatched%7Cwatchers%7Cvisitingwatchers%7Cnotificationtimestamp%7Csubjectid%7Curl%7Creadable%7Cpreload%7Cdisplaytitle%7Cvarianttitles (Caused by NewConnectionError('<urllib3.connection.HTTPSConnection object at 0x744178b750d0>: Failed to establish a new connection: [Errno 101] Network is unreachable'))\n",
      "[Erreur] Impossible de charger la page 'Per Helander' : HTTPSConnectionPool(host='en.wikipedia.org', port=443): Max retries exceeded with url: /w/api.php?format=json&redirects=1&action=query&prop=info&titles=Per+Helander&inprop=protection%7Ctalkid%7Cwatched%7Cwatchers%7Cvisitingwatchers%7Cnotificationtimestamp%7Csubjectid%7Curl%7Creadable%7Cpreload%7Cdisplaytitle%7Cvarianttitles (Caused by NewConnectionError('<urllib3.connection.HTTPSConnection object at 0x744178bc6960>: Failed to establish a new connection: [Errno 101] Network is unreachable'))\n",
      "[Erreur] Impossible de charger la page 'Kai-Ming Ho' : HTTPSConnectionPool(host='en.wikipedia.org', port=443): Max retries exceeded with url: /w/api.php?format=json&redirects=1&action=query&prop=info&titles=Kai-Ming+Ho&inprop=protection%7Ctalkid%7Cwatched%7Cwatchers%7Cvisitingwatchers%7Cnotificationtimestamp%7Csubjectid%7Curl%7Creadable%7Cpreload%7Cdisplaytitle%7Cvarianttitles (Caused by NewConnectionError('<urllib3.connection.HTTPSConnection object at 0x744178bc7620>: Failed to establish a new connection: [Errno 101] Network is unreachable'))\n",
      "[Erreur] Impossible de charger la page 'William G. Hoover' : HTTPSConnectionPool(host='en.wikipedia.org', port=443): Max retries exceeded with url: /w/api.php?format=json&redirects=1&action=query&prop=info&titles=William+G.+Hoover&inprop=protection%7Ctalkid%7Cwatched%7Cwatchers%7Cvisitingwatchers%7Cnotificationtimestamp%7Csubjectid%7Curl%7Creadable%7Cpreload%7Cdisplaytitle%7Cvarianttitles (Caused by NewConnectionError('<urllib3.connection.HTTPSConnection object at 0x744178aed610>: Failed to establish a new connection: [Errno 101] Network is unreachable'))\n",
      "[Erreur] Impossible de charger la page 'Bassam Izzuddin' : HTTPSConnectionPool(host='en.wikipedia.org', port=443): Max retries exceeded with url: /w/api.php?format=json&redirects=1&action=query&prop=info&titles=Bassam+Izzuddin&inprop=protection%7Ctalkid%7Cwatched%7Cwatchers%7Cvisitingwatchers%7Cnotificationtimestamp%7Csubjectid%7Curl%7Creadable%7Cpreload%7Cdisplaytitle%7Cvarianttitles (Caused by NewConnectionError('<urllib3.connection.HTTPSConnection object at 0x744178bcd520>: Failed to establish a new connection: [Errno 101] Network is unreachable'))\n",
      "[Erreur] Impossible de charger la page 'John Joannopoulos' : HTTPSConnectionPool(host='en.wikipedia.org', port=443): Max retries exceeded with url: /w/api.php?format=json&redirects=1&action=query&prop=info&titles=John+Joannopoulos&inprop=protection%7Ctalkid%7Cwatched%7Cwatchers%7Cvisitingwatchers%7Cnotificationtimestamp%7Csubjectid%7Curl%7Creadable%7Cpreload%7Cdisplaytitle%7Cvarianttitles (Caused by NewConnectionError('<urllib3.connection.HTTPSConnection object at 0x744178bcd5b0>: Failed to establish a new connection: [Errno 101] Network is unreachable'))\n",
      "[Erreur] Impossible de charger la page 'Steven G. Johnson' : HTTPSConnectionPool(host='en.wikipedia.org', port=443): Max retries exceeded with url: /w/api.php?format=json&redirects=1&action=query&prop=info&titles=Steven+G.+Johnson&inprop=protection%7Ctalkid%7Cwatched%7Cwatchers%7Cvisitingwatchers%7Cnotificationtimestamp%7Csubjectid%7Curl%7Creadable%7Cpreload%7Cdisplaytitle%7Cvarianttitles (Caused by NewConnectionError('<urllib3.connection.HTTPSConnection object at 0x744178bc71a0>: Failed to establish a new connection: [Errno 101] Network is unreachable'))\n",
      "[Erreur] Impossible de charger la page 'David P. Landau' : HTTPSConnectionPool(host='en.wikipedia.org', port=443): Max retries exceeded with url: /w/api.php?format=json&redirects=1&action=query&prop=info&titles=David+P.+Landau&inprop=protection%7Ctalkid%7Cwatched%7Cwatchers%7Cvisitingwatchers%7Cnotificationtimestamp%7Csubjectid%7Curl%7Creadable%7Cpreload%7Cdisplaytitle%7Cvarianttitles (Caused by NewConnectionError('<urllib3.connection.HTTPSConnection object at 0x744178b74710>: Failed to establish a new connection: [Errno 101] Network is unreachable'))\n",
      "[Erreur] Impossible de charger la page 'Uzi Landman' : HTTPSConnectionPool(host='en.wikipedia.org', port=443): Max retries exceeded with url: /w/api.php?format=json&redirects=1&action=query&prop=info&titles=Uzi+Landman&inprop=protection%7Ctalkid%7Cwatched%7Cwatchers%7Cvisitingwatchers%7Cnotificationtimestamp%7Csubjectid%7Curl%7Creadable%7Cpreload%7Cdisplaytitle%7Cvarianttitles (Caused by NewConnectionError('<urllib3.connection.HTTPSConnection object at 0x744178b744a0>: Failed to establish a new connection: [Errno 101] Network is unreachable'))\n",
      "[Erreur] Impossible de charger la page 'Marie Lopez del Puerto' : HTTPSConnectionPool(host='en.wikipedia.org', port=443): Max retries exceeded with url: /w/api.php?format=json&redirects=1&action=query&prop=info&titles=Marie+Lopez+del+Puerto&inprop=protection%7Ctalkid%7Cwatched%7Cwatchers%7Cvisitingwatchers%7Cnotificationtimestamp%7Csubjectid%7Curl%7Creadable%7Cpreload%7Cdisplaytitle%7Cvarianttitles (Caused by NewConnectionError('<urllib3.connection.HTTPSConnection object at 0x744178bce4e0>: Failed to establish a new connection: [Errno 101] Network is unreachable'))\n",
      "[Erreur] Impossible de charger la page 'Steven Gwon Sheng Louie' : HTTPSConnectionPool(host='en.wikipedia.org', port=443): Max retries exceeded with url: /w/api.php?format=json&redirects=1&action=query&prop=info&titles=Steven+Gwon+Sheng+Louie&inprop=protection%7Ctalkid%7Cwatched%7Cwatchers%7Cvisitingwatchers%7Cnotificationtimestamp%7Csubjectid%7Curl%7Creadable%7Cpreload%7Cdisplaytitle%7Cvarianttitles (Caused by NewConnectionError('<urllib3.connection.HTTPSConnection object at 0x744178aa9850>: Failed to establish a new connection: [Errno 101] Network is unreachable'))\n",
      "[Erreur] Impossible de charger la page 'George Michael (computational physicist)' : HTTPSConnectionPool(host='en.wikipedia.org', port=443): Max retries exceeded with url: /w/api.php?format=json&redirects=1&action=query&prop=info&titles=George+Michael+%28computational+physicist%29&inprop=protection%7Ctalkid%7Cwatched%7Cwatchers%7Cvisitingwatchers%7Cnotificationtimestamp%7Csubjectid%7Curl%7Creadable%7Cpreload%7Cdisplaytitle%7Cvarianttitles (Caused by NewConnectionError('<urllib3.connection.HTTPSConnection object at 0x7441738cedb0>: Failed to establish a new connection: [Errno 101] Network is unreachable'))\n",
      "[Erreur] Impossible de charger la page 'Warren B. Mori' : HTTPSConnectionPool(host='en.wikipedia.org', port=443): Max retries exceeded with url: /w/api.php?format=json&redirects=1&action=query&prop=info&titles=Warren+B.+Mori&inprop=protection%7Ctalkid%7Cwatched%7Cwatchers%7Cvisitingwatchers%7Cnotificationtimestamp%7Csubjectid%7Curl%7Creadable%7Cpreload%7Cdisplaytitle%7Cvarianttitles (Caused by NewConnectionError('<urllib3.connection.HTTPSConnection object at 0x744178a4ec90>: Failed to establish a new connection: [Errno 101] Network is unreachable'))\n",
      "[Erreur] Impossible de charger la page 'Isidoro Orlanski' : HTTPSConnectionPool(host='en.wikipedia.org', port=443): Max retries exceeded with url: /w/api.php?format=json&redirects=1&action=query&prop=info&titles=Isidoro+Orlanski&inprop=protection%7Ctalkid%7Cwatched%7Cwatchers%7Cvisitingwatchers%7Cnotificationtimestamp%7Csubjectid%7Curl%7Creadable%7Cpreload%7Cdisplaytitle%7Cvarianttitles (Caused by NewConnectionError('<urllib3.connection.HTTPSConnection object at 0x744178bc5b50>: Failed to establish a new connection: [Errno 101] Network is unreachable'))\n",
      "[Erreur] Impossible de charger la page 'Minna Palmroth' : HTTPSConnectionPool(host='en.wikipedia.org', port=443): Max retries exceeded with url: /w/api.php?format=json&redirects=1&action=query&prop=info&titles=Minna+Palmroth&inprop=protection%7Ctalkid%7Cwatched%7Cwatchers%7Cvisitingwatchers%7Cnotificationtimestamp%7Csubjectid%7Curl%7Creadable%7Cpreload%7Cdisplaytitle%7Cvarianttitles (Caused by NewConnectionError('<urllib3.connection.HTTPSConnection object at 0x744178bc73e0>: Failed to establish a new connection: [Errno 101] Network is unreachable'))\n",
      "[Erreur] Impossible de charger la page 'Michele Parrinello' : HTTPSConnectionPool(host='en.wikipedia.org', port=443): Max retries exceeded with url: /w/api.php?format=json&redirects=1&action=query&prop=info&titles=Michele+Parrinello&inprop=protection%7Ctalkid%7Cwatched%7Cwatchers%7Cvisitingwatchers%7Cnotificationtimestamp%7Csubjectid%7Curl%7Creadable%7Cpreload%7Cdisplaytitle%7Cvarianttitles (Caused by NewConnectionError('<urllib3.connection.HTTPSConnection object at 0x744178b744d0>: Failed to establish a new connection: [Errno 101] Network is unreachable'))\n",
      "[Erreur] Impossible de charger la page 'John Pasta' : HTTPSConnectionPool(host='en.wikipedia.org', port=443): Max retries exceeded with url: /w/api.php?format=json&redirects=1&action=query&prop=info&titles=John+Pasta&inprop=protection%7Ctalkid%7Cwatched%7Cwatchers%7Cvisitingwatchers%7Cnotificationtimestamp%7Csubjectid%7Curl%7Creadable%7Cpreload%7Cdisplaytitle%7Cvarianttitles (Caused by NewConnectionError('<urllib3.connection.HTTPSConnection object at 0x744178b742c0>: Failed to establish a new connection: [Errno 101] Network is unreachable'))\n",
      "[Erreur] Impossible de charger la page 'Mike Payne (physicist)' : HTTPSConnectionPool(host='en.wikipedia.org', port=443): Max retries exceeded with url: /w/api.php?format=json&redirects=1&action=query&prop=info&titles=Mike+Payne+%28physicist%29&inprop=protection%7Ctalkid%7Cwatched%7Cwatchers%7Cvisitingwatchers%7Cnotificationtimestamp%7Csubjectid%7Curl%7Creadable%7Cpreload%7Cdisplaytitle%7Cvarianttitles (Caused by NewConnectionError('<urllib3.connection.HTTPSConnection object at 0x744178b74cb0>: Failed to establish a new connection: [Errno 101] Network is unreachable'))\n",
      "[Erreur] Impossible de charger la page 'Warren E. Pickett' : HTTPSConnectionPool(host='en.wikipedia.org', port=443): Max retries exceeded with url: /w/api.php?format=json&redirects=1&action=query&prop=info&titles=Warren+E.+Pickett&inprop=protection%7Ctalkid%7Cwatched%7Cwatchers%7Cvisitingwatchers%7Cnotificationtimestamp%7Csubjectid%7Curl%7Creadable%7Cpreload%7Cdisplaytitle%7Cvarianttitles (Caused by NewConnectionError('<urllib3.connection.HTTPSConnection object at 0x744178bc69f0>: Failed to establish a new connection: [Errno 101] Network is unreachable'))\n",
      "[Erreur] Impossible de charger la page 'Frans Pretorius' : HTTPSConnectionPool(host='en.wikipedia.org', port=443): Max retries exceeded with url: /w/api.php?format=json&redirects=1&action=query&prop=info&titles=Frans+Pretorius&inprop=protection%7Ctalkid%7Cwatched%7Cwatchers%7Cvisitingwatchers%7Cnotificationtimestamp%7Csubjectid%7Curl%7Creadable%7Cpreload%7Cdisplaytitle%7Cvarianttitles (Caused by NewConnectionError('<urllib3.connection.HTTPSConnection object at 0x7441738cfad0>: Failed to establish a new connection: [Errno 101] Network is unreachable'))\n",
      "[Erreur] Impossible de charger la page 'Adrian Price-Whelan' : HTTPSConnectionPool(host='en.wikipedia.org', port=443): Max retries exceeded with url: /w/api.php?format=json&redirects=1&action=query&prop=info&titles=Adrian+Price-Whelan&inprop=protection%7Ctalkid%7Cwatched%7Cwatchers%7Cvisitingwatchers%7Cnotificationtimestamp%7Csubjectid%7Curl%7Creadable%7Cpreload%7Cdisplaytitle%7Cvarianttitles (Caused by NewConnectionError('<urllib3.connection.HTTPSConnection object at 0x744198d377a0>: Failed to establish a new connection: [Errno 101] Network is unreachable'))\n",
      "[Erreur] Impossible de charger la page 'Yue Qi' : HTTPSConnectionPool(host='en.wikipedia.org', port=443): Max retries exceeded with url: /w/api.php?format=json&redirects=1&action=query&prop=info&titles=Yue+Qi&inprop=protection%7Ctalkid%7Cwatched%7Cwatchers%7Cvisitingwatchers%7Cnotificationtimestamp%7Csubjectid%7Curl%7Creadable%7Cpreload%7Cdisplaytitle%7Cvarianttitles (Caused by NewConnectionError('<urllib3.connection.HTTPSConnection object at 0x744178a4d340>: Failed to establish a new connection: [Errno 101] Network is unreachable'))\n",
      "[Erreur] Impossible de charger la page 'Hashem Rafii Tabar' : HTTPSConnectionPool(host='en.wikipedia.org', port=443): Max retries exceeded with url: /w/api.php?format=json&redirects=1&action=query&prop=info&titles=Hashem+Rafii+Tabar&inprop=protection%7Ctalkid%7Cwatched%7Cwatchers%7Cvisitingwatchers%7Cnotificationtimestamp%7Csubjectid%7Curl%7Creadable%7Cpreload%7Cdisplaytitle%7Cvarianttitles (Caused by NewConnectionError('<urllib3.connection.HTTPSConnection object at 0x744178a4f980>: Failed to establish a new connection: [Errno 101] Network is unreachable'))\n",
      "[Erreur] Impossible de charger la page 'Mercedes Richards' : HTTPSConnectionPool(host='en.wikipedia.org', port=443): Max retries exceeded with url: /w/api.php?format=json&redirects=1&action=query&prop=info&titles=Mercedes+Richards&inprop=protection%7Ctalkid%7Cwatched%7Cwatchers%7Cvisitingwatchers%7Cnotificationtimestamp%7Csubjectid%7Curl%7Creadable%7Cpreload%7Cdisplaytitle%7Cvarianttitles (Caused by NewConnectionError('<urllib3.connection.HTTPSConnection object at 0x744178bccf50>: Failed to establish a new connection: [Errno 101] Network is unreachable'))\n",
      "[Erreur] Impossible de charger la page 'Per Arne Rikvold' : HTTPSConnectionPool(host='en.wikipedia.org', port=443): Max retries exceeded with url: /w/api.php?format=json&redirects=1&action=query&prop=info&titles=Per+Arne+Rikvold&inprop=protection%7Ctalkid%7Cwatched%7Cwatchers%7Cvisitingwatchers%7Cnotificationtimestamp%7Csubjectid%7Curl%7Creadable%7Cpreload%7Cdisplaytitle%7Cvarianttitles (Caused by NewConnectionError('<urllib3.connection.HTTPSConnection object at 0x744178b74e30>: Failed to establish a new connection: [Errno 101] Network is unreachable'))\n",
      "[Erreur] Impossible de charger la page 'Arianna W. Rosenbluth' : HTTPSConnectionPool(host='en.wikipedia.org', port=443): Max retries exceeded with url: /w/api.php?format=json&redirects=1&action=query&prop=info&titles=Arianna+W.+Rosenbluth&inprop=protection%7Ctalkid%7Cwatched%7Cwatchers%7Cvisitingwatchers%7Cnotificationtimestamp%7Csubjectid%7Curl%7Creadable%7Cpreload%7Cdisplaytitle%7Cvarianttitles (Caused by NewConnectionError('<urllib3.connection.HTTPSConnection object at 0x744178b75250>: Failed to establish a new connection: [Errno 101] Network is unreachable'))\n",
      "[Erreur] Impossible de charger la page 'Francesco Sciortino' : HTTPSConnectionPool(host='en.wikipedia.org', port=443): Max retries exceeded with url: /w/api.php?format=json&redirects=1&action=query&prop=info&titles=Francesco+Sciortino&inprop=protection%7Ctalkid%7Cwatched%7Cwatchers%7Cvisitingwatchers%7Cnotificationtimestamp%7Csubjectid%7Curl%7Creadable%7Cpreload%7Cdisplaytitle%7Cvarianttitles (Caused by NewConnectionError('<urllib3.connection.HTTPSConnection object at 0x744178b75340>: Failed to establish a new connection: [Errno 101] Network is unreachable'))\n",
      "[Erreur] Impossible de charger la page 'Debora Šijački' : HTTPSConnectionPool(host='en.wikipedia.org', port=443): Max retries exceeded with url: /w/api.php?format=json&redirects=1&action=query&prop=info&titles=Debora+%C5%A0ija%C4%8Dki&inprop=protection%7Ctalkid%7Cwatched%7Cwatchers%7Cvisitingwatchers%7Cnotificationtimestamp%7Csubjectid%7Curl%7Creadable%7Cpreload%7Cdisplaytitle%7Cvarianttitles (Caused by NewConnectionError('<urllib3.connection.HTTPSConnection object at 0x744178bce960>: Failed to establish a new connection: [Errno 101] Network is unreachable'))\n",
      "[Erreur] Impossible de charger la page 'Volker Springel' : HTTPSConnectionPool(host='en.wikipedia.org', port=443): Max retries exceeded with url: /w/api.php?format=json&redirects=1&action=query&prop=info&titles=Volker+Springel&inprop=protection%7Ctalkid%7Cwatched%7Cwatchers%7Cvisitingwatchers%7Cnotificationtimestamp%7Csubjectid%7Curl%7Creadable%7Cpreload%7Cdisplaytitle%7Cvarianttitles (Caused by NewConnectionError('<urllib3.connection.HTTPSConnection object at 0x744178a4de80>: Failed to establish a new connection: [Errno 101] Network is unreachable'))\n",
      "[Erreur] Impossible de charger la page 'John Steinhoff' : HTTPSConnectionPool(host='en.wikipedia.org', port=443): Max retries exceeded with url: /w/api.php?format=json&redirects=1&action=query&prop=info&titles=John+Steinhoff&inprop=protection%7Ctalkid%7Cwatched%7Cwatchers%7Cvisitingwatchers%7Cnotificationtimestamp%7Csubjectid%7Curl%7Creadable%7Cpreload%7Cdisplaytitle%7Cvarianttitles (Caused by NewConnectionError('<urllib3.connection.HTTPSConnection object at 0x744178bcd220>: Failed to establish a new connection: [Errno 101] Network is unreachable'))\n",
      "[Erreur] Impossible de charger la page 'Sauro Succi' : HTTPSConnectionPool(host='en.wikipedia.org', port=443): Max retries exceeded with url: /w/api.php?format=json&redirects=1&action=query&prop=info&titles=Sauro+Succi&inprop=protection%7Ctalkid%7Cwatched%7Cwatchers%7Cvisitingwatchers%7Cnotificationtimestamp%7Csubjectid%7Curl%7Creadable%7Cpreload%7Cdisplaytitle%7Cvarianttitles (Caused by NewConnectionError('<urllib3.connection.HTTPSConnection object at 0x7441738cd340>: Failed to establish a new connection: [Errno 101] Network is unreachable'))\n",
      "[Erreur] Impossible de charger la page 'Robert Swendsen' : HTTPSConnectionPool(host='en.wikipedia.org', port=443): Max retries exceeded with url: /w/api.php?format=json&redirects=1&action=query&prop=info&titles=Robert+Swendsen&inprop=protection%7Ctalkid%7Cwatched%7Cwatchers%7Cvisitingwatchers%7Cnotificationtimestamp%7Csubjectid%7Curl%7Creadable%7Cpreload%7Cdisplaytitle%7Cvarianttitles (Caused by NewConnectionError('<urllib3.connection.HTTPSConnection object at 0x7441b3975970>: Failed to establish a new connection: [Errno 101] Network is unreachable'))\n",
      "[Erreur] Impossible de charger la page 'Allen Taflove' : HTTPSConnectionPool(host='en.wikipedia.org', port=443): Max retries exceeded with url: /w/api.php?format=json&redirects=1&action=query&prop=info&titles=Allen+Taflove&inprop=protection%7Ctalkid%7Cwatched%7Cwatchers%7Cvisitingwatchers%7Cnotificationtimestamp%7Csubjectid%7Curl%7Creadable%7Cpreload%7Cdisplaytitle%7Cvarianttitles (Caused by NewConnectionError('<urllib3.connection.HTTPSConnection object at 0x744178bc6d20>: Failed to establish a new connection: [Errno 101] Network is unreachable'))\n",
      "[Erreur] Impossible de charger la page 'David Vanderbilt' : HTTPSConnectionPool(host='en.wikipedia.org', port=443): Max retries exceeded with url: /w/api.php?format=json&redirects=1&action=query&prop=info&titles=David+Vanderbilt&inprop=protection%7Ctalkid%7Cwatched%7Cwatchers%7Cvisitingwatchers%7Cnotificationtimestamp%7Csubjectid%7Curl%7Creadable%7Cpreload%7Cdisplaytitle%7Cvarianttitles (Caused by NewConnectionError('<urllib3.connection.HTTPSConnection object at 0x744178b75280>: Failed to establish a new connection: [Errno 101] Network is unreachable'))\n",
      "[Erreur] Impossible de charger la page 'Su-Huai Wei' : HTTPSConnectionPool(host='en.wikipedia.org', port=443): Max retries exceeded with url: /w/api.php?format=json&redirects=1&action=query&prop=info&titles=Su-Huai+Wei&inprop=protection%7Ctalkid%7Cwatched%7Cwatchers%7Cvisitingwatchers%7Cnotificationtimestamp%7Csubjectid%7Curl%7Creadable%7Cpreload%7Cdisplaytitle%7Cvarianttitles (Caused by NewConnectionError('<urllib3.connection.HTTPSConnection object at 0x744178b74980>: Failed to establish a new connection: [Errno 101] Network is unreachable'))\n",
      "[Erreur] Impossible de charger la page 'Thomas Weiland' : HTTPSConnectionPool(host='en.wikipedia.org', port=443): Max retries exceeded with url: /w/api.php?format=json&redirects=1&action=query&prop=info&titles=Thomas+Weiland&inprop=protection%7Ctalkid%7Cwatched%7Cwatchers%7Cvisitingwatchers%7Cnotificationtimestamp%7Csubjectid%7Curl%7Creadable%7Cpreload%7Cdisplaytitle%7Cvarianttitles (Caused by NewConnectionError('<urllib3.connection.HTTPSConnection object at 0x744178b74230>: Failed to establish a new connection: [Errno 101] Network is unreachable'))\n",
      "[Erreur] Impossible de charger la page 'Donald H. Weingarten' : HTTPSConnectionPool(host='en.wikipedia.org', port=443): Max retries exceeded with url: /w/api.php?format=json&redirects=1&action=query&prop=info&titles=Donald+H.+Weingarten&inprop=protection%7Ctalkid%7Cwatched%7Cwatchers%7Cvisitingwatchers%7Cnotificationtimestamp%7Csubjectid%7Curl%7Creadable%7Cpreload%7Cdisplaytitle%7Cvarianttitles (Caused by NewConnectionError('<urllib3.connection.HTTPSConnection object at 0x744178bc5160>: Failed to establish a new connection: [Errno 101] Network is unreachable'))\n",
      "[Erreur] Impossible de charger la page 'Mariana Weissmann' : HTTPSConnectionPool(host='en.wikipedia.org', port=443): Max retries exceeded with url: /w/api.php?format=json&redirects=1&action=query&prop=info&titles=Mariana+Weissmann&inprop=protection%7Ctalkid%7Cwatched%7Cwatchers%7Cvisitingwatchers%7Cnotificationtimestamp%7Csubjectid%7Curl%7Creadable%7Cpreload%7Cdisplaytitle%7Cvarianttitles (Caused by NewConnectionError('<urllib3.connection.HTTPSConnection object at 0x744198d36960>: Failed to establish a new connection: [Errno 101] Network is unreachable'))\n",
      "[Erreur] Impossible de charger la page 'Steven R. White' : HTTPSConnectionPool(host='en.wikipedia.org', port=443): Max retries exceeded with url: /w/api.php?format=json&redirects=1&action=query&prop=info&titles=Steven+R.+White&inprop=protection%7Ctalkid%7Cwatched%7Cwatchers%7Cvisitingwatchers%7Cnotificationtimestamp%7Csubjectid%7Curl%7Creadable%7Cpreload%7Cdisplaytitle%7Cvarianttitles (Caused by NewConnectionError('<urllib3.connection.HTTPSConnection object at 0x744178aa9b50>: Failed to establish a new connection: [Errno 101] Network is unreachable'))\n",
      "[Erreur] Impossible de charger la page 'James Ricker Wilson' : HTTPSConnectionPool(host='en.wikipedia.org', port=443): Max retries exceeded with url: /w/api.php?format=json&redirects=1&action=query&prop=info&titles=James+Ricker+Wilson&inprop=protection%7Ctalkid%7Cwatched%7Cwatchers%7Cvisitingwatchers%7Cnotificationtimestamp%7Csubjectid%7Curl%7Creadable%7Cpreload%7Cdisplaytitle%7Cvarianttitles (Caused by NewConnectionError('<urllib3.connection.HTTPSConnection object at 0x744178a4e8d0>: Failed to establish a new connection: [Errno 101] Network is unreachable'))\n",
      "[Erreur] Impossible de charger la page 'Kenneth G. Wilson' : HTTPSConnectionPool(host='en.wikipedia.org', port=443): Max retries exceeded with url: /w/api.php?format=json&redirects=1&action=query&prop=info&titles=Kenneth+G.+Wilson&inprop=protection%7Ctalkid%7Cwatched%7Cwatchers%7Cvisitingwatchers%7Cnotificationtimestamp%7Csubjectid%7Curl%7Creadable%7Cpreload%7Cdisplaytitle%7Cvarianttitles (Caused by NewConnectionError('<urllib3.connection.HTTPSConnection object at 0x744178aeffb0>: Failed to establish a new connection: [Errno 101] Network is unreachable'))\n",
      "[Erreur] Impossible de charger la page 'Stephen Wolfram' : HTTPSConnectionPool(host='en.wikipedia.org', port=443): Max retries exceeded with url: /w/api.php?format=json&redirects=1&action=query&prop=info&titles=Stephen+Wolfram&inprop=protection%7Ctalkid%7Cwatched%7Cwatchers%7Cvisitingwatchers%7Cnotificationtimestamp%7Csubjectid%7Curl%7Creadable%7Cpreload%7Cdisplaytitle%7Cvarianttitles (Caused by NewConnectionError('<urllib3.connection.HTTPSConnection object at 0x744178bcdfa0>: Failed to establish a new connection: [Errno 101] Network is unreachable'))\n",
      "[Erreur] Impossible de charger la page 'Osman Yaşar' : HTTPSConnectionPool(host='en.wikipedia.org', port=443): Max retries exceeded with url: /w/api.php?format=json&redirects=1&action=query&prop=info&titles=Osman+Ya%C5%9Far&inprop=protection%7Ctalkid%7Cwatched%7Cwatchers%7Cvisitingwatchers%7Cnotificationtimestamp%7Csubjectid%7Curl%7Creadable%7Cpreload%7Cdisplaytitle%7Cvarianttitles (Caused by NewConnectionError('<urllib3.connection.HTTPSConnection object at 0x744178b74560>: Failed to establish a new connection: [Errno 101] Network is unreachable'))\n"
     ]
    },
    {
     "data": {
      "application/vnd.jupyter.widget-view+json": {
       "model_id": "6a00a7c5ef584c3fbce6050c14c3160c",
       "version_major": 2,
       "version_minor": 0
      },
      "text/plain": [
       "Pages in Cosmological simulation:   0%|          | 0/10 [00:00<?, ?page/s]"
      ]
     },
     "metadata": {},
     "output_type": "display_data"
    },
    {
     "data": {
      "application/vnd.jupyter.widget-view+json": {
       "model_id": "69fe05e0f4e3422283214480aba03e58",
       "version_major": 2,
       "version_minor": 0
      },
      "text/plain": [
       "Pages in Electronic structure methods:   0%|          | 0/36 [00:00<?, ?page/s]"
      ]
     },
     "metadata": {},
     "output_type": "display_data"
    },
    {
     "data": {
      "application/vnd.jupyter.widget-view+json": {
       "model_id": "4e2418d4ce47449d9d7481a2cfa19b7b",
       "version_major": 2,
       "version_minor": 0
      },
      "text/plain": [
       "Pages in Lattice models:   0%|          | 0/54 [00:00<?, ?page/s]"
      ]
     },
     "metadata": {},
     "output_type": "display_data"
    },
    {
     "data": {
      "application/vnd.jupyter.widget-view+json": {
       "model_id": "dad7eb025a6542da962b12ea99bd185a",
       "version_major": 2,
       "version_minor": 0
      },
      "text/plain": [
       "Pages in Molecular dynamics:   0%|          | 0/38 [00:00<?, ?page/s]"
      ]
     },
     "metadata": {},
     "output_type": "display_data"
    },
    {
     "data": {
      "application/vnd.jupyter.widget-view+json": {
       "model_id": "a6431891e56c4ac6962ecac3ffe7223c",
       "version_major": 2,
       "version_minor": 0
      },
      "text/plain": [
       "Pages in Monte Carlo methods:   0%|          | 0/65 [00:00<?, ?page/s]"
      ]
     },
     "metadata": {},
     "output_type": "display_data"
    },
    {
     "data": {
      "application/vnd.jupyter.widget-view+json": {
       "model_id": "91da684b46c1437ea3d95e3d8d6fca6c",
       "version_major": 2,
       "version_minor": 0
      },
      "text/plain": [
       "Pages in Physics software:   0%|          | 0/95 [00:00<?, ?page/s]"
      ]
     },
     "metadata": {},
     "output_type": "display_data"
    },
    {
     "data": {
      "application/vnd.jupyter.widget-view+json": {
       "model_id": "7e6c825b3c8449d1a4b0e7699165d135",
       "version_major": 2,
       "version_minor": 0
      },
      "text/plain": [
       "Pages in Condensed matter physics:   0%|          | 0/100 [00:00<?, ?page/s]"
      ]
     },
     "metadata": {},
     "output_type": "display_data"
    },
    {
     "data": {
      "application/vnd.jupyter.widget-view+json": {
       "model_id": "a13dc59e50324206836ec1f6eae22943",
       "version_major": 2,
       "version_minor": 0
      },
      "text/plain": [
       "Categories (flat):   0%|          | 0/10 [00:00<?, ?cat/s]"
      ]
     },
     "metadata": {},
     "output_type": "display_data"
    },
    {
     "data": {
      "application/vnd.jupyter.widget-view+json": {
       "model_id": "d3d4f453d3df49c1bf3a9b0ab746da51",
       "version_major": 2,
       "version_minor": 0
      },
      "text/plain": [
       "Pages in Condensed matter physicists:   0%|          | 0/78 [00:00<?, ?page/s]"
      ]
     },
     "metadata": {},
     "output_type": "display_data"
    },
    {
     "data": {
      "application/vnd.jupyter.widget-view+json": {
       "model_id": "b67892da27224d17a27d39b2f3fc3c38",
       "version_major": 2,
       "version_minor": 0
      },
      "text/plain": [
       "Pages in Solid state engineering:   0%|          | 0/11 [00:00<?, ?page/s]"
      ]
     },
     "metadata": {},
     "output_type": "display_data"
    },
    {
     "data": {
      "application/vnd.jupyter.widget-view+json": {
       "model_id": "4a35ee5c38b84a5a88c38278b94d8e70",
       "version_major": 2,
       "version_minor": 0
      },
      "text/plain": [
       "Pages in Bose–Einstein condensates:   0%|          | 0/14 [00:00<?, ?page/s]"
      ]
     },
     "metadata": {},
     "output_type": "display_data"
    },
    {
     "data": {
      "application/vnd.jupyter.widget-view+json": {
       "model_id": "5a5dddf105b14d98aa43d0cac49ea2a1",
       "version_major": 2,
       "version_minor": 0
      },
      "text/plain": [
       "Pages in Charge carriers:   0%|          | 0/25 [00:00<?, ?page/s]"
      ]
     },
     "metadata": {},
     "output_type": "display_data"
    },
    {
     "data": {
      "application/vnd.jupyter.widget-view+json": {
       "model_id": "444a5aa8a49e4636adc3eeae1c36cf53",
       "version_major": 2,
       "version_minor": 0
      },
      "text/plain": [
       "Pages in Chemical bonding:   0%|          | 0/100 [00:00<?, ?page/s]"
      ]
     },
     "metadata": {},
     "output_type": "display_data"
    },
    {
     "data": {
      "application/vnd.jupyter.widget-view+json": {
       "model_id": "d667c33b14a94ff7bb5f4011e5106f2b",
       "version_major": 2,
       "version_minor": 0
      },
      "text/plain": [
       "Pages in Colloids:   0%|          | 0/30 [00:00<?, ?page/s]"
      ]
     },
     "metadata": {},
     "output_type": "display_data"
    },
    {
     "data": {
      "application/vnd.jupyter.widget-view+json": {
       "model_id": "651b5add2be64e4ca1f49117650d1eb6",
       "version_major": 2,
       "version_minor": 0
      },
      "text/plain": [
       "Pages in Condensed matter physics awards:   0%|          | 0/4 [00:00<?, ?page/s]"
      ]
     },
     "metadata": {},
     "output_type": "display_data"
    },
    {
     "data": {
      "application/vnd.jupyter.widget-view+json": {
       "model_id": "c403635ff03b4d97b183bf7a682a6676",
       "version_major": 2,
       "version_minor": 0
      },
      "text/plain": [
       "Pages in Correlated electrons:   0%|          | 0/23 [00:00<?, ?page/s]"
      ]
     },
     "metadata": {},
     "output_type": "display_data"
    },
    {
     "data": {
      "application/vnd.jupyter.widget-view+json": {
       "model_id": "aae82fed37d641819059001d7dd5ed8b",
       "version_major": 2,
       "version_minor": 0
      },
      "text/plain": [
       "Pages in Critical phenomena:   0%|          | 0/39 [00:00<?, ?page/s]"
      ]
     },
     "metadata": {},
     "output_type": "display_data"
    },
    {
     "data": {
      "application/vnd.jupyter.widget-view+json": {
       "model_id": "c6c3b30e3077411ea98ecb976f955f34",
       "version_major": 2,
       "version_minor": 0
      },
      "text/plain": [
       "Pages in Crystallography:   0%|          | 0/100 [00:00<?, ?page/s]"
      ]
     },
     "metadata": {},
     "output_type": "display_data"
    },
    {
     "data": {
      "application/vnd.jupyter.widget-view+json": {
       "model_id": "a0871a815a724f2fb3679bbef17ccde8",
       "version_major": 2,
       "version_minor": 0
      },
      "text/plain": [
       "Pages in Experimental physics:   0%|          | 0/31 [00:00<?, ?page/s]"
      ]
     },
     "metadata": {},
     "output_type": "display_data"
    },
    {
     "data": {
      "application/vnd.jupyter.widget-view+json": {
       "model_id": "f0142eb109714549bbb1407ed6616b9e",
       "version_major": 2,
       "version_minor": 0
      },
      "text/plain": [
       "Categories (flat):   0%|          | 0/4 [00:00<?, ?cat/s]"
      ]
     },
     "metadata": {},
     "output_type": "display_data"
    },
    {
     "data": {
      "application/vnd.jupyter.widget-view+json": {
       "model_id": "e5162d7fd0ee473fa261dcbdc5d67d88",
       "version_major": 2,
       "version_minor": 0
      },
      "text/plain": [
       "Pages in Experimental physicists:   0%|          | 0/97 [00:00<?, ?page/s]"
      ]
     },
     "metadata": {},
     "output_type": "display_data"
    },
    {
     "data": {
      "application/vnd.jupyter.widget-view+json": {
       "model_id": "64dbdb6e4aaf461ea0a635fa18719343",
       "version_major": 2,
       "version_minor": 0
      },
      "text/plain": [
       "Pages in Accelerator physics:   0%|          | 0/100 [00:00<?, ?page/s]"
      ]
     },
     "metadata": {},
     "output_type": "display_data"
    },
    {
     "data": {
      "application/vnd.jupyter.widget-view+json": {
       "model_id": "02b4c5099752449ea45658f73fbfa8b0",
       "version_major": 2,
       "version_minor": 0
      },
      "text/plain": [
       "Pages in Experimental particle physics:   0%|          | 0/87 [00:00<?, ?page/s]"
      ]
     },
     "metadata": {},
     "output_type": "display_data"
    },
    {
     "data": {
      "application/vnd.jupyter.widget-view+json": {
       "model_id": "6cae6a8bd682467e86e9056c09055be1",
       "version_major": 2,
       "version_minor": 0
      },
      "text/plain": [
       "Pages in Physics experiments:   0%|          | 0/100 [00:00<?, ?page/s]"
      ]
     },
     "metadata": {},
     "output_type": "display_data"
    },
    {
     "data": {
      "application/vnd.jupyter.widget-view+json": {
       "model_id": "ebe205dd22a34d4bb52ef4abe69d112e",
       "version_major": 2,
       "version_minor": 0
      },
      "text/plain": [
       "Pages in Mechanics:   0%|          | 0/100 [00:00<?, ?page/s]"
      ]
     },
     "metadata": {},
     "output_type": "display_data"
    },
    {
     "data": {
      "application/vnd.jupyter.widget-view+json": {
       "model_id": "44f9bf880035425e9068b92704b28f78",
       "version_major": 2,
       "version_minor": 0
      },
      "text/plain": [
       "Categories (flat):   0%|          | 0/10 [00:00<?, ?cat/s]"
      ]
     },
     "metadata": {},
     "output_type": "display_data"
    },
    {
     "data": {
      "application/vnd.jupyter.widget-view+json": {
       "model_id": "0c7d31bf47d34357b3a4262a0ef844a2",
       "version_major": 2,
       "version_minor": 0
      },
      "text/plain": [
       "Pages in Biomechanics:   0%|          | 0/67 [00:00<?, ?page/s]"
      ]
     },
     "metadata": {},
     "output_type": "display_data"
    },
    {
     "data": {
      "application/vnd.jupyter.widget-view+json": {
       "model_id": "bc62ae120e8f4208976c890e461ba434",
       "version_major": 2,
       "version_minor": 0
      },
      "text/plain": [
       "Pages in Classical mechanics:   0%|          | 0/100 [00:00<?, ?page/s]"
      ]
     },
     "metadata": {},
     "output_type": "display_data"
    },
    {
     "data": {
      "application/vnd.jupyter.widget-view+json": {
       "model_id": "6e61142eea48439a944448d2601e013c",
       "version_major": 2,
       "version_minor": 0
      },
      "text/plain": [
       "Pages in Collision:   0%|          | 0/15 [00:00<?, ?page/s]"
      ]
     },
     "metadata": {},
     "output_type": "display_data"
    },
    {
     "data": {
      "application/vnd.jupyter.widget-view+json": {
       "model_id": "d42fe9b873ee4cdca0e1fe8f405af8ad",
       "version_major": 2,
       "version_minor": 0
      },
      "text/plain": [
       "Pages in Dimensionless numbers of mechanics:   0%|          | 0/4 [00:00<?, ?page/s]"
      ]
     },
     "metadata": {},
     "output_type": "display_data"
    },
    {
     "data": {
      "application/vnd.jupyter.widget-view+json": {
       "model_id": "152a576ec1c4434490d0340f2dcf94b1",
       "version_major": 2,
       "version_minor": 0
      },
      "text/plain": [
       "Pages in Dynamical systems:   0%|          | 0/100 [00:00<?, ?page/s]"
      ]
     },
     "metadata": {},
     "output_type": "display_data"
    },
    {
     "data": {
      "application/vnd.jupyter.widget-view+json": {
       "model_id": "b74abbb753bf41adbc3fbc3476d9531a",
       "version_major": 2,
       "version_minor": 0
      },
      "text/plain": [
       "Pages in Implosion:   0%|          | 0/4 [00:00<?, ?page/s]"
      ]
     },
     "metadata": {},
     "output_type": "display_data"
    },
    {
     "data": {
      "application/vnd.jupyter.widget-view+json": {
       "model_id": "414c8571cee141298eb093dff4b9c494",
       "version_major": 2,
       "version_minor": 0
      },
      "text/plain": [
       "Pages in Kinematics:   0%|          | 0/38 [00:00<?, ?page/s]"
      ]
     },
     "metadata": {},
     "output_type": "display_data"
    },
    {
     "data": {
      "application/vnd.jupyter.widget-view+json": {
       "model_id": "5bf640df171541998dd879bb3cd21ddd",
       "version_major": 2,
       "version_minor": 0
      },
      "text/plain": [
       "Pages in Mathematics of rigidity:   0%|          | 0/18 [00:00<?, ?page/s]"
      ]
     },
     "metadata": {},
     "output_type": "display_data"
    },
    {
     "data": {
      "application/vnd.jupyter.widget-view+json": {
       "model_id": "25f8e55b8798423eb3235168cf4b89c8",
       "version_major": 2,
       "version_minor": 0
      },
      "text/plain": [
       "Pages in Mechanical hand tools:   0%|          | 0/84 [00:00<?, ?page/s]"
      ]
     },
     "metadata": {},
     "output_type": "display_data"
    },
    {
     "data": {
      "application/vnd.jupyter.widget-view+json": {
       "model_id": "4fa931907e274ae29a099cf7357c3c66",
       "version_major": 2,
       "version_minor": 0
      },
      "text/plain": [
       "Pages in Mechanical power transmission:   0%|          | 0/42 [00:00<?, ?page/s]"
      ]
     },
     "metadata": {},
     "output_type": "display_data"
    },
    {
     "data": {
      "application/vnd.jupyter.widget-view+json": {
       "model_id": "477aecaa54c64bfeb149810b3f5ec3c2",
       "version_major": 2,
       "version_minor": 0
      },
      "text/plain": [
       "Pages in Nuclear physics:   0%|          | 0/100 [00:00<?, ?page/s]"
      ]
     },
     "metadata": {},
     "output_type": "display_data"
    },
    {
     "data": {
      "application/vnd.jupyter.widget-view+json": {
       "model_id": "724d0abc4f4c41d5878aa09b21c50f10",
       "version_major": 2,
       "version_minor": 0
      },
      "text/plain": [
       "Categories (flat):   0%|          | 0/10 [00:00<?, ?cat/s]"
      ]
     },
     "metadata": {},
     "output_type": "display_data"
    },
    {
     "data": {
      "application/vnd.jupyter.widget-view+json": {
       "model_id": "b2fe1d77fb4b4f7c8cc1aa775df10d54",
       "version_major": 2,
       "version_minor": 0
      },
      "text/plain": [
       "Pages in Nuclear chemistry:   0%|          | 0/59 [00:00<?, ?page/s]"
      ]
     },
     "metadata": {},
     "output_type": "display_data"
    },
    {
     "data": {
      "application/vnd.jupyter.widget-view+json": {
       "model_id": "e221a9319f1b42b9b202e9ce3e21c164",
       "version_major": 2,
       "version_minor": 0
      },
      "text/plain": [
       "Pages in Cold fusion:   0%|          | 0/35 [00:00<?, ?page/s]"
      ]
     },
     "metadata": {},
     "output_type": "display_data"
    },
    {
     "data": {
      "application/vnd.jupyter.widget-view+json": {
       "model_id": "5eb6fd84a94e42ceb0703e51dcecd74f",
       "version_major": 2,
       "version_minor": 0
      },
      "text/plain": [
       "Pages in Nuclear energy:   0%|          | 0/17 [00:00<?, ?page/s]"
      ]
     },
     "metadata": {},
     "output_type": "display_data"
    },
    {
     "data": {
      "application/vnd.jupyter.widget-view+json": {
       "model_id": "7091c6026e0c414e85452853464d6ec8",
       "version_major": 2,
       "version_minor": 0
      },
      "text/plain": [
       "Pages in Exotic atoms:   0%|          | 0/7 [00:00<?, ?page/s]"
      ]
     },
     "metadata": {},
     "output_type": "display_data"
    },
    {
     "data": {
      "application/vnd.jupyter.widget-view+json": {
       "model_id": "b41170c081684c849ea5de9106129e5d",
       "version_major": 2,
       "version_minor": 0
      },
      "text/plain": [
       "Pages in Nuclear fission:   0%|          | 0/25 [00:00<?, ?page/s]"
      ]
     },
     "metadata": {},
     "output_type": "display_data"
    },
    {
     "data": {
      "application/vnd.jupyter.widget-view+json": {
       "model_id": "112515205c2243a18bab31e5777e3403",
       "version_major": 2,
       "version_minor": 0
      },
      "text/plain": [
       "Pages in Nuclear interdisciplinary topics:   0%|          | 0/3 [00:00<?, ?page/s]"
      ]
     },
     "metadata": {},
     "output_type": "display_data"
    },
    {
     "data": {
      "application/vnd.jupyter.widget-view+json": {
       "model_id": "7252642daa084562b27d65d93fc45731",
       "version_major": 2,
       "version_minor": 0
      },
      "text/plain": [
       "Pages in Isotopes:   0%|          | 0/45 [00:00<?, ?page/s]"
      ]
     },
     "metadata": {},
     "output_type": "display_data"
    },
    {
     "data": {
      "application/vnd.jupyter.widget-view+json": {
       "model_id": "e4cacea1616a49b7934bde18da53e27c",
       "version_major": 2,
       "version_minor": 0
      },
      "text/plain": [
       "Pages in Nuclear physics journals:   0%|          | 0/13 [00:00<?, ?page/s]"
      ]
     },
     "metadata": {},
     "output_type": "display_data"
    },
    {
     "data": {
      "application/vnd.jupyter.widget-view+json": {
       "model_id": "da9857ea20eb43388ad7985704d7ad83",
       "version_major": 2,
       "version_minor": 0
      },
      "text/plain": [
       "Pages in Nuclear fusion:   0%|          | 0/37 [00:00<?, ?page/s]"
      ]
     },
     "metadata": {},
     "output_type": "display_data"
    },
    {
     "data": {
      "application/vnd.jupyter.widget-view+json": {
       "model_id": "7853120dc3934b35bb0d0ac783bbff5b",
       "version_major": 2,
       "version_minor": 0
      },
      "text/plain": [
       "Pages in Nuclear magnetic resonance:   0%|          | 0/100 [00:00<?, ?page/s]"
      ]
     },
     "metadata": {},
     "output_type": "display_data"
    },
    {
     "data": {
      "application/vnd.jupyter.widget-view+json": {
       "model_id": "94327d7eeb2c48589af6b09b4b7dad5a",
       "version_major": 2,
       "version_minor": 0
      },
      "text/plain": [
       "Pages in Particle physics:   0%|          | 0/100 [00:00<?, ?page/s]"
      ]
     },
     "metadata": {},
     "output_type": "display_data"
    },
    {
     "data": {
      "application/vnd.jupyter.widget-view+json": {
       "model_id": "1f0c516672dd4a8faabf9cf51dfc1d35",
       "version_major": 2,
       "version_minor": 0
      },
      "text/plain": [
       "Categories (flat):   0%|          | 0/10 [00:00<?, ?cat/s]"
      ]
     },
     "metadata": {},
     "output_type": "display_data"
    },
    {
     "data": {
      "application/vnd.jupyter.widget-view+json": {
       "model_id": "5ef7beb2172e4b6894159c7eee2fb884",
       "version_major": 2,
       "version_minor": 0
      },
      "text/plain": [
       "Pages in Astroparticle physics:   0%|          | 0/30 [00:00<?, ?page/s]"
      ]
     },
     "metadata": {},
     "output_type": "display_data"
    },
    {
     "data": {
      "application/vnd.jupyter.widget-view+json": {
       "model_id": "24c9a56dee7244758bb18b53e04bb0c0",
       "version_major": 2,
       "version_minor": 0
      },
      "text/plain": [
       "Pages in Computational particle physics:   0%|          | 0/9 [00:00<?, ?page/s]"
      ]
     },
     "metadata": {},
     "output_type": "display_data"
    },
    {
     "data": {
      "application/vnd.jupyter.widget-view+json": {
       "model_id": "c1f1ef1842f247bbb09c8ffc078613a2",
       "version_major": 2,
       "version_minor": 0
      },
      "text/plain": [
       "Pages in Experimental particle physics:   0%|          | 0/87 [00:00<?, ?page/s]"
      ]
     },
     "metadata": {},
     "output_type": "display_data"
    },
    {
     "data": {
      "application/vnd.jupyter.widget-view+json": {
       "model_id": "fb3ed0a106714127a5de59905e3cd517",
       "version_major": 2,
       "version_minor": 0
      },
      "text/plain": [
       "Pages in Fundamental interactions:   0%|          | 0/5 [00:00<?, ?page/s]"
      ]
     },
     "metadata": {},
     "output_type": "display_data"
    },
    {
     "data": {
      "application/vnd.jupyter.widget-view+json": {
       "model_id": "7e300262adbc4956809872b3691038b5",
       "version_major": 2,
       "version_minor": 0
      },
      "text/plain": [
       "Pages in Particle physics journals:   0%|          | 0/15 [00:00<?, ?page/s]"
      ]
     },
     "metadata": {},
     "output_type": "display_data"
    },
    {
     "data": {
      "application/vnd.jupyter.widget-view+json": {
       "model_id": "4ecf9b8a742841deb5e90edc74be12d6",
       "version_major": 2,
       "version_minor": 0
      },
      "text/plain": [
       "Pages in Particle physicists:   0%|          | 0/100 [00:00<?, ?page/s]"
      ]
     },
     "metadata": {},
     "output_type": "display_data"
    },
    {
     "data": {
      "application/vnd.jupyter.widget-view+json": {
       "model_id": "824afff9fede4beaafb8143928d83559",
       "version_major": 2,
       "version_minor": 0
      },
      "text/plain": [
       "Pages in Physics beyond the Standard Model:   0%|          | 0/91 [00:00<?, ?page/s]"
      ]
     },
     "metadata": {},
     "output_type": "display_data"
    },
    {
     "data": {
      "application/vnd.jupyter.widget-view+json": {
       "model_id": "341cd6700f6a41b69af0bcad9e6aa33e",
       "version_major": 2,
       "version_minor": 0
      },
      "text/plain": [
       "Pages in Scattering:   0%|          | 0/83 [00:00<?, ?page/s]"
      ]
     },
     "metadata": {},
     "output_type": "display_data"
    },
    {
     "data": {
      "application/vnd.jupyter.widget-view+json": {
       "model_id": "36af8066cd374dfea426ba1e4ca459d5",
       "version_major": 2,
       "version_minor": 0
      },
      "text/plain": [
       "Pages in Standard Model:   0%|          | 0/46 [00:00<?, ?page/s]"
      ]
     },
     "metadata": {},
     "output_type": "display_data"
    },
    {
     "data": {
      "application/vnd.jupyter.widget-view+json": {
       "model_id": "bd0f35c600a04231b0fcadcb3022a269",
       "version_major": 2,
       "version_minor": 0
      },
      "text/plain": [
       "Pages in Subatomic particles:   0%|          | 0/11 [00:00<?, ?page/s]"
      ]
     },
     "metadata": {},
     "output_type": "display_data"
    },
    {
     "data": {
      "application/vnd.jupyter.widget-view+json": {
       "model_id": "1d35c85279a449b499b1b758163bf103",
       "version_major": 2,
       "version_minor": 0
      },
      "text/plain": [
       "Pages in Modern physics:   0%|          | 0/1 [00:00<?, ?page/s]"
      ]
     },
     "metadata": {},
     "output_type": "display_data"
    },
    {
     "data": {
      "application/vnd.jupyter.widget-view+json": {
       "model_id": "c94fe5b53d0d429c8b4db8779a16622d",
       "version_major": 2,
       "version_minor": 0
      },
      "text/plain": [
       "Pages in Physicists:   0%|          | 0/3 [00:00<?, ?page/s]"
      ]
     },
     "metadata": {},
     "output_type": "display_data"
    },
    {
     "data": {
      "application/vnd.jupyter.widget-view+json": {
       "model_id": "6899f0fbcd514cad9ba7b8dc36314602",
       "version_major": 2,
       "version_minor": 0
      },
      "text/plain": [
       "Categories (flat):   0%|          | 0/10 [00:00<?, ?cat/s]"
      ]
     },
     "metadata": {},
     "output_type": "display_data"
    },
    {
     "data": {
      "application/vnd.jupyter.widget-view+json": {
       "model_id": "66272117e3414a8fb0018020ad6fb7bc",
       "version_major": 2,
       "version_minor": 0
      },
      "text/plain": [
       "Pages in Physicists by century: 0page [00:00, ?page/s]"
      ]
     },
     "metadata": {},
     "output_type": "display_data"
    },
    {
     "data": {
      "application/vnd.jupyter.widget-view+json": {
       "model_id": "d9eb627697fe4336ad9fab6d66d1df27",
       "version_major": 2,
       "version_minor": 0
      },
      "text/plain": [
       "Categories (flat):   0%|          | 0/9 [00:00<?, ?cat/s]"
      ]
     },
     "metadata": {},
     "output_type": "display_data"
    },
    {
     "data": {
      "application/vnd.jupyter.widget-view+json": {
       "model_id": "cdefaa2c50ea4d179323b3220e661659",
       "version_major": 2,
       "version_minor": 0
      },
      "text/plain": [
       "Pages in Physicists by nationality and century: 0page [00:00, ?page/s]"
      ]
     },
     "metadata": {},
     "output_type": "display_data"
    },
    {
     "data": {
      "application/vnd.jupyter.widget-view+json": {
       "model_id": "8527ebde88c44d93a63c4a19d46ac6f0",
       "version_major": 2,
       "version_minor": 0
      },
      "text/plain": [
       "Pages in Women physicists by century: 0page [00:00, ?page/s]"
      ]
     },
     "metadata": {},
     "output_type": "display_data"
    },
    {
     "data": {
      "application/vnd.jupyter.widget-view+json": {
       "model_id": "d5e2fdcd6a4e4985b2112e29b267b7a8",
       "version_major": 2,
       "version_minor": 0
      },
      "text/plain": [
       "Pages in 13th-century physicists:   0%|          | 0/3 [00:00<?, ?page/s]"
      ]
     },
     "metadata": {},
     "output_type": "display_data"
    },
    {
     "data": {
      "application/vnd.jupyter.widget-view+json": {
       "model_id": "1dfacb8fa1a2406c8940c68b693a3d86",
       "version_major": 2,
       "version_minor": 0
      },
      "text/plain": [
       "Pages in 16th-century physicists: 0page [00:00, ?page/s]"
      ]
     },
     "metadata": {},
     "output_type": "display_data"
    },
    {
     "data": {
      "application/vnd.jupyter.widget-view+json": {
       "model_id": "4c0dfaa227b944f89f140e3b1426318f",
       "version_major": 2,
       "version_minor": 0
      },
      "text/plain": [
       "Pages in 17th-century physicists:   0%|          | 0/4 [00:00<?, ?page/s]"
      ]
     },
     "metadata": {},
     "output_type": "display_data"
    },
    {
     "data": {
      "application/vnd.jupyter.widget-view+json": {
       "model_id": "a623b0f346054bbeb29f1a8e4e5620c3",
       "version_major": 2,
       "version_minor": 0
      },
      "text/plain": [
       "Pages in 18th-century physicists:   0%|          | 0/1 [00:00<?, ?page/s]"
      ]
     },
     "metadata": {},
     "output_type": "display_data"
    },
    {
     "data": {
      "application/vnd.jupyter.widget-view+json": {
       "model_id": "d2f48bfb683a47e0bf8bb43451e45bf6",
       "version_major": 2,
       "version_minor": 0
      },
      "text/plain": [
       "Pages in 19th-century physicists:   0%|          | 0/2 [00:00<?, ?page/s]"
      ]
     },
     "metadata": {},
     "output_type": "display_data"
    },
    {
     "data": {
      "application/vnd.jupyter.widget-view+json": {
       "model_id": "56b59012d8f44abdbbf9633673c1db98",
       "version_major": 2,
       "version_minor": 0
      },
      "text/plain": [
       "Pages in 20th-century physicists:   0%|          | 0/56 [00:00<?, ?page/s]"
      ]
     },
     "metadata": {},
     "output_type": "display_data"
    },
    {
     "name": "stdout",
     "output_type": "stream",
     "text": [
      "[Erreur] Impossible de charger la page 'Jonathon Howard' : HTTPSConnectionPool(host='en.wikipedia.org', port=443): Read timed out. (read timeout=10.0)\n",
      "[Erreur] Impossible de charger la page 'Tina Kahniashvili' : HTTPSConnectionPool(host='en.wikipedia.org', port=443): Max retries exceeded with url: /w/api.php?format=json&redirects=1&action=query&prop=info&titles=Tina+Kahniashvili&inprop=protection%7Ctalkid%7Cwatched%7Cwatchers%7Cvisitingwatchers%7Cnotificationtimestamp%7Csubjectid%7Curl%7Creadable%7Cpreload%7Cdisplaytitle%7Cvarianttitles (Caused by NewConnectionError('<urllib3.connection.HTTPSConnection object at 0x744178bcf860>: Failed to establish a new connection: [Errno 101] Network is unreachable'))\n",
      "[Erreur] Impossible de charger la page 'Mahmud Karimov' : HTTPSConnectionPool(host='en.wikipedia.org', port=443): Max retries exceeded with url: /w/api.php?format=json&redirects=1&action=query&prop=info&titles=Mahmud+Karimov&inprop=protection%7Ctalkid%7Cwatched%7Cwatchers%7Cvisitingwatchers%7Cnotificationtimestamp%7Csubjectid%7Curl%7Creadable%7Cpreload%7Cdisplaytitle%7Cvarianttitles (Caused by NewConnectionError('<urllib3.connection.HTTPSConnection object at 0x744178a4f890>: Failed to establish a new connection: [Errno 101] Network is unreachable'))\n",
      "[Erreur] Impossible de charger la page 'Costas Kounnas' : HTTPSConnectionPool(host='en.wikipedia.org', port=443): Max retries exceeded with url: /w/api.php?format=json&redirects=1&action=query&prop=info&titles=Costas+Kounnas&inprop=protection%7Ctalkid%7Cwatched%7Cwatchers%7Cvisitingwatchers%7Cnotificationtimestamp%7Csubjectid%7Curl%7Creadable%7Cpreload%7Cdisplaytitle%7Cvarianttitles (Caused by NewConnectionError('<urllib3.connection.HTTPSConnection object at 0x744178bc77d0>: Failed to establish a new connection: [Errno 101] Network is unreachable'))\n",
      "[Erreur] Impossible de charger la page 'Alexandre Lazarian' : HTTPSConnectionPool(host='en.wikipedia.org', port=443): Max retries exceeded with url: /w/api.php?format=json&redirects=1&action=query&prop=info&titles=Alexandre+Lazarian&inprop=protection%7Ctalkid%7Cwatched%7Cwatchers%7Cvisitingwatchers%7Cnotificationtimestamp%7Csubjectid%7Curl%7Creadable%7Cpreload%7Cdisplaytitle%7Cvarianttitles (Caused by NewConnectionError('<urllib3.connection.HTTPSConnection object at 0x7441a4bb6ed0>: Failed to establish a new connection: [Errno 101] Network is unreachable'))\n",
      "[Erreur] Impossible de charger la page 'Félix Malu wa Kalenga' : HTTPSConnectionPool(host='en.wikipedia.org', port=443): Max retries exceeded with url: /w/api.php?format=json&redirects=1&action=query&prop=info&titles=F%C3%A9lix+Malu+wa+Kalenga&inprop=protection%7Ctalkid%7Cwatched%7Cwatchers%7Cvisitingwatchers%7Cnotificationtimestamp%7Csubjectid%7Curl%7Creadable%7Cpreload%7Cdisplaytitle%7Cvarianttitles (Caused by NewConnectionError('<urllib3.connection.HTTPSConnection object at 0x744178a4e660>: Failed to establish a new connection: [Errno 101] Network is unreachable'))\n",
      "[Erreur] Impossible de charger la page 'Branca Edmée Marques' : HTTPSConnectionPool(host='en.wikipedia.org', port=443): Max retries exceeded with url: /w/api.php?format=json&redirects=1&action=query&prop=info&titles=Branca+Edm%C3%A9e+Marques&inprop=protection%7Ctalkid%7Cwatched%7Cwatchers%7Cvisitingwatchers%7Cnotificationtimestamp%7Csubjectid%7Curl%7Creadable%7Cpreload%7Cdisplaytitle%7Cvarianttitles (Caused by NewConnectionError('<urllib3.connection.HTTPSConnection object at 0x744178aed7c0>: Failed to establish a new connection: [Errno 101] Network is unreachable'))\n",
      "[Erreur] Impossible de charger la page 'Liguri Mosulishvili' : HTTPSConnectionPool(host='en.wikipedia.org', port=443): Max retries exceeded with url: /w/api.php?format=json&redirects=1&action=query&prop=info&titles=Liguri+Mosulishvili&inprop=protection%7Ctalkid%7Cwatched%7Cwatchers%7Cvisitingwatchers%7Cnotificationtimestamp%7Csubjectid%7Curl%7Creadable%7Cpreload%7Cdisplaytitle%7Cvarianttitles (Caused by NewConnectionError('<urllib3.connection.HTTPSConnection object at 0x744178dd9250>: Failed to establish a new connection: [Errno 101] Network is unreachable'))\n",
      "[Erreur] Impossible de charger la page 'Aram Nalbandyan' : HTTPSConnectionPool(host='en.wikipedia.org', port=443): Max retries exceeded with url: /w/api.php?format=json&redirects=1&action=query&prop=info&titles=Aram+Nalbandyan&inprop=protection%7Ctalkid%7Cwatched%7Cwatchers%7Cvisitingwatchers%7Cnotificationtimestamp%7Csubjectid%7Curl%7Creadable%7Cpreload%7Cdisplaytitle%7Cvarianttitles (Caused by NewConnectionError('<urllib3.connection.HTTPSConnection object at 0x744178b12690>: Failed to establish a new connection: [Errno 101] Network is unreachable'))\n",
      "[Erreur] Impossible de charger la page 'Stephan Narison' : HTTPSConnectionPool(host='en.wikipedia.org', port=443): Max retries exceeded with url: /w/api.php?format=json&redirects=1&action=query&prop=info&titles=Stephan+Narison&inprop=protection%7Ctalkid%7Cwatched%7Cwatchers%7Cvisitingwatchers%7Cnotificationtimestamp%7Csubjectid%7Curl%7Creadable%7Cpreload%7Cdisplaytitle%7Cvarianttitles (Caused by NewConnectionError('<urllib3.connection.HTTPSConnection object at 0x744178b110a0>: Failed to establish a new connection: [Errno 101] Network is unreachable'))\n",
      "[Erreur] Impossible de charger la page 'Vassili Nesterenko' : HTTPSConnectionPool(host='en.wikipedia.org', port=443): Max retries exceeded with url: /w/api.php?format=json&redirects=1&action=query&prop=info&titles=Vassili+Nesterenko&inprop=protection%7Ctalkid%7Cwatched%7Cwatchers%7Cvisitingwatchers%7Cnotificationtimestamp%7Csubjectid%7Curl%7Creadable%7Cpreload%7Cdisplaytitle%7Cvarianttitles (Caused by NewConnectionError('<urllib3.connection.HTTPSConnection object at 0x7441a4bb78f0>: Failed to establish a new connection: [Errno 101] Network is unreachable'))\n",
      "[Erreur] Impossible de charger la page 'Francisca Nneka Okeke' : HTTPSConnectionPool(host='en.wikipedia.org', port=443): Max retries exceeded with url: /w/api.php?format=json&redirects=1&action=query&prop=info&titles=Francisca+Nneka+Okeke&inprop=protection%7Ctalkid%7Cwatched%7Cwatchers%7Cvisitingwatchers%7Cnotificationtimestamp%7Csubjectid%7Curl%7Creadable%7Cpreload%7Cdisplaytitle%7Cvarianttitles (Caused by NewConnectionError('<urllib3.connection.HTTPSConnection object at 0x744178b13620>: Failed to establish a new connection: [Errno 101] Network is unreachable'))\n",
      "[Erreur] Impossible de charger la page 'Pius N. Okeke' : HTTPSConnectionPool(host='en.wikipedia.org', port=443): Max retries exceeded with url: /w/api.php?format=json&redirects=1&action=query&prop=info&titles=Pius+N.+Okeke&inprop=protection%7Ctalkid%7Cwatched%7Cwatchers%7Cvisitingwatchers%7Cnotificationtimestamp%7Csubjectid%7Curl%7Creadable%7Cpreload%7Cdisplaytitle%7Cvarianttitles (Caused by NewConnectionError('<urllib3.connection.HTTPSConnection object at 0x744178d8d2b0>: Failed to establish a new connection: [Errno 101] Network is unreachable'))\n",
      "[Erreur] Impossible de charger la page 'Simon Pasternack' : HTTPSConnectionPool(host='en.wikipedia.org', port=443): Max retries exceeded with url: /w/api.php?format=json&redirects=1&action=query&prop=info&titles=Simon+Pasternack&inprop=protection%7Ctalkid%7Cwatched%7Cwatchers%7Cvisitingwatchers%7Cnotificationtimestamp%7Csubjectid%7Curl%7Creadable%7Cpreload%7Cdisplaytitle%7Cvarianttitles (Caused by NewConnectionError('<urllib3.connection.HTTPSConnection object at 0x744178d8d220>: Failed to establish a new connection: [Errno 101] Network is unreachable'))\n",
      "[Erreur] Impossible de charger la page 'François Peeters' : HTTPSConnectionPool(host='en.wikipedia.org', port=443): Max retries exceeded with url: /w/api.php?format=json&redirects=1&action=query&prop=info&titles=Fran%C3%A7ois+Peeters&inprop=protection%7Ctalkid%7Cwatched%7Cwatchers%7Cvisitingwatchers%7Cnotificationtimestamp%7Csubjectid%7Curl%7Creadable%7Cpreload%7Cdisplaytitle%7Cvarianttitles (Caused by NewConnectionError('<urllib3.connection.HTTPSConnection object at 0x744178b13500>: Failed to establish a new connection: [Errno 101] Network is unreachable'))\n",
      "[Erreur] Impossible de charger la page 'Pierre Chappuis (physicist)' : HTTPSConnectionPool(host='en.wikipedia.org', port=443): Max retries exceeded with url: /w/api.php?format=json&redirects=1&action=query&prop=info&titles=Pierre+Chappuis+%28physicist%29&inprop=protection%7Ctalkid%7Cwatched%7Cwatchers%7Cvisitingwatchers%7Cnotificationtimestamp%7Csubjectid%7Curl%7Creadable%7Cpreload%7Cdisplaytitle%7Cvarianttitles (Caused by NewConnectionError('<urllib3.connection.HTTPSConnection object at 0x744198d1a990>: Failed to establish a new connection: [Errno 101] Network is unreachable'))\n",
      "[Erreur] Impossible de charger la page 'Stephen Pistorius' : HTTPSConnectionPool(host='en.wikipedia.org', port=443): Max retries exceeded with url: /w/api.php?format=json&redirects=1&action=query&prop=info&titles=Stephen+Pistorius&inprop=protection%7Ctalkid%7Cwatched%7Cwatchers%7Cvisitingwatchers%7Cnotificationtimestamp%7Csubjectid%7Curl%7Creadable%7Cpreload%7Cdisplaytitle%7Cvarianttitles (Caused by NewConnectionError('<urllib3.connection.HTTPSConnection object at 0x744178b12e70>: Failed to establish a new connection: [Errno 101] Network is unreachable'))\n",
      "[Erreur] Impossible de charger la page 'Sergiu Rădăuțanu' : HTTPSConnectionPool(host='en.wikipedia.org', port=443): Max retries exceeded with url: /w/api.php?format=json&redirects=1&action=query&prop=info&titles=Sergiu+R%C4%83d%C4%83u%C8%9Banu&inprop=protection%7Ctalkid%7Cwatched%7Cwatchers%7Cvisitingwatchers%7Cnotificationtimestamp%7Csubjectid%7Curl%7Creadable%7Cpreload%7Cdisplaytitle%7Cvarianttitles (Caused by NewConnectionError('<urllib3.connection.HTTPSConnection object at 0x744178a4d6a0>: Failed to establish a new connection: [Errno 101] Network is unreachable'))\n",
      "[Erreur] Impossible de charger la page 'Anatoly Radyushkin' : HTTPSConnectionPool(host='en.wikipedia.org', port=443): Max retries exceeded with url: /w/api.php?format=json&redirects=1&action=query&prop=info&titles=Anatoly+Radyushkin&inprop=protection%7Ctalkid%7Cwatched%7Cwatchers%7Cvisitingwatchers%7Cnotificationtimestamp%7Csubjectid%7Curl%7Creadable%7Cpreload%7Cdisplaytitle%7Cvarianttitles (Caused by NewConnectionError('<urllib3.connection.HTTPSConnection object at 0x744178b11af0>: Failed to establish a new connection: [Errno 101] Network is unreachable'))\n",
      "[Erreur] Impossible de charger la page 'Rabia Salihu Sa'id' : HTTPSConnectionPool(host='en.wikipedia.org', port=443): Max retries exceeded with url: /w/api.php?format=json&redirects=1&action=query&prop=info&titles=Rabia+Salihu+Sa%27id&inprop=protection%7Ctalkid%7Cwatched%7Cwatchers%7Cvisitingwatchers%7Cnotificationtimestamp%7Csubjectid%7Curl%7Creadable%7Cpreload%7Cdisplaytitle%7Cvarianttitles (Caused by NewConnectionError('<urllib3.connection.HTTPSConnection object at 0x7441a4bb79e0>: Failed to establish a new connection: [Errno 101] Network is unreachable'))\n",
      "[Erreur] Impossible de charger la page 'Lidia Salgueiro' : HTTPSConnectionPool(host='en.wikipedia.org', port=443): Max retries exceeded with url: /w/api.php?format=json&redirects=1&action=query&prop=info&titles=Lidia+Salgueiro&inprop=protection%7Ctalkid%7Cwatched%7Cwatchers%7Cvisitingwatchers%7Cnotificationtimestamp%7Csubjectid%7Curl%7Creadable%7Cpreload%7Cdisplaytitle%7Cvarianttitles (Caused by NewConnectionError('<urllib3.connection.HTTPSConnection object at 0x744178d8cdd0>: Failed to establish a new connection: [Errno 101] Network is unreachable'))\n",
      "[Erreur] Impossible de charger la page 'Elmar Schreiber' : HTTPSConnectionPool(host='en.wikipedia.org', port=443): Max retries exceeded with url: /w/api.php?format=json&redirects=1&action=query&prop=info&titles=Elmar+Schreiber&inprop=protection%7Ctalkid%7Cwatched%7Cwatchers%7Cvisitingwatchers%7Cnotificationtimestamp%7Csubjectid%7Curl%7Creadable%7Cpreload%7Cdisplaytitle%7Cvarianttitles (Caused by NewConnectionError('<urllib3.connection.HTTPSConnection object at 0x744178d8cfb0>: Failed to establish a new connection: [Errno 101] Network is unreachable'))\n",
      "[Erreur] Impossible de charger la page 'Elmar Schrüfer' : HTTPSConnectionPool(host='en.wikipedia.org', port=443): Max retries exceeded with url: /w/api.php?format=json&redirects=1&action=query&prop=info&titles=Elmar+Schr%C3%BCfer&inprop=protection%7Ctalkid%7Cwatched%7Cwatchers%7Cvisitingwatchers%7Cnotificationtimestamp%7Csubjectid%7Curl%7Creadable%7Cpreload%7Cdisplaytitle%7Cvarianttitles (Caused by NewConnectionError('<urllib3.connection.HTTPSConnection object at 0x7441a4bb6b40>: Failed to establish a new connection: [Errno 101] Network is unreachable'))\n",
      "[Erreur] Impossible de charger la page 'Thorsteinn I. Sigfusson' : HTTPSConnectionPool(host='en.wikipedia.org', port=443): Max retries exceeded with url: /w/api.php?format=json&redirects=1&action=query&prop=info&titles=Thorsteinn+I.+Sigfusson&inprop=protection%7Ctalkid%7Cwatched%7Cwatchers%7Cvisitingwatchers%7Cnotificationtimestamp%7Csubjectid%7Curl%7Creadable%7Cpreload%7Cdisplaytitle%7Cvarianttitles (Caused by NewConnectionError('<urllib3.connection.HTTPSConnection object at 0x744178a4ef30>: Failed to establish a new connection: [Errno 101] Network is unreachable'))\n",
      "[Erreur] Impossible de charger la page 'Leopoldo Soto Norambuena' : HTTPSConnectionPool(host='en.wikipedia.org', port=443): Max retries exceeded with url: /w/api.php?format=json&redirects=1&action=query&prop=info&titles=Leopoldo+Soto+Norambuena&inprop=protection%7Ctalkid%7Cwatched%7Cwatchers%7Cvisitingwatchers%7Cnotificationtimestamp%7Csubjectid%7Curl%7Creadable%7Cpreload%7Cdisplaytitle%7Cvarianttitles (Caused by NewConnectionError('<urllib3.connection.HTTPSConnection object at 0x744178bc4aa0>: Failed to establish a new connection: [Errno 101] Network is unreachable'))\n",
      "[Erreur] Impossible de charger la page 'Suwardi (physicist)' : HTTPSConnectionPool(host='en.wikipedia.org', port=443): Max retries exceeded with url: /w/api.php?format=json&redirects=1&action=query&prop=info&titles=Suwardi+%28physicist%29&inprop=protection%7Ctalkid%7Cwatched%7Cwatchers%7Cvisitingwatchers%7Cnotificationtimestamp%7Csubjectid%7Curl%7Creadable%7Cpreload%7Cdisplaytitle%7Cvarianttitles (Caused by NewConnectionError('<urllib3.connection.HTTPSConnection object at 0x744178ddb740>: Failed to establish a new connection: [Errno 101] Network is unreachable'))\n",
      "[Erreur] Impossible de charger la page 'Harry W. K. Tom' : HTTPSConnectionPool(host='en.wikipedia.org', port=443): Max retries exceeded with url: /w/api.php?format=json&redirects=1&action=query&prop=info&titles=Harry+W.+K.+Tom&inprop=protection%7Ctalkid%7Cwatched%7Cwatchers%7Cvisitingwatchers%7Cnotificationtimestamp%7Csubjectid%7Curl%7Creadable%7Cpreload%7Cdisplaytitle%7Cvarianttitles (Caused by NewConnectionError('<urllib3.connection.HTTPSConnection object at 0x7441738ceae0>: Failed to establish a new connection: [Errno 101] Network is unreachable'))\n",
      "[Erreur] Impossible de charger la page 'Toktayum Umetalieva' : HTTPSConnectionPool(host='en.wikipedia.org', port=443): Max retries exceeded with url: /w/api.php?format=json&redirects=1&action=query&prop=info&titles=Toktayum+Umetalieva&inprop=protection%7Ctalkid%7Cwatched%7Cwatchers%7Cvisitingwatchers%7Cnotificationtimestamp%7Csubjectid%7Curl%7Creadable%7Cpreload%7Cdisplaytitle%7Cvarianttitles (Caused by NewConnectionError('<urllib3.connection.HTTPSConnection object at 0x744178dd8410>: Failed to establish a new connection: [Errno 101] Network is unreachable'))\n",
      "[Erreur] Impossible de charger la page 'Jonas Vaiškūnas' : HTTPSConnectionPool(host='en.wikipedia.org', port=443): Max retries exceeded with url: /w/api.php?format=json&redirects=1&action=query&prop=info&titles=Jonas+Vai%C5%A1k%C5%ABnas&inprop=protection%7Ctalkid%7Cwatched%7Cwatchers%7Cvisitingwatchers%7Cnotificationtimestamp%7Csubjectid%7Curl%7Creadable%7Cpreload%7Cdisplaytitle%7Cvarianttitles (Caused by NewConnectionError('<urllib3.connection.HTTPSConnection object at 0x744178b13920>: Failed to establish a new connection: [Errno 101] Network is unreachable'))\n",
      "[Erreur] Impossible de charger la page 'Manuel Valadares' : HTTPSConnectionPool(host='en.wikipedia.org', port=443): Max retries exceeded with url: /w/api.php?format=json&redirects=1&action=query&prop=info&titles=Manuel+Valadares&inprop=protection%7Ctalkid%7Cwatched%7Cwatchers%7Cvisitingwatchers%7Cnotificationtimestamp%7Csubjectid%7Curl%7Creadable%7Cpreload%7Cdisplaytitle%7Cvarianttitles (Caused by NewConnectionError('<urllib3.connection.HTTPSConnection object at 0x744178d8df40>: Failed to establish a new connection: [Errno 101] Network is unreachable'))\n",
      "[Erreur] Impossible de charger la page 'Ahmadou Wagué' : HTTPSConnectionPool(host='en.wikipedia.org', port=443): Max retries exceeded with url: /w/api.php?format=json&redirects=1&action=query&prop=info&titles=Ahmadou+Wagu%C3%A9&inprop=protection%7Ctalkid%7Cwatched%7Cwatchers%7Cvisitingwatchers%7Cnotificationtimestamp%7Csubjectid%7Curl%7Creadable%7Cpreload%7Cdisplaytitle%7Cvarianttitles (Caused by NewConnectionError('<urllib3.connection.HTTPSConnection object at 0x744178d8c2f0>: Failed to establish a new connection: [Errno 101] Network is unreachable'))\n",
      "[Erreur] Impossible de charger la page 'Cardinal Warde' : HTTPSConnectionPool(host='en.wikipedia.org', port=443): Max retries exceeded with url: /w/api.php?format=json&redirects=1&action=query&prop=info&titles=Cardinal+Warde&inprop=protection%7Ctalkid%7Cwatched%7Cwatchers%7Cvisitingwatchers%7Cnotificationtimestamp%7Csubjectid%7Curl%7Creadable%7Cpreload%7Cdisplaytitle%7Cvarianttitles (Caused by NewConnectionError('<urllib3.connection.HTTPSConnection object at 0x744178b11a30>: Failed to establish a new connection: [Errno 101] Network is unreachable'))\n",
      "[Erreur] Impossible de charger la page 'Behzod Yoʻldoshev' : HTTPSConnectionPool(host='en.wikipedia.org', port=443): Max retries exceeded with url: /w/api.php?format=json&redirects=1&action=query&prop=info&titles=Behzod+Yo%CA%BBldoshev&inprop=protection%7Ctalkid%7Cwatched%7Cwatchers%7Cvisitingwatchers%7Cnotificationtimestamp%7Csubjectid%7Curl%7Creadable%7Cpreload%7Cdisplaytitle%7Cvarianttitles (Caused by NewConnectionError('<urllib3.connection.HTTPSConnection object at 0x744178ddaed0>: Failed to establish a new connection: [Errno 101] Network is unreachable'))\n",
      "[Erreur] Impossible de charger la page 'Lassina Zerbo' : HTTPSConnectionPool(host='en.wikipedia.org', port=443): Max retries exceeded with url: /w/api.php?format=json&redirects=1&action=query&prop=info&titles=Lassina+Zerbo&inprop=protection%7Ctalkid%7Cwatched%7Cwatchers%7Cvisitingwatchers%7Cnotificationtimestamp%7Csubjectid%7Curl%7Creadable%7Cpreload%7Cdisplaytitle%7Cvarianttitles (Caused by NewConnectionError('<urllib3.connection.HTTPSConnection object at 0x744178bc5880>: Failed to establish a new connection: [Errno 101] Network is unreachable'))\n"
     ]
    },
    {
     "data": {
      "application/vnd.jupyter.widget-view+json": {
       "model_id": "566aaa91b0204483bef7cb164106274a",
       "version_major": 2,
       "version_minor": 0
      },
      "text/plain": [
       "Pages in 21st-century physicists:   0%|          | 0/59 [00:00<?, ?page/s]"
      ]
     },
     "metadata": {},
     "output_type": "display_data"
    },
    {
     "name": "stdout",
     "output_type": "stream",
     "text": [
      "[Erreur] Impossible de charger la page 'Abdul Haris' : HTTPSConnectionPool(host='en.wikipedia.org', port=443): Max retries exceeded with url: /w/api.php?format=json&redirects=1&action=query&prop=info&titles=Abdul+Haris&inprop=protection%7Ctalkid%7Cwatched%7Cwatchers%7Cvisitingwatchers%7Cnotificationtimestamp%7Csubjectid%7Curl%7Creadable%7Cpreload%7Cdisplaytitle%7Cvarianttitles (Caused by NewConnectionError('<urllib3.connection.HTTPSConnection object at 0x744178aab7d0>: Failed to establish a new connection: [Errno 101] Network is unreachable'))\n",
      "[Erreur] Impossible de charger la page 'Athar Ali (scientist)' : HTTPSConnectionPool(host='en.wikipedia.org', port=443): Max retries exceeded with url: /w/api.php?format=json&redirects=1&action=query&prop=info&titles=Athar+Ali+%28scientist%29&inprop=protection%7Ctalkid%7Cwatched%7Cwatchers%7Cvisitingwatchers%7Cnotificationtimestamp%7Csubjectid%7Curl%7Creadable%7Cpreload%7Cdisplaytitle%7Cvarianttitles (Caused by NewConnectionError('<urllib3.connection.HTTPSConnection object at 0x744178ddb0e0>: Failed to establish a new connection: [Errno 101] Network is unreachable'))\n",
      "[Erreur] Impossible de charger la page 'Hatice Altug' : HTTPSConnectionPool(host='en.wikipedia.org', port=443): Max retries exceeded with url: /w/api.php?format=json&redirects=1&action=query&prop=info&titles=Hatice+Altug&inprop=protection%7Ctalkid%7Cwatched%7Cwatchers%7Cvisitingwatchers%7Cnotificationtimestamp%7Csubjectid%7Curl%7Creadable%7Cpreload%7Cdisplaytitle%7Cvarianttitles (Caused by NewConnectionError('<urllib3.connection.HTTPSConnection object at 0x7441a4bb7ec0>: Failed to establish a new connection: [Errno 101] Network is unreachable'))\n",
      "[Erreur] Impossible de charger la page 'Yves Ayant' : HTTPSConnectionPool(host='en.wikipedia.org', port=443): Max retries exceeded with url: /w/api.php?format=json&redirects=1&action=query&prop=info&titles=Yves+Ayant&inprop=protection%7Ctalkid%7Cwatched%7Cwatchers%7Cvisitingwatchers%7Cnotificationtimestamp%7Csubjectid%7Curl%7Creadable%7Cpreload%7Cdisplaytitle%7Cvarianttitles (Caused by NewConnectionError('<urllib3.connection.HTTPSConnection object at 0x744178d8cf50>: Failed to establish a new connection: [Errno 101] Network is unreachable'))\n",
      "[Erreur] Impossible de charger la page 'Vladimir Baryshevsky' : HTTPSConnectionPool(host='en.wikipedia.org', port=443): Max retries exceeded with url: /w/api.php?format=json&redirects=1&action=query&prop=info&titles=Vladimir+Baryshevsky&inprop=protection%7Ctalkid%7Cwatched%7Cwatchers%7Cvisitingwatchers%7Cnotificationtimestamp%7Csubjectid%7Curl%7Creadable%7Cpreload%7Cdisplaytitle%7Cvarianttitles (Caused by NewConnectionError('<urllib3.connection.HTTPSConnection object at 0x7441a4bb7c50>: Failed to establish a new connection: [Errno 101] Network is unreachable'))\n",
      "[Erreur] Impossible de charger la page 'Gerrit E. W. Bauer' : HTTPSConnectionPool(host='en.wikipedia.org', port=443): Max retries exceeded with url: /w/api.php?format=json&redirects=1&action=query&prop=info&titles=Gerrit+E.+W.+Bauer&inprop=protection%7Ctalkid%7Cwatched%7Cwatchers%7Cvisitingwatchers%7Cnotificationtimestamp%7Csubjectid%7Curl%7Creadable%7Cpreload%7Cdisplaytitle%7Cvarianttitles (Caused by NewConnectionError('<urllib3.connection.HTTPSConnection object at 0x744178b75e80>: Failed to establish a new connection: [Errno 101] Network is unreachable'))\n",
      "[Erreur] Impossible de charger la page 'Eva-Maria Beck-Meuth' : HTTPSConnectionPool(host='en.wikipedia.org', port=443): Max retries exceeded with url: /w/api.php?format=json&redirects=1&action=query&prop=info&titles=Eva-Maria+Beck-Meuth&inprop=protection%7Ctalkid%7Cwatched%7Cwatchers%7Cvisitingwatchers%7Cnotificationtimestamp%7Csubjectid%7Curl%7Creadable%7Cpreload%7Cdisplaytitle%7Cvarianttitles (Caused by NewConnectionError('<urllib3.connection.HTTPSConnection object at 0x744198d1a990>: Failed to establish a new connection: [Errno 101] Network is unreachable'))\n",
      "[Erreur] Impossible de charger la page 'Luís M. A. Bettencourt' : HTTPSConnectionPool(host='en.wikipedia.org', port=443): Max retries exceeded with url: /w/api.php?format=json&redirects=1&action=query&prop=info&titles=Lu%C3%ADs+M.+A.+Bettencourt&inprop=protection%7Ctalkid%7Cwatched%7Cwatchers%7Cvisitingwatchers%7Cnotificationtimestamp%7Csubjectid%7Curl%7Creadable%7Cpreload%7Cdisplaytitle%7Cvarianttitles (Caused by NewConnectionError('<urllib3.connection.HTTPSConnection object at 0x744178dd9be0>: Failed to establish a new connection: [Errno 101] Network is unreachable'))\n",
      "[Erreur] Impossible de charger la page 'Yvan Bruynseraede' : HTTPSConnectionPool(host='en.wikipedia.org', port=443): Max retries exceeded with url: /w/api.php?format=json&redirects=1&action=query&prop=info&titles=Yvan+Bruynseraede&inprop=protection%7Ctalkid%7Cwatched%7Cwatchers%7Cvisitingwatchers%7Cnotificationtimestamp%7Csubjectid%7Curl%7Creadable%7Cpreload%7Cdisplaytitle%7Cvarianttitles (Caused by NewConnectionError('<urllib3.connection.HTTPSConnection object at 0x744178dd8470>: Failed to establish a new connection: [Errno 101] Network is unreachable'))\n",
      "[Erreur] Impossible de charger la page 'Claudio Bunster' : HTTPSConnectionPool(host='en.wikipedia.org', port=443): Max retries exceeded with url: /w/api.php?format=json&redirects=1&action=query&prop=info&titles=Claudio+Bunster&inprop=protection%7Ctalkid%7Cwatched%7Cwatchers%7Cvisitingwatchers%7Cnotificationtimestamp%7Csubjectid%7Curl%7Creadable%7Cpreload%7Cdisplaytitle%7Cvarianttitles (Caused by NewConnectionError('<urllib3.connection.HTTPSConnection object at 0x744178b12ff0>: Failed to establish a new connection: [Errno 101] Network is unreachable'))\n",
      "[Erreur] Impossible de charger la page 'Patrice Cellario' : HTTPSConnectionPool(host='en.wikipedia.org', port=443): Max retries exceeded with url: /w/api.php?format=json&redirects=1&action=query&prop=info&titles=Patrice+Cellario&inprop=protection%7Ctalkid%7Cwatched%7Cwatchers%7Cvisitingwatchers%7Cnotificationtimestamp%7Csubjectid%7Curl%7Creadable%7Cpreload%7Cdisplaytitle%7Cvarianttitles (Caused by NewConnectionError('<urllib3.connection.HTTPSConnection object at 0x744178d8dd60>: Failed to establish a new connection: [Errno 101] Network is unreachable'))\n",
      "[Erreur] Impossible de charger la page 'Faouzia Charfi' : HTTPSConnectionPool(host='en.wikipedia.org', port=443): Max retries exceeded with url: /w/api.php?format=json&redirects=1&action=query&prop=info&titles=Faouzia+Charfi&inprop=protection%7Ctalkid%7Cwatched%7Cwatchers%7Cvisitingwatchers%7Cnotificationtimestamp%7Csubjectid%7Curl%7Creadable%7Cpreload%7Cdisplaytitle%7Cvarianttitles (Caused by NewConnectionError('<urllib3.connection.HTTPSConnection object at 0x744178d8e870>: Failed to establish a new connection: [Errno 101] Network is unreachable'))\n",
      "[Erreur] Impossible de charger la page 'Hudong Chen' : HTTPSConnectionPool(host='en.wikipedia.org', port=443): Max retries exceeded with url: /w/api.php?format=json&redirects=1&action=query&prop=info&titles=Hudong+Chen&inprop=protection%7Ctalkid%7Cwatched%7Cwatchers%7Cvisitingwatchers%7Cnotificationtimestamp%7Csubjectid%7Curl%7Creadable%7Cpreload%7Cdisplaytitle%7Cvarianttitles (Caused by NewConnectionError('<urllib3.connection.HTTPSConnection object at 0x744178d8ec60>: Failed to establish a new connection: [Errno 101] Network is unreachable'))\n",
      "[Erreur] Impossible de charger la page 'Ashot Chilingarian' : HTTPSConnectionPool(host='en.wikipedia.org', port=443): Max retries exceeded with url: /w/api.php?format=json&redirects=1&action=query&prop=info&titles=Ashot+Chilingarian&inprop=protection%7Ctalkid%7Cwatched%7Cwatchers%7Cvisitingwatchers%7Cnotificationtimestamp%7Csubjectid%7Curl%7Creadable%7Cpreload%7Cdisplaytitle%7Cvarianttitles (Caused by NewConnectionError('<urllib3.connection.HTTPSConnection object at 0x744178b13110>: Failed to establish a new connection: [Errno 101] Network is unreachable'))\n",
      "[Erreur] Impossible de charger la page 'Kwang Hwa Chung' : HTTPSConnectionPool(host='en.wikipedia.org', port=443): Max retries exceeded with url: /w/api.php?format=json&redirects=1&action=query&prop=info&titles=Kwang+Hwa+Chung&inprop=protection%7Ctalkid%7Cwatched%7Cwatchers%7Cvisitingwatchers%7Cnotificationtimestamp%7Csubjectid%7Curl%7Creadable%7Cpreload%7Cdisplaytitle%7Cvarianttitles (Caused by NewConnectionError('<urllib3.connection.HTTPSConnection object at 0x744178dd9c40>: Failed to establish a new connection: [Errno 101] Network is unreachable'))\n",
      "[Erreur] Impossible de charger la page 'Scott Croom' : HTTPSConnectionPool(host='en.wikipedia.org', port=443): Max retries exceeded with url: /w/api.php?format=json&redirects=1&action=query&prop=info&titles=Scott+Croom&inprop=protection%7Ctalkid%7Cwatched%7Cwatchers%7Cvisitingwatchers%7Cnotificationtimestamp%7Csubjectid%7Curl%7Creadable%7Cpreload%7Cdisplaytitle%7Cvarianttitles (Caused by NewConnectionError('<urllib3.connection.HTTPSConnection object at 0x744178b13b90>: Failed to establish a new connection: [Errno 101] Network is unreachable'))\n",
      "[Erreur] Impossible de charger la page 'Tekin Dereli' : HTTPSConnectionPool(host='en.wikipedia.org', port=443): Max retries exceeded with url: /w/api.php?format=json&redirects=1&action=query&prop=info&titles=Tekin+Dereli&inprop=protection%7Ctalkid%7Cwatched%7Cwatchers%7Cvisitingwatchers%7Cnotificationtimestamp%7Csubjectid%7Curl%7Creadable%7Cpreload%7Cdisplaytitle%7Cvarianttitles (Caused by NewConnectionError('<urllib3.connection.HTTPSConnection object at 0x744198d25880>: Failed to establish a new connection: [Errno 101] Network is unreachable'))\n",
      "[Erreur] Impossible de charger la page 'Dana Drábová' : HTTPSConnectionPool(host='en.wikipedia.org', port=443): Max retries exceeded with url: /w/api.php?format=json&redirects=1&action=query&prop=info&titles=Dana+Dr%C3%A1bov%C3%A1&inprop=protection%7Ctalkid%7Cwatched%7Cwatchers%7Cvisitingwatchers%7Cnotificationtimestamp%7Csubjectid%7Curl%7Creadable%7Cpreload%7Cdisplaytitle%7Cvarianttitles (Caused by NewConnectionError('<urllib3.connection.HTTPSConnection object at 0x7441738cef60>: Failed to establish a new connection: [Errno 101] Network is unreachable'))\n",
      "[Erreur] Impossible de charger la page 'Goki Eda' : HTTPSConnectionPool(host='en.wikipedia.org', port=443): Max retries exceeded with url: /w/api.php?format=json&redirects=1&action=query&prop=info&titles=Goki+Eda&inprop=protection%7Ctalkid%7Cwatched%7Cwatchers%7Cvisitingwatchers%7Cnotificationtimestamp%7Csubjectid%7Curl%7Creadable%7Cpreload%7Cdisplaytitle%7Cvarianttitles (Caused by NewConnectionError('<urllib3.connection.HTTPSConnection object at 0x744178d8ecf0>: Failed to establish a new connection: [Errno 101] Network is unreachable'))\n",
      "[Erreur] Impossible de charger la page 'Mohsen Fakhrizadeh' : HTTPSConnectionPool(host='en.wikipedia.org', port=443): Max retries exceeded with url: /w/api.php?format=json&redirects=1&action=query&prop=info&titles=Mohsen+Fakhrizadeh&inprop=protection%7Ctalkid%7Cwatched%7Cwatchers%7Cvisitingwatchers%7Cnotificationtimestamp%7Csubjectid%7Curl%7Creadable%7Cpreload%7Cdisplaytitle%7Cvarianttitles (Caused by NewConnectionError('<urllib3.connection.HTTPSConnection object at 0x744178d8ea20>: Failed to establish a new connection: [Errno 101] Network is unreachable'))\n",
      "[Erreur] Impossible de charger la page 'Xavier Garbet' : HTTPSConnectionPool(host='en.wikipedia.org', port=443): Max retries exceeded with url: /w/api.php?format=json&redirects=1&action=query&prop=info&titles=Xavier+Garbet&inprop=protection%7Ctalkid%7Cwatched%7Cwatchers%7Cvisitingwatchers%7Cnotificationtimestamp%7Csubjectid%7Curl%7Creadable%7Cpreload%7Cdisplaytitle%7Cvarianttitles (Caused by NewConnectionError('<urllib3.connection.HTTPSConnection object at 0x744178d8e6c0>: Failed to establish a new connection: [Errno 101] Network is unreachable'))\n",
      "[Erreur] Impossible de charger la page 'Elena Hassinger' : HTTPSConnectionPool(host='en.wikipedia.org', port=443): Max retries exceeded with url: /w/api.php?format=json&redirects=1&action=query&prop=info&titles=Elena+Hassinger&inprop=protection%7Ctalkid%7Cwatched%7Cwatchers%7Cvisitingwatchers%7Cnotificationtimestamp%7Csubjectid%7Curl%7Creadable%7Cpreload%7Cdisplaytitle%7Cvarianttitles (Caused by NewConnectionError('<urllib3.connection.HTTPSConnection object at 0x744178d8ccb0>: Failed to establish a new connection: [Errno 101] Network is unreachable'))\n",
      "[Erreur] Impossible de charger la page 'Per Helander' : HTTPSConnectionPool(host='en.wikipedia.org', port=443): Max retries exceeded with url: /w/api.php?format=json&redirects=1&action=query&prop=info&titles=Per+Helander&inprop=protection%7Ctalkid%7Cwatched%7Cwatchers%7Cvisitingwatchers%7Cnotificationtimestamp%7Csubjectid%7Curl%7Creadable%7Cpreload%7Cdisplaytitle%7Cvarianttitles (Caused by NewConnectionError('<urllib3.connection.HTTPSConnection object at 0x7441a4bb7f50>: Failed to establish a new connection: [Errno 101] Network is unreachable'))\n",
      "[Erreur] Impossible de charger la page 'Ilan Ben-Zvi' : HTTPSConnectionPool(host='en.wikipedia.org', port=443): Max retries exceeded with url: /w/api.php?format=json&redirects=1&action=query&prop=info&titles=Ilan+Ben-Zvi&inprop=protection%7Ctalkid%7Cwatched%7Cwatchers%7Cvisitingwatchers%7Cnotificationtimestamp%7Csubjectid%7Curl%7Creadable%7Cpreload%7Cdisplaytitle%7Cvarianttitles (Caused by NewConnectionError('<urllib3.connection.HTTPSConnection object at 0x7441b3883980>: Failed to establish a new connection: [Errno 101] Network is unreachable'))\n",
      "[Erreur] Impossible de charger la page 'Ratko Janev' : HTTPSConnectionPool(host='en.wikipedia.org', port=443): Max retries exceeded with url: /w/api.php?format=json&redirects=1&action=query&prop=info&titles=Ratko+Janev&inprop=protection%7Ctalkid%7Cwatched%7Cwatchers%7Cvisitingwatchers%7Cnotificationtimestamp%7Csubjectid%7Curl%7Creadable%7Cpreload%7Cdisplaytitle%7Cvarianttitles (Caused by NewConnectionError('<urllib3.connection.HTTPSConnection object at 0x744178aee2d0>: Failed to establish a new connection: [Errno 101] Network is unreachable'))\n",
      "[Erreur] Impossible de charger la page 'Anne Juel' : HTTPSConnectionPool(host='en.wikipedia.org', port=443): Max retries exceeded with url: /w/api.php?format=json&redirects=1&action=query&prop=info&titles=Anne+Juel&inprop=protection%7Ctalkid%7Cwatched%7Cwatchers%7Cvisitingwatchers%7Cnotificationtimestamp%7Csubjectid%7Curl%7Creadable%7Cpreload%7Cdisplaytitle%7Cvarianttitles (Caused by NewConnectionError('<urllib3.connection.HTTPSConnection object at 0x744178dd9fa0>: Failed to establish a new connection: [Errno 101] Network is unreachable'))\n",
      "[Erreur] Impossible de charger la page 'Oana Jurchescu' : HTTPSConnectionPool(host='en.wikipedia.org', port=443): Max retries exceeded with url: /w/api.php?format=json&redirects=1&action=query&prop=info&titles=Oana+Jurchescu&inprop=protection%7Ctalkid%7Cwatched%7Cwatchers%7Cvisitingwatchers%7Cnotificationtimestamp%7Csubjectid%7Curl%7Creadable%7Cpreload%7Cdisplaytitle%7Cvarianttitles (Caused by NewConnectionError('<urllib3.connection.HTTPSConnection object at 0x744178b110a0>: Failed to establish a new connection: [Errno 101] Network is unreachable'))\n",
      "[Erreur] Impossible de charger la page 'Tina Kahniashvili' : HTTPSConnectionPool(host='en.wikipedia.org', port=443): Max retries exceeded with url: /w/api.php?format=json&redirects=1&action=query&prop=info&titles=Tina+Kahniashvili&inprop=protection%7Ctalkid%7Cwatched%7Cwatchers%7Cvisitingwatchers%7Cnotificationtimestamp%7Csubjectid%7Curl%7Creadable%7Cpreload%7Cdisplaytitle%7Cvarianttitles (Caused by NewConnectionError('<urllib3.connection.HTTPSConnection object at 0x744178d8d6a0>: Failed to establish a new connection: [Errno 101] Network is unreachable'))\n",
      "[Erreur] Impossible de charger la page 'Costas Kounnas' : HTTPSConnectionPool(host='en.wikipedia.org', port=443): Max retries exceeded with url: /w/api.php?format=json&redirects=1&action=query&prop=info&titles=Costas+Kounnas&inprop=protection%7Ctalkid%7Cwatched%7Cwatchers%7Cvisitingwatchers%7Cnotificationtimestamp%7Csubjectid%7Curl%7Creadable%7Cpreload%7Cdisplaytitle%7Cvarianttitles (Caused by NewConnectionError('<urllib3.connection.HTTPSConnection object at 0x744178d8c770>: Failed to establish a new connection: [Errno 101] Network is unreachable'))\n",
      "[Erreur] Impossible de charger la page 'Félix Malu wa Kalenga' : HTTPSConnectionPool(host='en.wikipedia.org', port=443): Max retries exceeded with url: /w/api.php?format=json&redirects=1&action=query&prop=info&titles=F%C3%A9lix+Malu+wa+Kalenga&inprop=protection%7Ctalkid%7Cwatched%7Cwatchers%7Cvisitingwatchers%7Cnotificationtimestamp%7Csubjectid%7Curl%7Creadable%7Cpreload%7Cdisplaytitle%7Cvarianttitles (Caused by NewConnectionError('<urllib3.connection.HTTPSConnection object at 0x744178d8c800>: Failed to establish a new connection: [Errno 101] Network is unreachable'))\n",
      "[Erreur] Impossible de charger la page 'Nam Chang-hee' : HTTPSConnectionPool(host='en.wikipedia.org', port=443): Max retries exceeded with url: /w/api.php?format=json&redirects=1&action=query&prop=info&titles=Nam+Chang-hee&inprop=protection%7Ctalkid%7Cwatched%7Cwatchers%7Cvisitingwatchers%7Cnotificationtimestamp%7Csubjectid%7Curl%7Creadable%7Cpreload%7Cdisplaytitle%7Cvarianttitles (Caused by NewConnectionError('<urllib3.connection.HTTPSConnection object at 0x744178d8eb70>: Failed to establish a new connection: [Errno 101] Network is unreachable'))\n",
      "[Erreur] Impossible de charger la page 'Stephan Narison' : HTTPSConnectionPool(host='en.wikipedia.org', port=443): Max retries exceeded with url: /w/api.php?format=json&redirects=1&action=query&prop=info&titles=Stephan+Narison&inprop=protection%7Ctalkid%7Cwatched%7Cwatchers%7Cvisitingwatchers%7Cnotificationtimestamp%7Csubjectid%7Curl%7Creadable%7Cpreload%7Cdisplaytitle%7Cvarianttitles (Caused by NewConnectionError('<urllib3.connection.HTTPSConnection object at 0x744178b10b60>: Failed to establish a new connection: [Errno 101] Network is unreachable'))\n",
      "[Erreur] Impossible de charger la page 'Francisca Nneka Okeke' : HTTPSConnectionPool(host='en.wikipedia.org', port=443): Max retries exceeded with url: /w/api.php?format=json&redirects=1&action=query&prop=info&titles=Francisca+Nneka+Okeke&inprop=protection%7Ctalkid%7Cwatched%7Cwatchers%7Cvisitingwatchers%7Cnotificationtimestamp%7Csubjectid%7Curl%7Creadable%7Cpreload%7Cdisplaytitle%7Cvarianttitles (Caused by NewConnectionError('<urllib3.connection.HTTPSConnection object at 0x744178dd9250>: Failed to establish a new connection: [Errno 101] Network is unreachable'))\n",
      "[Erreur] Impossible de charger la page 'Pius N. Okeke' : HTTPSConnectionPool(host='en.wikipedia.org', port=443): Max retries exceeded with url: /w/api.php?format=json&redirects=1&action=query&prop=info&titles=Pius+N.+Okeke&inprop=protection%7Ctalkid%7Cwatched%7Cwatchers%7Cvisitingwatchers%7Cnotificationtimestamp%7Csubjectid%7Curl%7Creadable%7Cpreload%7Cdisplaytitle%7Cvarianttitles (Caused by NewConnectionError('<urllib3.connection.HTTPSConnection object at 0x744178aaa0f0>: Failed to establish a new connection: [Errno 101] Network is unreachable'))\n",
      "[Erreur] Impossible de charger la page 'Matej Pavšič' : HTTPSConnectionPool(host='en.wikipedia.org', port=443): Max retries exceeded with url: /w/api.php?format=json&redirects=1&action=query&prop=info&titles=Matej+Pav%C5%A1i%C4%8D&inprop=protection%7Ctalkid%7Cwatched%7Cwatchers%7Cvisitingwatchers%7Cnotificationtimestamp%7Csubjectid%7Curl%7Creadable%7Cpreload%7Cdisplaytitle%7Cvarianttitles (Caused by NewConnectionError('<urllib3.connection.HTTPSConnection object at 0x744198d25880>: Failed to establish a new connection: [Errno 101] Network is unreachable'))\n",
      "[Erreur] Impossible de charger la page 'François Peeters' : HTTPSConnectionPool(host='en.wikipedia.org', port=443): Max retries exceeded with url: /w/api.php?format=json&redirects=1&action=query&prop=info&titles=Fran%C3%A7ois+Peeters&inprop=protection%7Ctalkid%7Cwatched%7Cwatchers%7Cvisitingwatchers%7Cnotificationtimestamp%7Csubjectid%7Curl%7Creadable%7Cpreload%7Cdisplaytitle%7Cvarianttitles (Caused by NewConnectionError('<urllib3.connection.HTTPSConnection object at 0x7441a4be0050>: Failed to establish a new connection: [Errno 101] Network is unreachable'))\n",
      "[Erreur] Impossible de charger la page 'Matjaž Perc' : HTTPSConnectionPool(host='en.wikipedia.org', port=443): Max retries exceeded with url: /w/api.php?format=json&redirects=1&action=query&prop=info&titles=Matja%C5%BE+Perc&inprop=protection%7Ctalkid%7Cwatched%7Cwatchers%7Cvisitingwatchers%7Cnotificationtimestamp%7Csubjectid%7Curl%7Creadable%7Cpreload%7Cdisplaytitle%7Cvarianttitles (Caused by NewConnectionError('<urllib3.connection.HTTPSConnection object at 0x744178d8ce60>: Failed to establish a new connection: [Errno 101] Network is unreachable'))\n",
      "[Erreur] Impossible de charger la page 'Stephen Pistorius' : HTTPSConnectionPool(host='en.wikipedia.org', port=443): Max retries exceeded with url: /w/api.php?format=json&redirects=1&action=query&prop=info&titles=Stephen+Pistorius&inprop=protection%7Ctalkid%7Cwatched%7Cwatchers%7Cvisitingwatchers%7Cnotificationtimestamp%7Csubjectid%7Curl%7Creadable%7Cpreload%7Cdisplaytitle%7Cvarianttitles (Caused by NewConnectionError('<urllib3.connection.HTTPSConnection object at 0x744178d8ebd0>: Failed to establish a new connection: [Errno 101] Network is unreachable'))\n",
      "[Erreur] Impossible de charger la page 'Pavel Povinec' : HTTPSConnectionPool(host='en.wikipedia.org', port=443): Max retries exceeded with url: /w/api.php?format=json&redirects=1&action=query&prop=info&titles=Pavel+Povinec&inprop=protection%7Ctalkid%7Cwatched%7Cwatchers%7Cvisitingwatchers%7Cnotificationtimestamp%7Csubjectid%7Curl%7Creadable%7Cpreload%7Cdisplaytitle%7Cvarianttitles (Caused by NewConnectionError('<urllib3.connection.HTTPSConnection object at 0x744178d8e600>: Failed to establish a new connection: [Errno 101] Network is unreachable'))\n",
      "[Erreur] Impossible de charger la page 'Sofia Quaglioni' : HTTPSConnectionPool(host='en.wikipedia.org', port=443): Max retries exceeded with url: /w/api.php?format=json&redirects=1&action=query&prop=info&titles=Sofia+Quaglioni&inprop=protection%7Ctalkid%7Cwatched%7Cwatchers%7Cvisitingwatchers%7Cnotificationtimestamp%7Csubjectid%7Curl%7Creadable%7Cpreload%7Cdisplaytitle%7Cvarianttitles (Caused by NewConnectionError('<urllib3.connection.HTTPSConnection object at 0x744178d8d790>: Failed to establish a new connection: [Errno 101] Network is unreachable'))\n",
      "[Erreur] Impossible de charger la page 'Karin M. Rabe' : HTTPSConnectionPool(host='en.wikipedia.org', port=443): Max retries exceeded with url: /w/api.php?format=json&redirects=1&action=query&prop=info&titles=Karin+M.+Rabe&inprop=protection%7Ctalkid%7Cwatched%7Cwatchers%7Cvisitingwatchers%7Cnotificationtimestamp%7Csubjectid%7Curl%7Creadable%7Cpreload%7Cdisplaytitle%7Cvarianttitles (Caused by NewConnectionError('<urllib3.connection.HTTPSConnection object at 0x7441a4bb7980>: Failed to establish a new connection: [Errno 101] Network is unreachable'))\n",
      "[Erreur] Impossible de charger la page 'Anatoly Radyushkin' : HTTPSConnectionPool(host='en.wikipedia.org', port=443): Max retries exceeded with url: /w/api.php?format=json&redirects=1&action=query&prop=info&titles=Anatoly+Radyushkin&inprop=protection%7Ctalkid%7Cwatched%7Cwatchers%7Cvisitingwatchers%7Cnotificationtimestamp%7Csubjectid%7Curl%7Creadable%7Cpreload%7Cdisplaytitle%7Cvarianttitles (Caused by NewConnectionError('<urllib3.connection.HTTPSConnection object at 0x744198d20d70>: Failed to establish a new connection: [Errno 101] Network is unreachable'))\n",
      "[Erreur] Impossible de charger la page 'Ranga P. Dias' : HTTPSConnectionPool(host='en.wikipedia.org', port=443): Max retries exceeded with url: /w/api.php?format=json&redirects=1&action=query&prop=info&titles=Ranga+P.+Dias&inprop=protection%7Ctalkid%7Cwatched%7Cwatchers%7Cvisitingwatchers%7Cnotificationtimestamp%7Csubjectid%7Curl%7Creadable%7Cpreload%7Cdisplaytitle%7Cvarianttitles (Caused by NewConnectionError('<urllib3.connection.HTTPSConnection object at 0x744198d2a8a0>: Failed to establish a new connection: [Errno 101] Network is unreachable'))\n",
      "[Erreur] Impossible de charger la page 'Ana Maria Rey' : HTTPSConnectionPool(host='en.wikipedia.org', port=443): Max retries exceeded with url: /w/api.php?format=json&redirects=1&action=query&prop=info&titles=Ana+Maria+Rey&inprop=protection%7Ctalkid%7Cwatched%7Cwatchers%7Cvisitingwatchers%7Cnotificationtimestamp%7Csubjectid%7Curl%7Creadable%7Cpreload%7Cdisplaytitle%7Cvarianttitles (Caused by NewConnectionError('<urllib3.connection.HTTPSConnection object at 0x744178dd9c40>: Failed to establish a new connection: [Errno 101] Network is unreachable'))\n",
      "[Erreur] Impossible de charger la page 'Rabia Salihu Sa'id' : HTTPSConnectionPool(host='en.wikipedia.org', port=443): Max retries exceeded with url: /w/api.php?format=json&redirects=1&action=query&prop=info&titles=Rabia+Salihu+Sa%27id&inprop=protection%7Ctalkid%7Cwatched%7Cwatchers%7Cvisitingwatchers%7Cnotificationtimestamp%7Csubjectid%7Curl%7Creadable%7Cpreload%7Cdisplaytitle%7Cvarianttitles (Caused by NewConnectionError('<urllib3.connection.HTTPSConnection object at 0x744178b13710>: Failed to establish a new connection: [Errno 101] Network is unreachable'))\n",
      "[Erreur] Impossible de charger la page 'Elmar Schreiber' : HTTPSConnectionPool(host='en.wikipedia.org', port=443): Max retries exceeded with url: /w/api.php?format=json&redirects=1&action=query&prop=info&titles=Elmar+Schreiber&inprop=protection%7Ctalkid%7Cwatched%7Cwatchers%7Cvisitingwatchers%7Cnotificationtimestamp%7Csubjectid%7Curl%7Creadable%7Cpreload%7Cdisplaytitle%7Cvarianttitles (Caused by NewConnectionError('<urllib3.connection.HTTPSConnection object at 0x744178d8ca40>: Failed to establish a new connection: [Errno 101] Network is unreachable'))\n",
      "[Erreur] Impossible de charger la page 'Thorsteinn I. Sigfusson' : HTTPSConnectionPool(host='en.wikipedia.org', port=443): Max retries exceeded with url: /w/api.php?format=json&redirects=1&action=query&prop=info&titles=Thorsteinn+I.+Sigfusson&inprop=protection%7Ctalkid%7Cwatched%7Cwatchers%7Cvisitingwatchers%7Cnotificationtimestamp%7Csubjectid%7Curl%7Creadable%7Cpreload%7Cdisplaytitle%7Cvarianttitles (Caused by NewConnectionError('<urllib3.connection.HTTPSConnection object at 0x744178d8c770>: Failed to establish a new connection: [Errno 101] Network is unreachable'))\n",
      "[Erreur] Impossible de charger la page 'Leopoldo Soto Norambuena' : HTTPSConnectionPool(host='en.wikipedia.org', port=443): Max retries exceeded with url: /w/api.php?format=json&redirects=1&action=query&prop=info&titles=Leopoldo+Soto+Norambuena&inprop=protection%7Ctalkid%7Cwatched%7Cwatchers%7Cvisitingwatchers%7Cnotificationtimestamp%7Csubjectid%7Curl%7Creadable%7Cpreload%7Cdisplaytitle%7Cvarianttitles (Caused by NewConnectionError('<urllib3.connection.HTTPSConnection object at 0x744178d8e870>: Failed to establish a new connection: [Errno 101] Network is unreachable'))\n",
      "[Erreur] Impossible de charger la page 'Anja Strømme' : HTTPSConnectionPool(host='en.wikipedia.org', port=443): Max retries exceeded with url: /w/api.php?format=json&redirects=1&action=query&prop=info&titles=Anja+Str%C3%B8mme&inprop=protection%7Ctalkid%7Cwatched%7Cwatchers%7Cvisitingwatchers%7Cnotificationtimestamp%7Csubjectid%7Curl%7Creadable%7Cpreload%7Cdisplaytitle%7Cvarianttitles (Caused by NewConnectionError('<urllib3.connection.HTTPSConnection object at 0x744178d8df40>: Failed to establish a new connection: [Errno 101] Network is unreachable'))\n",
      "[Erreur] Impossible de charger la page 'Handong Sun' : HTTPSConnectionPool(host='en.wikipedia.org', port=443): Max retries exceeded with url: /w/api.php?format=json&redirects=1&action=query&prop=info&titles=Handong+Sun&inprop=protection%7Ctalkid%7Cwatched%7Cwatchers%7Cvisitingwatchers%7Cnotificationtimestamp%7Csubjectid%7Curl%7Creadable%7Cpreload%7Cdisplaytitle%7Cvarianttitles (Caused by NewConnectionError('<urllib3.connection.HTTPSConnection object at 0x744178dd84d0>: Failed to establish a new connection: [Errno 101] Network is unreachable'))\n",
      "[Erreur] Impossible de charger la page 'Kandice Tanner' : HTTPSConnectionPool(host='en.wikipedia.org', port=443): Max retries exceeded with url: /w/api.php?format=json&redirects=1&action=query&prop=info&titles=Kandice+Tanner&inprop=protection%7Ctalkid%7Cwatched%7Cwatchers%7Cvisitingwatchers%7Cnotificationtimestamp%7Csubjectid%7Curl%7Creadable%7Cpreload%7Cdisplaytitle%7Cvarianttitles (Caused by NewConnectionError('<urllib3.connection.HTTPSConnection object at 0x744178bc5430>: Failed to establish a new connection: [Errno 101] Network is unreachable'))\n",
      "[Erreur] Impossible de charger la page 'Gašper Tkačik' : HTTPSConnectionPool(host='en.wikipedia.org', port=443): Max retries exceeded with url: /w/api.php?format=json&redirects=1&action=query&prop=info&titles=Ga%C5%A1per+Tka%C4%8Dik&inprop=protection%7Ctalkid%7Cwatched%7Cwatchers%7Cvisitingwatchers%7Cnotificationtimestamp%7Csubjectid%7Curl%7Creadable%7Cpreload%7Cdisplaytitle%7Cvarianttitles (Caused by NewConnectionError('<urllib3.connection.HTTPSConnection object at 0x744178a4fd40>: Failed to establish a new connection: [Errno 101] Network is unreachable'))\n",
      "[Erreur] Impossible de charger la page 'Harry W. K. Tom' : HTTPSConnectionPool(host='en.wikipedia.org', port=443): Max retries exceeded with url: /w/api.php?format=json&redirects=1&action=query&prop=info&titles=Harry+W.+K.+Tom&inprop=protection%7Ctalkid%7Cwatched%7Cwatchers%7Cvisitingwatchers%7Cnotificationtimestamp%7Csubjectid%7Curl%7Creadable%7Cpreload%7Cdisplaytitle%7Cvarianttitles (Caused by NewConnectionError('<urllib3.connection.HTTPSConnection object at 0x744178b105f0>: Failed to establish a new connection: [Errno 101] Network is unreachable'))\n",
      "[Erreur] Impossible de charger la page 'Toktayum Umetalieva' : HTTPSConnectionPool(host='en.wikipedia.org', port=443): Max retries exceeded with url: /w/api.php?format=json&redirects=1&action=query&prop=info&titles=Toktayum+Umetalieva&inprop=protection%7Ctalkid%7Cwatched%7Cwatchers%7Cvisitingwatchers%7Cnotificationtimestamp%7Csubjectid%7Curl%7Creadable%7Cpreload%7Cdisplaytitle%7Cvarianttitles (Caused by NewConnectionError('<urllib3.connection.HTTPSConnection object at 0x744178b13710>: Failed to establish a new connection: [Errno 101] Network is unreachable'))\n",
      "[Erreur] Impossible de charger la page 'Jonas Vaiškūnas' : HTTPSConnectionPool(host='en.wikipedia.org', port=443): Max retries exceeded with url: /w/api.php?format=json&redirects=1&action=query&prop=info&titles=Jonas+Vai%C5%A1k%C5%ABnas&inprop=protection%7Ctalkid%7Cwatched%7Cwatchers%7Cvisitingwatchers%7Cnotificationtimestamp%7Csubjectid%7Curl%7Creadable%7Cpreload%7Cdisplaytitle%7Cvarianttitles (Caused by NewConnectionError('<urllib3.connection.HTTPSConnection object at 0x7441a4bb7c50>: Failed to establish a new connection: [Errno 101] Network is unreachable'))\n",
      "[Erreur] Impossible de charger la page 'Ahmadou Wagué' : HTTPSConnectionPool(host='en.wikipedia.org', port=443): Max retries exceeded with url: /w/api.php?format=json&redirects=1&action=query&prop=info&titles=Ahmadou+Wagu%C3%A9&inprop=protection%7Ctalkid%7Cwatched%7Cwatchers%7Cvisitingwatchers%7Cnotificationtimestamp%7Csubjectid%7Curl%7Creadable%7Cpreload%7Cdisplaytitle%7Cvarianttitles (Caused by NewConnectionError('<urllib3.connection.HTTPSConnection object at 0x744178d8ebd0>: Failed to establish a new connection: [Errno 101] Network is unreachable'))\n",
      "[Erreur] Impossible de charger la page 'Andreas Solberg Wahl' : HTTPSConnectionPool(host='en.wikipedia.org', port=443): Max retries exceeded with url: /w/api.php?format=json&redirects=1&action=query&prop=info&titles=Andreas+Solberg+Wahl&inprop=protection%7Ctalkid%7Cwatched%7Cwatchers%7Cvisitingwatchers%7Cnotificationtimestamp%7Csubjectid%7Curl%7Creadable%7Cpreload%7Cdisplaytitle%7Cvarianttitles (Caused by NewConnectionError('<urllib3.connection.HTTPSConnection object at 0x744178d8d340>: Failed to establish a new connection: [Errno 101] Network is unreachable'))\n",
      "[Erreur] Impossible de charger la page 'Behzod Yoʻldoshev' : HTTPSConnectionPool(host='en.wikipedia.org', port=443): Max retries exceeded with url: /w/api.php?format=json&redirects=1&action=query&prop=info&titles=Behzod+Yo%CA%BBldoshev&inprop=protection%7Ctalkid%7Cwatched%7Cwatchers%7Cvisitingwatchers%7Cnotificationtimestamp%7Csubjectid%7Curl%7Creadable%7Cpreload%7Cdisplaytitle%7Cvarianttitles (Caused by NewConnectionError('<urllib3.connection.HTTPSConnection object at 0x744178d8c920>: Failed to establish a new connection: [Errno 101] Network is unreachable'))\n",
      "[Erreur] Impossible de charger la page 'Lassina Zerbo' : HTTPSConnectionPool(host='en.wikipedia.org', port=443): Max retries exceeded with url: /w/api.php?format=json&redirects=1&action=query&prop=info&titles=Lassina+Zerbo&inprop=protection%7Ctalkid%7Cwatched%7Cwatchers%7Cvisitingwatchers%7Cnotificationtimestamp%7Csubjectid%7Curl%7Creadable%7Cpreload%7Cdisplaytitle%7Cvarianttitles (Caused by NewConnectionError('<urllib3.connection.HTTPSConnection object at 0x7441a4bb7cb0>: Failed to establish a new connection: [Errno 101] Network is unreachable'))\n"
     ]
    },
    {
     "data": {
      "application/vnd.jupyter.widget-view+json": {
       "model_id": "b63418a8209147cfbc87210df724c4cf",
       "version_major": 2,
       "version_minor": 0
      },
      "text/plain": [
       "Pages in Physicists by continent: 0page [00:00, ?page/s]"
      ]
     },
     "metadata": {},
     "output_type": "display_data"
    },
    {
     "data": {
      "application/vnd.jupyter.widget-view+json": {
       "model_id": "ac3b693853d8494f9ea262567cb60e22",
       "version_major": 2,
       "version_minor": 0
      },
      "text/plain": [
       "Categories (flat):   0%|          | 0/5 [00:00<?, ?cat/s]"
      ]
     },
     "metadata": {},
     "output_type": "display_data"
    },
    {
     "data": {
      "application/vnd.jupyter.widget-view+json": {
       "model_id": "714f1e21243e4740ab6ca02acf33670c",
       "version_major": 2,
       "version_minor": 0
      },
      "text/plain": [
       "Pages in African physicists:   0%|          | 0/3 [00:00<?, ?page/s]"
      ]
     },
     "metadata": {},
     "output_type": "display_data"
    },
    {
     "name": "stdout",
     "output_type": "stream",
     "text": [
      "[Erreur] Impossible de charger la page 'Raoelina Andriambololona' : HTTPSConnectionPool(host='en.wikipedia.org', port=443): Max retries exceeded with url: /w/api.php?format=json&redirects=1&action=query&prop=info&titles=Raoelina+Andriambololona&inprop=protection%7Ctalkid%7Cwatched%7Cwatchers%7Cvisitingwatchers%7Cnotificationtimestamp%7Csubjectid%7Curl%7Creadable%7Cpreload%7Cdisplaytitle%7Cvarianttitles (Caused by NewConnectionError('<urllib3.connection.HTTPSConnection object at 0x744178ddba10>: Failed to establish a new connection: [Errno 101] Network is unreachable'))\n",
      "[Erreur] Impossible de charger la page 'Mahouton Norbert Hounkonnou' : HTTPSConnectionPool(host='en.wikipedia.org', port=443): Max retries exceeded with url: /w/api.php?format=json&redirects=1&action=query&prop=info&titles=Mahouton+Norbert+Hounkonnou&inprop=protection%7Ctalkid%7Cwatched%7Cwatchers%7Cvisitingwatchers%7Cnotificationtimestamp%7Csubjectid%7Curl%7Creadable%7Cpreload%7Cdisplaytitle%7Cvarianttitles (Caused by NewConnectionError('<urllib3.connection.HTTPSConnection object at 0x744178d8c620>: Failed to establish a new connection: [Errno 101] Network is unreachable'))\n",
      "[Erreur] Impossible de charger la page 'Mulugeta Bekele' : HTTPSConnectionPool(host='en.wikipedia.org', port=443): Max retries exceeded with url: /w/api.php?format=json&redirects=1&action=query&prop=info&titles=Mulugeta+Bekele&inprop=protection%7Ctalkid%7Cwatched%7Cwatchers%7Cvisitingwatchers%7Cnotificationtimestamp%7Csubjectid%7Curl%7Creadable%7Cpreload%7Cdisplaytitle%7Cvarianttitles (Caused by NewConnectionError('<urllib3.connection.HTTPSConnection object at 0x744178d8d3a0>: Failed to establish a new connection: [Errno 101] Network is unreachable'))\n"
     ]
    },
    {
     "data": {
      "application/vnd.jupyter.widget-view+json": {
       "model_id": "ef42aa2844e54864ae2cd9cee0a85297",
       "version_major": 2,
       "version_minor": 0
      },
      "text/plain": [
       "Pages in Asian physicists: 0page [00:00, ?page/s]"
      ]
     },
     "metadata": {},
     "output_type": "display_data"
    },
    {
     "data": {
      "application/vnd.jupyter.widget-view+json": {
       "model_id": "71f647d90ede4213888d4b367624f92b",
       "version_major": 2,
       "version_minor": 0
      },
      "text/plain": [
       "Pages in European physicists: 0page [00:00, ?page/s]"
      ]
     },
     "metadata": {},
     "output_type": "display_data"
    },
    {
     "data": {
      "application/vnd.jupyter.widget-view+json": {
       "model_id": "cd1b99ba74ee4125b8b50b5226269ea3",
       "version_major": 2,
       "version_minor": 0
      },
      "text/plain": [
       "Pages in North American physicists: 0page [00:00, ?page/s]"
      ]
     },
     "metadata": {},
     "output_type": "display_data"
    },
    {
     "data": {
      "application/vnd.jupyter.widget-view+json": {
       "model_id": "2aca4faacd284ec986b1c01d122b9f2c",
       "version_major": 2,
       "version_minor": 0
      },
      "text/plain": [
       "Pages in South American physicists: 0page [00:00, ?page/s]"
      ]
     },
     "metadata": {},
     "output_type": "display_data"
    },
    {
     "data": {
      "application/vnd.jupyter.widget-view+json": {
       "model_id": "85485e12de5f4abf88485e42ec416c84",
       "version_major": 2,
       "version_minor": 0
      },
      "text/plain": [
       "Pages in Physicists by field of research: 0page [00:00, ?page/s]"
      ]
     },
     "metadata": {},
     "output_type": "display_data"
    },
    {
     "data": {
      "application/vnd.jupyter.widget-view+json": {
       "model_id": "75a8dfff78a74bac92f5ef4f30175fb0",
       "version_major": 2,
       "version_minor": 0
      },
      "text/plain": [
       "Categories (flat):   0%|          | 0/10 [00:00<?, ?cat/s]"
      ]
     },
     "metadata": {},
     "output_type": "display_data"
    },
    {
     "data": {
      "application/vnd.jupyter.widget-view+json": {
       "model_id": "50c5ec27c8344a2283c7e1cd21187af0",
       "version_major": 2,
       "version_minor": 0
      },
      "text/plain": [
       "Pages in Lists of physicists by field:   0%|          | 0/8 [00:00<?, ?page/s]"
      ]
     },
     "metadata": {},
     "output_type": "display_data"
    },
    {
     "name": "stdout",
     "output_type": "stream",
     "text": [
      "[Erreur] Impossible de charger la page 'List of biophysicists' : HTTPSConnectionPool(host='en.wikipedia.org', port=443): Max retries exceeded with url: /w/api.php?format=json&redirects=1&action=query&prop=info&titles=List+of+biophysicists&inprop=protection%7Ctalkid%7Cwatched%7Cwatchers%7Cvisitingwatchers%7Cnotificationtimestamp%7Csubjectid%7Curl%7Creadable%7Cpreload%7Cdisplaytitle%7Cvarianttitles (Caused by NewConnectionError('<urllib3.connection.HTTPSConnection object at 0x744178d8de50>: Failed to establish a new connection: [Errno 101] Network is unreachable'))\n",
      "[Erreur] Impossible de charger la page 'List of geodesists' : HTTPSConnectionPool(host='en.wikipedia.org', port=443): Max retries exceeded with url: /w/api.php?format=json&redirects=1&action=query&prop=info&titles=List+of+geodesists&inprop=protection%7Ctalkid%7Cwatched%7Cwatchers%7Cvisitingwatchers%7Cnotificationtimestamp%7Csubjectid%7Curl%7Creadable%7Cpreload%7Cdisplaytitle%7Cvarianttitles (Caused by NewConnectionError('<urllib3.connection.HTTPSConnection object at 0x744178d8f140>: Failed to establish a new connection: [Errno 101] Network is unreachable'))\n",
      "[Erreur] Impossible de charger la page 'List of geophysicists' : HTTPSConnectionPool(host='en.wikipedia.org', port=443): Max retries exceeded with url: /w/api.php?format=json&redirects=1&action=query&prop=info&titles=List+of+geophysicists&inprop=protection%7Ctalkid%7Cwatched%7Cwatchers%7Cvisitingwatchers%7Cnotificationtimestamp%7Csubjectid%7Curl%7Creadable%7Cpreload%7Cdisplaytitle%7Cvarianttitles (Caused by NewConnectionError('<urllib3.connection.HTTPSConnection object at 0x744178d8f500>: Failed to establish a new connection: [Errno 101] Network is unreachable'))\n",
      "[Erreur] Impossible de charger la page 'List of loop quantum gravity researchers' : HTTPSConnectionPool(host='en.wikipedia.org', port=443): Max retries exceeded with url: /w/api.php?format=json&redirects=1&action=query&prop=info&titles=List+of+loop+quantum+gravity+researchers&inprop=protection%7Ctalkid%7Cwatched%7Cwatchers%7Cvisitingwatchers%7Cnotificationtimestamp%7Csubjectid%7Curl%7Creadable%7Cpreload%7Cdisplaytitle%7Cvarianttitles (Caused by NewConnectionError('<urllib3.connection.HTTPSConnection object at 0x744178d8fb90>: Failed to establish a new connection: [Errno 101] Network is unreachable'))\n",
      "[Erreur] Impossible de charger la page 'List of plasma physicists' : HTTPSConnectionPool(host='en.wikipedia.org', port=443): Max retries exceeded with url: /w/api.php?format=json&redirects=1&action=query&prop=info&titles=List+of+plasma+physicists&inprop=protection%7Ctalkid%7Cwatched%7Cwatchers%7Cvisitingwatchers%7Cnotificationtimestamp%7Csubjectid%7Curl%7Creadable%7Cpreload%7Cdisplaytitle%7Cvarianttitles (Caused by NewConnectionError('<urllib3.connection.HTTPSConnection object at 0x7441738cfda0>: Failed to establish a new connection: [Errno 101] Network is unreachable'))\n",
      "[Erreur] Impossible de charger la page 'List of quantum gravity researchers' : HTTPSConnectionPool(host='en.wikipedia.org', port=443): Max retries exceeded with url: /w/api.php?format=json&redirects=1&action=query&prop=info&titles=List+of+quantum+gravity+researchers&inprop=protection%7Ctalkid%7Cwatched%7Cwatchers%7Cvisitingwatchers%7Cnotificationtimestamp%7Csubjectid%7Curl%7Creadable%7Cpreload%7Cdisplaytitle%7Cvarianttitles (Caused by NewConnectionError('<urllib3.connection.HTTPSConnection object at 0x744178d8f950>: Failed to establish a new connection: [Errno 101] Network is unreachable'))\n",
      "[Erreur] Impossible de charger la page 'List of rheologists' : HTTPSConnectionPool(host='en.wikipedia.org', port=443): Max retries exceeded with url: /w/api.php?format=json&redirects=1&action=query&prop=info&titles=List+of+rheologists&inprop=protection%7Ctalkid%7Cwatched%7Cwatchers%7Cvisitingwatchers%7Cnotificationtimestamp%7Csubjectid%7Curl%7Creadable%7Cpreload%7Cdisplaytitle%7Cvarianttitles (Caused by NewConnectionError('<urllib3.connection.HTTPSConnection object at 0x744178d8f020>: Failed to establish a new connection: [Errno 101] Network is unreachable'))\n"
     ]
    },
    {
     "data": {
      "application/vnd.jupyter.widget-view+json": {
       "model_id": "23cb6205d3c740b38a79582498f7a885",
       "version_major": 2,
       "version_minor": 0
      },
      "text/plain": [
       "Pages in Polish physicists by field: 0page [00:00, ?page/s]"
      ]
     },
     "metadata": {},
     "output_type": "display_data"
    },
    {
     "data": {
      "application/vnd.jupyter.widget-view+json": {
       "model_id": "5bbe1556bb9f4311aa029aa17638b1ee",
       "version_major": 2,
       "version_minor": 0
      },
      "text/plain": [
       "Pages in Women physicists by field: 0page [00:00, ?page/s]"
      ]
     },
     "metadata": {},
     "output_type": "display_data"
    },
    {
     "data": {
      "application/vnd.jupyter.widget-view+json": {
       "model_id": "4616e69387df4bbab62b8a0d92110728",
       "version_major": 2,
       "version_minor": 0
      },
      "text/plain": [
       "Pages in Accelerator physicists:   0%|          | 0/64 [00:00<?, ?page/s]"
      ]
     },
     "metadata": {},
     "output_type": "display_data"
    },
    {
     "data": {
      "application/vnd.jupyter.widget-view+json": {
       "model_id": "1e25724e61a84c4eb8f78f3a55c7fea8",
       "version_major": 2,
       "version_minor": 0
      },
      "text/plain": [
       "Pages in Acousticians:   0%|          | 0/30 [00:00<?, ?page/s]"
      ]
     },
     "metadata": {},
     "output_type": "display_data"
    },
    {
     "data": {
      "application/vnd.jupyter.widget-view+json": {
       "model_id": "14dfb65f00da4c09a371bc4f29909cae",
       "version_major": 2,
       "version_minor": 0
      },
      "text/plain": [
       "Pages in Applied physicists:   0%|          | 0/2 [00:00<?, ?page/s]"
      ]
     },
     "metadata": {},
     "output_type": "display_data"
    },
    {
     "data": {
      "application/vnd.jupyter.widget-view+json": {
       "model_id": "59fc65a46a994e94a39d524eea5097b7",
       "version_major": 2,
       "version_minor": 0
      },
      "text/plain": [
       "Pages in Astrophysicists:   0%|          | 0/29 [00:00<?, ?page/s]"
      ]
     },
     "metadata": {},
     "output_type": "display_data"
    },
    {
     "data": {
      "application/vnd.jupyter.widget-view+json": {
       "model_id": "ccb4ebee76ae442a93b769f04470d75d",
       "version_major": 2,
       "version_minor": 0
      },
      "text/plain": [
       "Pages in Atmospheric physicists:   0%|          | 0/32 [00:00<?, ?page/s]"
      ]
     },
     "metadata": {},
     "output_type": "display_data"
    },
    {
     "data": {
      "application/vnd.jupyter.widget-view+json": {
       "model_id": "4d6ec195fa92455e99c502df4d71fe91",
       "version_major": 2,
       "version_minor": 0
      },
      "text/plain": [
       "Pages in Biophysicists:   0%|          | 0/51 [00:00<?, ?page/s]"
      ]
     },
     "metadata": {},
     "output_type": "display_data"
    },
    {
     "data": {
      "application/vnd.jupyter.widget-view+json": {
       "model_id": "cfb7fb59b0494770ae3cd40e9affd097",
       "version_major": 2,
       "version_minor": 0
      },
      "text/plain": [
       "Pages in Chemical physicists:   0%|          | 0/16 [00:00<?, ?page/s]"
      ]
     },
     "metadata": {},
     "output_type": "display_data"
    },
    {
     "data": {
      "application/vnd.jupyter.widget-view+json": {
       "model_id": "3bddc92447d44107a6fdc1f9df9520dc",
       "version_major": 2,
       "version_minor": 0
      },
      "text/plain": [
       "Pages in Physicists by nationality: 0page [00:00, ?page/s]"
      ]
     },
     "metadata": {},
     "output_type": "display_data"
    },
    {
     "data": {
      "application/vnd.jupyter.widget-view+json": {
       "model_id": "ec905d9fad484f2080c9d2068bfcfd7a",
       "version_major": 2,
       "version_minor": 0
      },
      "text/plain": [
       "Categories (flat):   0%|          | 0/10 [00:00<?, ?cat/s]"
      ]
     },
     "metadata": {},
     "output_type": "display_data"
    },
    {
     "data": {
      "application/vnd.jupyter.widget-view+json": {
       "model_id": "94396650f16544dea9743ab215fe1217",
       "version_major": 2,
       "version_minor": 0
      },
      "text/plain": [
       "Pages in 20th-century physicists by nationality: 0page [00:00, ?page/s]"
      ]
     },
     "metadata": {},
     "output_type": "display_data"
    },
    {
     "data": {
      "application/vnd.jupyter.widget-view+json": {
       "model_id": "ddcef9dca2df4042a331a7eeea06742a",
       "version_major": 2,
       "version_minor": 0
      },
      "text/plain": [
       "Pages in 21st-century physicists by nationality: 0page [00:00, ?page/s]"
      ]
     },
     "metadata": {},
     "output_type": "display_data"
    },
    {
     "data": {
      "application/vnd.jupyter.widget-view+json": {
       "model_id": "428fbe8d8ea644eba3e0f53a8b2c35ec",
       "version_major": 2,
       "version_minor": 0
      },
      "text/plain": [
       "Pages in Physicists by nationality and century: 0page [00:00, ?page/s]"
      ]
     },
     "metadata": {},
     "output_type": "display_data"
    },
    {
     "data": {
      "application/vnd.jupyter.widget-view+json": {
       "model_id": "eef575a2a63841ffa66abfa4c5cb8616",
       "version_major": 2,
       "version_minor": 0
      },
      "text/plain": [
       "Pages in Astrophysicists by nationality: 0page [00:00, ?page/s]"
      ]
     },
     "metadata": {},
     "output_type": "display_data"
    },
    {
     "data": {
      "application/vnd.jupyter.widget-view+json": {
       "model_id": "512925baf89c4eadae304ae54182d613",
       "version_major": 2,
       "version_minor": 0
      },
      "text/plain": [
       "Pages in Cosmologists by nationality: 0page [00:00, ?page/s]"
      ]
     },
     "metadata": {},
     "output_type": "display_data"
    },
    {
     "data": {
      "application/vnd.jupyter.widget-view+json": {
       "model_id": "f529a1bb117d4b73b5fb81a912386f31",
       "version_major": 2,
       "version_minor": 0
      },
      "text/plain": [
       "Pages in Geophysicists by nationality: 0page [00:00, ?page/s]"
      ]
     },
     "metadata": {},
     "output_type": "display_data"
    },
    {
     "data": {
      "application/vnd.jupyter.widget-view+json": {
       "model_id": "1f2bc3b7066f45dca57b5647d4551277",
       "version_major": 2,
       "version_minor": 0
      },
      "text/plain": [
       "Pages in Nuclear physicists by nationality: 0page [00:00, ?page/s]"
      ]
     },
     "metadata": {},
     "output_type": "display_data"
    },
    {
     "data": {
      "application/vnd.jupyter.widget-view+json": {
       "model_id": "8b46af50ec564259a0f520387ca30a2e",
       "version_major": 2,
       "version_minor": 0
      },
      "text/plain": [
       "Pages in Physical chemists by nationality: 0page [00:00, ?page/s]"
      ]
     },
     "metadata": {},
     "output_type": "display_data"
    },
    {
     "data": {
      "application/vnd.jupyter.widget-view+json": {
       "model_id": "d72e480c9f15454f85604641f649d679",
       "version_major": 2,
       "version_minor": 0
      },
      "text/plain": [
       "Pages in Plasma physicists by nationality: 0page [00:00, ?page/s]"
      ]
     },
     "metadata": {},
     "output_type": "display_data"
    },
    {
     "data": {
      "application/vnd.jupyter.widget-view+json": {
       "model_id": "5339f90b092f424e9daf15bd748d295f",
       "version_major": 2,
       "version_minor": 0
      },
      "text/plain": [
       "Pages in Relativity theorists by nationality: 0page [00:00, ?page/s]"
      ]
     },
     "metadata": {},
     "output_type": "display_data"
    },
    {
     "data": {
      "application/vnd.jupyter.widget-view+json": {
       "model_id": "d12605b4ca174b919024760d0b12e853",
       "version_major": 2,
       "version_minor": 0
      },
      "text/plain": [
       "Pages in Arab physicists:   0%|          | 0/2 [00:00<?, ?page/s]"
      ]
     },
     "metadata": {},
     "output_type": "display_data"
    },
    {
     "data": {
      "application/vnd.jupyter.widget-view+json": {
       "model_id": "cd1626f839104f938d988513aca2cefb",
       "version_major": 2,
       "version_minor": 0
      },
      "text/plain": [
       "Categories (flat):   0%|          | 0/8 [00:00<?, ?cat/s]"
      ]
     },
     "metadata": {},
     "output_type": "display_data"
    },
    {
     "data": {
      "application/vnd.jupyter.widget-view+json": {
       "model_id": "bb20c523944f4c3dacb46a07dd1e04b2",
       "version_major": 2,
       "version_minor": 0
      },
      "text/plain": [
       "Pages in Algerian physicists: 0page [00:00, ?page/s]"
      ]
     },
     "metadata": {},
     "output_type": "display_data"
    },
    {
     "data": {
      "application/vnd.jupyter.widget-view+json": {
       "model_id": "8996e1d9d28840dab9d4384f228fe0c0",
       "version_major": 2,
       "version_minor": 0
      },
      "text/plain": [
       "Pages in Egyptian physicists:   0%|          | 0/14 [00:00<?, ?page/s]"
      ]
     },
     "metadata": {},
     "output_type": "display_data"
    },
    {
     "data": {
      "application/vnd.jupyter.widget-view+json": {
       "model_id": "520f7b6f18d84c86987d809138103e8f",
       "version_major": 2,
       "version_minor": 0
      },
      "text/plain": [
       "Pages in Iraqi physicists:   0%|          | 0/6 [00:00<?, ?page/s]"
      ]
     },
     "metadata": {},
     "output_type": "display_data"
    },
    {
     "data": {
      "application/vnd.jupyter.widget-view+json": {
       "model_id": "6a3ded40185441ceb245b4de16f7b981",
       "version_major": 2,
       "version_minor": 0
      },
      "text/plain": [
       "Pages in Lebanese physicists:   0%|          | 0/7 [00:00<?, ?page/s]"
      ]
     },
     "metadata": {},
     "output_type": "display_data"
    },
    {
     "data": {
      "application/vnd.jupyter.widget-view+json": {
       "model_id": "10582e72eee641c6a9975bcba6b92ffc",
       "version_major": 2,
       "version_minor": 0
      },
      "text/plain": [
       "Pages in Moroccan physicists:   0%|          | 0/6 [00:00<?, ?page/s]"
      ]
     },
     "metadata": {},
     "output_type": "display_data"
    },
    {
     "data": {
      "application/vnd.jupyter.widget-view+json": {
       "model_id": "bbda76c188744de1998bf68b727db8b8",
       "version_major": 2,
       "version_minor": 0
      },
      "text/plain": [
       "Pages in Palestinian physicists:   0%|          | 0/3 [00:00<?, ?page/s]"
      ]
     },
     "metadata": {},
     "output_type": "display_data"
    },
    {
     "data": {
      "application/vnd.jupyter.widget-view+json": {
       "model_id": "fadb541190cb4817a24c99598b4aa675",
       "version_major": 2,
       "version_minor": 0
      },
      "text/plain": [
       "Pages in Sudanese physicists:   0%|          | 0/3 [00:00<?, ?page/s]"
      ]
     },
     "metadata": {},
     "output_type": "display_data"
    },
    {
     "data": {
      "application/vnd.jupyter.widget-view+json": {
       "model_id": "1a66178f19d143bfabf75a8bb9354c11",
       "version_major": 2,
       "version_minor": 0
      },
      "text/plain": [
       "Pages in Syrian physicists:   0%|          | 0/3 [00:00<?, ?page/s]"
      ]
     },
     "metadata": {},
     "output_type": "display_data"
    },
    {
     "data": {
      "application/vnd.jupyter.widget-view+json": {
       "model_id": "96376d62638645358565827946fc8d1c",
       "version_major": 2,
       "version_minor": 0
      },
      "text/plain": [
       "Pages in Bengali physicists:   0%|          | 0/47 [00:00<?, ?page/s]"
      ]
     },
     "metadata": {},
     "output_type": "display_data"
    },
    {
     "data": {
      "application/vnd.jupyter.widget-view+json": {
       "model_id": "9666984dd73a4c35ab0a7e3252009ea4",
       "version_major": 2,
       "version_minor": 0
      },
      "text/plain": [
       "Pages in Jewish physicists:   0%|          | 0/100 [00:00<?, ?page/s]"
      ]
     },
     "metadata": {},
     "output_type": "display_data"
    },
    {
     "data": {
      "application/vnd.jupyter.widget-view+json": {
       "model_id": "bee21b00585742f4a10ccba138131b25",
       "version_major": 2,
       "version_minor": 0
      },
      "text/plain": [
       "Categories (flat):   0%|          | 0/5 [00:00<?, ?cat/s]"
      ]
     },
     "metadata": {},
     "output_type": "display_data"
    },
    {
     "data": {
      "application/vnd.jupyter.widget-view+json": {
       "model_id": "b02f7db0fe924feea01ea56c6b56f242",
       "version_major": 2,
       "version_minor": 0
      },
      "text/plain": [
       "Pages in Jewish American physicists:   0%|          | 0/100 [00:00<?, ?page/s]"
      ]
     },
     "metadata": {},
     "output_type": "display_data"
    },
    {
     "data": {
      "application/vnd.jupyter.widget-view+json": {
       "model_id": "bae06d28e0b348b394bce74a95824afa",
       "version_major": 2,
       "version_minor": 0
      },
      "text/plain": [
       "Pages in Jewish British physicists:   0%|          | 0/26 [00:00<?, ?page/s]"
      ]
     },
     "metadata": {},
     "output_type": "display_data"
    },
    {
     "data": {
      "application/vnd.jupyter.widget-view+json": {
       "model_id": "dd72f9005ada45e98043d44152b950fc",
       "version_major": 2,
       "version_minor": 0
      },
      "text/plain": [
       "Pages in Jewish German physicists:   0%|          | 0/50 [00:00<?, ?page/s]"
      ]
     },
     "metadata": {},
     "output_type": "display_data"
    },
    {
     "data": {
      "application/vnd.jupyter.widget-view+json": {
       "model_id": "15126e0d313142709f2f549f06c1aec6",
       "version_major": 2,
       "version_minor": 0
      },
      "text/plain": [
       "Pages in Jewish Russian physicists:   0%|          | 0/30 [00:00<?, ?page/s]"
      ]
     },
     "metadata": {},
     "output_type": "display_data"
    },
    {
     "data": {
      "application/vnd.jupyter.widget-view+json": {
       "model_id": "b3206ff9e0f04fcf8fbb1a1b9aec3afb",
       "version_major": 2,
       "version_minor": 0
      },
      "text/plain": [
       "Pages in Soviet Jewish physicists:   0%|          | 0/54 [00:00<?, ?page/s]"
      ]
     },
     "metadata": {},
     "output_type": "display_data"
    },
    {
     "data": {
      "application/vnd.jupyter.widget-view+json": {
       "model_id": "5c18a1fbb2b542cd870fe9899052b33b",
       "version_major": 2,
       "version_minor": 0
      },
      "text/plain": [
       "Pages in Ancient physicists:   0%|          | 0/1 [00:00<?, ?page/s]"
      ]
     },
     "metadata": {},
     "output_type": "display_data"
    },
    {
     "data": {
      "application/vnd.jupyter.widget-view+json": {
       "model_id": "84e96ed375234628808a86e832781d44",
       "version_major": 2,
       "version_minor": 0
      },
      "text/plain": [
       "Categories (flat):   0%|          | 0/1 [00:00<?, ?cat/s]"
      ]
     },
     "metadata": {},
     "output_type": "display_data"
    },
    {
     "data": {
      "application/vnd.jupyter.widget-view+json": {
       "model_id": "f2c6e1523a6244da9c83dd8da810d38b",
       "version_major": 2,
       "version_minor": 0
      },
      "text/plain": [
       "Pages in Ancient Greek physicists:   0%|          | 0/20 [00:00<?, ?page/s]"
      ]
     },
     "metadata": {},
     "output_type": "display_data"
    },
    {
     "data": {
      "application/vnd.jupyter.widget-view+json": {
       "model_id": "11b3caaa65c74fdaa7b5ee0d44b8f5e7",
       "version_major": 2,
       "version_minor": 0
      },
      "text/plain": [
       "Pages in Medieval physicists:   0%|          | 0/21 [00:00<?, ?page/s]"
      ]
     },
     "metadata": {},
     "output_type": "display_data"
    },
    {
     "data": {
      "application/vnd.jupyter.widget-view+json": {
       "model_id": "f8434949b9114cb99cb84d97e512794b",
       "version_major": 2,
       "version_minor": 0
      },
      "text/plain": [
       "Categories (flat):   0%|          | 0/3 [00:00<?, ?cat/s]"
      ]
     },
     "metadata": {},
     "output_type": "display_data"
    },
    {
     "data": {
      "application/vnd.jupyter.widget-view+json": {
       "model_id": "e12f5ef864f7411d897a30c7e780ac6b",
       "version_major": 2,
       "version_minor": 0
      },
      "text/plain": [
       "Pages in 13th-century physicists:   0%|          | 0/3 [00:00<?, ?page/s]"
      ]
     },
     "metadata": {},
     "output_type": "display_data"
    },
    {
     "data": {
      "application/vnd.jupyter.widget-view+json": {
       "model_id": "c4776b3d7ddb48dbb02ba2a8dd190da0",
       "version_major": 2,
       "version_minor": 0
      },
      "text/plain": [
       "Pages in Al-Farabi:   0%|          | 0/2 [00:00<?, ?page/s]"
      ]
     },
     "metadata": {},
     "output_type": "display_data"
    },
    {
     "data": {
      "application/vnd.jupyter.widget-view+json": {
       "model_id": "49bf3b4c37dd4a679ffbb643115c877d",
       "version_major": 2,
       "version_minor": 0
      },
      "text/plain": [
       "Pages in Medieval Iranian physicists:   0%|          | 0/6 [00:00<?, ?page/s]"
      ]
     },
     "metadata": {},
     "output_type": "display_data"
    },
    {
     "data": {
      "application/vnd.jupyter.widget-view+json": {
       "model_id": "9c9227e76e6a47afa4df15861cc38a41",
       "version_major": 2,
       "version_minor": 0
      },
      "text/plain": [
       "Pages in Lists of physicists:   0%|          | 0/5 [00:00<?, ?page/s]"
      ]
     },
     "metadata": {},
     "output_type": "display_data"
    },
    {
     "data": {
      "application/vnd.jupyter.widget-view+json": {
       "model_id": "2a9d1a9bd5c246a39a2b2888210a213f",
       "version_major": 2,
       "version_minor": 0
      },
      "text/plain": [
       "Categories (flat):   0%|          | 0/2 [00:00<?, ?cat/s]"
      ]
     },
     "metadata": {},
     "output_type": "display_data"
    },
    {
     "data": {
      "application/vnd.jupyter.widget-view+json": {
       "model_id": "c30bd3a23afe4ee1baef71ab469bd171",
       "version_major": 2,
       "version_minor": 0
      },
      "text/plain": [
       "Pages in Lists of physicists by field:   0%|          | 0/8 [00:00<?, ?page/s]"
      ]
     },
     "metadata": {},
     "output_type": "display_data"
    },
    {
     "data": {
      "application/vnd.jupyter.widget-view+json": {
       "model_id": "2839408498a84817ae48f5c44e2f1a3e",
       "version_major": 2,
       "version_minor": 0
      },
      "text/plain": [
       "Pages in Lists of fellows of the American Physical Society:   0%|          | 0/5 [00:00<?, ?page/s]"
      ]
     },
     "metadata": {},
     "output_type": "display_data"
    },
    {
     "data": {
      "application/vnd.jupyter.widget-view+json": {
       "model_id": "1da9d0f22875411a88913f68dc48e1a2",
       "version_major": 2,
       "version_minor": 0
      },
      "text/plain": [
       "Pages in Eponyms in physics:   0%|          | 0/6 [00:00<?, ?page/s]"
      ]
     },
     "metadata": {},
     "output_type": "display_data"
    },
    {
     "data": {
      "application/vnd.jupyter.widget-view+json": {
       "model_id": "82a1cff408494adaa0d25bab101f3543",
       "version_major": 2,
       "version_minor": 0
      },
      "text/plain": [
       "Categories (flat):   0%|          | 0/5 [00:00<?, ?cat/s]"
      ]
     },
     "metadata": {},
     "output_type": "display_data"
    },
    {
     "data": {
      "application/vnd.jupyter.widget-view+json": {
       "model_id": "b02542b0cc644e8ea05e0371d5768690",
       "version_major": 2,
       "version_minor": 0
      },
      "text/plain": [
       "Pages in Eponymous laws of physics:   0%|          | 0/37 [00:00<?, ?page/s]"
      ]
     },
     "metadata": {},
     "output_type": "display_data"
    },
    {
     "data": {
      "application/vnd.jupyter.widget-view+json": {
       "model_id": "2d619531b8bf41af9b0b1841de4bec03",
       "version_major": 2,
       "version_minor": 0
      },
      "text/plain": [
       "Pages in Eponymous equations of physics:   0%|          | 0/82 [00:00<?, ?page/s]"
      ]
     },
     "metadata": {},
     "output_type": "display_data"
    },
    {
     "data": {
      "application/vnd.jupyter.widget-view+json": {
       "model_id": "fd0d74252ccc485c8aced3cd8d9392d0",
       "version_major": 2,
       "version_minor": 0
      },
      "text/plain": [
       "Categories (flat):   0%|          | 0/2 [00:00<?, ?cat/s]"
      ]
     },
     "metadata": {},
     "output_type": "display_data"
    },
    {
     "data": {
      "application/vnd.jupyter.widget-view+json": {
       "model_id": "e1efefcea917422d879c706deabe9f15",
       "version_major": 2,
       "version_minor": 0
      },
      "text/plain": [
       "Pages in Dirac equation:   0%|          | 0/8 [00:00<?, ?page/s]"
      ]
     },
     "metadata": {},
     "output_type": "display_data"
    },
    {
     "data": {
      "application/vnd.jupyter.widget-view+json": {
       "model_id": "6ad1997adadd4c4e9f2948977130debc",
       "version_major": 2,
       "version_minor": 0
      },
      "text/plain": [
       "Pages in Schrödinger equation:   0%|          | 0/14 [00:00<?, ?page/s]"
      ]
     },
     "metadata": {},
     "output_type": "display_data"
    },
    {
     "data": {
      "application/vnd.jupyter.widget-view+json": {
       "model_id": "865e654125c94b7b875645be0ed4ff88",
       "version_major": 2,
       "version_minor": 0
      },
      "text/plain": [
       "Pages in Lagrangian mechanics:   0%|          | 0/37 [00:00<?, ?page/s]"
      ]
     },
     "metadata": {},
     "output_type": "display_data"
    },
    {
     "data": {
      "application/vnd.jupyter.widget-view+json": {
       "model_id": "54e46fe39a5448378d6c45a0859ca8a2",
       "version_major": 2,
       "version_minor": 0
      },
      "text/plain": [
       "Categories (flat):   0%|          | 0/2 [00:00<?, ?cat/s]"
      ]
     },
     "metadata": {},
     "output_type": "display_data"
    },
    {
     "data": {
      "application/vnd.jupyter.widget-view+json": {
       "model_id": "1b026e991b684da0980452a47f188727",
       "version_major": 2,
       "version_minor": 0
      },
      "text/plain": [
       "Pages in Action (physics):   0%|          | 0/2 [00:00<?, ?page/s]"
      ]
     },
     "metadata": {},
     "output_type": "display_data"
    },
    {
     "data": {
      "application/vnd.jupyter.widget-view+json": {
       "model_id": "eb469b83daf3472981c3fbe8ce6ae8bc",
       "version_major": 2,
       "version_minor": 0
      },
      "text/plain": [
       "Pages in Satellites orbiting Lagrange points:   0%|          | 0/1 [00:00<?, ?page/s]"
      ]
     },
     "metadata": {},
     "output_type": "display_data"
    },
    {
     "data": {
      "application/vnd.jupyter.widget-view+json": {
       "model_id": "d6b149884cbc4c0794ec068cb3071594",
       "version_major": 2,
       "version_minor": 0
      },
      "text/plain": [
       "Pages in Eponymous theorems of physics:   0%|          | 0/44 [00:00<?, ?page/s]"
      ]
     },
     "metadata": {},
     "output_type": "display_data"
    },
    {
     "data": {
      "application/vnd.jupyter.widget-view+json": {
       "model_id": "f458ca95e1884935b2cf3c96ef2d4b6d",
       "version_major": 2,
       "version_minor": 0
      },
      "text/plain": [
       "Pages in Lists of things named after physicists:   0%|          | 0/37 [00:00<?, ?page/s]"
      ]
     },
     "metadata": {},
     "output_type": "display_data"
    },
    {
     "data": {
      "application/vnd.jupyter.widget-view+json": {
       "model_id": "32ba644c21134723be4d3e16cdf7d161",
       "version_major": 2,
       "version_minor": 0
      },
      "text/plain": [
       "Pages in Works about physics:   0%|          | 0/1 [00:00<?, ?page/s]"
      ]
     },
     "metadata": {},
     "output_type": "display_data"
    },
    {
     "data": {
      "application/vnd.jupyter.widget-view+json": {
       "model_id": "a148123074a94d03b5d7e36ae39d4f84",
       "version_major": 2,
       "version_minor": 0
      },
      "text/plain": [
       "Categories (flat):   0%|          | 0/5 [00:00<?, ?cat/s]"
      ]
     },
     "metadata": {},
     "output_type": "display_data"
    },
    {
     "data": {
      "application/vnd.jupyter.widget-view+json": {
       "model_id": "b8a5588d4ec14dd48dbe1bd88371f58a",
       "version_major": 2,
       "version_minor": 0
      },
      "text/plain": [
       "Pages in Films about physics:   0%|          | 0/7 [00:00<?, ?page/s]"
      ]
     },
     "metadata": {},
     "output_type": "display_data"
    },
    {
     "data": {
      "application/vnd.jupyter.widget-view+json": {
       "model_id": "24a6cbda9371414b9c297acaf4f92f36",
       "version_major": 2,
       "version_minor": 0
      },
      "text/plain": [
       "Categories (flat):   0%|          | 0/4 [00:00<?, ?cat/s]"
      ]
     },
     "metadata": {},
     "output_type": "display_data"
    },
    {
     "data": {
      "application/vnd.jupyter.widget-view+json": {
       "model_id": "1638bbe722f64cacb170912b2731ebea",
       "version_major": 2,
       "version_minor": 0
      },
      "text/plain": [
       "Pages in Films about invisibility:   0%|          | 0/64 [00:00<?, ?page/s]"
      ]
     },
     "metadata": {},
     "output_type": "display_data"
    },
    {
     "data": {
      "application/vnd.jupyter.widget-view+json": {
       "model_id": "b5a67b164c6248b7991d2dd2be164dab",
       "version_major": 2,
       "version_minor": 0
      },
      "text/plain": [
       "Pages in Films about physicists:   0%|          | 0/18 [00:00<?, ?page/s]"
      ]
     },
     "metadata": {},
     "output_type": "display_data"
    },
    {
     "data": {
      "application/vnd.jupyter.widget-view+json": {
       "model_id": "c675ba18510b47f1b1b05305ea1105c0",
       "version_major": 2,
       "version_minor": 0
      },
      "text/plain": [
       "Pages in Films about quantum mechanics:   0%|          | 0/10 [00:00<?, ?page/s]"
      ]
     },
     "metadata": {},
     "output_type": "display_data"
    },
    {
     "data": {
      "application/vnd.jupyter.widget-view+json": {
       "model_id": "666f6325e8d54fd6a9a90f410aa83fb5",
       "version_major": 2,
       "version_minor": 0
      },
      "text/plain": [
       "Pages in Films about weather:   0%|          | 0/2 [00:00<?, ?page/s]"
      ]
     },
     "metadata": {},
     "output_type": "display_data"
    },
    {
     "data": {
      "application/vnd.jupyter.widget-view+json": {
       "model_id": "4f2fa3f5a5b546a4ace6ddf5ae3bd3a2",
       "version_major": 2,
       "version_minor": 0
      },
      "text/plain": [
       "Pages in Physics literature: 0page [00:00, ?page/s]"
      ]
     },
     "metadata": {},
     "output_type": "display_data"
    },
    {
     "data": {
      "application/vnd.jupyter.widget-view+json": {
       "model_id": "08a30a6a9a404421bd760f2816e2370b",
       "version_major": 2,
       "version_minor": 0
      },
      "text/plain": [
       "Categories (flat):   0%|          | 0/6 [00:00<?, ?cat/s]"
      ]
     },
     "metadata": {},
     "output_type": "display_data"
    },
    {
     "data": {
      "application/vnd.jupyter.widget-view+json": {
       "model_id": "9494f5ef4c9c476d8739f5174a8894d1",
       "version_major": 2,
       "version_minor": 0
      },
      "text/plain": [
       "Pages in Physics books:   0%|          | 0/66 [00:00<?, ?page/s]"
      ]
     },
     "metadata": {},
     "output_type": "display_data"
    },
    {
     "data": {
      "application/vnd.jupyter.widget-view+json": {
       "model_id": "5572f9d5ba9c4556a0f23772c6949643",
       "version_major": 2,
       "version_minor": 0
      },
      "text/plain": [
       "Pages in Fiction about physics:   0%|          | 0/30 [00:00<?, ?page/s]"
      ]
     },
     "metadata": {},
     "output_type": "display_data"
    },
    {
     "data": {
      "application/vnd.jupyter.widget-view+json": {
       "model_id": "8718a5a0026b4a53b70bf12270ae7788",
       "version_major": 2,
       "version_minor": 0
      },
      "text/plain": [
       "Pages in Historical physics publications:   0%|          | 0/29 [00:00<?, ?page/s]"
      ]
     },
     "metadata": {},
     "output_type": "display_data"
    },
    {
     "data": {
      "application/vnd.jupyter.widget-view+json": {
       "model_id": "60c122a2caf24ffbbb0fa793d9fac1ab",
       "version_major": 2,
       "version_minor": 0
      },
      "text/plain": [
       "Pages in Physics journals:   0%|          | 0/100 [00:00<?, ?page/s]"
      ]
     },
     "metadata": {},
     "output_type": "display_data"
    },
    {
     "data": {
      "application/vnd.jupyter.widget-view+json": {
       "model_id": "ac2213e1223647c686ac6627830e319a",
       "version_major": 2,
       "version_minor": 0
      },
      "text/plain": [
       "Pages in Physics magazines:   0%|          | 0/7 [00:00<?, ?page/s]"
      ]
     },
     "metadata": {},
     "output_type": "display_data"
    },
    {
     "data": {
      "application/vnd.jupyter.widget-view+json": {
       "model_id": "3cd8ce9cea754a58a6fbed1fe8a7d835",
       "version_major": 2,
       "version_minor": 0
      },
      "text/plain": [
       "Pages in Physics websites:   0%|          | 0/8 [00:00<?, ?page/s]"
      ]
     },
     "metadata": {},
     "output_type": "display_data"
    },
    {
     "data": {
      "application/vnd.jupyter.widget-view+json": {
       "model_id": "599d98acc7794fb7a47109858ec937e3",
       "version_major": 2,
       "version_minor": 0
      },
      "text/plain": [
       "Pages in Works about nuclear technology:   0%|          | 0/3 [00:00<?, ?page/s]"
      ]
     },
     "metadata": {},
     "output_type": "display_data"
    },
    {
     "data": {
      "application/vnd.jupyter.widget-view+json": {
       "model_id": "5f8718b337c942ab9a850f7d289db95e",
       "version_major": 2,
       "version_minor": 0
      },
      "text/plain": [
       "Categories (flat):   0%|          | 0/9 [00:00<?, ?cat/s]"
      ]
     },
     "metadata": {},
     "output_type": "display_data"
    },
    {
     "data": {
      "application/vnd.jupyter.widget-view+json": {
       "model_id": "b649b44a5073466db054169a4696daac",
       "version_major": 2,
       "version_minor": 0
      },
      "text/plain": [
       "Pages in Works about the atomic bombings of Hiroshima and Nagasaki:   0%|          | 0/8 [00:00<?, ?page/s]"
      ]
     },
     "metadata": {},
     "output_type": "display_data"
    },
    {
     "name": "stdout",
     "output_type": "stream",
     "text": [
      "[Erreur] Impossible de charger la page 'The Boy Standing by the Crematory' : HTTPSConnectionPool(host='en.wikipedia.org', port=443): Read timed out. (read timeout=10.0)\n",
      "[Erreur] Impossible de charger la page 'Enola Gay (song)' : HTTPSConnectionPool(host='en.wikipedia.org', port=443): Max retries exceeded with url: /w/api.php?format=json&redirects=1&action=query&prop=info&titles=Enola+Gay+%28song%29&inprop=protection%7Ctalkid%7Cwatched%7Cwatchers%7Cvisitingwatchers%7Cnotificationtimestamp%7Csubjectid%7Curl%7Creadable%7Cpreload%7Cdisplaytitle%7Cvarianttitles (Caused by NewConnectionError('<urllib3.connection.HTTPSConnection object at 0x744178f07fe0>: Failed to establish a new connection: [Errno 101] Network is unreachable'))\n",
      "[Erreur] Impossible de charger la page 'Hiroshima (painting)' : HTTPSConnectionPool(host='en.wikipedia.org', port=443): Max retries exceeded with url: /w/api.php?format=json&redirects=1&action=query&prop=info&titles=Hiroshima+%28painting%29&inprop=protection%7Ctalkid%7Cwatched%7Cwatchers%7Cvisitingwatchers%7Cnotificationtimestamp%7Csubjectid%7Curl%7Creadable%7Cpreload%7Cdisplaytitle%7Cvarianttitles (Caused by NewConnectionError('<urllib3.connection.HTTPSConnection object at 0x744178f055e0>: Failed to establish a new connection: [Errno 101] Network is unreachable'))\n",
      "[Erreur] Impossible de charger la page 'Hiroshima (song)' : HTTPSConnectionPool(host='en.wikipedia.org', port=443): Max retries exceeded with url: /w/api.php?format=json&redirects=1&action=query&prop=info&titles=Hiroshima+%28song%29&inprop=protection%7Ctalkid%7Cwatched%7Cwatchers%7Cvisitingwatchers%7Cnotificationtimestamp%7Csubjectid%7Curl%7Creadable%7Cpreload%7Cdisplaytitle%7Cvarianttitles (Caused by NewConnectionError('<urllib3.connection.HTTPSConnection object at 0x744178f05280>: Failed to establish a new connection: [Errno 101] Network is unreachable'))\n",
      "[Erreur] Impossible de charger la page 'Hiroshima Nagasaki One-Minute' : HTTPSConnectionPool(host='en.wikipedia.org', port=443): Max retries exceeded with url: /w/api.php?format=json&redirects=1&action=query&prop=info&titles=Hiroshima+Nagasaki+One-Minute&inprop=protection%7Ctalkid%7Cwatched%7Cwatchers%7Cvisitingwatchers%7Cnotificationtimestamp%7Csubjectid%7Curl%7Creadable%7Cpreload%7Cdisplaytitle%7Cvarianttitles (Caused by NewConnectionError('<urllib3.connection.HTTPSConnection object at 0x744178c45ee0>: Failed to establish a new connection: [Errno 101] Network is unreachable'))\n",
      "[Erreur] Impossible de charger la page 'The Hiroshima Panels' : HTTPSConnectionPool(host='en.wikipedia.org', port=443): Max retries exceeded with url: /w/api.php?format=json&redirects=1&action=query&prop=info&titles=The+Hiroshima+Panels&inprop=protection%7Ctalkid%7Cwatched%7Cwatchers%7Cvisitingwatchers%7Cnotificationtimestamp%7Csubjectid%7Curl%7Creadable%7Cpreload%7Cdisplaytitle%7Cvarianttitles (Caused by NewConnectionError('<urllib3.connection.HTTPSConnection object at 0x744178f05010>: Failed to establish a new connection: [Errno 101] Network is unreachable'))\n",
      "[Erreur] Impossible de charger la page 'No Time Like the Past' : HTTPSConnectionPool(host='en.wikipedia.org', port=443): Max retries exceeded with url: /w/api.php?format=json&redirects=1&action=query&prop=info&titles=No+Time+Like+the+Past&inprop=protection%7Ctalkid%7Cwatched%7Cwatchers%7Cvisitingwatchers%7Cnotificationtimestamp%7Csubjectid%7Curl%7Creadable%7Cpreload%7Cdisplaytitle%7Cvarianttitles (Caused by NewConnectionError('<urllib3.connection.HTTPSConnection object at 0x744178f05640>: Failed to establish a new connection: [Errno 101] Network is unreachable'))\n",
      "[Erreur] Impossible de charger la page 'Threnody to the Victims of Hiroshima' : HTTPSConnectionPool(host='en.wikipedia.org', port=443): Max retries exceeded with url: /w/api.php?format=json&redirects=1&action=query&prop=info&titles=Threnody+to+the+Victims+of+Hiroshima&inprop=protection%7Ctalkid%7Cwatched%7Cwatchers%7Cvisitingwatchers%7Cnotificationtimestamp%7Csubjectid%7Curl%7Creadable%7Cpreload%7Cdisplaytitle%7Cvarianttitles (Caused by NewConnectionError('<urllib3.connection.HTTPSConnection object at 0x744178f07560>: Failed to establish a new connection: [Errno 101] Network is unreachable'))\n"
     ]
    },
    {
     "data": {
      "application/vnd.jupyter.widget-view+json": {
       "model_id": "fbd7a98ff7ed40ee9700887f21a85fad",
       "version_major": 2,
       "version_minor": 0
      },
      "text/plain": [
       "Pages in Books about nuclear issues:   0%|          | 0/61 [00:00<?, ?page/s]"
      ]
     },
     "metadata": {},
     "output_type": "display_data"
    },
    {
     "name": "stdout",
     "output_type": "stream",
     "text": [
      "[Erreur] Impossible de charger la page 'List of books about nuclear issues' : HTTPSConnectionPool(host='en.wikipedia.org', port=443): Max retries exceeded with url: /w/api.php?format=json&redirects=1&action=query&prop=info&titles=List+of+books+about+nuclear+issues&inprop=protection%7Ctalkid%7Cwatched%7Cwatchers%7Cvisitingwatchers%7Cnotificationtimestamp%7Csubjectid%7Curl%7Creadable%7Cpreload%7Cdisplaytitle%7Cvarianttitles (Caused by NewConnectionError('<urllib3.connection.HTTPSConnection object at 0x744178f04f50>: Failed to establish a new connection: [Errno 101] Network is unreachable'))\n",
      "[Erreur] Impossible de charger la page 'The Algebra of Infinite Justice' : HTTPSConnectionPool(host='en.wikipedia.org', port=443): Max retries exceeded with url: /w/api.php?format=json&redirects=1&action=query&prop=info&titles=The+Algebra+of+Infinite+Justice&inprop=protection%7Ctalkid%7Cwatched%7Cwatchers%7Cvisitingwatchers%7Cnotificationtimestamp%7Csubjectid%7Curl%7Creadable%7Cpreload%7Cdisplaytitle%7Cvarianttitles (Caused by NewConnectionError('<urllib3.connection.HTTPSConnection object at 0x744178f046e0>: Failed to establish a new connection: [Errno 101] Network is unreachable'))\n",
      "[Erreur] Impossible de charger la page 'The Atom Besieged' : HTTPSConnectionPool(host='en.wikipedia.org', port=443): Max retries exceeded with url: /w/api.php?format=json&redirects=1&action=query&prop=info&titles=The+Atom+Besieged&inprop=protection%7Ctalkid%7Cwatched%7Cwatchers%7Cvisitingwatchers%7Cnotificationtimestamp%7Csubjectid%7Curl%7Creadable%7Cpreload%7Cdisplaytitle%7Cvarianttitles (Caused by NewConnectionError('<urllib3.connection.HTTPSConnection object at 0x744178f7c5f0>: Failed to establish a new connection: [Errno 101] Network is unreachable'))\n",
      "[Erreur] Impossible de charger la page 'Bomb (book)' : HTTPSConnectionPool(host='en.wikipedia.org', port=443): Max retries exceeded with url: /w/api.php?format=json&redirects=1&action=query&prop=info&titles=Bomb+%28book%29&inprop=protection%7Ctalkid%7Cwatched%7Cwatchers%7Cvisitingwatchers%7Cnotificationtimestamp%7Csubjectid%7Curl%7Creadable%7Cpreload%7Cdisplaytitle%7Cvarianttitles (Caused by NewConnectionError('<urllib3.connection.HTTPSConnection object at 0x744178fbc0e0>: Failed to establish a new connection: [Errno 101] Network is unreachable'))\n",
      "[Erreur] Impossible de charger la page 'Britain, Australia and the Bomb' : HTTPSConnectionPool(host='en.wikipedia.org', port=443): Max retries exceeded with url: /w/api.php?format=json&redirects=1&action=query&prop=info&titles=Britain%2C+Australia+and+the+Bomb&inprop=protection%7Ctalkid%7Cwatched%7Cwatchers%7Cvisitingwatchers%7Cnotificationtimestamp%7Csubjectid%7Curl%7Creadable%7Cpreload%7Cdisplaytitle%7Cvarianttitles (Caused by NewConnectionError('<urllib3.connection.HTTPSConnection object at 0x744178f04770>: Failed to establish a new connection: [Errno 101] Network is unreachable'))\n",
      "[Erreur] Impossible de charger la page 'Canada's Deadly Secret' : HTTPSConnectionPool(host='en.wikipedia.org', port=443): Max retries exceeded with url: /w/api.php?format=json&redirects=1&action=query&prop=info&titles=Canada%27s+Deadly+Secret&inprop=protection%7Ctalkid%7Cwatched%7Cwatchers%7Cvisitingwatchers%7Cnotificationtimestamp%7Csubjectid%7Curl%7Creadable%7Cpreload%7Cdisplaytitle%7Cvarianttitles (Caused by NewConnectionError('<urllib3.connection.HTTPSConnection object at 0x744178f07fe0>: Failed to establish a new connection: [Errno 101] Network is unreachable'))\n",
      "[Erreur] Impossible de charger la page 'The Cold and the Dark' : HTTPSConnectionPool(host='en.wikipedia.org', port=443): Max retries exceeded with url: /w/api.php?format=json&redirects=1&action=query&prop=info&titles=The+Cold+and+the+Dark&inprop=protection%7Ctalkid%7Cwatched%7Cwatchers%7Cvisitingwatchers%7Cnotificationtimestamp%7Csubjectid%7Curl%7Creadable%7Cpreload%7Cdisplaytitle%7Cvarianttitles (Caused by NewConnectionError('<urllib3.connection.HTTPSConnection object at 0x744178f07530>: Failed to establish a new connection: [Errno 101] Network is unreachable'))\n",
      "[Erreur] Impossible de charger la page 'Command and Control (book)' : HTTPSConnectionPool(host='en.wikipedia.org', port=443): Max retries exceeded with url: /w/api.php?format=json&redirects=1&action=query&prop=info&titles=Command+and+Control+%28book%29&inprop=protection%7Ctalkid%7Cwatched%7Cwatchers%7Cvisitingwatchers%7Cnotificationtimestamp%7Csubjectid%7Curl%7Creadable%7Cpreload%7Cdisplaytitle%7Cvarianttitles (Caused by NewConnectionError('<urllib3.connection.HTTPSConnection object at 0x744178f05910>: Failed to establish a new connection: [Errno 101] Network is unreachable'))\n",
      "[Erreur] Impossible de charger la page 'Conservation Fallout' : HTTPSConnectionPool(host='en.wikipedia.org', port=443): Max retries exceeded with url: /w/api.php?format=json&redirects=1&action=query&prop=info&titles=Conservation+Fallout&inprop=protection%7Ctalkid%7Cwatched%7Cwatchers%7Cvisitingwatchers%7Cnotificationtimestamp%7Csubjectid%7Curl%7Creadable%7Cpreload%7Cdisplaytitle%7Cvarianttitles (Caused by NewConnectionError('<urllib3.connection.HTTPSConnection object at 0x744178fbe6c0>: Failed to establish a new connection: [Errno 101] Network is unreachable'))\n",
      "[Erreur] Impossible de charger la page 'Contesting the Future of Nuclear Power' : HTTPSConnectionPool(host='en.wikipedia.org', port=443): Max retries exceeded with url: /w/api.php?format=json&redirects=1&action=query&prop=info&titles=Contesting+the+Future+of+Nuclear+Power&inprop=protection%7Ctalkid%7Cwatched%7Cwatchers%7Cvisitingwatchers%7Cnotificationtimestamp%7Csubjectid%7Curl%7Creadable%7Cpreload%7Cdisplaytitle%7Cvarianttitles (Caused by NewConnectionError('<urllib3.connection.HTTPSConnection object at 0x744178f7c2c0>: Failed to establish a new connection: [Errno 101] Network is unreachable'))\n",
      "[Erreur] Impossible de charger la page 'Critical Masses' : HTTPSConnectionPool(host='en.wikipedia.org', port=443): Max retries exceeded with url: /w/api.php?format=json&redirects=1&action=query&prop=info&titles=Critical+Masses&inprop=protection%7Ctalkid%7Cwatched%7Cwatchers%7Cvisitingwatchers%7Cnotificationtimestamp%7Csubjectid%7Curl%7Creadable%7Cpreload%7Cdisplaytitle%7Cvarianttitles (Caused by NewConnectionError('<urllib3.connection.HTTPSConnection object at 0x744178f7c350>: Failed to establish a new connection: [Errno 101] Network is unreachable'))\n",
      "[Erreur] Impossible de charger la page 'The Cult of the Atom' : HTTPSConnectionPool(host='en.wikipedia.org', port=443): Max retries exceeded with url: /w/api.php?format=json&redirects=1&action=query&prop=info&titles=The+Cult+of+the+Atom&inprop=protection%7Ctalkid%7Cwatched%7Cwatchers%7Cvisitingwatchers%7Cnotificationtimestamp%7Csubjectid%7Curl%7Creadable%7Cpreload%7Cdisplaytitle%7Cvarianttitles (Caused by NewConnectionError('<urllib3.connection.HTTPSConnection object at 0x744178f7d040>: Failed to establish a new connection: [Errno 101] Network is unreachable'))\n",
      "[Erreur] Impossible de charger la page 'The Doomsday Machine (book)' : HTTPSConnectionPool(host='en.wikipedia.org', port=443): Max retries exceeded with url: /w/api.php?format=json&redirects=1&action=query&prop=info&titles=The+Doomsday+Machine+%28book%29&inprop=protection%7Ctalkid%7Cwatched%7Cwatchers%7Cvisitingwatchers%7Cnotificationtimestamp%7Csubjectid%7Curl%7Creadable%7Cpreload%7Cdisplaytitle%7Cvarianttitles (Caused by NewConnectionError('<urllib3.connection.HTTPSConnection object at 0x744178f04b00>: Failed to establish a new connection: [Errno 101] Network is unreachable'))\n",
      "[Erreur] Impossible de charger la page 'The Effects of Nuclear War' : HTTPSConnectionPool(host='en.wikipedia.org', port=443): Max retries exceeded with url: /w/api.php?format=json&redirects=1&action=query&prop=info&titles=The+Effects+of+Nuclear+War&inprop=protection%7Ctalkid%7Cwatched%7Cwatchers%7Cvisitingwatchers%7Cnotificationtimestamp%7Csubjectid%7Curl%7Creadable%7Cpreload%7Cdisplaytitle%7Cvarianttitles (Caused by NewConnectionError('<urllib3.connection.HTTPSConnection object at 0x744178f069c0>: Failed to establish a new connection: [Errno 101] Network is unreachable'))\n",
      "[Erreur] Impossible de charger la page 'Essence of Decision' : HTTPSConnectionPool(host='en.wikipedia.org', port=443): Max retries exceeded with url: /w/api.php?format=json&redirects=1&action=query&prop=info&titles=Essence+of+Decision&inprop=protection%7Ctalkid%7Cwatched%7Cwatchers%7Cvisitingwatchers%7Cnotificationtimestamp%7Csubjectid%7Curl%7Creadable%7Cpreload%7Cdisplaytitle%7Cvarianttitles (Caused by NewConnectionError('<urllib3.connection.HTTPSConnection object at 0x744178f04aa0>: Failed to establish a new connection: [Errno 101] Network is unreachable'))\n",
      "[Erreur] Impossible de charger la page 'Fallout Protection' : HTTPSConnectionPool(host='en.wikipedia.org', port=443): Max retries exceeded with url: /w/api.php?format=json&redirects=1&action=query&prop=info&titles=Fallout+Protection&inprop=protection%7Ctalkid%7Cwatched%7Cwatchers%7Cvisitingwatchers%7Cnotificationtimestamp%7Csubjectid%7Curl%7Creadable%7Cpreload%7Cdisplaytitle%7Cvarianttitles (Caused by NewConnectionError('<urllib3.connection.HTTPSConnection object at 0x744178f04890>: Failed to establish a new connection: [Errno 101] Network is unreachable'))\n",
      "[Erreur] Impossible de charger la page 'Fallout: An American Nuclear Tragedy' : HTTPSConnectionPool(host='en.wikipedia.org', port=443): Max retries exceeded with url: /w/api.php?format=json&redirects=1&action=query&prop=info&titles=Fallout%3A+An+American+Nuclear+Tragedy&inprop=protection%7Ctalkid%7Cwatched%7Cwatchers%7Cvisitingwatchers%7Cnotificationtimestamp%7Csubjectid%7Curl%7Creadable%7Cpreload%7Cdisplaytitle%7Cvarianttitles (Caused by NewConnectionError('<urllib3.connection.HTTPSConnection object at 0x744178cd8d70>: Failed to establish a new connection: [Errno 101] Network is unreachable'))\n",
      "[Erreur] Impossible de charger la page 'The Fate of the Earth' : HTTPSConnectionPool(host='en.wikipedia.org', port=443): Max retries exceeded with url: /w/api.php?format=json&redirects=1&action=query&prop=info&titles=The+Fate+of+the+Earth&inprop=protection%7Ctalkid%7Cwatched%7Cwatchers%7Cvisitingwatchers%7Cnotificationtimestamp%7Csubjectid%7Curl%7Creadable%7Cpreload%7Cdisplaytitle%7Cvarianttitles (Caused by NewConnectionError('<urllib3.connection.HTTPSConnection object at 0x744178fbf200>: Failed to establish a new connection: [Errno 101] Network is unreachable'))\n",
      "[Erreur] Impossible de charger la page 'The Four Faces of Nuclear Terrorism' : HTTPSConnectionPool(host='en.wikipedia.org', port=443): Max retries exceeded with url: /w/api.php?format=json&redirects=1&action=query&prop=info&titles=The+Four+Faces+of+Nuclear+Terrorism&inprop=protection%7Ctalkid%7Cwatched%7Cwatchers%7Cvisitingwatchers%7Cnotificationtimestamp%7Csubjectid%7Curl%7Creadable%7Cpreload%7Cdisplaytitle%7Cvarianttitles (Caused by NewConnectionError('<urllib3.connection.HTTPSConnection object at 0x744178f7c140>: Failed to establish a new connection: [Errno 101] Network is unreachable'))\n",
      "[Erreur] Impossible de charger la page 'Ghosts of the Tsunami' : HTTPSConnectionPool(host='en.wikipedia.org', port=443): Max retries exceeded with url: /w/api.php?format=json&redirects=1&action=query&prop=info&titles=Ghosts+of+the+Tsunami&inprop=protection%7Ctalkid%7Cwatched%7Cwatchers%7Cvisitingwatchers%7Cnotificationtimestamp%7Csubjectid%7Curl%7Creadable%7Cpreload%7Cdisplaytitle%7Cvarianttitles (Caused by NewConnectionError('<urllib3.connection.HTTPSConnection object at 0x744178f7c590>: Failed to establish a new connection: [Errno 101] Network is unreachable'))\n",
      "[Erreur] Impossible de charger la page 'The Gift of Time: The Case for Abolishing Nuclear Weapons Now' : HTTPSConnectionPool(host='en.wikipedia.org', port=443): Max retries exceeded with url: /w/api.php?format=json&redirects=1&action=query&prop=info&titles=The+Gift+of+Time%3A+The+Case+for+Abolishing+Nuclear+Weapons+Now&inprop=protection%7Ctalkid%7Cwatched%7Cwatchers%7Cvisitingwatchers%7Cnotificationtimestamp%7Csubjectid%7Curl%7Creadable%7Cpreload%7Cdisplaytitle%7Cvarianttitles (Caused by NewConnectionError('<urllib3.connection.HTTPSConnection object at 0x744178f7cf20>: Failed to establish a new connection: [Errno 101] Network is unreachable'))\n",
      "[Erreur] Impossible de charger la page 'How to Photograph an Atomic Bomb' : HTTPSConnectionPool(host='en.wikipedia.org', port=443): Max retries exceeded with url: /w/api.php?format=json&redirects=1&action=query&prop=info&titles=How+to+Photograph+an+Atomic+Bomb&inprop=protection%7Ctalkid%7Cwatched%7Cwatchers%7Cvisitingwatchers%7Cnotificationtimestamp%7Csubjectid%7Curl%7Creadable%7Cpreload%7Cdisplaytitle%7Cvarianttitles (Caused by NewConnectionError('<urllib3.connection.HTTPSConnection object at 0x744178f06840>: Failed to establish a new connection: [Errno 101] Network is unreachable'))\n",
      "[Erreur] Impossible de charger la page 'In Mortal Hands' : HTTPSConnectionPool(host='en.wikipedia.org', port=443): Max retries exceeded with url: /w/api.php?format=json&redirects=1&action=query&prop=info&titles=In+Mortal+Hands&inprop=protection%7Ctalkid%7Cwatched%7Cwatchers%7Cvisitingwatchers%7Cnotificationtimestamp%7Csubjectid%7Curl%7Creadable%7Cpreload%7Cdisplaytitle%7Cvarianttitles (Caused by NewConnectionError('<urllib3.connection.HTTPSConnection object at 0x744178f07bf0>: Failed to establish a new connection: [Errno 101] Network is unreachable'))\n",
      "[Erreur] Impossible de charger la page 'Licensed to Kill?' : HTTPSConnectionPool(host='en.wikipedia.org', port=443): Max retries exceeded with url: /w/api.php?format=json&redirects=1&action=query&prop=info&titles=Licensed+to+Kill%3F&inprop=protection%7Ctalkid%7Cwatched%7Cwatchers%7Cvisitingwatchers%7Cnotificationtimestamp%7Csubjectid%7Curl%7Creadable%7Cpreload%7Cdisplaytitle%7Cvarianttitles (Caused by NewConnectionError('<urllib3.connection.HTTPSConnection object at 0x744178f050a0>: Failed to establish a new connection: [Errno 101] Network is unreachable'))\n",
      "[Erreur] Impossible de charger la page 'Making a Real Killing' : HTTPSConnectionPool(host='en.wikipedia.org', port=443): Max retries exceeded with url: /w/api.php?format=json&redirects=1&action=query&prop=info&titles=Making+a+Real+Killing&inprop=protection%7Ctalkid%7Cwatched%7Cwatchers%7Cvisitingwatchers%7Cnotificationtimestamp%7Csubjectid%7Curl%7Creadable%7Cpreload%7Cdisplaytitle%7Cvarianttitles (Caused by NewConnectionError('<urllib3.connection.HTTPSConnection object at 0x744178f06cf0>: Failed to establish a new connection: [Errno 101] Network is unreachable'))\n",
      "[Erreur] Impossible de charger la page 'Malignant: How Cancer Becomes Us' : HTTPSConnectionPool(host='en.wikipedia.org', port=443): Max retries exceeded with url: /w/api.php?format=json&redirects=1&action=query&prop=info&titles=Malignant%3A+How+Cancer+Becomes+Us&inprop=protection%7Ctalkid%7Cwatched%7Cwatchers%7Cvisitingwatchers%7Cnotificationtimestamp%7Csubjectid%7Curl%7Creadable%7Cpreload%7Cdisplaytitle%7Cvarianttitles (Caused by NewConnectionError('<urllib3.connection.HTTPSConnection object at 0x744178fbc0e0>: Failed to establish a new connection: [Errno 101] Network is unreachable'))\n",
      "[Erreur] Impossible de charger la page 'Maralinga: Australia's Nuclear Waste Cover-up' : HTTPSConnectionPool(host='en.wikipedia.org', port=443): Max retries exceeded with url: /w/api.php?format=json&redirects=1&action=query&prop=info&titles=Maralinga%3A+Australia%27s+Nuclear+Waste+Cover-up&inprop=protection%7Ctalkid%7Cwatched%7Cwatchers%7Cvisitingwatchers%7Cnotificationtimestamp%7Csubjectid%7Curl%7Creadable%7Cpreload%7Cdisplaytitle%7Cvarianttitles (Caused by NewConnectionError('<urllib3.connection.HTTPSConnection object at 0x744178fbeb40>: Failed to establish a new connection: [Errno 101] Network is unreachable'))\n",
      "[Erreur] Impossible de charger la page 'Megawatts and Megatons' : HTTPSConnectionPool(host='en.wikipedia.org', port=443): Max retries exceeded with url: /w/api.php?format=json&redirects=1&action=query&prop=info&titles=Megawatts+and+Megatons&inprop=protection%7Ctalkid%7Cwatched%7Cwatchers%7Cvisitingwatchers%7Cnotificationtimestamp%7Csubjectid%7Curl%7Creadable%7Cpreload%7Cdisplaytitle%7Cvarianttitles (Caused by NewConnectionError('<urllib3.connection.HTTPSConnection object at 0x744178fbe840>: Failed to establish a new connection: [Errno 101] Network is unreachable'))\n",
      "[Erreur] Impossible de charger la page 'Mother Country: Britain, the Welfare State, and Nuclear Pollution' : HTTPSConnectionPool(host='en.wikipedia.org', port=443): Max retries exceeded with url: /w/api.php?format=json&redirects=1&action=query&prop=info&titles=Mother+Country%3A+Britain%2C+the+Welfare+State%2C+and+Nuclear+Pollution&inprop=protection%7Ctalkid%7Cwatched%7Cwatchers%7Cvisitingwatchers%7Cnotificationtimestamp%7Csubjectid%7Curl%7Creadable%7Cpreload%7Cdisplaytitle%7Cvarianttitles (Caused by NewConnectionError('<urllib3.connection.HTTPSConnection object at 0x744178c47500>: Failed to establish a new connection: [Errno 101] Network is unreachable'))\n",
      "[Erreur] Impossible de charger la page 'The Navajo People and Uranium Mining' : HTTPSConnectionPool(host='en.wikipedia.org', port=443): Max retries exceeded with url: /w/api.php?format=json&redirects=1&action=query&prop=info&titles=The+Navajo+People+and+Uranium+Mining&inprop=protection%7Ctalkid%7Cwatched%7Cwatchers%7Cvisitingwatchers%7Cnotificationtimestamp%7Csubjectid%7Curl%7Creadable%7Cpreload%7Cdisplaytitle%7Cvarianttitles (Caused by NewConnectionError('<urllib3.connection.HTTPSConnection object at 0x744178c46fc0>: Failed to establish a new connection: [Errno 101] Network is unreachable'))\n",
      "[Erreur] Impossible de charger la page 'No Place to Hide (Bradley book)' : HTTPSConnectionPool(host='en.wikipedia.org', port=443): Max retries exceeded with url: /w/api.php?format=json&redirects=1&action=query&prop=info&titles=No+Place+to+Hide+%28Bradley+book%29&inprop=protection%7Ctalkid%7Cwatched%7Cwatchers%7Cvisitingwatchers%7Cnotificationtimestamp%7Csubjectid%7Curl%7Creadable%7Cpreload%7Cdisplaytitle%7Cvarianttitles (Caused by NewConnectionError('<urllib3.connection.HTTPSConnection object at 0x744178fbe840>: Failed to establish a new connection: [Errno 101] Network is unreachable'))\n",
      "[Erreur] Impossible de charger la page 'Non-Nuclear Futures' : HTTPSConnectionPool(host='en.wikipedia.org', port=443): Max retries exceeded with url: /w/api.php?format=json&redirects=1&action=query&prop=info&titles=Non-Nuclear+Futures&inprop=protection%7Ctalkid%7Cwatched%7Cwatchers%7Cvisitingwatchers%7Cnotificationtimestamp%7Csubjectid%7Curl%7Creadable%7Cpreload%7Cdisplaytitle%7Cvarianttitles (Caused by NewConnectionError('<urllib3.connection.HTTPSConnection object at 0x744178fbd7c0>: Failed to establish a new connection: [Errno 101] Network is unreachable'))\n",
      "[Erreur] Impossible de charger la page 'Normal Accidents' : HTTPSConnectionPool(host='en.wikipedia.org', port=443): Max retries exceeded with url: /w/api.php?format=json&redirects=1&action=query&prop=info&titles=Normal+Accidents&inprop=protection%7Ctalkid%7Cwatched%7Cwatchers%7Cvisitingwatchers%7Cnotificationtimestamp%7Csubjectid%7Curl%7Creadable%7Cpreload%7Cdisplaytitle%7Cvarianttitles (Caused by NewConnectionError('<urllib3.connection.HTTPSConnection object at 0x744178c47aa0>: Failed to establish a new connection: [Errno 101] Network is unreachable'))\n",
      "[Erreur] Impossible de charger la page 'Not for the Faint of Heart' : HTTPSConnectionPool(host='en.wikipedia.org', port=443): Max retries exceeded with url: /w/api.php?format=json&redirects=1&action=query&prop=info&titles=Not+for+the+Faint+of+Heart&inprop=protection%7Ctalkid%7Cwatched%7Cwatchers%7Cvisitingwatchers%7Cnotificationtimestamp%7Csubjectid%7Curl%7Creadable%7Cpreload%7Cdisplaytitle%7Cvarianttitles (Caused by NewConnectionError('<urllib3.connection.HTTPSConnection object at 0x744178c47500>: Failed to establish a new connection: [Errno 101] Network is unreachable'))\n",
      "[Erreur] Impossible de charger la page 'Nuclear Holocausts: Atomic War in Fiction' : HTTPSConnectionPool(host='en.wikipedia.org', port=443): Max retries exceeded with url: /w/api.php?format=json&redirects=1&action=query&prop=info&titles=Nuclear+Holocausts%3A+Atomic+War+in+Fiction&inprop=protection%7Ctalkid%7Cwatched%7Cwatchers%7Cvisitingwatchers%7Cnotificationtimestamp%7Csubjectid%7Curl%7Creadable%7Cpreload%7Cdisplaytitle%7Cvarianttitles (Caused by NewConnectionError('<urllib3.connection.HTTPSConnection object at 0x744178f06780>: Failed to establish a new connection: [Errno 101] Network is unreachable'))\n",
      "[Erreur] Impossible de charger la page 'Nuclear Implosions' : HTTPSConnectionPool(host='en.wikipedia.org', port=443): Max retries exceeded with url: /w/api.php?format=json&redirects=1&action=query&prop=info&titles=Nuclear+Implosions&inprop=protection%7Ctalkid%7Cwatched%7Cwatchers%7Cvisitingwatchers%7Cnotificationtimestamp%7Csubjectid%7Curl%7Creadable%7Cpreload%7Cdisplaytitle%7Cvarianttitles (Caused by NewConnectionError('<urllib3.connection.HTTPSConnection object at 0x744178f04ef0>: Failed to establish a new connection: [Errno 101] Network is unreachable'))\n",
      "[Erreur] Impossible de charger la page 'Nuclear Iran: Birth of an Atomic State' : HTTPSConnectionPool(host='en.wikipedia.org', port=443): Max retries exceeded with url: /w/api.php?format=json&redirects=1&action=query&prop=info&titles=Nuclear+Iran%3A+Birth+of+an+Atomic+State&inprop=protection%7Ctalkid%7Cwatched%7Cwatchers%7Cvisitingwatchers%7Cnotificationtimestamp%7Csubjectid%7Curl%7Creadable%7Cpreload%7Cdisplaytitle%7Cvarianttitles (Caused by NewConnectionError('<urllib3.connection.HTTPSConnection object at 0x744178f051f0>: Failed to establish a new connection: [Errno 101] Network is unreachable'))\n",
      "[Erreur] Impossible de charger la page 'Nuclear Nebraska' : HTTPSConnectionPool(host='en.wikipedia.org', port=443): Max retries exceeded with url: /w/api.php?format=json&redirects=1&action=query&prop=info&titles=Nuclear+Nebraska&inprop=protection%7Ctalkid%7Cwatched%7Cwatchers%7Cvisitingwatchers%7Cnotificationtimestamp%7Csubjectid%7Curl%7Creadable%7Cpreload%7Cdisplaytitle%7Cvarianttitles (Caused by NewConnectionError('<urllib3.connection.HTTPSConnection object at 0x744178f064b0>: Failed to establish a new connection: [Errno 101] Network is unreachable'))\n",
      "[Erreur] Impossible de charger la page 'Nuclear or Not?' : HTTPSConnectionPool(host='en.wikipedia.org', port=443): Max retries exceeded with url: /w/api.php?format=json&redirects=1&action=query&prop=info&titles=Nuclear+or+Not%3F&inprop=protection%7Ctalkid%7Cwatched%7Cwatchers%7Cvisitingwatchers%7Cnotificationtimestamp%7Csubjectid%7Curl%7Creadable%7Cpreload%7Cdisplaytitle%7Cvarianttitles (Caused by NewConnectionError('<urllib3.connection.HTTPSConnection object at 0x744178d8e5a0>: Failed to establish a new connection: [Errno 101] Network is unreachable'))\n",
      "[Erreur] Impossible de charger la page 'Nuclear Politics in America' : HTTPSConnectionPool(host='en.wikipedia.org', port=443): Max retries exceeded with url: /w/api.php?format=json&redirects=1&action=query&prop=info&titles=Nuclear+Politics+in+America&inprop=protection%7Ctalkid%7Cwatched%7Cwatchers%7Cvisitingwatchers%7Cnotificationtimestamp%7Csubjectid%7Curl%7Creadable%7Cpreload%7Cdisplaytitle%7Cvarianttitles (Caused by NewConnectionError('<urllib3.connection.HTTPSConnection object at 0x744178f070e0>: Failed to establish a new connection: [Errno 101] Network is unreachable'))\n",
      "[Erreur] Impossible de charger la page 'Nuclear Power and the Environment' : HTTPSConnectionPool(host='en.wikipedia.org', port=443): Max retries exceeded with url: /w/api.php?format=json&redirects=1&action=query&prop=info&titles=Nuclear+Power+and+the+Environment&inprop=protection%7Ctalkid%7Cwatched%7Cwatchers%7Cvisitingwatchers%7Cnotificationtimestamp%7Csubjectid%7Curl%7Creadable%7Cpreload%7Cdisplaytitle%7Cvarianttitles (Caused by NewConnectionError('<urllib3.connection.HTTPSConnection object at 0x744178f07e00>: Failed to establish a new connection: [Errno 101] Network is unreachable'))\n",
      "[Erreur] Impossible de charger la page 'Nuclear Terrorism: The Ultimate Preventable Catastrophe' : HTTPSConnectionPool(host='en.wikipedia.org', port=443): Max retries exceeded with url: /w/api.php?format=json&redirects=1&action=query&prop=info&titles=Nuclear+Terrorism%3A+The+Ultimate+Preventable+Catastrophe&inprop=protection%7Ctalkid%7Cwatched%7Cwatchers%7Cvisitingwatchers%7Cnotificationtimestamp%7Csubjectid%7Curl%7Creadable%7Cpreload%7Cdisplaytitle%7Cvarianttitles (Caused by NewConnectionError('<urllib3.connection.HTTPSConnection object at 0x744178f042c0>: Failed to establish a new connection: [Errno 101] Network is unreachable'))\n",
      "[Erreur] Impossible de charger la page 'Nuclear War in the UK' : HTTPSConnectionPool(host='en.wikipedia.org', port=443): Max retries exceeded with url: /w/api.php?format=json&redirects=1&action=query&prop=info&titles=Nuclear+War+in+the+UK&inprop=protection%7Ctalkid%7Cwatched%7Cwatchers%7Cvisitingwatchers%7Cnotificationtimestamp%7Csubjectid%7Curl%7Creadable%7Cpreload%7Cdisplaytitle%7Cvarianttitles (Caused by NewConnectionError('<urllib3.connection.HTTPSConnection object at 0x744178f065d0>: Failed to establish a new connection: [Errno 101] Network is unreachable'))\n",
      "[Erreur] Impossible de charger la page 'Nuclear War Survival Skills' : HTTPSConnectionPool(host='en.wikipedia.org', port=443): Max retries exceeded with url: /w/api.php?format=json&redirects=1&action=query&prop=info&titles=Nuclear+War+Survival+Skills&inprop=protection%7Ctalkid%7Cwatched%7Cwatchers%7Cvisitingwatchers%7Cnotificationtimestamp%7Csubjectid%7Curl%7Creadable%7Cpreload%7Cdisplaytitle%7Cvarianttitles (Caused by NewConnectionError('<urllib3.connection.HTTPSConnection object at 0x744178c45970>: Failed to establish a new connection: [Errno 101] Network is unreachable'))\n",
      "[Erreur] Impossible de charger la page 'Nuclear Weapons: The Road to Zero' : HTTPSConnectionPool(host='en.wikipedia.org', port=443): Max retries exceeded with url: /w/api.php?format=json&redirects=1&action=query&prop=info&titles=Nuclear+Weapons%3A+The+Road+to+Zero&inprop=protection%7Ctalkid%7Cwatched%7Cwatchers%7Cvisitingwatchers%7Cnotificationtimestamp%7Csubjectid%7Curl%7Creadable%7Cpreload%7Cdisplaytitle%7Cvarianttitles (Caused by NewConnectionError('<urllib3.connection.HTTPSConnection object at 0x744178c46ff0>: Failed to establish a new connection: [Errno 101] Network is unreachable'))\n",
      "[Erreur] Impossible de charger la page 'Nukespeak' : HTTPSConnectionPool(host='en.wikipedia.org', port=443): Max retries exceeded with url: /w/api.php?format=json&redirects=1&action=query&prop=info&titles=Nukespeak&inprop=protection%7Ctalkid%7Cwatched%7Cwatchers%7Cvisitingwatchers%7Cnotificationtimestamp%7Csubjectid%7Curl%7Creadable%7Cpreload%7Cdisplaytitle%7Cvarianttitles (Caused by NewConnectionError('<urllib3.connection.HTTPSConnection object at 0x744178c46e70>: Failed to establish a new connection: [Errno 101] Network is unreachable'))\n",
      "[Erreur] Impossible de charger la page 'On Nuclear Terrorism' : HTTPSConnectionPool(host='en.wikipedia.org', port=443): Max retries exceeded with url: /w/api.php?format=json&redirects=1&action=query&prop=info&titles=On+Nuclear+Terrorism&inprop=protection%7Ctalkid%7Cwatched%7Cwatchers%7Cvisitingwatchers%7Cnotificationtimestamp%7Csubjectid%7Curl%7Creadable%7Cpreload%7Cdisplaytitle%7Cvarianttitles (Caused by NewConnectionError('<urllib3.connection.HTTPSConnection object at 0x744178fbd550>: Failed to establish a new connection: [Errno 101] Network is unreachable'))\n",
      "[Erreur] Impossible de charger la page 'The Plutonium Files' : HTTPSConnectionPool(host='en.wikipedia.org', port=443): Max retries exceeded with url: /w/api.php?format=json&redirects=1&action=query&prop=info&titles=The+Plutonium+Files&inprop=protection%7Ctalkid%7Cwatched%7Cwatchers%7Cvisitingwatchers%7Cnotificationtimestamp%7Csubjectid%7Curl%7Creadable%7Cpreload%7Cdisplaytitle%7Cvarianttitles (Caused by NewConnectionError('<urllib3.connection.HTTPSConnection object at 0x744178fbdbb0>: Failed to establish a new connection: [Errno 101] Network is unreachable'))\n",
      "[Erreur] Impossible de charger la page 'Power to Save the World' : HTTPSConnectionPool(host='en.wikipedia.org', port=443): Max retries exceeded with url: /w/api.php?format=json&redirects=1&action=query&prop=info&titles=Power+to+Save+the+World&inprop=protection%7Ctalkid%7Cwatched%7Cwatchers%7Cvisitingwatchers%7Cnotificationtimestamp%7Csubjectid%7Curl%7Creadable%7Cpreload%7Cdisplaytitle%7Cvarianttitles (Caused by NewConnectionError('<urllib3.connection.HTTPSConnection object at 0x744178fbe600>: Failed to establish a new connection: [Errno 101] Network is unreachable'))\n",
      "[Erreur] Impossible de charger la page 'The Psychology of Nuclear Proliferation' : HTTPSConnectionPool(host='en.wikipedia.org', port=443): Max retries exceeded with url: /w/api.php?format=json&redirects=1&action=query&prop=info&titles=The+Psychology+of+Nuclear+Proliferation&inprop=protection%7Ctalkid%7Cwatched%7Cwatchers%7Cvisitingwatchers%7Cnotificationtimestamp%7Csubjectid%7Curl%7Creadable%7Cpreload%7Cdisplaytitle%7Cvarianttitles (Caused by NewConnectionError('<urllib3.connection.HTTPSConnection object at 0x744178c47aa0>: Failed to establish a new connection: [Errno 101] Network is unreachable'))\n",
      "[Erreur] Impossible de charger la page 'Reaction Time (book)' : HTTPSConnectionPool(host='en.wikipedia.org', port=443): Max retries exceeded with url: /w/api.php?format=json&redirects=1&action=query&prop=info&titles=Reaction+Time+%28book%29&inprop=protection%7Ctalkid%7Cwatched%7Cwatchers%7Cvisitingwatchers%7Cnotificationtimestamp%7Csubjectid%7Curl%7Creadable%7Cpreload%7Cdisplaytitle%7Cvarianttitles (Caused by NewConnectionError('<urllib3.connection.HTTPSConnection object at 0x744178c45280>: Failed to establish a new connection: [Errno 101] Network is unreachable'))\n",
      "[Erreur] Impossible de charger la page 'The Seventh Decade' : HTTPSConnectionPool(host='en.wikipedia.org', port=443): Max retries exceeded with url: /w/api.php?format=json&redirects=1&action=query&prop=info&titles=The+Seventh+Decade&inprop=protection%7Ctalkid%7Cwatched%7Cwatchers%7Cvisitingwatchers%7Cnotificationtimestamp%7Csubjectid%7Curl%7Creadable%7Cpreload%7Cdisplaytitle%7Cvarianttitles (Caused by NewConnectionError('<urllib3.connection.HTTPSConnection object at 0x744178fbe1b0>: Failed to establish a new connection: [Errno 101] Network is unreachable'))\n",
      "[Erreur] Impossible de charger la page 'Strong in the Rain' : HTTPSConnectionPool(host='en.wikipedia.org', port=443): Max retries exceeded with url: /w/api.php?format=json&redirects=1&action=query&prop=info&titles=Strong+in+the+Rain&inprop=protection%7Ctalkid%7Cwatched%7Cwatchers%7Cvisitingwatchers%7Cnotificationtimestamp%7Csubjectid%7Curl%7Creadable%7Cpreload%7Cdisplaytitle%7Cvarianttitles (Caused by NewConnectionError('<urllib3.connection.HTTPSConnection object at 0x744178f06570>: Failed to establish a new connection: [Errno 101] Network is unreachable'))\n",
      "[Erreur] Impossible de charger la page 'Survival Under Atomic Attack' : HTTPSConnectionPool(host='en.wikipedia.org', port=443): Max retries exceeded with url: /w/api.php?format=json&redirects=1&action=query&prop=info&titles=Survival+Under+Atomic+Attack&inprop=protection%7Ctalkid%7Cwatched%7Cwatchers%7Cvisitingwatchers%7Cnotificationtimestamp%7Csubjectid%7Curl%7Creadable%7Cpreload%7Cdisplaytitle%7Cvarianttitles (Caused by NewConnectionError('<urllib3.connection.HTTPSConnection object at 0x744178f065d0>: Failed to establish a new connection: [Errno 101] Network is unreachable'))\n",
      "[Erreur] Impossible de charger la page 'Three Mile Island: Thirty Minutes to Meltdown' : HTTPSConnectionPool(host='en.wikipedia.org', port=443): Max retries exceeded with url: /w/api.php?format=json&redirects=1&action=query&prop=info&titles=Three+Mile+Island%3A+Thirty+Minutes+to+Meltdown&inprop=protection%7Ctalkid%7Cwatched%7Cwatchers%7Cvisitingwatchers%7Cnotificationtimestamp%7Csubjectid%7Curl%7Creadable%7Cpreload%7Cdisplaytitle%7Cvarianttitles (Caused by NewConnectionError('<urllib3.connection.HTTPSConnection object at 0x744178f05760>: Failed to establish a new connection: [Errno 101] Network is unreachable'))\n",
      "[Erreur] Impossible de charger la page 'Totem and Ore' : HTTPSConnectionPool(host='en.wikipedia.org', port=443): Max retries exceeded with url: /w/api.php?format=json&redirects=1&action=query&prop=info&titles=Totem+and+Ore&inprop=protection%7Ctalkid%7Cwatched%7Cwatchers%7Cvisitingwatchers%7Cnotificationtimestamp%7Csubjectid%7Curl%7Creadable%7Cpreload%7Cdisplaytitle%7Cvarianttitles (Caused by NewConnectionError('<urllib3.connection.HTTPSConnection object at 0x744178f06090>: Failed to establish a new connection: [Errno 101] Network is unreachable'))\n",
      "[Erreur] Impossible de charger la page 'Trashing the Planet' : HTTPSConnectionPool(host='en.wikipedia.org', port=443): Max retries exceeded with url: /w/api.php?format=json&redirects=1&action=query&prop=info&titles=Trashing+the+Planet&inprop=protection%7Ctalkid%7Cwatched%7Cwatchers%7Cvisitingwatchers%7Cnotificationtimestamp%7Csubjectid%7Curl%7Creadable%7Cpreload%7Cdisplaytitle%7Cvarianttitles (Caused by NewConnectionError('<urllib3.connection.HTTPSConnection object at 0x744178f070e0>: Failed to establish a new connection: [Errno 101] Network is unreachable'))\n",
      "[Erreur] Impossible de charger la page 'The Unfinished Twentieth Century' : HTTPSConnectionPool(host='en.wikipedia.org', port=443): Max retries exceeded with url: /w/api.php?format=json&redirects=1&action=query&prop=info&titles=The+Unfinished+Twentieth+Century&inprop=protection%7Ctalkid%7Cwatched%7Cwatchers%7Cvisitingwatchers%7Cnotificationtimestamp%7Csubjectid%7Curl%7Creadable%7Cpreload%7Cdisplaytitle%7Cvarianttitles (Caused by NewConnectionError('<urllib3.connection.HTTPSConnection object at 0x744178b10cb0>: Failed to establish a new connection: [Errno 101] Network is unreachable'))\n",
      "[Erreur] Impossible de charger la page 'We Almost Lost Detroit' : HTTPSConnectionPool(host='en.wikipedia.org', port=443): Max retries exceeded with url: /w/api.php?format=json&redirects=1&action=query&prop=info&titles=We+Almost+Lost+Detroit&inprop=protection%7Ctalkid%7Cwatched%7Cwatchers%7Cvisitingwatchers%7Cnotificationtimestamp%7Csubjectid%7Curl%7Creadable%7Cpreload%7Cdisplaytitle%7Cvarianttitles (Caused by NewConnectionError('<urllib3.connection.HTTPSConnection object at 0x744178c47f20>: Failed to establish a new connection: [Errno 101] Network is unreachable'))\n",
      "[Erreur] Impossible de charger la page 'When Technology Fails' : HTTPSConnectionPool(host='en.wikipedia.org', port=443): Max retries exceeded with url: /w/api.php?format=json&redirects=1&action=query&prop=info&titles=When+Technology+Fails&inprop=protection%7Ctalkid%7Cwatched%7Cwatchers%7Cvisitingwatchers%7Cnotificationtimestamp%7Csubjectid%7Curl%7Creadable%7Cpreload%7Cdisplaytitle%7Cvarianttitles (Caused by NewConnectionError('<urllib3.connection.HTTPSConnection object at 0x744178f04a10>: Failed to establish a new connection: [Errno 101] Network is unreachable'))\n",
      "[Erreur] Impossible de charger la page 'World Nuclear Industry Status Report' : HTTPSConnectionPool(host='en.wikipedia.org', port=443): Max retries exceeded with url: /w/api.php?format=json&redirects=1&action=query&prop=info&titles=World+Nuclear+Industry+Status+Report&inprop=protection%7Ctalkid%7Cwatched%7Cwatchers%7Cvisitingwatchers%7Cnotificationtimestamp%7Csubjectid%7Curl%7Creadable%7Cpreload%7Cdisplaytitle%7Cvarianttitles (Caused by NewConnectionError('<urllib3.connection.HTTPSConnection object at 0x744178f07ec0>: Failed to establish a new connection: [Errno 101] Network is unreachable'))\n"
     ]
    },
    {
     "data": {
      "application/vnd.jupyter.widget-view+json": {
       "model_id": "33153f698ad740a38964fed81e58591d",
       "version_major": 2,
       "version_minor": 0
      },
      "text/plain": [
       "Pages in Fiction about nuclear technology:   0%|          | 0/5 [00:00<?, ?page/s]"
      ]
     },
     "metadata": {},
     "output_type": "display_data"
    },
    {
     "name": "stdout",
     "output_type": "stream",
     "text": [
      "[Erreur] Impossible de charger la page 'Blowups Happen' : HTTPSConnectionPool(host='en.wikipedia.org', port=443): Max retries exceeded with url: /w/api.php?format=json&redirects=1&action=query&prop=info&titles=Blowups+Happen&inprop=protection%7Ctalkid%7Cwatched%7Cwatchers%7Cvisitingwatchers%7Cnotificationtimestamp%7Csubjectid%7Curl%7Creadable%7Cpreload%7Cdisplaytitle%7Cvarianttitles (Caused by NewConnectionError('<urllib3.connection.HTTPSConnection object at 0x744178f066f0>: Failed to establish a new connection: [Errno 101] Network is unreachable'))\n",
      "[Erreur] Impossible de charger la page 'The Brack Report' : HTTPSConnectionPool(host='en.wikipedia.org', port=443): Max retries exceeded with url: /w/api.php?format=json&redirects=1&action=query&prop=info&titles=The+Brack+Report&inprop=protection%7Ctalkid%7Cwatched%7Cwatchers%7Cvisitingwatchers%7Cnotificationtimestamp%7Csubjectid%7Curl%7Creadable%7Cpreload%7Cdisplaytitle%7Cvarianttitles (Caused by NewConnectionError('<urllib3.connection.HTTPSConnection object at 0x744178fbf200>: Failed to establish a new connection: [Errno 101] Network is unreachable'))\n",
      "[Erreur] Impossible de charger la page 'Edge of Darkness' : HTTPSConnectionPool(host='en.wikipedia.org', port=443): Max retries exceeded with url: /w/api.php?format=json&redirects=1&action=query&prop=info&titles=Edge+of+Darkness&inprop=protection%7Ctalkid%7Cwatched%7Cwatchers%7Cvisitingwatchers%7Cnotificationtimestamp%7Csubjectid%7Curl%7Creadable%7Cpreload%7Cdisplaytitle%7Cvarianttitles (Caused by NewConnectionError('<urllib3.connection.HTTPSConnection object at 0x744178fbc0e0>: Failed to establish a new connection: [Errno 101] Network is unreachable'))\n",
      "[Erreur] Impossible de charger la page 'Hairline Cracks' : HTTPSConnectionPool(host='en.wikipedia.org', port=443): Max retries exceeded with url: /w/api.php?format=json&redirects=1&action=query&prop=info&titles=Hairline+Cracks&inprop=protection%7Ctalkid%7Cwatched%7Cwatchers%7Cvisitingwatchers%7Cnotificationtimestamp%7Csubjectid%7Curl%7Creadable%7Cpreload%7Cdisplaytitle%7Cvarianttitles (Caused by NewConnectionError('<urllib3.connection.HTTPSConnection object at 0x744178c45b20>: Failed to establish a new connection: [Errno 101] Network is unreachable'))\n",
      "[Erreur] Impossible de charger la page 'The Infinity Clue' : HTTPSConnectionPool(host='en.wikipedia.org', port=443): Max retries exceeded with url: /w/api.php?format=json&redirects=1&action=query&prop=info&titles=The+Infinity+Clue&inprop=protection%7Ctalkid%7Cwatched%7Cwatchers%7Cvisitingwatchers%7Cnotificationtimestamp%7Csubjectid%7Curl%7Creadable%7Cpreload%7Cdisplaytitle%7Cvarianttitles (Caused by NewConnectionError('<urllib3.connection.HTTPSConnection object at 0x744178c47ad0>: Failed to establish a new connection: [Errno 101] Network is unreachable'))\n"
     ]
    },
    {
     "data": {
      "application/vnd.jupyter.widget-view+json": {
       "model_id": "9d99eed37ffd413abe28cdb65e943dce",
       "version_major": 2,
       "version_minor": 0
      },
      "text/plain": [
       "Pages in Films about nuclear technology:   0%|          | 0/15 [00:00<?, ?page/s]"
      ]
     },
     "metadata": {},
     "output_type": "display_data"
    },
    {
     "name": "stdout",
     "output_type": "stream",
     "text": [
      "[Erreur] Impossible de charger la page 'List of films about nuclear issues' : HTTPSConnectionPool(host='en.wikipedia.org', port=443): Max retries exceeded with url: /w/api.php?format=json&redirects=1&action=query&prop=info&titles=List+of+films+about+nuclear+issues&inprop=protection%7Ctalkid%7Cwatched%7Cwatchers%7Cvisitingwatchers%7Cnotificationtimestamp%7Csubjectid%7Curl%7Creadable%7Cpreload%7Cdisplaytitle%7Cvarianttitles (Caused by NewConnectionError('<urllib3.connection.HTTPSConnection object at 0x744178f059d0>: Failed to establish a new connection: [Errno 101] Network is unreachable'))\n",
      "[Erreur] Impossible de charger la page 'Agent Vinod (1977 film)' : HTTPSConnectionPool(host='en.wikipedia.org', port=443): Max retries exceeded with url: /w/api.php?format=json&redirects=1&action=query&prop=info&titles=Agent+Vinod+%281977+film%29&inprop=protection%7Ctalkid%7Cwatched%7Cwatchers%7Cvisitingwatchers%7Cnotificationtimestamp%7Csubjectid%7Curl%7Creadable%7Cpreload%7Cdisplaytitle%7Cvarianttitles (Caused by NewConnectionError('<urllib3.connection.HTTPSConnection object at 0x744178d8d970>: Failed to establish a new connection: [Errno 101] Network is unreachable'))\n",
      "[Erreur] Impossible de charger la page 'Agent Vinod (2012 film)' : HTTPSConnectionPool(host='en.wikipedia.org', port=443): Max retries exceeded with url: /w/api.php?format=json&redirects=1&action=query&prop=info&titles=Agent+Vinod+%282012+film%29&inprop=protection%7Ctalkid%7Cwatched%7Cwatchers%7Cvisitingwatchers%7Cnotificationtimestamp%7Csubjectid%7Curl%7Creadable%7Cpreload%7Cdisplaytitle%7Cvarianttitles (Caused by NewConnectionError('<urllib3.connection.HTTPSConnection object at 0x744178fbc290>: Failed to establish a new connection: [Errno 101] Network is unreachable'))\n",
      "[Erreur] Impossible de charger la page 'Beginning of the End (film)' : HTTPSConnectionPool(host='en.wikipedia.org', port=443): Max retries exceeded with url: /w/api.php?format=json&redirects=1&action=query&prop=info&titles=Beginning+of+the+End+%28film%29&inprop=protection%7Ctalkid%7Cwatched%7Cwatchers%7Cvisitingwatchers%7Cnotificationtimestamp%7Csubjectid%7Curl%7Creadable%7Cpreload%7Cdisplaytitle%7Cvarianttitles (Caused by NewConnectionError('<urllib3.connection.HTTPSConnection object at 0x744178fbe180>: Failed to establish a new connection: [Errno 101] Network is unreachable'))\n",
      "[Erreur] Impossible de charger la page 'The Big Bus' : HTTPSConnectionPool(host='en.wikipedia.org', port=443): Max retries exceeded with url: /w/api.php?format=json&redirects=1&action=query&prop=info&titles=The+Big+Bus&inprop=protection%7Ctalkid%7Cwatched%7Cwatchers%7Cvisitingwatchers%7Cnotificationtimestamp%7Csubjectid%7Curl%7Creadable%7Cpreload%7Cdisplaytitle%7Cvarianttitles (Caused by NewConnectionError('<urllib3.connection.HTTPSConnection object at 0x744178fbe330>: Failed to establish a new connection: [Errno 101] Network is unreachable'))\n",
      "[Erreur] Impossible de charger la page 'Chain Reaction (1996 film)' : HTTPSConnectionPool(host='en.wikipedia.org', port=443): Max retries exceeded with url: /w/api.php?format=json&redirects=1&action=query&prop=info&titles=Chain+Reaction+%281996+film%29&inprop=protection%7Ctalkid%7Cwatched%7Cwatchers%7Cvisitingwatchers%7Cnotificationtimestamp%7Csubjectid%7Curl%7Creadable%7Cpreload%7Cdisplaytitle%7Cvarianttitles (Caused by NewConnectionError('<urllib3.connection.HTTPSConnection object at 0x744178cd9580>: Failed to establish a new connection: [Errno 101] Network is unreachable'))\n",
      "[Erreur] Impossible de charger la page 'Chernobyl Diaries' : HTTPSConnectionPool(host='en.wikipedia.org', port=443): Max retries exceeded with url: /w/api.php?format=json&redirects=1&action=query&prop=info&titles=Chernobyl+Diaries&inprop=protection%7Ctalkid%7Cwatched%7Cwatchers%7Cvisitingwatchers%7Cnotificationtimestamp%7Csubjectid%7Curl%7Creadable%7Cpreload%7Cdisplaytitle%7Cvarianttitles (Caused by NewConnectionError('<urllib3.connection.HTTPSConnection object at 0x744178f07830>: Failed to establish a new connection: [Errno 101] Network is unreachable'))\n",
      "[Erreur] Impossible de charger la page 'The Core' : HTTPSConnectionPool(host='en.wikipedia.org', port=443): Max retries exceeded with url: /w/api.php?format=json&redirects=1&action=query&prop=info&titles=The+Core&inprop=protection%7Ctalkid%7Cwatched%7Cwatchers%7Cvisitingwatchers%7Cnotificationtimestamp%7Csubjectid%7Curl%7Creadable%7Cpreload%7Cdisplaytitle%7Cvarianttitles (Caused by NewConnectionError('<urllib3.connection.HTTPSConnection object at 0x744178f047d0>: Failed to establish a new connection: [Errno 101] Network is unreachable'))\n",
      "[Erreur] Impossible de charger la page 'Dybbuk (film)' : HTTPSConnectionPool(host='en.wikipedia.org', port=443): Max retries exceeded with url: /w/api.php?format=json&redirects=1&action=query&prop=info&titles=Dybbuk+%28film%29&inprop=protection%7Ctalkid%7Cwatched%7Cwatchers%7Cvisitingwatchers%7Cnotificationtimestamp%7Csubjectid%7Curl%7Creadable%7Cpreload%7Cdisplaytitle%7Cvarianttitles (Caused by NewConnectionError('<urllib3.connection.HTTPSConnection object at 0x744178fbeae0>: Failed to establish a new connection: [Errno 101] Network is unreachable'))\n",
      "[Erreur] Impossible de charger la page 'Ezra (2017 film)' : HTTPSConnectionPool(host='en.wikipedia.org', port=443): Max retries exceeded with url: /w/api.php?format=json&redirects=1&action=query&prop=info&titles=Ezra+%282017+film%29&inprop=protection%7Ctalkid%7Cwatched%7Cwatchers%7Cvisitingwatchers%7Cnotificationtimestamp%7Csubjectid%7Curl%7Creadable%7Cpreload%7Cdisplaytitle%7Cvarianttitles (Caused by NewConnectionError('<urllib3.connection.HTTPSConnection object at 0x744178fbdb20>: Failed to establish a new connection: [Errno 101] Network is unreachable'))\n",
      "[Erreur] Impossible de charger la page 'The Hero: Love Story of a Spy' : HTTPSConnectionPool(host='en.wikipedia.org', port=443): Max retries exceeded with url: /w/api.php?format=json&redirects=1&action=query&prop=info&titles=The+Hero%3A+Love+Story+of+a+Spy&inprop=protection%7Ctalkid%7Cwatched%7Cwatchers%7Cvisitingwatchers%7Cnotificationtimestamp%7Csubjectid%7Curl%7Creadable%7Cpreload%7Cdisplaytitle%7Cvarianttitles (Caused by NewConnectionError('<urllib3.connection.HTTPSConnection object at 0x744178c46bd0>: Failed to establish a new connection: [Errno 101] Network is unreachable'))\n",
      "[Erreur] Impossible de charger la page 'Operation Jackpot Nalli C.I.D 999' : HTTPSConnectionPool(host='en.wikipedia.org', port=443): Max retries exceeded with url: /w/api.php?format=json&redirects=1&action=query&prop=info&titles=Operation+Jackpot+Nalli+C.I.D+999&inprop=protection%7Ctalkid%7Cwatched%7Cwatchers%7Cvisitingwatchers%7Cnotificationtimestamp%7Csubjectid%7Curl%7Creadable%7Cpreload%7Cdisplaytitle%7Cvarianttitles (Caused by NewConnectionError('<urllib3.connection.HTTPSConnection object at 0x744178c45790>: Failed to establish a new connection: [Errno 101] Network is unreachable'))\n",
      "[Erreur] Impossible de charger la page 'Parmanu: The Story of Pokhran' : HTTPSConnectionPool(host='en.wikipedia.org', port=443): Max retries exceeded with url: /w/api.php?format=json&redirects=1&action=query&prop=info&titles=Parmanu%3A+The+Story+of+Pokhran&inprop=protection%7Ctalkid%7Cwatched%7Cwatchers%7Cvisitingwatchers%7Cnotificationtimestamp%7Csubjectid%7Curl%7Creadable%7Cpreload%7Cdisplaytitle%7Cvarianttitles (Caused by NewConnectionError('<urllib3.connection.HTTPSConnection object at 0x744178c6de20>: Failed to establish a new connection: [Errno 101] Network is unreachable'))\n",
      "[Erreur] Impossible de charger la page 'The Saint (1997 film)' : HTTPSConnectionPool(host='en.wikipedia.org', port=443): Max retries exceeded with url: /w/api.php?format=json&redirects=1&action=query&prop=info&titles=The+Saint+%281997+film%29&inprop=protection%7Ctalkid%7Cwatched%7Cwatchers%7Cvisitingwatchers%7Cnotificationtimestamp%7Csubjectid%7Curl%7Creadable%7Cpreload%7Cdisplaytitle%7Cvarianttitles (Caused by NewConnectionError('<urllib3.connection.HTTPSConnection object at 0x744178c6c950>: Failed to establish a new connection: [Errno 101] Network is unreachable'))\n",
      "[Erreur] Impossible de charger la page 'Silkwood' : HTTPSConnectionPool(host='en.wikipedia.org', port=443): Max retries exceeded with url: /w/api.php?format=json&redirects=1&action=query&prop=info&titles=Silkwood&inprop=protection%7Ctalkid%7Cwatched%7Cwatchers%7Cvisitingwatchers%7Cnotificationtimestamp%7Csubjectid%7Curl%7Creadable%7Cpreload%7Cdisplaytitle%7Cvarianttitles (Caused by NewConnectionError('<urllib3.connection.HTTPSConnection object at 0x744178c47ad0>: Failed to establish a new connection: [Errno 101] Network is unreachable'))\n"
     ]
    },
    {
     "data": {
      "application/vnd.jupyter.widget-view+json": {
       "model_id": "14af7f6b0da14566b8553c0172c3f2b1",
       "version_major": 2,
       "version_minor": 0
      },
      "text/plain": [
       "Pages in Works about the Fukushima nuclear accident: 0page [00:00, ?page/s]"
      ]
     },
     "metadata": {},
     "output_type": "display_data"
    },
    {
     "data": {
      "application/vnd.jupyter.widget-view+json": {
       "model_id": "d03d82b48d524328abada0799ec7eaf1",
       "version_major": 2,
       "version_minor": 0
      },
      "text/plain": [
       "Pages in Novels about nuclear technology:   0%|          | 0/4 [00:00<?, ?page/s]"
      ]
     },
     "metadata": {},
     "output_type": "display_data"
    },
    {
     "name": "stdout",
     "output_type": "stream",
     "text": [
      "[Erreur] Impossible de charger la page 'Godzilla and Godzilla Raids Again' : HTTPSConnectionPool(host='en.wikipedia.org', port=443): Max retries exceeded with url: /w/api.php?format=json&redirects=1&action=query&prop=info&titles=Godzilla+and+Godzilla+Raids+Again&inprop=protection%7Ctalkid%7Cwatched%7Cwatchers%7Cvisitingwatchers%7Cnotificationtimestamp%7Csubjectid%7Curl%7Creadable%7Cpreload%7Cdisplaytitle%7Cvarianttitles (Caused by NewConnectionError('<urllib3.connection.HTTPSConnection object at 0x744178fbc080>: Failed to establish a new connection: [Errno 101] Network is unreachable'))\n",
      "[Erreur] Impossible de charger la page 'Green Fire (novel)' : HTTPSConnectionPool(host='en.wikipedia.org', port=443): Max retries exceeded with url: /w/api.php?format=json&redirects=1&action=query&prop=info&titles=Green+Fire+%28novel%29&inprop=protection%7Ctalkid%7Cwatched%7Cwatchers%7Cvisitingwatchers%7Cnotificationtimestamp%7Csubjectid%7Curl%7Creadable%7Cpreload%7Cdisplaytitle%7Cvarianttitles (Caused by NewConnectionError('<urllib3.connection.HTTPSConnection object at 0x744178f059d0>: Failed to establish a new connection: [Errno 101] Network is unreachable'))\n",
      "[Erreur] Impossible de charger la page 'Jason X: The Experiment' : HTTPSConnectionPool(host='en.wikipedia.org', port=443): Max retries exceeded with url: /w/api.php?format=json&redirects=1&action=query&prop=info&titles=Jason+X%3A+The+Experiment&inprop=protection%7Ctalkid%7Cwatched%7Cwatchers%7Cvisitingwatchers%7Cnotificationtimestamp%7Csubjectid%7Curl%7Creadable%7Cpreload%7Cdisplaytitle%7Cvarianttitles (Caused by NewConnectionError('<urllib3.connection.HTTPSConnection object at 0x744178d8cf80>: Failed to establish a new connection: [Errno 101] Network is unreachable'))\n",
      "[Erreur] Impossible de charger la page 'Triple (novel)' : HTTPSConnectionPool(host='en.wikipedia.org', port=443): Max retries exceeded with url: /w/api.php?format=json&redirects=1&action=query&prop=info&titles=Triple+%28novel%29&inprop=protection%7Ctalkid%7Cwatched%7Cwatchers%7Cvisitingwatchers%7Cnotificationtimestamp%7Csubjectid%7Curl%7Creadable%7Cpreload%7Cdisplaytitle%7Cvarianttitles (Caused by NewConnectionError('<urllib3.connection.HTTPSConnection object at 0x744178cd9820>: Failed to establish a new connection: [Errno 101] Network is unreachable'))\n"
     ]
    },
    {
     "data": {
      "application/vnd.jupyter.widget-view+json": {
       "model_id": "1635c1a7d61b45588d33b5885c1adc9f",
       "version_major": 2,
       "version_minor": 0
      },
      "text/plain": [
       "Pages in Video games about nuclear technology:   0%|          | 0/11 [00:00<?, ?page/s]"
      ]
     },
     "metadata": {},
     "output_type": "display_data"
    },
    {
     "name": "stdout",
     "output_type": "stream",
     "text": [
      "[Erreur] Impossible de charger la page 'Atomic Runner Chelnov' : HTTPSConnectionPool(host='en.wikipedia.org', port=443): Max retries exceeded with url: /w/api.php?format=json&redirects=1&action=query&prop=info&titles=Atomic+Runner+Chelnov&inprop=protection%7Ctalkid%7Cwatched%7Cwatchers%7Cvisitingwatchers%7Cnotificationtimestamp%7Csubjectid%7Curl%7Creadable%7Cpreload%7Cdisplaytitle%7Cvarianttitles (Caused by NewConnectionError('<urllib3.connection.HTTPSConnection object at 0x744178f06c90>: Failed to establish a new connection: [Errno 101] Network is unreachable'))\n",
      "[Erreur] Impossible de charger la page 'Blast Corps' : HTTPSConnectionPool(host='en.wikipedia.org', port=443): Max retries exceeded with url: /w/api.php?format=json&redirects=1&action=query&prop=info&titles=Blast+Corps&inprop=protection%7Ctalkid%7Cwatched%7Cwatchers%7Cvisitingwatchers%7Cnotificationtimestamp%7Csubjectid%7Curl%7Creadable%7Cpreload%7Cdisplaytitle%7Cvarianttitles (Caused by NewConnectionError('<urllib3.connection.HTTPSConnection object at 0x744178f071a0>: Failed to establish a new connection: [Errno 101] Network is unreachable'))\n",
      "[Erreur] Impossible de charger la page 'Countdown to Shutdown' : HTTPSConnectionPool(host='en.wikipedia.org', port=443): Max retries exceeded with url: /w/api.php?format=json&redirects=1&action=query&prop=info&titles=Countdown+to+Shutdown&inprop=protection%7Ctalkid%7Cwatched%7Cwatchers%7Cvisitingwatchers%7Cnotificationtimestamp%7Csubjectid%7Curl%7Creadable%7Cpreload%7Cdisplaytitle%7Cvarianttitles (Caused by NewConnectionError('<urllib3.connection.HTTPSConnection object at 0x744178fbe420>: Failed to establish a new connection: [Errno 101] Network is unreachable'))\n",
      "[Erreur] Impossible de charger la page 'Meltdown (Atari 7800)' : HTTPSConnectionPool(host='en.wikipedia.org', port=443): Max retries exceeded with url: /w/api.php?format=json&redirects=1&action=query&prop=info&titles=Meltdown+%28Atari+7800%29&inprop=protection%7Ctalkid%7Cwatched%7Cwatchers%7Cvisitingwatchers%7Cnotificationtimestamp%7Csubjectid%7Curl%7Creadable%7Cpreload%7Cdisplaytitle%7Cvarianttitles (Caused by NewConnectionError('<urllib3.connection.HTTPSConnection object at 0x744178fbf200>: Failed to establish a new connection: [Errno 101] Network is unreachable'))\n",
      "[Erreur] Impossible de charger la page 'Metal Gear Solid 2: Sons of Liberty' : HTTPSConnectionPool(host='en.wikipedia.org', port=443): Max retries exceeded with url: /w/api.php?format=json&redirects=1&action=query&prop=info&titles=Metal+Gear+Solid+2%3A+Sons+of+Liberty&inprop=protection%7Ctalkid%7Cwatched%7Cwatchers%7Cvisitingwatchers%7Cnotificationtimestamp%7Csubjectid%7Curl%7Creadable%7Cpreload%7Cdisplaytitle%7Cvarianttitles (Caused by NewConnectionError('<urllib3.connection.HTTPSConnection object at 0x744178bc7c20>: Failed to establish a new connection: [Errno 101] Network is unreachable'))\n",
      "[Erreur] Impossible de charger la page 'Nuclear Nick' : HTTPSConnectionPool(host='en.wikipedia.org', port=443): Max retries exceeded with url: /w/api.php?format=json&redirects=1&action=query&prop=info&titles=Nuclear+Nick&inprop=protection%7Ctalkid%7Cwatched%7Cwatchers%7Cvisitingwatchers%7Cnotificationtimestamp%7Csubjectid%7Curl%7Creadable%7Cpreload%7Cdisplaytitle%7Cvarianttitles (Caused by NewConnectionError('<urllib3.connection.HTTPSConnection object at 0x7441738cd520>: Failed to establish a new connection: [Errno 101] Network is unreachable'))\n",
      "[Erreur] Impossible de charger la page 'Pathfinder (video game)' : HTTPSConnectionPool(host='en.wikipedia.org', port=443): Max retries exceeded with url: /w/api.php?format=json&redirects=1&action=query&prop=info&titles=Pathfinder+%28video+game%29&inprop=protection%7Ctalkid%7Cwatched%7Cwatchers%7Cvisitingwatchers%7Cnotificationtimestamp%7Csubjectid%7Curl%7Creadable%7Cpreload%7Cdisplaytitle%7Cvarianttitles (Caused by NewConnectionError('<urllib3.connection.HTTPSConnection object at 0x744178c6db80>: Failed to establish a new connection: [Errno 101] Network is unreachable'))\n",
      "[Erreur] Impossible de charger la page 'Quantum (video game)' : HTTPSConnectionPool(host='en.wikipedia.org', port=443): Max retries exceeded with url: /w/api.php?format=json&redirects=1&action=query&prop=info&titles=Quantum+%28video+game%29&inprop=protection%7Ctalkid%7Cwatched%7Cwatchers%7Cvisitingwatchers%7Cnotificationtimestamp%7Csubjectid%7Curl%7Creadable%7Cpreload%7Cdisplaytitle%7Cvarianttitles (Caused by NewConnectionError('<urllib3.connection.HTTPSConnection object at 0x744178f4c290>: Failed to establish a new connection: [Errno 101] Network is unreachable'))\n"
     ]
    },
    {
     "data": {
      "application/vnd.jupyter.widget-view+json": {
       "model_id": "02742730bd67466084ba87139a1572b5",
       "version_major": 2,
       "version_minor": 0
      },
      "text/plain": [
       "Pages in Nuclear war and weapons in popular culture:   0%|          | 0/16 [00:00<?, ?page/s]"
      ]
     },
     "metadata": {},
     "output_type": "display_data"
    },
    {
     "data": {
      "application/vnd.jupyter.widget-view+json": {
       "model_id": "e4fb4a52c1174089ab604374e17a4718",
       "version_major": 2,
       "version_minor": 0
      },
      "text/plain": [
       "Pages in Works about the Chernobyl disaster:   0%|          | 0/5 [00:00<?, ?page/s]"
      ]
     },
     "metadata": {},
     "output_type": "display_data"
    },
    {
     "data": {
      "application/vnd.jupyter.widget-view+json": {
       "model_id": "79be104874484f3f9786896c556773f3",
       "version_major": 2,
       "version_minor": 0
      },
      "text/plain": [
       "Pages in Works about quantum mechanics:   0%|          | 0/18 [00:00<?, ?page/s]"
      ]
     },
     "metadata": {},
     "output_type": "display_data"
    },
    {
     "data": {
      "application/vnd.jupyter.widget-view+json": {
       "model_id": "57db275e8fc649c989c37075be65fdcc",
       "version_major": 2,
       "version_minor": 0
      },
      "text/plain": [
       "Categories (flat):   0%|          | 0/2 [00:00<?, ?cat/s]"
      ]
     },
     "metadata": {},
     "output_type": "display_data"
    },
    {
     "data": {
      "application/vnd.jupyter.widget-view+json": {
       "model_id": "0935c26c512f4fb1b0f23d615464764b",
       "version_major": 2,
       "version_minor": 0
      },
      "text/plain": [
       "Pages in Fiction about quantum mechanics:   0%|          | 0/6 [00:00<?, ?page/s]"
      ]
     },
     "metadata": {},
     "output_type": "display_data"
    },
    {
     "data": {
      "application/vnd.jupyter.widget-view+json": {
       "model_id": "3319140fc70f4d03b9a464336dc337fb",
       "version_major": 2,
       "version_minor": 0
      },
      "text/plain": [
       "Pages in Quantum mechanics journals:   0%|          | 0/8 [00:00<?, ?page/s]"
      ]
     },
     "metadata": {},
     "output_type": "display_data"
    },
    {
     "data": {
      "application/vnd.jupyter.widget-view+json": {
       "model_id": "406d11f182d1465f88b42710a54f01fa",
       "version_major": 2,
       "version_minor": 0
      },
      "text/plain": [
       "Pages in Works about weather:   0%|          | 0/8 [00:00<?, ?page/s]"
      ]
     },
     "metadata": {},
     "output_type": "display_data"
    },
    {
     "data": {
      "application/vnd.jupyter.widget-view+json": {
       "model_id": "016c1675fd8c4a66b03fe845b6f82f1f",
       "version_major": 2,
       "version_minor": 0
      },
      "text/plain": [
       "Categories (flat):   0%|          | 0/2 [00:00<?, ?cat/s]"
      ]
     },
     "metadata": {},
     "output_type": "display_data"
    },
    {
     "data": {
      "application/vnd.jupyter.widget-view+json": {
       "model_id": "e31b2a630dec4f0181a0a295383c76e4",
       "version_major": 2,
       "version_minor": 0
      },
      "text/plain": [
       "Pages in Films about weather:   0%|          | 0/2 [00:00<?, ?page/s]"
      ]
     },
     "metadata": {},
     "output_type": "display_data"
    },
    {
     "data": {
      "application/vnd.jupyter.widget-view+json": {
       "model_id": "6cd904bae4054bb8bceebdb2b2639d46",
       "version_major": 2,
       "version_minor": 0
      },
      "text/plain": [
       "Pages in Songs about weather:   0%|          | 0/100 [00:00<?, ?page/s]"
      ]
     },
     "metadata": {},
     "output_type": "display_data"
    },
    {
     "data": {
      "application/vnd.jupyter.widget-view+json": {
       "model_id": "426b89eeceb74f48a366cbd78b4c1a6b",
       "version_major": 2,
       "version_minor": 0
      },
      "text/plain": [
       "Pages in Physics-related lists:   0%|          | 0/64 [00:00<?, ?page/s]"
      ]
     },
     "metadata": {},
     "output_type": "display_data"
    },
    {
     "data": {
      "application/vnd.jupyter.widget-view+json": {
       "model_id": "5d3142168f5749b8b891ecb8d73b0bd6",
       "version_major": 2,
       "version_minor": 0
      },
      "text/plain": [
       "Categories (flat):   0%|          | 0/7 [00:00<?, ?cat/s]"
      ]
     },
     "metadata": {},
     "output_type": "display_data"
    },
    {
     "data": {
      "application/vnd.jupyter.widget-view+json": {
       "model_id": "4db024ec55884153b9152de480592bbe",
       "version_major": 2,
       "version_minor": 0
      },
      "text/plain": [
       "Pages in Lists of physics equations:   0%|          | 0/10 [00:00<?, ?page/s]"
      ]
     },
     "metadata": {},
     "output_type": "display_data"
    },
    {
     "data": {
      "application/vnd.jupyter.widget-view+json": {
       "model_id": "fade710839cc47d090b670e7b18d32e4",
       "version_major": 2,
       "version_minor": 0
      },
      "text/plain": [
       "Pages in Indexes of physics articles:   0%|          | 0/30 [00:00<?, ?page/s]"
      ]
     },
     "metadata": {},
     "output_type": "display_data"
    },
    {
     "data": {
      "application/vnd.jupyter.widget-view+json": {
       "model_id": "ff48a4c9173b4a7a9a259665d0607f72",
       "version_major": 2,
       "version_minor": 0
      },
      "text/plain": [
       "Pages in Lists of physicists:   0%|          | 0/5 [00:00<?, ?page/s]"
      ]
     },
     "metadata": {},
     "output_type": "display_data"
    },
    {
     "data": {
      "application/vnd.jupyter.widget-view+json": {
       "model_id": "1bf8d183786a429580855b41b3e5594f",
       "version_major": 2,
       "version_minor": 0
      },
      "text/plain": [
       "Categories (flat):   0%|          | 0/2 [00:00<?, ?cat/s]"
      ]
     },
     "metadata": {},
     "output_type": "display_data"
    },
    {
     "data": {
      "application/vnd.jupyter.widget-view+json": {
       "model_id": "f63da4b4052b4fd1846717f5c77758b9",
       "version_major": 2,
       "version_minor": 0
      },
      "text/plain": [
       "Pages in Lists of physicists by field:   0%|          | 0/8 [00:00<?, ?page/s]"
      ]
     },
     "metadata": {},
     "output_type": "display_data"
    },
    {
     "data": {
      "application/vnd.jupyter.widget-view+json": {
       "model_id": "21bd292937664571a66b4ee2d87f8f51",
       "version_major": 2,
       "version_minor": 0
      },
      "text/plain": [
       "Pages in Lists of fellows of the American Physical Society:   0%|          | 0/5 [00:00<?, ?page/s]"
      ]
     },
     "metadata": {},
     "output_type": "display_data"
    },
    {
     "data": {
      "application/vnd.jupyter.widget-view+json": {
       "model_id": "1b621e56cc2740ac9b9903f41149e6fb",
       "version_major": 2,
       "version_minor": 0
      },
      "text/plain": [
       "Pages in Lists of Solar System objects:   0%|          | 0/13 [00:00<?, ?page/s]"
      ]
     },
     "metadata": {},
     "output_type": "display_data"
    },
    {
     "data": {
      "application/vnd.jupyter.widget-view+json": {
       "model_id": "06a33ab4d1a74de1895fc233ee1a9ede",
       "version_major": 2,
       "version_minor": 0
      },
      "text/plain": [
       "Categories (flat):   0%|          | 0/3 [00:00<?, ?cat/s]"
      ]
     },
     "metadata": {},
     "output_type": "display_data"
    },
    {
     "data": {
      "application/vnd.jupyter.widget-view+json": {
       "model_id": "a5c9134423664d2990f811b761051de7",
       "version_major": 2,
       "version_minor": 0
      },
      "text/plain": [
       "Pages in Lists of comets:   0%|          | 0/14 [00:00<?, ?page/s]"
      ]
     },
     "metadata": {},
     "output_type": "display_data"
    },
    {
     "data": {
      "application/vnd.jupyter.widget-view+json": {
       "model_id": "bebad85754cb4ef886941dec540a88c9",
       "version_major": 2,
       "version_minor": 0
      },
      "text/plain": [
       "Pages in Lists of minor planets:   0%|          | 0/23 [00:00<?, ?page/s]"
      ]
     },
     "metadata": {},
     "output_type": "display_data"
    },
    {
     "data": {
      "application/vnd.jupyter.widget-view+json": {
       "model_id": "9bbbd079348341dbaa45a2be2e515ad1",
       "version_major": 2,
       "version_minor": 0
      },
      "text/plain": [
       "Pages in Lists of moons:   0%|          | 0/11 [00:00<?, ?page/s]"
      ]
     },
     "metadata": {},
     "output_type": "display_data"
    },
    {
     "data": {
      "application/vnd.jupyter.widget-view+json": {
       "model_id": "5a9169c955b04affa65e40aa49c055cc",
       "version_major": 2,
       "version_minor": 0
      },
      "text/plain": [
       "Pages in Sound-related lists:   0%|          | 0/6 [00:00<?, ?page/s]"
      ]
     },
     "metadata": {},
     "output_type": "display_data"
    },
    {
     "data": {
      "application/vnd.jupyter.widget-view+json": {
       "model_id": "ef45a6be470e4ea8aee414eaafdca845",
       "version_major": 2,
       "version_minor": 0
      },
      "text/plain": [
       "Pages in Lists of things named after physicists:   0%|          | 0/37 [00:00<?, ?page/s]"
      ]
     },
     "metadata": {},
     "output_type": "display_data"
    },
    {
     "data": {
      "application/vnd.jupyter.widget-view+json": {
       "model_id": "39cb0d7746f1485ab5c35da1b495f1cd",
       "version_major": 2,
       "version_minor": 0
      },
      "text/plain": [
       "Pages in Physics timelines:   0%|          | 0/27 [00:00<?, ?page/s]"
      ]
     },
     "metadata": {},
     "output_type": "display_data"
    },
    {
     "data": {
      "application/vnd.jupyter.widget-view+json": {
       "model_id": "8d2c1f0a8349466486270c2ba93cd727",
       "version_major": 2,
       "version_minor": 0
      },
      "text/plain": [
       "Categories (flat):   0%|          | 0/1 [00:00<?, ?cat/s]"
      ]
     },
     "metadata": {},
     "output_type": "display_data"
    },
    {
     "data": {
      "application/vnd.jupyter.widget-view+json": {
       "model_id": "edbbc3080ef244279a06e8a57f950a6d",
       "version_major": 2,
       "version_minor": 0
      },
      "text/plain": [
       "Pages in Energy timelines:   0%|          | 0/5 [00:00<?, ?page/s]"
      ]
     },
     "metadata": {},
     "output_type": "display_data"
    },
    {
     "data": {
      "application/vnd.jupyter.widget-view+json": {
       "model_id": "ce5706517a9e4fa2be7b39b6df79894a",
       "version_major": 2,
       "version_minor": 0
      },
      "text/plain": [
       "Pages in Concepts in physics:   0%|          | 0/100 [00:00<?, ?page/s]"
      ]
     },
     "metadata": {},
     "output_type": "display_data"
    },
    {
     "data": {
      "application/vnd.jupyter.widget-view+json": {
       "model_id": "7f60cc5174864ee2b3aa3a4d79cd5d57",
       "version_major": 2,
       "version_minor": 0
      },
      "text/plain": [
       "Categories (flat):   0%|          | 0/10 [00:00<?, ?cat/s]"
      ]
     },
     "metadata": {},
     "output_type": "display_data"
    },
    {
     "data": {
      "application/vnd.jupyter.widget-view+json": {
       "model_id": "b56fb35d86e44d668732bbc16e042af6",
       "version_major": 2,
       "version_minor": 0
      },
      "text/plain": [
       "Pages in Concepts in astrophysics:   0%|          | 0/54 [00:00<?, ?page/s]"
      ]
     },
     "metadata": {},
     "output_type": "display_data"
    },
    {
     "data": {
      "application/vnd.jupyter.widget-view+json": {
       "model_id": "9830e09fc1b94370b6836b0d52a9d84a",
       "version_major": 2,
       "version_minor": 0
      },
      "text/plain": [
       "Categories (flat):   0%|          | 0/2 [00:00<?, ?cat/s]"
      ]
     },
     "metadata": {},
     "output_type": "display_data"
    },
    {
     "data": {
      "application/vnd.jupyter.widget-view+json": {
       "model_id": "c9a86860d38e4bfab586123297495c81",
       "version_major": 2,
       "version_minor": 0
      },
      "text/plain": [
       "Pages in Concepts in stellar astronomy:   0%|          | 0/29 [00:00<?, ?page/s]"
      ]
     },
     "metadata": {},
     "output_type": "display_data"
    },
    {
     "data": {
      "application/vnd.jupyter.widget-view+json": {
       "model_id": "7ced3cee830742da8e3f26e29670c7b9",
       "version_major": 2,
       "version_minor": 0
      },
      "text/plain": [
       "Pages in Physical cosmological concepts:   0%|          | 0/38 [00:00<?, ?page/s]"
      ]
     },
     "metadata": {},
     "output_type": "display_data"
    },
    {
     "data": {
      "application/vnd.jupyter.widget-view+json": {
       "model_id": "747fb454d9c4445b929f64baa41cbe2f",
       "version_major": 2,
       "version_minor": 0
      },
      "text/plain": [
       "Pages in Concepts in astronomy:   0%|          | 0/71 [00:00<?, ?page/s]"
      ]
     },
     "metadata": {},
     "output_type": "display_data"
    },
    {
     "data": {
      "application/vnd.jupyter.widget-view+json": {
       "model_id": "a3e8e7a8468d403182853a85890859f3",
       "version_major": 2,
       "version_minor": 0
      },
      "text/plain": [
       "Categories (flat):   0%|          | 0/3 [00:00<?, ?cat/s]"
      ]
     },
     "metadata": {},
     "output_type": "display_data"
    },
    {
     "data": {
      "application/vnd.jupyter.widget-view+json": {
       "model_id": "1ddc6a94ad364fb7a1384f1d8b92533a",
       "version_major": 2,
       "version_minor": 0
      },
      "text/plain": [
       "Pages in Equations of astronomy:   0%|          | 0/70 [00:00<?, ?page/s]"
      ]
     },
     "metadata": {},
     "output_type": "display_data"
    },
    {
     "data": {
      "application/vnd.jupyter.widget-view+json": {
       "model_id": "63f057a773c44cb29421d1e1e19842aa",
       "version_major": 2,
       "version_minor": 0
      },
      "text/plain": [
       "Pages in Tidal disruption events:   0%|          | 0/6 [00:00<?, ?page/s]"
      ]
     },
     "metadata": {},
     "output_type": "display_data"
    },
    {
     "data": {
      "application/vnd.jupyter.widget-view+json": {
       "model_id": "0eb26e82cee441258aeed72f2cd0ef78",
       "version_major": 2,
       "version_minor": 0
      },
      "text/plain": [
       "Pages in Unsolved problems in astronomy:   0%|          | 0/42 [00:00<?, ?page/s]"
      ]
     },
     "metadata": {},
     "output_type": "display_data"
    },
    {
     "data": {
      "application/vnd.jupyter.widget-view+json": {
       "model_id": "f1860d7ccaf34b2fbe56c2b5120fa7fa",
       "version_major": 2,
       "version_minor": 0
      },
      "text/plain": [
       "Pages in Electromagnetism concepts:   0%|          | 0/3 [00:00<?, ?page/s]"
      ]
     },
     "metadata": {},
     "output_type": "display_data"
    },
    {
     "data": {
      "application/vnd.jupyter.widget-view+json": {
       "model_id": "adb9a18d79534cc3a552f5ad1b76a80d",
       "version_major": 2,
       "version_minor": 0
      },
      "text/plain": [
       "Pages in Equations of physics:   0%|          | 0/54 [00:00<?, ?page/s]"
      ]
     },
     "metadata": {},
     "output_type": "display_data"
    },
    {
     "data": {
      "application/vnd.jupyter.widget-view+json": {
       "model_id": "f17e4a164b614e2faa8e49b55332a553",
       "version_major": 2,
       "version_minor": 0
      },
      "text/plain": [
       "Categories (flat):   0%|          | 0/9 [00:00<?, ?cat/s]"
      ]
     },
     "metadata": {},
     "output_type": "display_data"
    },
    {
     "data": {
      "application/vnd.jupyter.widget-view+json": {
       "model_id": "752d5e2d409845de9b21718062cae0f6",
       "version_major": 2,
       "version_minor": 0
      },
      "text/plain": [
       "Pages in Lists of physics equations:   0%|          | 0/10 [00:00<?, ?page/s]"
      ]
     },
     "metadata": {},
     "output_type": "display_data"
    },
    {
     "data": {
      "application/vnd.jupyter.widget-view+json": {
       "model_id": "98411257c93f425a9aff5db261f748bd",
       "version_major": 2,
       "version_minor": 0
      },
      "text/plain": [
       "Pages in Acoustic equations:   0%|          | 0/5 [00:00<?, ?page/s]"
      ]
     },
     "metadata": {},
     "output_type": "display_data"
    },
    {
     "data": {
      "application/vnd.jupyter.widget-view+json": {
       "model_id": "192b6c094e6d403c8a7c9010bc0780df",
       "version_major": 2,
       "version_minor": 0
      },
      "text/plain": [
       "Pages in Eponymous equations of physics:   0%|          | 0/82 [00:00<?, ?page/s]"
      ]
     },
     "metadata": {},
     "output_type": "display_data"
    },
    {
     "data": {
      "application/vnd.jupyter.widget-view+json": {
       "model_id": "96f2c1fe3527402fa4e3c9c5003b187d",
       "version_major": 2,
       "version_minor": 0
      },
      "text/plain": [
       "Pages in Equations of state:   0%|          | 0/18 [00:00<?, ?page/s]"
      ]
     },
     "metadata": {},
     "output_type": "display_data"
    },
    {
     "data": {
      "application/vnd.jupyter.widget-view+json": {
       "model_id": "b2a5e4e126234b2c88a448fccd306f19",
       "version_major": 2,
       "version_minor": 0
      },
      "text/plain": [
       "Pages in Equations of fluid dynamics:   0%|          | 0/73 [00:00<?, ?page/s]"
      ]
     },
     "metadata": {},
     "output_type": "display_data"
    },
    {
     "data": {
      "application/vnd.jupyter.widget-view+json": {
       "model_id": "1ccdaabbc9244913baa9d99fcbf02382",
       "version_major": 2,
       "version_minor": 0
      },
      "text/plain": [
       "Pages in Maxwell's equations:   0%|          | 0/12 [00:00<?, ?page/s]"
      ]
     },
     "metadata": {},
     "output_type": "display_data"
    },
    {
     "data": {
      "application/vnd.jupyter.widget-view+json": {
       "model_id": "d5324fb452a44c52935698bf7ecef3d6",
       "version_major": 2,
       "version_minor": 0
      },
      "text/plain": [
       "Pages in Plasma physics equations:   0%|          | 0/14 [00:00<?, ?page/s]"
      ]
     },
     "metadata": {},
     "output_type": "display_data"
    },
    {
     "data": {
      "application/vnd.jupyter.widget-view+json": {
       "model_id": "bcb3ee93da4244029a7ad1e0d9b01625",
       "version_major": 2,
       "version_minor": 0
      },
      "text/plain": [
       "Pages in Physics theorems:   0%|          | 0/33 [00:00<?, ?page/s]"
      ]
     },
     "metadata": {},
     "output_type": "display_data"
    },
    {
     "data": {
      "application/vnd.jupyter.widget-view+json": {
       "model_id": "7bbc5022442f4c098aa5f35207a80810",
       "version_major": 2,
       "version_minor": 0
      },
      "text/plain": [
       "Pages in Thermodynamic equations:   0%|          | 0/30 [00:00<?, ?page/s]"
      ]
     },
     "metadata": {},
     "output_type": "display_data"
    },
    {
     "data": {
      "application/vnd.jupyter.widget-view+json": {
       "model_id": "df145ff316cd4ca3bf01a6c8bcd304d3",
       "version_major": 2,
       "version_minor": 0
      },
      "text/plain": [
       "Pages in Matter:   0%|          | 0/13 [00:00<?, ?page/s]"
      ]
     },
     "metadata": {},
     "output_type": "display_data"
    },
    {
     "data": {
      "application/vnd.jupyter.widget-view+json": {
       "model_id": "9e9c6e41a22e4baf999c2c07fc48b272",
       "version_major": 2,
       "version_minor": 0
      },
      "text/plain": [
       "Categories (flat):   0%|          | 0/10 [00:00<?, ?cat/s]"
      ]
     },
     "metadata": {},
     "output_type": "display_data"
    },
    {
     "data": {
      "application/vnd.jupyter.widget-view+json": {
       "model_id": "5fa873edcc2549e7a7328f7db6d3b818",
       "version_major": 2,
       "version_minor": 0
      },
      "text/plain": [
       "Pages in Vacuum:   0%|          | 0/41 [00:00<?, ?page/s]"
      ]
     },
     "metadata": {},
     "output_type": "display_data"
    },
    {
     "data": {
      "application/vnd.jupyter.widget-view+json": {
       "model_id": "cff0e5600b4648bd9fa1232813fcbf68",
       "version_major": 2,
       "version_minor": 0
      },
      "text/plain": [
       "Pages in Materialism:   0%|          | 0/25 [00:00<?, ?page/s]"
      ]
     },
     "metadata": {},
     "output_type": "display_data"
    },
    {
     "data": {
      "application/vnd.jupyter.widget-view+json": {
       "model_id": "2584ee8e994443b39bce552153b33c37",
       "version_major": 2,
       "version_minor": 0
      },
      "text/plain": [
       "Pages in Materials:   0%|          | 0/100 [00:00<?, ?page/s]"
      ]
     },
     "metadata": {},
     "output_type": "display_data"
    },
    {
     "data": {
      "application/vnd.jupyter.widget-view+json": {
       "model_id": "07a4f60a585d4d86959dc8ba8f1386b6",
       "version_major": 2,
       "version_minor": 0
      },
      "text/plain": [
       "Pages in Physical objects:   0%|          | 0/9 [00:00<?, ?page/s]"
      ]
     },
     "metadata": {},
     "output_type": "display_data"
    },
    {
     "data": {
      "application/vnd.jupyter.widget-view+json": {
       "model_id": "f0720eda97484721bb5bb1968340a708",
       "version_major": 2,
       "version_minor": 0
      },
      "text/plain": [
       "Pages in Antimatter:   0%|          | 0/31 [00:00<?, ?page/s]"
      ]
     },
     "metadata": {},
     "output_type": "display_data"
    },
    {
     "data": {
      "application/vnd.jupyter.widget-view+json": {
       "model_id": "735cd7e989ed4c90b79a532dc9113cca",
       "version_major": 2,
       "version_minor": 0
      },
      "text/plain": [
       "Pages in Atoms:   0%|          | 0/24 [00:00<?, ?page/s]"
      ]
     },
     "metadata": {},
     "output_type": "display_data"
    },
    {
     "data": {
      "application/vnd.jupyter.widget-view+json": {
       "model_id": "ee3a3892968d4777b292505ebfb0184d",
       "version_major": 2,
       "version_minor": 0
      },
      "text/plain": [
       "Pages in Exotic matter:   0%|          | 0/37 [00:00<?, ?page/s]"
      ]
     },
     "metadata": {},
     "output_type": "display_data"
    },
    {
     "data": {
      "application/vnd.jupyter.widget-view+json": {
       "model_id": "092041a1ecab4e7aaaf1c6d6e772e240",
       "version_major": 2,
       "version_minor": 0
      },
      "text/plain": [
       "Pages in Ions:   0%|          | 0/40 [00:00<?, ?page/s]"
      ]
     },
     "metadata": {},
     "output_type": "display_data"
    },
    {
     "data": {
      "application/vnd.jupyter.widget-view+json": {
       "model_id": "a87671f84ca045e8964c1055fb3c4991",
       "version_major": 2,
       "version_minor": 0
      },
      "text/plain": [
       "Pages in Mass:   0%|          | 0/64 [00:00<?, ?page/s]"
      ]
     },
     "metadata": {},
     "output_type": "display_data"
    },
    {
     "data": {
      "application/vnd.jupyter.widget-view+json": {
       "model_id": "6a404048374048d6bfcce435e35c811d",
       "version_major": 2,
       "version_minor": 0
      },
      "text/plain": [
       "Pages in Molecules:   0%|          | 0/22 [00:00<?, ?page/s]"
      ]
     },
     "metadata": {},
     "output_type": "display_data"
    },
    {
     "data": {
      "application/vnd.jupyter.widget-view+json": {
       "model_id": "f0a5c02212b345e1bce8290727f4f96b",
       "version_major": 2,
       "version_minor": 0
      },
      "text/plain": [
       "Pages in Measurement:   0%|          | 0/100 [00:00<?, ?page/s]"
      ]
     },
     "metadata": {},
     "output_type": "display_data"
    },
    {
     "data": {
      "application/vnd.jupyter.widget-view+json": {
       "model_id": "7cb54622409d4d5fbea74045fe13d495",
       "version_major": 2,
       "version_minor": 0
      },
      "text/plain": [
       "Categories (flat):   0%|          | 0/10 [00:00<?, ?cat/s]"
      ]
     },
     "metadata": {},
     "output_type": "display_data"
    },
    {
     "data": {
      "application/vnd.jupyter.widget-view+json": {
       "model_id": "948fe45cd57f4f16a165cc5530a258e5",
       "version_major": 2,
       "version_minor": 0
      },
      "text/plain": [
       "Pages in Units of measurement:   0%|          | 0/89 [00:00<?, ?page/s]"
      ]
     },
     "metadata": {},
     "output_type": "display_data"
    },
    {
     "data": {
      "application/vnd.jupyter.widget-view+json": {
       "model_id": "9037d707b0484033886006d518b96f94",
       "version_major": 2,
       "version_minor": 0
      },
      "text/plain": [
       "Pages in Acoustic measurement:   0%|          | 0/4 [00:00<?, ?page/s]"
      ]
     },
     "metadata": {},
     "output_type": "display_data"
    },
    {
     "data": {
      "application/vnd.jupyter.widget-view+json": {
       "model_id": "7dc1a8de4857429782ae967d930593e7",
       "version_major": 2,
       "version_minor": 0
      },
      "text/plain": [
       "Pages in Aerosol measurement:   0%|          | 0/22 [00:00<?, ?page/s]"
      ]
     },
     "metadata": {},
     "output_type": "display_data"
    },
    {
     "data": {
      "application/vnd.jupyter.widget-view+json": {
       "model_id": "b2886c6543324b2684e7e0177cef0786",
       "version_major": 2,
       "version_minor": 0
      },
      "text/plain": [
       "Pages in Anthropometry:   0%|          | 0/46 [00:00<?, ?page/s]"
      ]
     },
     "metadata": {},
     "output_type": "display_data"
    },
    {
     "data": {
      "application/vnd.jupyter.widget-view+json": {
       "model_id": "4de7108ef23941968755ed74fd1b48b2",
       "version_major": 2,
       "version_minor": 0
      },
      "text/plain": [
       "Pages in Astrometry:   0%|          | 0/86 [00:00<?, ?page/s]"
      ]
     },
     "metadata": {},
     "output_type": "display_data"
    },
    {
     "data": {
      "application/vnd.jupyter.widget-view+json": {
       "model_id": "2cb1da1381344fb0b2dc1fddc32a7097",
       "version_major": 2,
       "version_minor": 0
      },
      "text/plain": [
       "Pages in Audience measurement:   0%|          | 0/42 [00:00<?, ?page/s]"
      ]
     },
     "metadata": {},
     "output_type": "display_data"
    },
    {
     "data": {
      "application/vnd.jupyter.widget-view+json": {
       "model_id": "922061256fc047d3b8a71964a4dedb5b",
       "version_major": 2,
       "version_minor": 0
      },
      "text/plain": [
       "Pages in Benchmarks (computing):   0%|          | 0/79 [00:00<?, ?page/s]"
      ]
     },
     "metadata": {},
     "output_type": "display_data"
    },
    {
     "data": {
      "application/vnd.jupyter.widget-view+json": {
       "model_id": "29a97024fd5542d38be23db7bb78bb19",
       "version_major": 2,
       "version_minor": 0
      },
      "text/plain": [
       "Pages in Bibliometrics:   0%|          | 0/18 [00:00<?, ?page/s]"
      ]
     },
     "metadata": {},
     "output_type": "display_data"
    },
    {
     "data": {
      "application/vnd.jupyter.widget-view+json": {
       "model_id": "5a88f21164bb4b41906e717865bdf6ad",
       "version_major": 2,
       "version_minor": 0
      },
      "text/plain": [
       "Pages in Dating methods:   0%|          | 0/20 [00:00<?, ?page/s]"
      ]
     },
     "metadata": {},
     "output_type": "display_data"
    },
    {
     "data": {
      "application/vnd.jupyter.widget-view+json": {
       "model_id": "a10426fcc31044fab8e68f6d68f6e229",
       "version_major": 2,
       "version_minor": 0
      },
      "text/plain": [
       "Pages in Dimensional analysis:   0%|          | 0/18 [00:00<?, ?page/s]"
      ]
     },
     "metadata": {},
     "output_type": "display_data"
    },
    {
     "data": {
      "application/vnd.jupyter.widget-view+json": {
       "model_id": "f5aeb46d4b504190a9fa1dd3e90e23e8",
       "version_major": 2,
       "version_minor": 0
      },
      "text/plain": [
       "Pages in Physical phenomena:   0%|          | 0/100 [00:00<?, ?page/s]"
      ]
     },
     "metadata": {},
     "output_type": "display_data"
    },
    {
     "data": {
      "application/vnd.jupyter.widget-view+json": {
       "model_id": "af578bc731dd43bbad7989fa01b32a14",
       "version_major": 2,
       "version_minor": 0
      },
      "text/plain": [
       "Categories (flat):   0%|          | 0/10 [00:00<?, ?cat/s]"
      ]
     },
     "metadata": {},
     "output_type": "display_data"
    },
    {
     "data": {
      "application/vnd.jupyter.widget-view+json": {
       "model_id": "50fcf40c011c4e70826a82da6af8dc4d",
       "version_major": 2,
       "version_minor": 0
      },
      "text/plain": [
       "Pages in Physical properties:   0%|          | 0/10 [00:00<?, ?page/s]"
      ]
     },
     "metadata": {},
     "output_type": "display_data"
    },
    {
     "data": {
      "application/vnd.jupyter.widget-view+json": {
       "model_id": "ae7653c00528454ebc168c4a47d9f295",
       "version_major": 2,
       "version_minor": 0
      },
      "text/plain": [
       "Pages in Critical phenomena:   0%|          | 0/39 [00:00<?, ?page/s]"
      ]
     },
     "metadata": {},
     "output_type": "display_data"
    },
    {
     "data": {
      "application/vnd.jupyter.widget-view+json": {
       "model_id": "07c318912e5e49999fc7faf58b6b1908",
       "version_major": 2,
       "version_minor": 0
      },
      "text/plain": [
       "Pages in Doppler effects:   0%|          | 0/30 [00:00<?, ?page/s]"
      ]
     },
     "metadata": {},
     "output_type": "display_data"
    },
    {
     "data": {
      "application/vnd.jupyter.widget-view+json": {
       "model_id": "c03e92cde67d4eadafd308c3f8e2f1b6",
       "version_major": 2,
       "version_minor": 0
      },
      "text/plain": [
       "Pages in Earth phenomena:   0%|          | 0/38 [00:00<?, ?page/s]"
      ]
     },
     "metadata": {},
     "output_type": "display_data"
    },
    {
     "data": {
      "application/vnd.jupyter.widget-view+json": {
       "model_id": "b32703d662644f23b70e6fee0e5f6bb1",
       "version_major": 2,
       "version_minor": 0
      },
      "text/plain": [
       "Pages in Electrical phenomena:   0%|          | 0/72 [00:00<?, ?page/s]"
      ]
     },
     "metadata": {},
     "output_type": "display_data"
    },
    {
     "data": {
      "application/vnd.jupyter.widget-view+json": {
       "model_id": "3779cff47219477397e3aa04312ef7d2",
       "version_major": 2,
       "version_minor": 0
      },
      "text/plain": [
       "Pages in Fundamental interactions:   0%|          | 0/5 [00:00<?, ?page/s]"
      ]
     },
     "metadata": {},
     "output_type": "display_data"
    },
    {
     "data": {
      "application/vnd.jupyter.widget-view+json": {
       "model_id": "0b611590381c4d738fda2015aab55e93",
       "version_major": 2,
       "version_minor": 0
      },
      "text/plain": [
       "Pages in Hysteresis:   0%|          | 0/12 [00:00<?, ?page/s]"
      ]
     },
     "metadata": {},
     "output_type": "display_data"
    },
    {
     "data": {
      "application/vnd.jupyter.widget-view+json": {
       "model_id": "37e9de6ab6b34a009f533c9c4111735d",
       "version_major": 2,
       "version_minor": 0
      },
      "text/plain": [
       "Pages in Ionization:   0%|          | 0/13 [00:00<?, ?page/s]"
      ]
     },
     "metadata": {},
     "output_type": "display_data"
    },
    {
     "data": {
      "application/vnd.jupyter.widget-view+json": {
       "model_id": "0b5ce387e83d4941a0b106bcaa4c8fa8",
       "version_major": 2,
       "version_minor": 0
      },
      "text/plain": [
       "Pages in Limits of computation:   0%|          | 0/12 [00:00<?, ?page/s]"
      ]
     },
     "metadata": {},
     "output_type": "display_data"
    },
    {
     "data": {
      "application/vnd.jupyter.widget-view+json": {
       "model_id": "799da67f368d4b7db7adc96ff3723cce",
       "version_major": 2,
       "version_minor": 0
      },
      "text/plain": [
       "Pages in Mechanical phenomena:   0%|          | 0/1 [00:00<?, ?page/s]"
      ]
     },
     "metadata": {},
     "output_type": "display_data"
    },
    {
     "data": {
      "application/vnd.jupyter.widget-view+json": {
       "model_id": "e74353eb6e614356ad6ca182d2828e9e",
       "version_major": 2,
       "version_minor": 0
      },
      "text/plain": [
       "Pages in Physical quantities:   0%|          | 0/100 [00:00<?, ?page/s]"
      ]
     },
     "metadata": {},
     "output_type": "display_data"
    },
    {
     "data": {
      "application/vnd.jupyter.widget-view+json": {
       "model_id": "c99ba77d3e634e90bf23eaddef9fe1bd",
       "version_major": 2,
       "version_minor": 0
      },
      "text/plain": [
       "Categories (flat):   0%|          | 0/10 [00:00<?, ?cat/s]"
      ]
     },
     "metadata": {},
     "output_type": "display_data"
    },
    {
     "data": {
      "application/vnd.jupyter.widget-view+json": {
       "model_id": "86ca9c210053415a863d8b121c4d0c84",
       "version_major": 2,
       "version_minor": 0
      },
      "text/plain": [
       "Pages in Acceleration:   0%|          | 0/34 [00:00<?, ?page/s]"
      ]
     },
     "metadata": {},
     "output_type": "display_data"
    },
    {
     "data": {
      "application/vnd.jupyter.widget-view+json": {
       "model_id": "c4b3410977df4547a7f5a9ad27570c93",
       "version_major": 2,
       "version_minor": 0
      },
      "text/plain": [
       "Pages in Angular momentum:   0%|          | 0/13 [00:00<?, ?page/s]"
      ]
     },
     "metadata": {},
     "output_type": "display_data"
    },
    {
     "data": {
      "application/vnd.jupyter.widget-view+json": {
       "model_id": "d843cd50619641c9882f99517f6352bb",
       "version_major": 2,
       "version_minor": 0
      },
      "text/plain": [
       "Pages in Angular momentum of light:   0%|          | 0/3 [00:00<?, ?page/s]"
      ]
     },
     "metadata": {},
     "output_type": "display_data"
    },
    {
     "data": {
      "application/vnd.jupyter.widget-view+json": {
       "model_id": "335abf70c49746af9b09e0a80e14553f",
       "version_major": 2,
       "version_minor": 0
      },
      "text/plain": [
       "Pages in Area-specific quantities:   0%|          | 0/6 [00:00<?, ?page/s]"
      ]
     },
     "metadata": {},
     "output_type": "display_data"
    },
    {
     "data": {
      "application/vnd.jupyter.widget-view+json": {
       "model_id": "64212cdade204865b3e80e38e2635885",
       "version_major": 2,
       "version_minor": 0
      },
      "text/plain": [
       "Pages in Capacitance:   0%|          | 0/6 [00:00<?, ?page/s]"
      ]
     },
     "metadata": {},
     "output_type": "display_data"
    },
    {
     "data": {
      "application/vnd.jupyter.widget-view+json": {
       "model_id": "818ca0ed3aa244a68dd6662ec9a647ae",
       "version_major": 2,
       "version_minor": 0
      },
      "text/plain": [
       "Pages in Physical constants:   0%|          | 0/35 [00:00<?, ?page/s]"
      ]
     },
     "metadata": {},
     "output_type": "display_data"
    },
    {
     "data": {
      "application/vnd.jupyter.widget-view+json": {
       "model_id": "b340e2d031b647179f8979e0cfe1cded",
       "version_major": 2,
       "version_minor": 0
      },
      "text/plain": [
       "Pages in Density:   0%|          | 0/22 [00:00<?, ?page/s]"
      ]
     },
     "metadata": {},
     "output_type": "display_data"
    },
    {
     "data": {
      "application/vnd.jupyter.widget-view+json": {
       "model_id": "a43c11bf5b7947c68893adc5e398d0f1",
       "version_major": 2,
       "version_minor": 0
      },
      "text/plain": [
       "Pages in Dimensionless quantities:   0%|          | 0/10 [00:00<?, ?page/s]"
      ]
     },
     "metadata": {},
     "output_type": "display_data"
    },
    {
     "data": {
      "application/vnd.jupyter.widget-view+json": {
       "model_id": "f28b1816d9144fb0aa87463f7ddeabcd",
       "version_major": 2,
       "version_minor": 0
      },
      "text/plain": [
       "Pages in Distance:   0%|          | 0/30 [00:00<?, ?page/s]"
      ]
     },
     "metadata": {},
     "output_type": "display_data"
    },
    {
     "data": {
      "application/vnd.jupyter.widget-view+json": {
       "model_id": "a0418769555a42de9f0a0dbb6bac685a",
       "version_major": 2,
       "version_minor": 0
      },
      "text/plain": [
       "Pages in Electric charge:   0%|          | 0/7 [00:00<?, ?page/s]"
      ]
     },
     "metadata": {},
     "output_type": "display_data"
    },
    {
     "data": {
      "application/vnd.jupyter.widget-view+json": {
       "model_id": "a97a4cd7e6cd4d1aba646165d2a29047",
       "version_major": 2,
       "version_minor": 0
      },
      "text/plain": [
       "Pages in Spacetime:   0%|          | 0/23 [00:00<?, ?page/s]"
      ]
     },
     "metadata": {},
     "output_type": "display_data"
    },
    {
     "data": {
      "application/vnd.jupyter.widget-view+json": {
       "model_id": "9fcd01d900f64656a3f45131c5f0f6e7",
       "version_major": 2,
       "version_minor": 0
      },
      "text/plain": [
       "Categories (flat):   0%|          | 0/1 [00:00<?, ?cat/s]"
      ]
     },
     "metadata": {},
     "output_type": "display_data"
    },
    {
     "data": {
      "application/vnd.jupyter.widget-view+json": {
       "model_id": "f89f45d0f5c044f183a27b811ddce6fc",
       "version_major": 2,
       "version_minor": 0
      },
      "text/plain": [
       "Pages in Functions of space and time:   0%|          | 0/15 [00:00<?, ?page/s]"
      ]
     },
     "metadata": {},
     "output_type": "display_data"
    },
    {
     "data": {
      "application/vnd.jupyter.widget-view+json": {
       "model_id": "3732125adff34a0eb6d44d1d98c8f4b0",
       "version_major": 2,
       "version_minor": 0
      },
      "text/plain": [
       "Pages in Spectrum (physical sciences):   0%|          | 0/24 [00:00<?, ?page/s]"
      ]
     },
     "metadata": {},
     "output_type": "display_data"
    },
    {
     "data": {
      "application/vnd.jupyter.widget-view+json": {
       "model_id": "554be64623eb4ee995f7374c12b37970",
       "version_major": 2,
       "version_minor": 0
      },
      "text/plain": [
       "Categories (flat):   0%|          | 0/4 [00:00<?, ?cat/s]"
      ]
     },
     "metadata": {},
     "output_type": "display_data"
    },
    {
     "data": {
      "application/vnd.jupyter.widget-view+json": {
       "model_id": "adb979a181504acc996ea4fce2843f77",
       "version_major": 2,
       "version_minor": 0
      },
      "text/plain": [
       "Pages in Electromagnetic spectrum:   0%|          | 0/29 [00:00<?, ?page/s]"
      ]
     },
     "metadata": {},
     "output_type": "display_data"
    },
    {
     "data": {
      "application/vnd.jupyter.widget-view+json": {
       "model_id": "00ab248f81764a87a5e2424792ffc6d6",
       "version_major": 2,
       "version_minor": 0
      },
      "text/plain": [
       "Pages in Frequency-domain analysis:   0%|          | 0/27 [00:00<?, ?page/s]"
      ]
     },
     "metadata": {},
     "output_type": "display_data"
    },
    {
     "data": {
      "application/vnd.jupyter.widget-view+json": {
       "model_id": "e350ac796661476f97d0acfe7161e12a",
       "version_major": 2,
       "version_minor": 0
      },
      "text/plain": [
       "Pages in Mass spectrometry:   0%|          | 0/100 [00:00<?, ?page/s]"
      ]
     },
     "metadata": {},
     "output_type": "display_data"
    },
    {
     "data": {
      "application/vnd.jupyter.widget-view+json": {
       "model_id": "efe6c14c4e91438d8d2a5fd92318c618",
       "version_major": 2,
       "version_minor": 0
      },
      "text/plain": [
       "Pages in Spectroscopy:   0%|          | 0/100 [00:00<?, ?page/s]"
      ]
     },
     "metadata": {},
     "output_type": "display_data"
    },
    {
     "data": {
      "application/vnd.jupyter.widget-view+json": {
       "model_id": "d5aa57820e39411fa07063ac64c72208",
       "version_major": 2,
       "version_minor": 0
      },
      "text/plain": [
       "Pages in Physical modeling:   0%|          | 0/2 [00:00<?, ?page/s]"
      ]
     },
     "metadata": {},
     "output_type": "display_data"
    },
    {
     "data": {
      "application/vnd.jupyter.widget-view+json": {
       "model_id": "17da7b2aee924854be6576cefef42316",
       "version_major": 2,
       "version_minor": 0
      },
      "text/plain": [
       "Categories (flat):   0%|          | 0/4 [00:00<?, ?cat/s]"
      ]
     },
     "metadata": {},
     "output_type": "display_data"
    },
    {
     "data": {
      "application/vnd.jupyter.widget-view+json": {
       "model_id": "32ba1c24c8d94a92839e41728dbbaaed",
       "version_major": 2,
       "version_minor": 0
      },
      "text/plain": [
       "Pages in Physical models:   0%|          | 0/10 [00:00<?, ?page/s]"
      ]
     },
     "metadata": {},
     "output_type": "display_data"
    },
    {
     "data": {
      "application/vnd.jupyter.widget-view+json": {
       "model_id": "32454f022003477790bae4647394e5af",
       "version_major": 2,
       "version_minor": 0
      },
      "text/plain": [
       "Categories (flat):   0%|          | 0/1 [00:00<?, ?cat/s]"
      ]
     },
     "metadata": {},
     "output_type": "display_data"
    },
    {
     "data": {
      "application/vnd.jupyter.widget-view+json": {
       "model_id": "aaf307a0e44745ccaad5cb9f7321998a",
       "version_major": 2,
       "version_minor": 0
      },
      "text/plain": [
       "Pages in Mathematical manipulatives:   0%|          | 0/13 [00:00<?, ?page/s]"
      ]
     },
     "metadata": {},
     "output_type": "display_data"
    },
    {
     "data": {
      "application/vnd.jupyter.widget-view+json": {
       "model_id": "efc99bcdfe974fd580ca431da1ca3eb2",
       "version_major": 2,
       "version_minor": 0
      },
      "text/plain": [
       "Pages in Electronic device modeling:   0%|          | 0/4 [00:00<?, ?page/s]"
      ]
     },
     "metadata": {},
     "output_type": "display_data"
    },
    {
     "data": {
      "application/vnd.jupyter.widget-view+json": {
       "model_id": "c21e6497ab574f899c23d8d47be630db",
       "version_major": 2,
       "version_minor": 0
      },
      "text/plain": [
       "Categories (flat):   0%|          | 0/1 [00:00<?, ?cat/s]"
      ]
     },
     "metadata": {},
     "output_type": "display_data"
    },
    {
     "data": {
      "application/vnd.jupyter.widget-view+json": {
       "model_id": "c46ec657fbaf433bad36417e890c2379",
       "version_major": 2,
       "version_minor": 0
      },
      "text/plain": [
       "Pages in Transistor modeling:   0%|          | 0/17 [00:00<?, ?page/s]"
      ]
     },
     "metadata": {},
     "output_type": "display_data"
    },
    {
     "data": {
      "application/vnd.jupyter.widget-view+json": {
       "model_id": "4a4f23462bd24630bcf446a90c6f12dd",
       "version_major": 2,
       "version_minor": 0
      },
      "text/plain": [
       "Pages in Model makers:   0%|          | 0/18 [00:00<?, ?page/s]"
      ]
     },
     "metadata": {},
     "output_type": "display_data"
    },
    {
     "data": {
      "application/vnd.jupyter.widget-view+json": {
       "model_id": "2af91690f1c8420baa78c4ef5d033aac",
       "version_major": 2,
       "version_minor": 0
      },
      "text/plain": [
       "Categories (flat):   0%|          | 0/3 [00:00<?, ?cat/s]"
      ]
     },
     "metadata": {},
     "output_type": "display_data"
    },
    {
     "data": {
      "application/vnd.jupyter.widget-view+json": {
       "model_id": "11896d561ad24d5fbc3de170bd2db235",
       "version_major": 2,
       "version_minor": 0
      },
      "text/plain": [
       "Pages in Miniature model-makers:   0%|          | 0/17 [00:00<?, ?page/s]"
      ]
     },
     "metadata": {},
     "output_type": "display_data"
    },
    {
     "data": {
      "application/vnd.jupyter.widget-view+json": {
       "model_id": "d31c0b882b32459689d102c34b674066",
       "version_major": 2,
       "version_minor": 0
      },
      "text/plain": [
       "Pages in Model engineers:   0%|          | 0/13 [00:00<?, ?page/s]"
      ]
     },
     "metadata": {},
     "output_type": "display_data"
    },
    {
     "data": {
      "application/vnd.jupyter.widget-view+json": {
       "model_id": "50ce96c5f27f4e3a95da898b2ed6d2db",
       "version_major": 2,
       "version_minor": 0
      },
      "text/plain": [
       "Pages in Rail transport modellers:   0%|          | 0/22 [00:00<?, ?page/s]"
      ]
     },
     "metadata": {},
     "output_type": "display_data"
    },
    {
     "data": {
      "application/vnd.jupyter.widget-view+json": {
       "model_id": "e90400b1954045a5a2cb93d6c797002b",
       "version_major": 2,
       "version_minor": 0
      },
      "text/plain": [
       "Pages in Scale modeling:   0%|          | 0/100 [00:00<?, ?page/s]"
      ]
     },
     "metadata": {},
     "output_type": "display_data"
    },
    {
     "data": {
      "application/vnd.jupyter.widget-view+json": {
       "model_id": "b42a91a724524c279ac81bacec590adc",
       "version_major": 2,
       "version_minor": 0
      },
      "text/plain": [
       "Categories (flat):   0%|          | 0/10 [00:00<?, ?cat/s]"
      ]
     },
     "metadata": {},
     "output_type": "display_data"
    },
    {
     "data": {
      "application/vnd.jupyter.widget-view+json": {
       "model_id": "81b5793c22a9470e9f6addcf8d97ed0a",
       "version_major": 2,
       "version_minor": 0
      },
      "text/plain": [
       "Pages in Australia's big things:   0%|          | 0/1 [00:00<?, ?page/s]"
      ]
     },
     "metadata": {},
     "output_type": "display_data"
    },
    {
     "data": {
      "application/vnd.jupyter.widget-view+json": {
       "model_id": "3662cfeacda649858102fb1165a73d85",
       "version_major": 2,
       "version_minor": 0
      },
      "text/plain": [
       "Pages in Scale model collections:   0%|          | 0/5 [00:00<?, ?page/s]"
      ]
     },
     "metadata": {},
     "output_type": "display_data"
    },
    {
     "data": {
      "application/vnd.jupyter.widget-view+json": {
       "model_id": "f104be858e9e4c808b0aa31736d1e4be",
       "version_major": 2,
       "version_minor": 0
      },
      "text/plain": [
       "Pages in Construction toys:   0%|          | 0/79 [00:00<?, ?page/s]"
      ]
     },
     "metadata": {},
     "output_type": "display_data"
    },
    {
     "data": {
      "application/vnd.jupyter.widget-view+json": {
       "model_id": "d12691ffd7694a7780e9f49ad20c4646",
       "version_major": 2,
       "version_minor": 0
      },
      "text/plain": [
       "Pages in Dioramas:   0%|          | 0/17 [00:00<?, ?page/s]"
      ]
     },
     "metadata": {},
     "output_type": "display_data"
    },
    {
     "data": {
      "application/vnd.jupyter.widget-view+json": {
       "model_id": "1d1bd3766ceb46f68df74a9c2b7d068e",
       "version_major": 2,
       "version_minor": 0
      },
      "text/plain": [
       "Pages in Dolls:   0%|          | 0/33 [00:00<?, ?page/s]"
      ]
     },
     "metadata": {},
     "output_type": "display_data"
    },
    {
     "data": {
      "application/vnd.jupyter.widget-view+json": {
       "model_id": "ca5176154a604a6285e8e36263e0d469",
       "version_major": 2,
       "version_minor": 0
      },
      "text/plain": [
       "Pages in Dummies and mannequins:   0%|          | 0/15 [00:00<?, ?page/s]"
      ]
     },
     "metadata": {},
     "output_type": "display_data"
    },
    {
     "data": {
      "application/vnd.jupyter.widget-view+json": {
       "model_id": "4656cefc23114c51be0e7f1c44dc7255",
       "version_major": 2,
       "version_minor": 0
      },
      "text/plain": [
       "Pages in Miniature figures:   0%|          | 0/54 [00:00<?, ?page/s]"
      ]
     },
     "metadata": {},
     "output_type": "display_data"
    },
    {
     "data": {
      "application/vnd.jupyter.widget-view+json": {
       "model_id": "385721c9848e42ea9bdafa7f2904c91c",
       "version_major": 2,
       "version_minor": 0
      },
      "text/plain": [
       "Pages in Miniaturists:   0%|          | 0/1 [00:00<?, ?page/s]"
      ]
     },
     "metadata": {},
     "output_type": "display_data"
    },
    {
     "data": {
      "application/vnd.jupyter.widget-view+json": {
       "model_id": "6e48e5c2ac6e439dae1b6d5d10ade135",
       "version_major": 2,
       "version_minor": 0
      },
      "text/plain": [
       "Pages in Model aircraft:   0%|          | 0/42 [00:00<?, ?page/s]"
      ]
     },
     "metadata": {},
     "output_type": "display_data"
    },
    {
     "data": {
      "application/vnd.jupyter.widget-view+json": {
       "model_id": "bf3db223d01e471eadb900e3e802cfec",
       "version_major": 2,
       "version_minor": 0
      },
      "text/plain": [
       "Pages in Model boats:   0%|          | 0/26 [00:00<?, ?page/s]"
      ]
     },
     "metadata": {},
     "output_type": "display_data"
    },
    {
     "data": {
      "application/vnd.jupyter.widget-view+json": {
       "model_id": "e36e1ac50aea4f7295df3662d267c811",
       "version_major": 2,
       "version_minor": 0
      },
      "text/plain": [
       "Pages in Physics in society: 0page [00:00, ?page/s]"
      ]
     },
     "metadata": {},
     "output_type": "display_data"
    },
    {
     "data": {
      "application/vnd.jupyter.widget-view+json": {
       "model_id": "730b4dcfc4c94202a337b0c1b99dc523",
       "version_major": 2,
       "version_minor": 0
      },
      "text/plain": [
       "Categories (flat):   0%|          | 0/4 [00:00<?, ?cat/s]"
      ]
     },
     "metadata": {},
     "output_type": "display_data"
    },
    {
     "data": {
      "application/vnd.jupyter.widget-view+json": {
       "model_id": "e3cb8a2d62494e4aa56c83ba08803a8e",
       "version_major": 2,
       "version_minor": 0
      },
      "text/plain": [
       "Pages in Physics awards:   0%|          | 0/100 [00:00<?, ?page/s]"
      ]
     },
     "metadata": {},
     "output_type": "display_data"
    },
    {
     "data": {
      "application/vnd.jupyter.widget-view+json": {
       "model_id": "e4587128fcf14f6cb9cc640f1dfcbc7c",
       "version_major": 2,
       "version_minor": 0
      },
      "text/plain": [
       "Categories (flat):   0%|          | 0/10 [00:00<?, ?cat/s]"
      ]
     },
     "metadata": {},
     "output_type": "display_data"
    },
    {
     "data": {
      "application/vnd.jupyter.widget-view+json": {
       "model_id": "a39e0b6c56d94d11ac7d4c26f1eb0530",
       "version_major": 2,
       "version_minor": 0
      },
      "text/plain": [
       "Pages in Awards of Optica (society):   0%|          | 0/12 [00:00<?, ?page/s]"
      ]
     },
     "metadata": {},
     "output_type": "display_data"
    },
    {
     "data": {
      "application/vnd.jupyter.widget-view+json": {
       "model_id": "0ae1c2dd13ac42ff8082c87c1aede0b6",
       "version_major": 2,
       "version_minor": 0
      },
      "text/plain": [
       "Pages in Awards of the Acoustical Society of America:   0%|          | 0/3 [00:00<?, ?page/s]"
      ]
     },
     "metadata": {},
     "output_type": "display_data"
    },
    {
     "data": {
      "application/vnd.jupyter.widget-view+json": {
       "model_id": "cfde130404b342eea89e5e31ce603cfd",
       "version_major": 2,
       "version_minor": 0
      },
      "text/plain": [
       "Pages in Awards of the American Institute of Physics:   0%|          | 0/5 [00:00<?, ?page/s]"
      ]
     },
     "metadata": {},
     "output_type": "display_data"
    },
    {
     "data": {
      "application/vnd.jupyter.widget-view+json": {
       "model_id": "154ab2668a504c6db9e3dd3229648c36",
       "version_major": 2,
       "version_minor": 0
      },
      "text/plain": [
       "Pages in Awards of the American Physical Society:   0%|          | 0/38 [00:00<?, ?page/s]"
      ]
     },
     "metadata": {},
     "output_type": "display_data"
    },
    {
     "data": {
      "application/vnd.jupyter.widget-view+json": {
       "model_id": "b6624476537b419584e9b5223dc116eb",
       "version_major": 2,
       "version_minor": 0
      },
      "text/plain": [
       "Pages in Awards of the German Physical Society:   0%|          | 0/5 [00:00<?, ?page/s]"
      ]
     },
     "metadata": {},
     "output_type": "display_data"
    },
    {
     "data": {
      "application/vnd.jupyter.widget-view+json": {
       "model_id": "2a95dc6ba99d467b8e5a27e62d8ee97f",
       "version_major": 2,
       "version_minor": 0
      },
      "text/plain": [
       "Pages in Condensed matter physics awards:   0%|          | 0/4 [00:00<?, ?page/s]"
      ]
     },
     "metadata": {},
     "output_type": "display_data"
    },
    {
     "data": {
      "application/vnd.jupyter.widget-view+json": {
       "model_id": "69ffe8249c1142ef8ae74610a207f4d5",
       "version_major": 2,
       "version_minor": 0
      },
      "text/plain": [
       "Pages in Crystallography awards:   0%|          | 0/3 [00:00<?, ?page/s]"
      ]
     },
     "metadata": {},
     "output_type": "display_data"
    },
    {
     "data": {
      "application/vnd.jupyter.widget-view+json": {
       "model_id": "8562aefb57814a919737c5e661ef412b",
       "version_major": 2,
       "version_minor": 0
      },
      "text/plain": [
       "Pages in Awards of the European Physical Society:   0%|          | 0/8 [00:00<?, ?page/s]"
      ]
     },
     "metadata": {},
     "output_type": "display_data"
    },
    {
     "data": {
      "application/vnd.jupyter.widget-view+json": {
       "model_id": "5e2ff20e8494404aaebfcdbd0c442355",
       "version_major": 2,
       "version_minor": 0
      },
      "text/plain": [
       "Pages in Awards of the Institute of Physics:   0%|          | 0/20 [00:00<?, ?page/s]"
      ]
     },
     "metadata": {},
     "output_type": "display_data"
    },
    {
     "data": {
      "application/vnd.jupyter.widget-view+json": {
       "model_id": "991a0ab10c5647499aed55e46a02a1c1",
       "version_major": 2,
       "version_minor": 0
      },
      "text/plain": [
       "Pages in Laser awards and associations:   0%|          | 0/12 [00:00<?, ?page/s]"
      ]
     },
     "metadata": {},
     "output_type": "display_data"
    },
    {
     "data": {
      "application/vnd.jupyter.widget-view+json": {
       "model_id": "854c505339344aedbf6f002e39374e57",
       "version_major": 2,
       "version_minor": 0
      },
      "text/plain": [
       "Pages in Physics events:   0%|          | 0/10 [00:00<?, ?page/s]"
      ]
     },
     "metadata": {},
     "output_type": "display_data"
    },
    {
     "data": {
      "application/vnd.jupyter.widget-view+json": {
       "model_id": "190690918c3c42e3bb00cd61a200b7f8",
       "version_major": 2,
       "version_minor": 0
      },
      "text/plain": [
       "Categories (flat):   0%|          | 0/2 [00:00<?, ?cat/s]"
      ]
     },
     "metadata": {},
     "output_type": "display_data"
    },
    {
     "data": {
      "application/vnd.jupyter.widget-view+json": {
       "model_id": "9eb37e5eb1fa46bb90b14287547400ab",
       "version_major": 2,
       "version_minor": 0
      },
      "text/plain": [
       "Pages in Physics conferences:   0%|          | 0/48 [00:00<?, ?page/s]"
      ]
     },
     "metadata": {},
     "output_type": "display_data"
    },
    {
     "data": {
      "application/vnd.jupyter.widget-view+json": {
       "model_id": "630fb546af7b49ecbf8a75edb8f28295",
       "version_major": 2,
       "version_minor": 0
      },
      "text/plain": [
       "Pages in Physics competitions:   0%|          | 0/15 [00:00<?, ?page/s]"
      ]
     },
     "metadata": {},
     "output_type": "display_data"
    },
    {
     "data": {
      "application/vnd.jupyter.widget-view+json": {
       "model_id": "3eba86e9ed08400c90caf4d125c9026c",
       "version_major": 2,
       "version_minor": 0
      },
      "text/plain": [
       "Pages in History of physics:   0%|          | 0/100 [00:00<?, ?page/s]"
      ]
     },
     "metadata": {},
     "output_type": "display_data"
    },
    {
     "name": "stdout",
     "output_type": "stream",
     "text": [
      "[Erreur] Impossible de charger la page 'History of optics' : HTTPSConnectionPool(host='en.wikipedia.org', port=443): Read timed out. (read timeout=10.0)\n",
      "[Erreur] Impossible de charger la page 'Oxford Calculators' : HTTPSConnectionPool(host='en.wikipedia.org', port=443): Max retries exceeded with url: /w/api.php?format=json&redirects=1&action=query&prop=info&titles=Oxford+Calculators&inprop=protection%7Ctalkid%7Cwatched%7Cwatchers%7Cvisitingwatchers%7Cnotificationtimestamp%7Csubjectid%7Curl%7Creadable%7Cpreload%7Cdisplaytitle%7Cvarianttitles (Caused by NewConnectionError('<urllib3.connection.HTTPSConnection object at 0x74417aaf18b0>: Failed to establish a new connection: [Errno 101] Network is unreachable'))\n",
      "[Erreur] Impossible de charger la page 'Oxford Electric Bell' : HTTPSConnectionPool(host='en.wikipedia.org', port=443): Max retries exceeded with url: /w/api.php?format=json&redirects=1&action=query&prop=info&titles=Oxford+Electric+Bell&inprop=protection%7Ctalkid%7Cwatched%7Cwatchers%7Cvisitingwatchers%7Cnotificationtimestamp%7Csubjectid%7Curl%7Creadable%7Cpreload%7Cdisplaytitle%7Cvarianttitles (Caused by NewConnectionError('<urllib3.connection.HTTPSConnection object at 0x74417aa9a420>: Failed to establish a new connection: [Errno 101] Network is unreachable'))\n",
      "[Erreur] Impossible de charger la page 'History of the periodic table' : HTTPSConnectionPool(host='en.wikipedia.org', port=443): Max retries exceeded with url: /w/api.php?format=json&redirects=1&action=query&prop=info&titles=History+of+the+periodic+table&inprop=protection%7Ctalkid%7Cwatched%7Cwatchers%7Cvisitingwatchers%7Cnotificationtimestamp%7Csubjectid%7Curl%7Creadable%7Cpreload%7Cdisplaytitle%7Cvarianttitles (Caused by NewConnectionError('<urllib3.connection.HTTPSConnection object at 0x74417aa99520>: Failed to establish a new connection: [Errno 101] Network is unreachable'))\n",
      "[Erreur] Impossible de charger la page 'Physical crystallography before X-rays' : HTTPSConnectionPool(host='en.wikipedia.org', port=443): Max retries exceeded with url: /w/api.php?format=json&redirects=1&action=query&prop=info&titles=Physical+crystallography+before+X-rays&inprop=protection%7Ctalkid%7Cwatched%7Cwatchers%7Cvisitingwatchers%7Cnotificationtimestamp%7Csubjectid%7Curl%7Creadable%7Cpreload%7Cdisplaytitle%7Cvarianttitles (Caused by NewConnectionError('<urllib3.connection.HTTPSConnection object at 0x74417f5aa960>: Failed to establish a new connection: [Errno 101] Network is unreachable'))\n",
      "[Erreur] Impossible de charger la page 'Physics in the medieval Islamic world' : HTTPSConnectionPool(host='en.wikipedia.org', port=443): Max retries exceeded with url: /w/api.php?format=json&redirects=1&action=query&prop=info&titles=Physics+in+the+medieval+Islamic+world&inprop=protection%7Ctalkid%7Cwatched%7Cwatchers%7Cvisitingwatchers%7Cnotificationtimestamp%7Csubjectid%7Curl%7Creadable%7Cpreload%7Cdisplaytitle%7Cvarianttitles (Caused by NewConnectionError('<urllib3.connection.HTTPSConnection object at 0x74417aaf2cc0>: Failed to establish a new connection: [Errno 101] Network is unreachable'))\n",
      "[Erreur] Impossible de charger la page 'Physics outreach' : HTTPSConnectionPool(host='en.wikipedia.org', port=443): Max retries exceeded with url: /w/api.php?format=json&redirects=1&action=query&prop=info&titles=Physics+outreach&inprop=protection%7Ctalkid%7Cwatched%7Cwatchers%7Cvisitingwatchers%7Cnotificationtimestamp%7Csubjectid%7Curl%7Creadable%7Cpreload%7Cdisplaytitle%7Cvarianttitles (Caused by NewConnectionError('<urllib3.connection.HTTPSConnection object at 0x74417aa99fa0>: Failed to establish a new connection: [Errno 101] Network is unreachable'))\n",
      "[Erreur] Impossible de charger la page 'Plane of polarization' : HTTPSConnectionPool(host='en.wikipedia.org', port=443): Max retries exceeded with url: /w/api.php?format=json&redirects=1&action=query&prop=info&titles=Plane+of+polarization&inprop=protection%7Ctalkid%7Cwatched%7Cwatchers%7Cvisitingwatchers%7Cnotificationtimestamp%7Csubjectid%7Curl%7Creadable%7Cpreload%7Cdisplaytitle%7Cvarianttitles (Caused by NewConnectionError('<urllib3.connection.HTTPSConnection object at 0x74417aa9a930>: Failed to establish a new connection: [Errno 101] Network is unreachable'))\n",
      "[Erreur] Impossible de charger la page 'Quaestiones quaedam philosophicae' : HTTPSConnectionPool(host='en.wikipedia.org', port=443): Max retries exceeded with url: /w/api.php?format=json&redirects=1&action=query&prop=info&titles=Quaestiones+quaedam+philosophicae&inprop=protection%7Ctalkid%7Cwatched%7Cwatchers%7Cvisitingwatchers%7Cnotificationtimestamp%7Csubjectid%7Curl%7Creadable%7Cpreload%7Cdisplaytitle%7Cvarianttitles (Caused by NewConnectionError('<urllib3.connection.HTTPSConnection object at 0x74417aa9a810>: Failed to establish a new connection: [Errno 101] Network is unreachable'))\n",
      "[Erreur] Impossible de charger la page 'History of quantum field theory' : HTTPSConnectionPool(host='en.wikipedia.org', port=443): Max retries exceeded with url: /w/api.php?format=json&redirects=1&action=query&prop=info&titles=History+of+quantum+field+theory&inprop=protection%7Ctalkid%7Cwatched%7Cwatchers%7Cvisitingwatchers%7Cnotificationtimestamp%7Csubjectid%7Curl%7Creadable%7Cpreload%7Cdisplaytitle%7Cvarianttitles (Caused by NewConnectionError('<urllib3.connection.HTTPSConnection object at 0x74417aa98b90>: Failed to establish a new connection: [Errno 101] Network is unreachable'))\n",
      "[Erreur] Impossible de charger la page 'History of quantum mechanics' : HTTPSConnectionPool(host='en.wikipedia.org', port=443): Max retries exceeded with url: /w/api.php?format=json&redirects=1&action=query&prop=info&titles=History+of+quantum+mechanics&inprop=protection%7Ctalkid%7Cwatched%7Cwatchers%7Cvisitingwatchers%7Cnotificationtimestamp%7Csubjectid%7Curl%7Creadable%7Cpreload%7Cdisplaytitle%7Cvarianttitles (Caused by NewConnectionError('<urllib3.connection.HTTPSConnection object at 0x74417aa9af00>: Failed to establish a new connection: [Errno 101] Network is unreachable'))\n",
      "[Erreur] Impossible de charger la page 'Relationship between mathematics and physics' : HTTPSConnectionPool(host='en.wikipedia.org', port=443): Max retries exceeded with url: /w/api.php?format=json&redirects=1&action=query&prop=info&titles=Relationship+between+mathematics+and+physics&inprop=protection%7Ctalkid%7Cwatched%7Cwatchers%7Cvisitingwatchers%7Cnotificationtimestamp%7Csubjectid%7Curl%7Creadable%7Cpreload%7Cdisplaytitle%7Cvarianttitles (Caused by NewConnectionError('<urllib3.connection.HTTPSConnection object at 0x74417aa9b470>: Failed to establish a new connection: [Errno 101] Network is unreachable'))\n",
      "[Erreur] Impossible de charger la page 'Criticism of the theory of relativity' : HTTPSConnectionPool(host='en.wikipedia.org', port=443): Max retries exceeded with url: /w/api.php?format=json&redirects=1&action=query&prop=info&titles=Criticism+of+the+theory+of+relativity&inprop=protection%7Ctalkid%7Cwatched%7Cwatchers%7Cvisitingwatchers%7Cnotificationtimestamp%7Csubjectid%7Curl%7Creadable%7Cpreload%7Cdisplaytitle%7Cvarianttitles (Caused by NewConnectionError('<urllib3.connection.HTTPSConnection object at 0x74417aa9b950>: Failed to establish a new connection: [Errno 101] Network is unreachable'))\n",
      "[Erreur] Impossible de charger la page 'Relativity of simultaneity' : HTTPSConnectionPool(host='en.wikipedia.org', port=443): Max retries exceeded with url: /w/api.php?format=json&redirects=1&action=query&prop=info&titles=Relativity+of+simultaneity&inprop=protection%7Ctalkid%7Cwatched%7Cwatchers%7Cvisitingwatchers%7Cnotificationtimestamp%7Csubjectid%7Curl%7Creadable%7Cpreload%7Cdisplaytitle%7Cvarianttitles (Caused by NewConnectionError('<urllib3.connection.HTTPSConnection object at 0x74417f54da90>: Failed to establish a new connection: [Errno 101] Network is unreachable'))\n",
      "[Erreur] Impossible de charger la page 'Ritz ballistic theory' : HTTPSConnectionPool(host='en.wikipedia.org', port=443): Max retries exceeded with url: /w/api.php?format=json&redirects=1&action=query&prop=info&titles=Ritz+ballistic+theory&inprop=protection%7Ctalkid%7Cwatched%7Cwatchers%7Cvisitingwatchers%7Cnotificationtimestamp%7Csubjectid%7Curl%7Creadable%7Cpreload%7Cdisplaytitle%7Cvarianttitles (Caused by NewConnectionError('<urllib3.connection.HTTPSConnection object at 0x74417aaf2870>: Failed to establish a new connection: [Errno 101] Network is unreachable'))\n",
      "[Erreur] Impossible de charger la page 'Rydberg formula' : HTTPSConnectionPool(host='en.wikipedia.org', port=443): Max retries exceeded with url: /w/api.php?format=json&redirects=1&action=query&prop=info&titles=Rydberg+formula&inprop=protection%7Ctalkid%7Cwatched%7Cwatchers%7Cvisitingwatchers%7Cnotificationtimestamp%7Csubjectid%7Curl%7Creadable%7Cpreload%7Cdisplaytitle%7Cvarianttitles (Caused by NewConnectionError('<urllib3.connection.HTTPSConnection object at 0x74417aaf2240>: Failed to establish a new connection: [Errno 101] Network is unreachable'))\n",
      "[Erreur] Impossible de charger la page 'Schiehallion experiment' : HTTPSConnectionPool(host='en.wikipedia.org', port=443): Max retries exceeded with url: /w/api.php?format=json&redirects=1&action=query&prop=info&titles=Schiehallion+experiment&inprop=protection%7Ctalkid%7Cwatched%7Cwatchers%7Cvisitingwatchers%7Cnotificationtimestamp%7Csubjectid%7Curl%7Creadable%7Cpreload%7Cdisplaytitle%7Cvarianttitles (Caused by NewConnectionError('<urllib3.connection.HTTPSConnection object at 0x74417aa9b770>: Failed to establish a new connection: [Errno 101] Network is unreachable'))\n",
      "[Erreur] Impossible de charger la page 'Search for the Higgs boson' : HTTPSConnectionPool(host='en.wikipedia.org', port=443): Max retries exceeded with url: /w/api.php?format=json&redirects=1&action=query&prop=info&titles=Search+for+the+Higgs+boson&inprop=protection%7Ctalkid%7Cwatched%7Cwatchers%7Cvisitingwatchers%7Cnotificationtimestamp%7Csubjectid%7Curl%7Creadable%7Cpreload%7Cdisplaytitle%7Cvarianttitles (Caused by NewConnectionError('<urllib3.connection.HTTPSConnection object at 0x74417aa9b200>: Failed to establish a new connection: [Errno 101] Network is unreachable'))\n",
      "[Erreur] Impossible de charger la page 'History of Solar System formation and evolution hypotheses' : HTTPSConnectionPool(host='en.wikipedia.org', port=443): Max retries exceeded with url: /w/api.php?format=json&redirects=1&action=query&prop=info&titles=History+of+Solar+System+formation+and+evolution+hypotheses&inprop=protection%7Ctalkid%7Cwatched%7Cwatchers%7Cvisitingwatchers%7Cnotificationtimestamp%7Csubjectid%7Curl%7Creadable%7Cpreload%7Cdisplaytitle%7Cvarianttitles (Caused by NewConnectionError('<urllib3.connection.HTTPSConnection object at 0x74417aa9ad50>: Failed to establish a new connection: [Errno 101] Network is unreachable'))\n",
      "[Erreur] Impossible de charger la page 'History of special relativity' : HTTPSConnectionPool(host='en.wikipedia.org', port=443): Max retries exceeded with url: /w/api.php?format=json&redirects=1&action=query&prop=info&titles=History+of+special+relativity&inprop=protection%7Ctalkid%7Cwatched%7Cwatchers%7Cvisitingwatchers%7Cnotificationtimestamp%7Csubjectid%7Curl%7Creadable%7Cpreload%7Cdisplaytitle%7Cvarianttitles (Caused by NewConnectionError('<urllib3.connection.HTTPSConnection object at 0x74417aa99ca0>: Failed to establish a new connection: [Errno 101] Network is unreachable'))\n",
      "[Erreur] Impossible de charger la page 'Speed of gravity' : HTTPSConnectionPool(host='en.wikipedia.org', port=443): Max retries exceeded with url: /w/api.php?format=json&redirects=1&action=query&prop=info&titles=Speed+of+gravity&inprop=protection%7Ctalkid%7Cwatched%7Cwatchers%7Cvisitingwatchers%7Cnotificationtimestamp%7Csubjectid%7Curl%7Creadable%7Cpreload%7Cdisplaytitle%7Cvarianttitles (Caused by NewConnectionError('<urllib3.connection.HTTPSConnection object at 0x74417aa9a780>: Failed to establish a new connection: [Errno 101] Network is unreachable'))\n",
      "[Erreur] Impossible de charger la page 'Spherical wave transformation' : HTTPSConnectionPool(host='en.wikipedia.org', port=443): Max retries exceeded with url: /w/api.php?format=json&redirects=1&action=query&prop=info&titles=Spherical+wave+transformation&inprop=protection%7Ctalkid%7Cwatched%7Cwatchers%7Cvisitingwatchers%7Cnotificationtimestamp%7Csubjectid%7Curl%7Creadable%7Cpreload%7Cdisplaytitle%7Cvarianttitles (Caused by NewConnectionError('<urllib3.connection.HTTPSConnection object at 0x74417aa99d00>: Failed to establish a new connection: [Errno 101] Network is unreachable'))\n",
      "[Erreur] Impossible de charger la page 'Sticky bead argument' : HTTPSConnectionPool(host='en.wikipedia.org', port=443): Max retries exceeded with url: /w/api.php?format=json&redirects=1&action=query&prop=info&titles=Sticky+bead+argument&inprop=protection%7Ctalkid%7Cwatched%7Cwatchers%7Cvisitingwatchers%7Cnotificationtimestamp%7Csubjectid%7Curl%7Creadable%7Cpreload%7Cdisplaytitle%7Cvarianttitles (Caused by NewConnectionError('<urllib3.connection.HTTPSConnection object at 0x74417f5ab470>: Failed to establish a new connection: [Errno 101] Network is unreachable'))\n",
      "[Erreur] Impossible de charger la page 'Strangelet' : HTTPSConnectionPool(host='en.wikipedia.org', port=443): Max retries exceeded with url: /w/api.php?format=json&redirects=1&action=query&prop=info&titles=Strangelet&inprop=protection%7Ctalkid%7Cwatched%7Cwatchers%7Cvisitingwatchers%7Cnotificationtimestamp%7Csubjectid%7Curl%7Creadable%7Cpreload%7Cdisplaytitle%7Cvarianttitles (Caused by NewConnectionError('<urllib3.connection.HTTPSConnection object at 0x74417aaf3290>: Failed to establish a new connection: [Errno 101] Network is unreachable'))\n",
      "[Erreur] Impossible de charger la page 'History of subatomic physics' : HTTPSConnectionPool(host='en.wikipedia.org', port=443): Max retries exceeded with url: /w/api.php?format=json&redirects=1&action=query&prop=info&titles=History+of+subatomic+physics&inprop=protection%7Ctalkid%7Cwatched%7Cwatchers%7Cvisitingwatchers%7Cnotificationtimestamp%7Csubjectid%7Curl%7Creadable%7Cpreload%7Cdisplaytitle%7Cvarianttitles (Caused by NewConnectionError('<urllib3.connection.HTTPSConnection object at 0x74417aaf08c0>: Failed to establish a new connection: [Errno 101] Network is unreachable'))\n",
      "[Erreur] Impossible de charger la page 'History of superconductivity' : HTTPSConnectionPool(host='en.wikipedia.org', port=443): Max retries exceeded with url: /w/api.php?format=json&redirects=1&action=query&prop=info&titles=History+of+superconductivity&inprop=protection%7Ctalkid%7Cwatched%7Cwatchers%7Cvisitingwatchers%7Cnotificationtimestamp%7Csubjectid%7Curl%7Creadable%7Cpreload%7Cdisplaytitle%7Cvarianttitles (Caused by NewConnectionError('<urllib3.connection.HTTPSConnection object at 0x74417aa9a150>: Failed to establish a new connection: [Errno 101] Network is unreachable'))\n",
      "[Erreur] Impossible de charger la page 'Teleparallelism' : HTTPSConnectionPool(host='en.wikipedia.org', port=443): Max retries exceeded with url: /w/api.php?format=json&redirects=1&action=query&prop=info&titles=Teleparallelism&inprop=protection%7Ctalkid%7Cwatched%7Cwatchers%7Cvisitingwatchers%7Cnotificationtimestamp%7Csubjectid%7Curl%7Creadable%7Cpreload%7Cdisplaytitle%7Cvarianttitles (Caused by NewConnectionError('<urllib3.connection.HTTPSConnection object at 0x74417aa9acc0>: Failed to establish a new connection: [Errno 101] Network is unreachable'))\n",
      "[Erreur] Impossible de charger la page 'Teylers Instrument Room' : HTTPSConnectionPool(host='en.wikipedia.org', port=443): Max retries exceeded with url: /w/api.php?format=json&redirects=1&action=query&prop=info&titles=Teylers+Instrument+Room&inprop=protection%7Ctalkid%7Cwatched%7Cwatchers%7Cvisitingwatchers%7Cnotificationtimestamp%7Csubjectid%7Curl%7Creadable%7Cpreload%7Cdisplaytitle%7Cvarianttitles (Caused by NewConnectionError('<urllib3.connection.HTTPSConnection object at 0x74417aa98f80>: Failed to establish a new connection: [Errno 101] Network is unreachable'))\n",
      "[Erreur] Impossible de charger la page 'Timeline of computational physics' : HTTPSConnectionPool(host='en.wikipedia.org', port=443): Max retries exceeded with url: /w/api.php?format=json&redirects=1&action=query&prop=info&titles=Timeline+of+computational+physics&inprop=protection%7Ctalkid%7Cwatched%7Cwatchers%7Cvisitingwatchers%7Cnotificationtimestamp%7Csubjectid%7Curl%7Creadable%7Cpreload%7Cdisplaytitle%7Cvarianttitles (Caused by NewConnectionError('<urllib3.connection.HTTPSConnection object at 0x74417aa9ad20>: Failed to establish a new connection: [Errno 101] Network is unreachable'))\n",
      "[Erreur] Impossible de charger la page 'Timeline of condensed matter physics' : HTTPSConnectionPool(host='en.wikipedia.org', port=443): Max retries exceeded with url: /w/api.php?format=json&redirects=1&action=query&prop=info&titles=Timeline+of+condensed+matter+physics&inprop=protection%7Ctalkid%7Cwatched%7Cwatchers%7Cvisitingwatchers%7Cnotificationtimestamp%7Csubjectid%7Curl%7Creadable%7Cpreload%7Cdisplaytitle%7Cvarianttitles (Caused by NewConnectionError('<urllib3.connection.HTTPSConnection object at 0x74417aa9b2c0>: Failed to establish a new connection: [Errno 101] Network is unreachable'))\n",
      "[Erreur] Impossible de charger la page 'Timeline of fluid and continuum mechanics' : HTTPSConnectionPool(host='en.wikipedia.org', port=443): Max retries exceeded with url: /w/api.php?format=json&redirects=1&action=query&prop=info&titles=Timeline+of+fluid+and+continuum+mechanics&inprop=protection%7Ctalkid%7Cwatched%7Cwatchers%7Cvisitingwatchers%7Cnotificationtimestamp%7Csubjectid%7Curl%7Creadable%7Cpreload%7Cdisplaytitle%7Cvarianttitles (Caused by NewConnectionError('<urllib3.connection.HTTPSConnection object at 0x74417aa98b00>: Failed to establish a new connection: [Errno 101] Network is unreachable'))\n"
     ]
    },
    {
     "data": {
      "application/vnd.jupyter.widget-view+json": {
       "model_id": "d79e9e23f68948cda141f6caad7aca4c",
       "version_major": 2,
       "version_minor": 0
      },
      "text/plain": [
       "Categories (flat):   0%|          | 0/10 [00:00<?, ?cat/s]"
      ]
     },
     "metadata": {},
     "output_type": "display_data"
    },
    {
     "data": {
      "application/vnd.jupyter.widget-view+json": {
       "model_id": "95d40eb8e2144c7aa2405a317026a855",
       "version_major": 2,
       "version_minor": 0
      },
      "text/plain": [
       "Pages in Books about the history of physics:   0%|          | 0/21 [00:00<?, ?page/s]"
      ]
     },
     "metadata": {},
     "output_type": "display_data"
    },
    {
     "name": "stdout",
     "output_type": "stream",
     "text": [
      "[Erreur] Impossible de charger la page 'Atom (Asimov book)' : HTTPSConnectionPool(host='en.wikipedia.org', port=443): Max retries exceeded with url: /w/api.php?format=json&redirects=1&action=query&prop=info&titles=Atom+%28Asimov+book%29&inprop=protection%7Ctalkid%7Cwatched%7Cwatchers%7Cvisitingwatchers%7Cnotificationtimestamp%7Csubjectid%7Curl%7Creadable%7Cpreload%7Cdisplaytitle%7Cvarianttitles (Caused by NewConnectionError('<urllib3.connection.HTTPSConnection object at 0x74417f53b290>: Failed to establish a new connection: [Errno 101] Network is unreachable'))\n",
      "[Erreur] Impossible de charger la page 'Atomic Spy (book)' : HTTPSConnectionPool(host='en.wikipedia.org', port=443): Max retries exceeded with url: /w/api.php?format=json&redirects=1&action=query&prop=info&titles=Atomic+Spy+%28book%29&inprop=protection%7Ctalkid%7Cwatched%7Cwatchers%7Cvisitingwatchers%7Cnotificationtimestamp%7Csubjectid%7Curl%7Creadable%7Cpreload%7Cdisplaytitle%7Cvarianttitles (Caused by NewConnectionError('<urllib3.connection.HTTPSConnection object at 0x74417aa9b290>: Failed to establish a new connection: [Errno 101] Network is unreachable'))\n",
      "[Erreur] Impossible de charger la page 'The Beginning of Infinity' : HTTPSConnectionPool(host='en.wikipedia.org', port=443): Max retries exceeded with url: /w/api.php?format=json&redirects=1&action=query&prop=info&titles=The+Beginning+of+Infinity&inprop=protection%7Ctalkid%7Cwatched%7Cwatchers%7Cvisitingwatchers%7Cnotificationtimestamp%7Csubjectid%7Curl%7Creadable%7Cpreload%7Cdisplaytitle%7Cvarianttitles (Caused by NewConnectionError('<urllib3.connection.HTTPSConnection object at 0x74417aa9b650>: Failed to establish a new connection: [Errno 101] Network is unreachable'))\n",
      "[Erreur] Impossible de charger la page 'Beyond Uncertainty' : HTTPSConnectionPool(host='en.wikipedia.org', port=443): Max retries exceeded with url: /w/api.php?format=json&redirects=1&action=query&prop=info&titles=Beyond+Uncertainty&inprop=protection%7Ctalkid%7Cwatched%7Cwatchers%7Cvisitingwatchers%7Cnotificationtimestamp%7Csubjectid%7Curl%7Creadable%7Cpreload%7Cdisplaytitle%7Cvarianttitles (Caused by NewConnectionError('<urllib3.connection.HTTPSConnection object at 0x74417aa9af60>: Failed to establish a new connection: [Errno 101] Network is unreachable'))\n",
      "[Erreur] Impossible de charger la page 'Big Bang (Singh book)' : HTTPSConnectionPool(host='en.wikipedia.org', port=443): Max retries exceeded with url: /w/api.php?format=json&redirects=1&action=query&prop=info&titles=Big+Bang+%28Singh+book%29&inprop=protection%7Ctalkid%7Cwatched%7Cwatchers%7Cvisitingwatchers%7Cnotificationtimestamp%7Csubjectid%7Curl%7Creadable%7Cpreload%7Cdisplaytitle%7Cvarianttitles (Caused by NewConnectionError('<urllib3.connection.HTTPSConnection object at 0x74417aa99a30>: Failed to establish a new connection: [Errno 101] Network is unreachable'))\n",
      "[Erreur] Impossible de charger la page 'The Copernican Question' : HTTPSConnectionPool(host='en.wikipedia.org', port=443): Max retries exceeded with url: /w/api.php?format=json&redirects=1&action=query&prop=info&titles=The+Copernican+Question&inprop=protection%7Ctalkid%7Cwatched%7Cwatchers%7Cvisitingwatchers%7Cnotificationtimestamp%7Csubjectid%7Curl%7Creadable%7Cpreload%7Cdisplaytitle%7Cvarianttitles (Caused by NewConnectionError('<urllib3.connection.HTTPSConnection object at 0x74417f54de50>: Failed to establish a new connection: [Errno 101] Network is unreachable'))\n",
      "[Erreur] Impossible de charger la page 'The Copernican Revolution (book)' : HTTPSConnectionPool(host='en.wikipedia.org', port=443): Max retries exceeded with url: /w/api.php?format=json&redirects=1&action=query&prop=info&titles=The+Copernican+Revolution+%28book%29&inprop=protection%7Ctalkid%7Cwatched%7Cwatchers%7Cvisitingwatchers%7Cnotificationtimestamp%7Csubjectid%7Curl%7Creadable%7Cpreload%7Cdisplaytitle%7Cvarianttitles (Caused by NewConnectionError('<urllib3.connection.HTTPSConnection object at 0x74417aaf2d50>: Failed to establish a new connection: [Errno 101] Network is unreachable'))\n",
      "[Erreur] Impossible de charger la page 'The Dancing Wu Li Masters' : HTTPSConnectionPool(host='en.wikipedia.org', port=443): Max retries exceeded with url: /w/api.php?format=json&redirects=1&action=query&prop=info&titles=The+Dancing+Wu+Li+Masters&inprop=protection%7Ctalkid%7Cwatched%7Cwatchers%7Cvisitingwatchers%7Cnotificationtimestamp%7Csubjectid%7Curl%7Creadable%7Cpreload%7Cdisplaytitle%7Cvarianttitles (Caused by NewConnectionError('<urllib3.connection.HTTPSConnection object at 0x74417aa9b6e0>: Failed to establish a new connection: [Errno 101] Network is unreachable'))\n",
      "[Erreur] Impossible de charger la page 'Einstein's Unfinished Symphony' : HTTPSConnectionPool(host='en.wikipedia.org', port=443): Max retries exceeded with url: /w/api.php?format=json&redirects=1&action=query&prop=info&titles=Einstein%27s+Unfinished+Symphony&inprop=protection%7Ctalkid%7Cwatched%7Cwatchers%7Cvisitingwatchers%7Cnotificationtimestamp%7Csubjectid%7Curl%7Creadable%7Cpreload%7Cdisplaytitle%7Cvarianttitles (Caused by NewConnectionError('<urllib3.connection.HTTPSConnection object at 0x74417aa9a1b0>: Failed to establish a new connection: [Errno 101] Network is unreachable'))\n",
      "[Erreur] Impossible de charger la page 'The End of the Certain World' : HTTPSConnectionPool(host='en.wikipedia.org', port=443): Max retries exceeded with url: /w/api.php?format=json&redirects=1&action=query&prop=info&titles=The+End+of+the+Certain+World&inprop=protection%7Ctalkid%7Cwatched%7Cwatchers%7Cvisitingwatchers%7Cnotificationtimestamp%7Csubjectid%7Curl%7Creadable%7Cpreload%7Cdisplaytitle%7Cvarianttitles (Caused by NewConnectionError('<urllib3.connection.HTTPSConnection object at 0x74417aa9ac30>: Failed to establish a new connection: [Errno 101] Network is unreachable'))\n",
      "[Erreur] Impossible de charger la page 'The Evolution of Physics' : HTTPSConnectionPool(host='en.wikipedia.org', port=443): Max retries exceeded with url: /w/api.php?format=json&redirects=1&action=query&prop=info&titles=The+Evolution+of+Physics&inprop=protection%7Ctalkid%7Cwatched%7Cwatchers%7Cvisitingwatchers%7Cnotificationtimestamp%7Csubjectid%7Curl%7Creadable%7Cpreload%7Cdisplaytitle%7Cvarianttitles (Caused by NewConnectionError('<urllib3.connection.HTTPSConnection object at 0x74417aa99f40>: Failed to establish a new connection: [Errno 101] Network is unreachable'))\n",
      "[Erreur] Impossible de charger la page 'The God Particle (book)' : HTTPSConnectionPool(host='en.wikipedia.org', port=443): Max retries exceeded with url: /w/api.php?format=json&redirects=1&action=query&prop=info&titles=The+God+Particle+%28book%29&inprop=protection%7Ctalkid%7Cwatched%7Cwatchers%7Cvisitingwatchers%7Cnotificationtimestamp%7Csubjectid%7Curl%7Creadable%7Cpreload%7Cdisplaytitle%7Cvarianttitles (Caused by NewConnectionError('<urllib3.connection.HTTPSConnection object at 0x74417aa991c0>: Failed to establish a new connection: [Errno 101] Network is unreachable'))\n",
      "[Erreur] Impossible de charger la page 'A History of the Theories of Aether and Electricity' : HTTPSConnectionPool(host='en.wikipedia.org', port=443): Max retries exceeded with url: /w/api.php?format=json&redirects=1&action=query&prop=info&titles=A+History+of+the+Theories+of+Aether+and+Electricity&inprop=protection%7Ctalkid%7Cwatched%7Cwatchers%7Cvisitingwatchers%7Cnotificationtimestamp%7Csubjectid%7Curl%7Creadable%7Cpreload%7Cdisplaytitle%7Cvarianttitles (Caused by NewConnectionError('<urllib3.connection.HTTPSConnection object at 0x74417aa9bf50>: Failed to establish a new connection: [Errno 101] Network is unreachable'))\n",
      "[Erreur] Impossible de charger la page 'Intellectual Mastery of Nature' : HTTPSConnectionPool(host='en.wikipedia.org', port=443): Max retries exceeded with url: /w/api.php?format=json&redirects=1&action=query&prop=info&titles=Intellectual+Mastery+of+Nature&inprop=protection%7Ctalkid%7Cwatched%7Cwatchers%7Cvisitingwatchers%7Cnotificationtimestamp%7Csubjectid%7Curl%7Creadable%7Cpreload%7Cdisplaytitle%7Cvarianttitles (Caused by NewConnectionError('<urllib3.connection.HTTPSConnection object at 0x74417aa58470>: Failed to establish a new connection: [Errno 101] Network is unreachable'))\n",
      "[Erreur] Impossible de charger la page 'The Maxwellians' : HTTPSConnectionPool(host='en.wikipedia.org', port=443): Max retries exceeded with url: /w/api.php?format=json&redirects=1&action=query&prop=info&titles=The+Maxwellians&inprop=protection%7Ctalkid%7Cwatched%7Cwatchers%7Cvisitingwatchers%7Cnotificationtimestamp%7Csubjectid%7Curl%7Creadable%7Cpreload%7Cdisplaytitle%7Cvarianttitles (Caused by NewConnectionError('<urllib3.connection.HTTPSConnection object at 0x74417aa9bef0>: Failed to establish a new connection: [Errno 101] Network is unreachable'))\n",
      "[Erreur] Impossible de charger la page 'Newton for Beginners' : HTTPSConnectionPool(host='en.wikipedia.org', port=443): Max retries exceeded with url: /w/api.php?format=json&redirects=1&action=query&prop=info&titles=Newton+for+Beginners&inprop=protection%7Ctalkid%7Cwatched%7Cwatchers%7Cvisitingwatchers%7Cnotificationtimestamp%7Csubjectid%7Curl%7Creadable%7Cpreload%7Cdisplaytitle%7Cvarianttitles (Caused by NewConnectionError('<urllib3.connection.HTTPSConnection object at 0x74417aa99f40>: Failed to establish a new connection: [Errno 101] Network is unreachable'))\n",
      "[Erreur] Impossible de charger la page 'Night Thoughts of a Classical Physicist' : HTTPSConnectionPool(host='en.wikipedia.org', port=443): Max retries exceeded with url: /w/api.php?format=json&redirects=1&action=query&prop=info&titles=Night+Thoughts+of+a+Classical+Physicist&inprop=protection%7Ctalkid%7Cwatched%7Cwatchers%7Cvisitingwatchers%7Cnotificationtimestamp%7Csubjectid%7Curl%7Creadable%7Cpreload%7Cdisplaytitle%7Cvarianttitles (Caused by NewConnectionError('<urllib3.connection.HTTPSConnection object at 0x74417aa9b4d0>: Failed to establish a new connection: [Errno 101] Network is unreachable'))\n",
      "[Erreur] Impossible de charger la page 'Physics and Beyond' : HTTPSConnectionPool(host='en.wikipedia.org', port=443): Max retries exceeded with url: /w/api.php?format=json&redirects=1&action=query&prop=info&titles=Physics+and+Beyond&inprop=protection%7Ctalkid%7Cwatched%7Cwatchers%7Cvisitingwatchers%7Cnotificationtimestamp%7Csubjectid%7Curl%7Creadable%7Cpreload%7Cdisplaytitle%7Cvarianttitles (Caused by NewConnectionError('<urllib3.connection.HTTPSConnection object at 0x74417aa98e30>: Failed to establish a new connection: [Errno 101] Network is unreachable'))\n",
      "[Erreur] Impossible de charger la page 'Priest of Nature' : HTTPSConnectionPool(host='en.wikipedia.org', port=443): Max retries exceeded with url: /w/api.php?format=json&redirects=1&action=query&prop=info&titles=Priest+of+Nature&inprop=protection%7Ctalkid%7Cwatched%7Cwatchers%7Cvisitingwatchers%7Cnotificationtimestamp%7Csubjectid%7Curl%7Creadable%7Cpreload%7Cdisplaytitle%7Cvarianttitles (Caused by NewConnectionError('<urllib3.connection.HTTPSConnection object at 0x74417aa9b1a0>: Failed to establish a new connection: [Errno 101] Network is unreachable'))\n",
      "[Erreur] Impossible de charger la page 'Quantum (book)' : HTTPSConnectionPool(host='en.wikipedia.org', port=443): Max retries exceeded with url: /w/api.php?format=json&redirects=1&action=query&prop=info&titles=Quantum+%28book%29&inprop=protection%7Ctalkid%7Cwatched%7Cwatchers%7Cvisitingwatchers%7Cnotificationtimestamp%7Csubjectid%7Curl%7Creadable%7Cpreload%7Cdisplaytitle%7Cvarianttitles (Caused by NewConnectionError('<urllib3.connection.HTTPSConnection object at 0x74417cc04200>: Failed to establish a new connection: [Errno 101] Network is unreachable'))\n",
      "[Erreur] Impossible de charger la page 'Uncertainty (book)' : HTTPSConnectionPool(host='en.wikipedia.org', port=443): Max retries exceeded with url: /w/api.php?format=json&redirects=1&action=query&prop=info&titles=Uncertainty+%28book%29&inprop=protection%7Ctalkid%7Cwatched%7Cwatchers%7Cvisitingwatchers%7Cnotificationtimestamp%7Csubjectid%7Curl%7Creadable%7Cpreload%7Cdisplaytitle%7Cvarianttitles (Caused by NewConnectionError('<urllib3.connection.HTTPSConnection object at 0x74417f53a450>: Failed to establish a new connection: [Errno 101] Network is unreachable'))\n"
     ]
    },
    {
     "data": {
      "application/vnd.jupyter.widget-view+json": {
       "model_id": "fb4f6ed62f3a4342a4d0af5aee880e1d",
       "version_major": 2,
       "version_minor": 0
      },
      "text/plain": [
       "Pages in History of electrical engineering:   0%|          | 0/34 [00:00<?, ?page/s]"
      ]
     },
     "metadata": {},
     "output_type": "display_data"
    },
    {
     "name": "stdout",
     "output_type": "stream",
     "text": [
      "[Erreur] Impossible de charger la page 'History of electrical engineering' : HTTPSConnectionPool(host='en.wikipedia.org', port=443): Max retries exceeded with url: /w/api.php?format=json&redirects=1&action=query&prop=info&titles=History+of+electrical+engineering&inprop=protection%7Ctalkid%7Cwatched%7Cwatchers%7Cvisitingwatchers%7Cnotificationtimestamp%7Csubjectid%7Curl%7Creadable%7Cpreload%7Cdisplaytitle%7Cvarianttitles (Caused by NewConnectionError('<urllib3.connection.HTTPSConnection object at 0x744178c12e10>: Failed to establish a new connection: [Errno 101] Network is unreachable'))\n",
      "[Erreur] Impossible de charger la page 'American Genius' : HTTPSConnectionPool(host='en.wikipedia.org', port=443): Max retries exceeded with url: /w/api.php?format=json&redirects=1&action=query&prop=info&titles=American+Genius&inprop=protection%7Ctalkid%7Cwatched%7Cwatchers%7Cvisitingwatchers%7Cnotificationtimestamp%7Csubjectid%7Curl%7Creadable%7Cpreload%7Cdisplaytitle%7Cvarianttitles (Caused by NewConnectionError('<urllib3.connection.HTTPSConnection object at 0x74417aa999d0>: Failed to establish a new connection: [Errno 101] Network is unreachable'))\n",
      "[Erreur] Impossible de charger la page 'The Beginning and End of the Universe' : HTTPSConnectionPool(host='en.wikipedia.org', port=443): Max retries exceeded with url: /w/api.php?format=json&redirects=1&action=query&prop=info&titles=The+Beginning+and+End+of+the+Universe&inprop=protection%7Ctalkid%7Cwatched%7Cwatchers%7Cvisitingwatchers%7Cnotificationtimestamp%7Csubjectid%7Curl%7Creadable%7Cpreload%7Cdisplaytitle%7Cvarianttitles (Caused by NewConnectionError('<urllib3.connection.HTTPSConnection object at 0x74417aa9a4b0>: Failed to establish a new connection: [Errno 101] Network is unreachable'))\n",
      "[Erreur] Impossible de charger la page 'Edison Hotel (Sunbury, Pennsylvania)' : HTTPSConnectionPool(host='en.wikipedia.org', port=443): Max retries exceeded with url: /w/api.php?format=json&redirects=1&action=query&prop=info&titles=Edison+Hotel+%28Sunbury%2C+Pennsylvania%29&inprop=protection%7Ctalkid%7Cwatched%7Cwatchers%7Cvisitingwatchers%7Cnotificationtimestamp%7Csubjectid%7Curl%7Creadable%7Cpreload%7Cdisplaytitle%7Cvarianttitles (Caused by NewConnectionError('<urllib3.connection.HTTPSConnection object at 0x74417aa9ac00>: Failed to establish a new connection: [Errno 101] Network is unreachable'))\n",
      "[Erreur] Impossible de charger la page 'Electrical demonstration' : HTTPSConnectionPool(host='en.wikipedia.org', port=443): Max retries exceeded with url: /w/api.php?format=json&redirects=1&action=query&prop=info&titles=Electrical+demonstration&inprop=protection%7Ctalkid%7Cwatched%7Cwatchers%7Cvisitingwatchers%7Cnotificationtimestamp%7Csubjectid%7Curl%7Creadable%7Cpreload%7Cdisplaytitle%7Cvarianttitles (Caused by NewConnectionError('<urllib3.connection.HTTPSConnection object at 0x74417aa9abd0>: Failed to establish a new connection: [Errno 101] Network is unreachable'))\n",
      "[Erreur] Impossible de charger la page 'Electro-Dynamic Light Company' : HTTPSConnectionPool(host='en.wikipedia.org', port=443): Max retries exceeded with url: /w/api.php?format=json&redirects=1&action=query&prop=info&titles=Electro-Dynamic+Light+Company&inprop=protection%7Ctalkid%7Cwatched%7Cwatchers%7Cvisitingwatchers%7Cnotificationtimestamp%7Csubjectid%7Curl%7Creadable%7Cpreload%7Cdisplaytitle%7Cvarianttitles (Caused by NewConnectionError('<urllib3.connection.HTTPSConnection object at 0x74417aa9bd10>: Failed to establish a new connection: [Errno 101] Network is unreachable'))\n",
      "[Erreur] Impossible de charger la page 'History of electromagnetic theory' : HTTPSConnectionPool(host='en.wikipedia.org', port=443): Max retries exceeded with url: /w/api.php?format=json&redirects=1&action=query&prop=info&titles=History+of+electromagnetic+theory&inprop=protection%7Ctalkid%7Cwatched%7Cwatchers%7Cvisitingwatchers%7Cnotificationtimestamp%7Csubjectid%7Curl%7Creadable%7Cpreload%7Cdisplaytitle%7Cvarianttitles (Caused by NewConnectionError('<urllib3.connection.HTTPSConnection object at 0x74417aaf0cb0>: Failed to establish a new connection: [Errno 101] Network is unreachable'))\n",
      "[Erreur] Impossible de charger la page 'Timeline of electromagnetism and classical optics' : HTTPSConnectionPool(host='en.wikipedia.org', port=443): Max retries exceeded with url: /w/api.php?format=json&redirects=1&action=query&prop=info&titles=Timeline+of+electromagnetism+and+classical+optics&inprop=protection%7Ctalkid%7Cwatched%7Cwatchers%7Cvisitingwatchers%7Cnotificationtimestamp%7Csubjectid%7Curl%7Creadable%7Cpreload%7Cdisplaytitle%7Cvarianttitles (Caused by NewConnectionError('<urllib3.connection.HTTPSConnection object at 0x74417aaf3920>: Failed to establish a new connection: [Errno 101] Network is unreachable'))\n",
      "[Erreur] Impossible de charger la page 'Siemens locomotive of 1879' : HTTPSConnectionPool(host='en.wikipedia.org', port=443): Max retries exceeded with url: /w/api.php?format=json&redirects=1&action=query&prop=info&titles=Siemens+locomotive+of+1879&inprop=protection%7Ctalkid%7Cwatched%7Cwatchers%7Cvisitingwatchers%7Cnotificationtimestamp%7Csubjectid%7Curl%7Creadable%7Cpreload%7Cdisplaytitle%7Cvarianttitles (Caused by NewConnectionError('<urllib3.connection.HTTPSConnection object at 0x74417f5aacc0>: Failed to establish a new connection: [Errno 101] Network is unreachable'))\n",
      "[Erreur] Impossible de charger la page 'List of electrical engineers' : HTTPSConnectionPool(host='en.wikipedia.org', port=443): Max retries exceeded with url: /w/api.php?format=json&redirects=1&action=query&prop=info&titles=List+of+electrical+engineers&inprop=protection%7Ctalkid%7Cwatched%7Cwatchers%7Cvisitingwatchers%7Cnotificationtimestamp%7Csubjectid%7Curl%7Creadable%7Cpreload%7Cdisplaytitle%7Cvarianttitles (Caused by NewConnectionError('<urllib3.connection.HTTPSConnection object at 0x74417aaf0080>: Failed to establish a new connection: [Errno 101] Network is unreachable'))\n",
      "[Erreur] Impossible de charger la page 'The History and Present State of Electricity' : HTTPSConnectionPool(host='en.wikipedia.org', port=443): Max retries exceeded with url: /w/api.php?format=json&redirects=1&action=query&prop=info&titles=The+History+and+Present+State+of+Electricity&inprop=protection%7Ctalkid%7Cwatched%7Cwatchers%7Cvisitingwatchers%7Cnotificationtimestamp%7Csubjectid%7Curl%7Creadable%7Cpreload%7Cdisplaytitle%7Cvarianttitles (Caused by NewConnectionError('<urllib3.connection.HTTPSConnection object at 0x74417ccd1460>: Failed to establish a new connection: [Errno 101] Network is unreachable'))\n",
      "[Erreur] Impossible de charger la page 'History of the Tesla coil' : HTTPSConnectionPool(host='en.wikipedia.org', port=443): Max retries exceeded with url: /w/api.php?format=json&redirects=1&action=query&prop=info&titles=History+of+the+Tesla+coil&inprop=protection%7Ctalkid%7Cwatched%7Cwatchers%7Cvisitingwatchers%7Cnotificationtimestamp%7Csubjectid%7Curl%7Creadable%7Cpreload%7Cdisplaytitle%7Cvarianttitles (Caused by NewConnectionError('<urllib3.connection.HTTPSConnection object at 0x74417aa9b0b0>: Failed to establish a new connection: [Errno 101] Network is unreachable'))\n",
      "[Erreur] Impossible de charger la page 'A History of the Theories of Aether and Electricity' : HTTPSConnectionPool(host='en.wikipedia.org', port=443): Max retries exceeded with url: /w/api.php?format=json&redirects=1&action=query&prop=info&titles=A+History+of+the+Theories+of+Aether+and+Electricity&inprop=protection%7Ctalkid%7Cwatched%7Cwatchers%7Cvisitingwatchers%7Cnotificationtimestamp%7Csubjectid%7Curl%7Creadable%7Cpreload%7Cdisplaytitle%7Cvarianttitles (Caused by NewConnectionError('<urllib3.connection.HTTPSConnection object at 0x74417aa9bad0>: Failed to establish a new connection: [Errno 101] Network is unreachable'))\n",
      "[Erreur] Impossible de charger la page 'International Electrical Congress' : HTTPSConnectionPool(host='en.wikipedia.org', port=443): Max retries exceeded with url: /w/api.php?format=json&redirects=1&action=query&prop=info&titles=International+Electrical+Congress&inprop=protection%7Ctalkid%7Cwatched%7Cwatchers%7Cvisitingwatchers%7Cnotificationtimestamp%7Csubjectid%7Curl%7Creadable%7Cpreload%7Cdisplaytitle%7Cvarianttitles (Caused by NewConnectionError('<urllib3.connection.HTTPSConnection object at 0x74417aa98cb0>: Failed to establish a new connection: [Errno 101] Network is unreachable'))\n",
      "[Erreur] Impossible de charger la page 'International Electrical Exhibition of 1884' : HTTPSConnectionPool(host='en.wikipedia.org', port=443): Max retries exceeded with url: /w/api.php?format=json&redirects=1&action=query&prop=info&titles=International+Electrical+Exhibition+of+1884&inprop=protection%7Ctalkid%7Cwatched%7Cwatchers%7Cvisitingwatchers%7Cnotificationtimestamp%7Csubjectid%7Curl%7Creadable%7Cpreload%7Cdisplaytitle%7Cvarianttitles (Caused by NewConnectionError('<urllib3.connection.HTTPSConnection object at 0x74417aa98d40>: Failed to establish a new connection: [Errno 101] Network is unreachable'))\n",
      "[Erreur] Impossible de charger la page 'International Electrotechnical Exhibition' : HTTPSConnectionPool(host='en.wikipedia.org', port=443): Max retries exceeded with url: /w/api.php?format=json&redirects=1&action=query&prop=info&titles=International+Electrotechnical+Exhibition&inprop=protection%7Ctalkid%7Cwatched%7Cwatchers%7Cvisitingwatchers%7Cnotificationtimestamp%7Csubjectid%7Curl%7Creadable%7Cpreload%7Cdisplaytitle%7Cvarianttitles (Caused by NewConnectionError('<urllib3.connection.HTTPSConnection object at 0x74417aa99a60>: Failed to establish a new connection: [Errno 101] Network is unreachable'))\n",
      "[Erreur] Impossible de charger la page 'International Exposition of Electricity' : HTTPSConnectionPool(host='en.wikipedia.org', port=443): Max retries exceeded with url: /w/api.php?format=json&redirects=1&action=query&prop=info&titles=International+Exposition+of+Electricity&inprop=protection%7Ctalkid%7Cwatched%7Cwatchers%7Cvisitingwatchers%7Cnotificationtimestamp%7Csubjectid%7Curl%7Creadable%7Cpreload%7Cdisplaytitle%7Cvarianttitles (Caused by NewConnectionError('<urllib3.connection.HTTPSConnection object at 0x74417f5a8e60>: Failed to establish a new connection: [Errno 101] Network is unreachable'))\n",
      "[Erreur] Impossible de charger la page 'International System of Electrical and Magnetic Units' : HTTPSConnectionPool(host='en.wikipedia.org', port=443): Max retries exceeded with url: /w/api.php?format=json&redirects=1&action=query&prop=info&titles=International+System+of+Electrical+and+Magnetic+Units&inprop=protection%7Ctalkid%7Cwatched%7Cwatchers%7Cvisitingwatchers%7Cnotificationtimestamp%7Csubjectid%7Curl%7Creadable%7Cpreload%7Cdisplaytitle%7Cvarianttitles (Caused by NewConnectionError('<urllib3.connection.HTTPSConnection object at 0x74417aa990a0>: Failed to establish a new connection: [Errno 101] Network is unreachable'))\n",
      "[Erreur] Impossible de charger la page 'List of IEEE Milestones' : HTTPSConnectionPool(host='en.wikipedia.org', port=443): Max retries exceeded with url: /w/api.php?format=json&redirects=1&action=query&prop=info&titles=List+of+IEEE+Milestones&inprop=protection%7Ctalkid%7Cwatched%7Cwatchers%7Cvisitingwatchers%7Cnotificationtimestamp%7Csubjectid%7Curl%7Creadable%7Cpreload%7Cdisplaytitle%7Cvarianttitles (Caused by NewConnectionError('<urllib3.connection.HTTPSConnection object at 0x74417aa9a840>: Failed to establish a new connection: [Errno 101] Network is unreachable'))\n",
      "[Erreur] Impossible de charger la page 'History of the lithium-ion battery' : HTTPSConnectionPool(host='en.wikipedia.org', port=443): Max retries exceeded with url: /w/api.php?format=json&redirects=1&action=query&prop=info&titles=History+of+the+lithium-ion+battery&inprop=protection%7Ctalkid%7Cwatched%7Cwatchers%7Cvisitingwatchers%7Cnotificationtimestamp%7Csubjectid%7Curl%7Creadable%7Cpreload%7Cdisplaytitle%7Cvarianttitles (Caused by NewConnectionError('<urllib3.connection.HTTPSConnection object at 0x74417aa991c0>: Failed to establish a new connection: [Errno 101] Network is unreachable'))\n",
      "[Erreur] Impossible de charger la page 'The Maxwellians' : HTTPSConnectionPool(host='en.wikipedia.org', port=443): Max retries exceeded with url: /w/api.php?format=json&redirects=1&action=query&prop=info&titles=The+Maxwellians&inprop=protection%7Ctalkid%7Cwatched%7Cwatchers%7Cvisitingwatchers%7Cnotificationtimestamp%7Csubjectid%7Curl%7Creadable%7Cpreload%7Cdisplaytitle%7Cvarianttitles (Caused by NewConnectionError('<urllib3.connection.HTTPSConnection object at 0x74417cc06c30>: Failed to establish a new connection: [Errno 101] Network is unreachable'))\n",
      "[Erreur] Impossible de charger la page 'Charles Hesterman Merz' : HTTPSConnectionPool(host='en.wikipedia.org', port=443): Max retries exceeded with url: /w/api.php?format=json&redirects=1&action=query&prop=info&titles=Charles+Hesterman+Merz&inprop=protection%7Ctalkid%7Cwatched%7Cwatchers%7Cvisitingwatchers%7Cnotificationtimestamp%7Csubjectid%7Curl%7Creadable%7Cpreload%7Cdisplaytitle%7Cvarianttitles (Caused by NewConnectionError('<urllib3.connection.HTTPSConnection object at 0x74417f539cd0>: Failed to establish a new connection: [Errno 101] Network is unreachable'))\n",
      "[Erreur] Impossible de charger la page 'Henry Miller Museum' : HTTPSConnectionPool(host='en.wikipedia.org', port=443): Max retries exceeded with url: /w/api.php?format=json&redirects=1&action=query&prop=info&titles=Henry+Miller+Museum&inprop=protection%7Ctalkid%7Cwatched%7Cwatchers%7Cvisitingwatchers%7Cnotificationtimestamp%7Csubjectid%7Curl%7Creadable%7Cpreload%7Cdisplaytitle%7Cvarianttitles (Caused by NewConnectionError('<urllib3.connection.HTTPSConnection object at 0x74417cc83d40>: Failed to establish a new connection: [Errno 101] Network is unreachable'))\n",
      "[Erreur] Impossible de charger la page 'Neptune Bank Power Station' : HTTPSConnectionPool(host='en.wikipedia.org', port=443): Max retries exceeded with url: /w/api.php?format=json&redirects=1&action=query&prop=info&titles=Neptune+Bank+Power+Station&inprop=protection%7Ctalkid%7Cwatched%7Cwatchers%7Cvisitingwatchers%7Cnotificationtimestamp%7Csubjectid%7Curl%7Creadable%7Cpreload%7Cdisplaytitle%7Cvarianttitles (Caused by NewConnectionError('<urllib3.connection.HTTPSConnection object at 0x74417aaf1e80>: Failed to establish a new connection: [Errno 101] Network is unreachable'))\n",
      "[Erreur] Impossible de charger la page 'Neuchâtel gas turbine' : HTTPSConnectionPool(host='en.wikipedia.org', port=443): Max retries exceeded with url: /w/api.php?format=json&redirects=1&action=query&prop=info&titles=Neuch%C3%A2tel+gas+turbine&inprop=protection%7Ctalkid%7Cwatched%7Cwatchers%7Cvisitingwatchers%7Cnotificationtimestamp%7Csubjectid%7Curl%7Creadable%7Cpreload%7Cdisplaytitle%7Cvarianttitles (Caused by NewConnectionError('<urllib3.connection.HTTPSConnection object at 0x74417f5aa450>: Failed to establish a new connection: [Errno 101] Network is unreachable'))\n",
      "[Erreur] Impossible de charger la page 'North Foreland Lighthouse' : HTTPSConnectionPool(host='en.wikipedia.org', port=443): Max retries exceeded with url: /w/api.php?format=json&redirects=1&action=query&prop=info&titles=North+Foreland+Lighthouse&inprop=protection%7Ctalkid%7Cwatched%7Cwatchers%7Cvisitingwatchers%7Cnotificationtimestamp%7Csubjectid%7Curl%7Creadable%7Cpreload%7Cdisplaytitle%7Cvarianttitles (Caused by NewConnectionError('<urllib3.connection.HTTPSConnection object at 0x74417f5a9cd0>: Failed to establish a new connection: [Errno 101] Network is unreachable'))\n",
      "[Erreur] Impossible de charger la page 'Pacific Coast Electric Transmission Association' : HTTPSConnectionPool(host='en.wikipedia.org', port=443): Max retries exceeded with url: /w/api.php?format=json&redirects=1&action=query&prop=info&titles=Pacific+Coast+Electric+Transmission+Association&inprop=protection%7Ctalkid%7Cwatched%7Cwatchers%7Cvisitingwatchers%7Cnotificationtimestamp%7Csubjectid%7Curl%7Creadable%7Cpreload%7Cdisplaytitle%7Cvarianttitles (Caused by NewConnectionError('<urllib3.connection.HTTPSConnection object at 0x74417cc83fe0>: Failed to establish a new connection: [Errno 101] Network is unreachable'))\n",
      "[Erreur] Impossible de charger la page 'History of electric power transmission' : HTTPSConnectionPool(host='en.wikipedia.org', port=443): Max retries exceeded with url: /w/api.php?format=json&redirects=1&action=query&prop=info&titles=History+of+electric+power+transmission&inprop=protection%7Ctalkid%7Cwatched%7Cwatchers%7Cvisitingwatchers%7Cnotificationtimestamp%7Csubjectid%7Curl%7Creadable%7Cpreload%7Cdisplaytitle%7Cvarianttitles (Caused by NewConnectionError('<urllib3.connection.HTTPSConnection object at 0x74417ccd22a0>: Failed to establish a new connection: [Errno 101] Network is unreachable'))\n",
      "[Erreur] Impossible de charger la page 'The Quest for Power' : HTTPSConnectionPool(host='en.wikipedia.org', port=443): Max retries exceeded with url: /w/api.php?format=json&redirects=1&action=query&prop=info&titles=The+Quest+for+Power&inprop=protection%7Ctalkid%7Cwatched%7Cwatchers%7Cvisitingwatchers%7Cnotificationtimestamp%7Csubjectid%7Curl%7Creadable%7Cpreload%7Cdisplaytitle%7Cvarianttitles (Caused by NewConnectionError('<urllib3.connection.HTTPSConnection object at 0x74417aaf19d0>: Failed to establish a new connection: [Errno 101] Network is unreachable'))\n",
      "[Erreur] Impossible de charger la page 'Shock and Awe: The Story of Electricity' : HTTPSConnectionPool(host='en.wikipedia.org', port=443): Max retries exceeded with url: /w/api.php?format=json&redirects=1&action=query&prop=info&titles=Shock+and+Awe%3A+The+Story+of+Electricity&inprop=protection%7Ctalkid%7Cwatched%7Cwatchers%7Cvisitingwatchers%7Cnotificationtimestamp%7Csubjectid%7Curl%7Creadable%7Cpreload%7Cdisplaytitle%7Cvarianttitles (Caused by NewConnectionError('<urllib3.connection.HTTPSConnection object at 0x74417f5aafc0>: Failed to establish a new connection: [Errno 101] Network is unreachable'))\n",
      "[Erreur] Impossible de charger la page 'Timeline of electrical and electronic engineering' : HTTPSConnectionPool(host='en.wikipedia.org', port=443): Max retries exceeded with url: /w/api.php?format=json&redirects=1&action=query&prop=info&titles=Timeline+of+electrical+and+electronic+engineering&inprop=protection%7Ctalkid%7Cwatched%7Cwatchers%7Cvisitingwatchers%7Cnotificationtimestamp%7Csubjectid%7Curl%7Creadable%7Cpreload%7Cdisplaytitle%7Cvarianttitles (Caused by NewConnectionError('<urllib3.connection.HTTPSConnection object at 0x74417f5aa060>: Failed to establish a new connection: [Errno 101] Network is unreachable'))\n",
      "[Erreur] Impossible de charger la page 'Timeline of the UK electricity supply industry' : HTTPSConnectionPool(host='en.wikipedia.org', port=443): Max retries exceeded with url: /w/api.php?format=json&redirects=1&action=query&prop=info&titles=Timeline+of+the+UK+electricity+supply+industry&inprop=protection%7Ctalkid%7Cwatched%7Cwatchers%7Cvisitingwatchers%7Cnotificationtimestamp%7Csubjectid%7Curl%7Creadable%7Cpreload%7Cdisplaytitle%7Cvarianttitles (Caused by NewConnectionError('<urllib3.connection.HTTPSConnection object at 0x74417aa9a390>: Failed to establish a new connection: [Errno 101] Network is unreachable'))\n",
      "[Erreur] Impossible de charger la page 'History of the electric vehicle' : HTTPSConnectionPool(host='en.wikipedia.org', port=443): Max retries exceeded with url: /w/api.php?format=json&redirects=1&action=query&prop=info&titles=History+of+the+electric+vehicle&inprop=protection%7Ctalkid%7Cwatched%7Cwatchers%7Cvisitingwatchers%7Cnotificationtimestamp%7Csubjectid%7Curl%7Creadable%7Cpreload%7Cdisplaytitle%7Cvarianttitles (Caused by NewConnectionError('<urllib3.connection.HTTPSConnection object at 0x74417aa9b830>: Failed to establish a new connection: [Errno 101] Network is unreachable'))\n",
      "[Erreur] Impossible de charger la page 'War of the currents' : HTTPSConnectionPool(host='en.wikipedia.org', port=443): Max retries exceeded with url: /w/api.php?format=json&redirects=1&action=query&prop=info&titles=War+of+the+currents&inprop=protection%7Ctalkid%7Cwatched%7Cwatchers%7Cvisitingwatchers%7Cnotificationtimestamp%7Csubjectid%7Curl%7Creadable%7Cpreload%7Cdisplaytitle%7Cvarianttitles (Caused by NewConnectionError('<urllib3.connection.HTTPSConnection object at 0x74417aa9a840>: Failed to establish a new connection: [Errno 101] Network is unreachable'))\n"
     ]
    },
    {
     "data": {
      "application/vnd.jupyter.widget-view+json": {
       "model_id": "006ff191b46e41cb85f307f22b90b4b4",
       "version_major": 2,
       "version_minor": 0
      },
      "text/plain": [
       "Pages in Physics experiments:   0%|          | 0/100 [00:00<?, ?page/s]"
      ]
     },
     "metadata": {},
     "output_type": "display_data"
    },
    {
     "name": "stdout",
     "output_type": "stream",
     "text": [
      "[Erreur] Impossible de charger la page 'Physics experiment' : HTTPSConnectionPool(host='en.wikipedia.org', port=443): Max retries exceeded with url: /w/api.php?format=json&redirects=1&action=query&prop=info&titles=Physics+experiment&inprop=protection%7Ctalkid%7Cwatched%7Cwatchers%7Cvisitingwatchers%7Cnotificationtimestamp%7Csubjectid%7Curl%7Creadable%7Cpreload%7Cdisplaytitle%7Cvarianttitles (Caused by NewConnectionError('<urllib3.connection.HTTPSConnection object at 0x74417aa9b230>: Failed to establish a new connection: [Errno 101] Network is unreachable'))\n"
     ]
    },
    {
     "data": {
      "application/vnd.jupyter.widget-view+json": {
       "model_id": "5f0bc3080f834418bdb15b429db8bd7c",
       "version_major": 2,
       "version_minor": 0
      },
      "text/plain": [
       "Pages in Foundational quantum physics:   0%|          | 0/38 [00:00<?, ?page/s]"
      ]
     },
     "metadata": {},
     "output_type": "display_data"
    },
    {
     "data": {
      "application/vnd.jupyter.widget-view+json": {
       "model_id": "a6be6db7c64f4cb5a0235a6d40fb4a82",
       "version_major": 2,
       "version_minor": 0
      },
      "text/plain": [
       "Pages in History of physics journals:   0%|          | 0/1 [00:00<?, ?page/s]"
      ]
     },
     "metadata": {},
     "output_type": "display_data"
    },
    {
     "data": {
      "application/vnd.jupyter.widget-view+json": {
       "model_id": "fb1668cc41424e53a54f677b394dfb94",
       "version_major": 2,
       "version_minor": 0
      },
      "text/plain": [
       "Pages in Manhattan Project:   0%|          | 0/24 [00:00<?, ?page/s]"
      ]
     },
     "metadata": {},
     "output_type": "display_data"
    },
    {
     "data": {
      "application/vnd.jupyter.widget-view+json": {
       "model_id": "0b828b1d46354fe89a1f6eb9fdd5f9fc",
       "version_major": 2,
       "version_minor": 0
      },
      "text/plain": [
       "Pages in Modern physics:   0%|          | 0/1 [00:00<?, ?page/s]"
      ]
     },
     "metadata": {},
     "output_type": "display_data"
    },
    {
     "data": {
      "application/vnd.jupyter.widget-view+json": {
       "model_id": "b7e73f05d6b04c079aeffa58ad31b079",
       "version_major": 2,
       "version_minor": 0
      },
      "text/plain": [
       "Pages in Obsolete theories in physics:   0%|          | 0/47 [00:00<?, ?page/s]"
      ]
     },
     "metadata": {},
     "output_type": "display_data"
    },
    {
     "data": {
      "application/vnd.jupyter.widget-view+json": {
       "model_id": "9a9ea606cf1e463d97b31f873d814b19",
       "version_major": 2,
       "version_minor": 0
      },
      "text/plain": [
       "Pages in Old quantum theory:   0%|          | 0/8 [00:00<?, ?page/s]"
      ]
     },
     "metadata": {},
     "output_type": "display_data"
    },
    {
     "data": {
      "application/vnd.jupyter.widget-view+json": {
       "model_id": "02a9c0d8e50641aeb0f32e1cdd0a84f4",
       "version_major": 2,
       "version_minor": 0
      },
      "text/plain": [
       "Pages in History of optics:   0%|          | 0/12 [00:00<?, ?page/s]"
      ]
     },
     "metadata": {},
     "output_type": "display_data"
    },
    {
     "data": {
      "application/vnd.jupyter.widget-view+json": {
       "model_id": "234c0597d250483586f7a1756d55401b",
       "version_major": 2,
       "version_minor": 0
      },
      "text/plain": [
       "Pages in Physics organizations:   0%|          | 0/42 [00:00<?, ?page/s]"
      ]
     },
     "metadata": {},
     "output_type": "display_data"
    },
    {
     "data": {
      "application/vnd.jupyter.widget-view+json": {
       "model_id": "65ab040cda2c46b9a482905e38be23dd",
       "version_major": 2,
       "version_minor": 0
      },
      "text/plain": [
       "Categories (flat):   0%|          | 0/10 [00:00<?, ?cat/s]"
      ]
     },
     "metadata": {},
     "output_type": "display_data"
    },
    {
     "data": {
      "application/vnd.jupyter.widget-view+json": {
       "model_id": "c6230414d0404a2781743436be39c329",
       "version_major": 2,
       "version_minor": 0
      },
      "text/plain": [
       "Pages in Biophysics organizations:   0%|          | 0/15 [00:00<?, ?page/s]"
      ]
     },
     "metadata": {},
     "output_type": "display_data"
    },
    {
     "data": {
      "application/vnd.jupyter.widget-view+json": {
       "model_id": "5cffd642dd554bb29085c0c769c8a0a0",
       "version_major": 2,
       "version_minor": 0
      },
      "text/plain": [
       "Pages in Physics conferences:   0%|          | 0/48 [00:00<?, ?page/s]"
      ]
     },
     "metadata": {},
     "output_type": "display_data"
    },
    {
     "name": "stdout",
     "output_type": "stream",
     "text": [
      "[Erreur] Impossible de charger la page 'Solvay Conference' : HTTPSConnectionPool(host='en.wikipedia.org', port=443): Read timed out. (read timeout=10.0)\n",
      "[Erreur] Impossible de charger la page 'STATPHYS' : HTTPSConnectionPool(host='en.wikipedia.org', port=443): Max retries exceeded with url: /w/api.php?format=json&redirects=1&action=query&prop=info&titles=STATPHYS&inprop=protection%7Ctalkid%7Cwatched%7Cwatchers%7Cvisitingwatchers%7Cnotificationtimestamp%7Csubjectid%7Curl%7Creadable%7Cpreload%7Cdisplaytitle%7Cvarianttitles (Caused by NewConnectionError('<urllib3.connection.HTTPSConnection object at 0x74417aa185c0>: Failed to establish a new connection: [Errno 101] Network is unreachable'))\n",
      "[Erreur] Impossible de charger la page 'Strings (conference)' : HTTPSConnectionPool(host='en.wikipedia.org', port=443): Max retries exceeded with url: /w/api.php?format=json&redirects=1&action=query&prop=info&titles=Strings+%28conference%29&inprop=protection%7Ctalkid%7Cwatched%7Cwatchers%7Cvisitingwatchers%7Cnotificationtimestamp%7Csubjectid%7Curl%7Creadable%7Cpreload%7Cdisplaytitle%7Cvarianttitles (Caused by NewConnectionError('<urllib3.connection.HTTPSConnection object at 0x74417aa19670>: Failed to establish a new connection: [Errno 101] Network is unreachable'))\n",
      "[Erreur] Impossible de charger la page 'Washington Conference on Theoretical Physics' : HTTPSConnectionPool(host='en.wikipedia.org', port=443): Max retries exceeded with url: /w/api.php?format=json&redirects=1&action=query&prop=info&titles=Washington+Conference+on+Theoretical+Physics&inprop=protection%7Ctalkid%7Cwatched%7Cwatchers%7Cvisitingwatchers%7Cnotificationtimestamp%7Csubjectid%7Curl%7Creadable%7Cpreload%7Cdisplaytitle%7Cvarianttitles (Caused by NewConnectionError('<urllib3.connection.HTTPSConnection object at 0x74417aa1a450>: Failed to establish a new connection: [Errno 101] Network is unreachable'))\n",
      "[Erreur] Impossible de charger la page 'Woodstock of physics' : HTTPSConnectionPool(host='en.wikipedia.org', port=443): Max retries exceeded with url: /w/api.php?format=json&redirects=1&action=query&prop=info&titles=Woodstock+of+physics&inprop=protection%7Ctalkid%7Cwatched%7Cwatchers%7Cvisitingwatchers%7Cnotificationtimestamp%7Csubjectid%7Curl%7Creadable%7Cpreload%7Cdisplaytitle%7Cvarianttitles (Caused by NewConnectionError('<urllib3.connection.HTTPSConnection object at 0x74417aa9bce0>: Failed to establish a new connection: [Errno 101] Network is unreachable'))\n",
      "[Erreur] Impossible de charger la page 'Workshop on Geometric Methods in Physics' : HTTPSConnectionPool(host='en.wikipedia.org', port=443): Max retries exceeded with url: /w/api.php?format=json&redirects=1&action=query&prop=info&titles=Workshop+on+Geometric+Methods+in+Physics&inprop=protection%7Ctalkid%7Cwatched%7Cwatchers%7Cvisitingwatchers%7Cnotificationtimestamp%7Csubjectid%7Curl%7Creadable%7Cpreload%7Cdisplaytitle%7Cvarianttitles (Caused by NewConnectionError('<urllib3.connection.HTTPSConnection object at 0x74417cc05280>: Failed to establish a new connection: [Errno 101] Network is unreachable'))\n"
     ]
    },
    {
     "data": {
      "application/vnd.jupyter.widget-view+json": {
       "model_id": "ea6e067fffd44e7d95b5343b0dca21cd",
       "version_major": 2,
       "version_minor": 0
      },
      "text/plain": [
       "Pages in Crystallography organizations:   0%|          | 0/12 [00:00<?, ?page/s]"
      ]
     },
     "metadata": {},
     "output_type": "display_data"
    },
    {
     "name": "stdout",
     "output_type": "stream",
     "text": [
      "[Erreur] Impossible de charger la page 'American Crystallographic Association' : HTTPSConnectionPool(host='en.wikipedia.org', port=443): Max retries exceeded with url: /w/api.php?format=json&redirects=1&action=query&prop=info&titles=American+Crystallographic+Association&inprop=protection%7Ctalkid%7Cwatched%7Cwatchers%7Cvisitingwatchers%7Cnotificationtimestamp%7Csubjectid%7Curl%7Creadable%7Cpreload%7Cdisplaytitle%7Cvarianttitles (Caused by NewConnectionError('<urllib3.connection.HTTPSConnection object at 0x74417aa18890>: Failed to establish a new connection: [Errno 101] Network is unreachable'))\n",
      "[Erreur] Impossible de charger la page 'British Crystallographic Association' : HTTPSConnectionPool(host='en.wikipedia.org', port=443): Max retries exceeded with url: /w/api.php?format=json&redirects=1&action=query&prop=info&titles=British+Crystallographic+Association&inprop=protection%7Ctalkid%7Cwatched%7Cwatchers%7Cvisitingwatchers%7Cnotificationtimestamp%7Csubjectid%7Curl%7Creadable%7Cpreload%7Cdisplaytitle%7Cvarianttitles (Caused by NewConnectionError('<urllib3.connection.HTTPSConnection object at 0x74417aa19640>: Failed to establish a new connection: [Errno 101] Network is unreachable'))\n",
      "[Erreur] Impossible de charger la page 'Cambridge Crystallographic Data Centre' : HTTPSConnectionPool(host='en.wikipedia.org', port=443): Max retries exceeded with url: /w/api.php?format=json&redirects=1&action=query&prop=info&titles=Cambridge+Crystallographic+Data+Centre&inprop=protection%7Ctalkid%7Cwatched%7Cwatchers%7Cvisitingwatchers%7Cnotificationtimestamp%7Csubjectid%7Curl%7Creadable%7Cpreload%7Cdisplaytitle%7Cvarianttitles (Caused by NewConnectionError('<urllib3.connection.HTTPSConnection object at 0x74417aa1aa80>: Failed to establish a new connection: [Errno 101] Network is unreachable'))\n",
      "[Erreur] Impossible de charger la page 'Crystallographic Society of Japan' : HTTPSConnectionPool(host='en.wikipedia.org', port=443): Max retries exceeded with url: /w/api.php?format=json&redirects=1&action=query&prop=info&titles=Crystallographic+Society+of+Japan&inprop=protection%7Ctalkid%7Cwatched%7Cwatchers%7Cvisitingwatchers%7Cnotificationtimestamp%7Csubjectid%7Curl%7Creadable%7Cpreload%7Cdisplaytitle%7Cvarianttitles (Caused by NewConnectionError('<urllib3.connection.HTTPSConnection object at 0x74417aa1aff0>: Failed to establish a new connection: [Errno 101] Network is unreachable'))\n",
      "[Erreur] Impossible de charger la page 'European Crystallographic Association' : HTTPSConnectionPool(host='en.wikipedia.org', port=443): Max retries exceeded with url: /w/api.php?format=json&redirects=1&action=query&prop=info&titles=European+Crystallographic+Association&inprop=protection%7Ctalkid%7Cwatched%7Cwatchers%7Cvisitingwatchers%7Cnotificationtimestamp%7Csubjectid%7Curl%7Creadable%7Cpreload%7Cdisplaytitle%7Cvarianttitles (Caused by NewConnectionError('<urllib3.connection.HTTPSConnection object at 0x74417aa1b410>: Failed to establish a new connection: [Errno 101] Network is unreachable'))\n",
      "[Erreur] Impossible de charger la page 'French Crystallographic Association' : HTTPSConnectionPool(host='en.wikipedia.org', port=443): Max retries exceeded with url: /w/api.php?format=json&redirects=1&action=query&prop=info&titles=French+Crystallographic+Association&inprop=protection%7Ctalkid%7Cwatched%7Cwatchers%7Cvisitingwatchers%7Cnotificationtimestamp%7Csubjectid%7Curl%7Creadable%7Cpreload%7Cdisplaytitle%7Cvarianttitles (Caused by NewConnectionError('<urllib3.connection.HTTPSConnection object at 0x744178f5bdd0>: Failed to establish a new connection: [Errno 101] Network is unreachable'))\n",
      "[Erreur] Impossible de charger la page 'German Crystallographic Society' : HTTPSConnectionPool(host='en.wikipedia.org', port=443): Max retries exceeded with url: /w/api.php?format=json&redirects=1&action=query&prop=info&titles=German+Crystallographic+Society&inprop=protection%7Ctalkid%7Cwatched%7Cwatchers%7Cvisitingwatchers%7Cnotificationtimestamp%7Csubjectid%7Curl%7Creadable%7Cpreload%7Cdisplaytitle%7Cvarianttitles (Caused by NewConnectionError('<urllib3.connection.HTTPSConnection object at 0x74417aa9bce0>: Failed to establish a new connection: [Errno 101] Network is unreachable'))\n",
      "[Erreur] Impossible de charger la page 'German Mineralogical Society' : HTTPSConnectionPool(host='en.wikipedia.org', port=443): Max retries exceeded with url: /w/api.php?format=json&redirects=1&action=query&prop=info&titles=German+Mineralogical+Society&inprop=protection%7Ctalkid%7Cwatched%7Cwatchers%7Cvisitingwatchers%7Cnotificationtimestamp%7Csubjectid%7Curl%7Creadable%7Cpreload%7Cdisplaytitle%7Cvarianttitles (Caused by NewConnectionError('<urllib3.connection.HTTPSConnection object at 0x74417aa9acf0>: Failed to establish a new connection: [Errno 101] Network is unreachable'))\n",
      "[Erreur] Impossible de charger la page 'International Centre for Diffraction Data' : HTTPSConnectionPool(host='en.wikipedia.org', port=443): Max retries exceeded with url: /w/api.php?format=json&redirects=1&action=query&prop=info&titles=International+Centre+for+Diffraction+Data&inprop=protection%7Ctalkid%7Cwatched%7Cwatchers%7Cvisitingwatchers%7Cnotificationtimestamp%7Csubjectid%7Curl%7Creadable%7Cpreload%7Cdisplaytitle%7Cvarianttitles (Caused by NewConnectionError('<urllib3.connection.HTTPSConnection object at 0x74417aa1af00>: Failed to establish a new connection: [Errno 101] Network is unreachable'))\n",
      "[Erreur] Impossible de charger la page 'International Organization for Biological Crystallization' : HTTPSConnectionPool(host='en.wikipedia.org', port=443): Max retries exceeded with url: /w/api.php?format=json&redirects=1&action=query&prop=info&titles=International+Organization+for+Biological+Crystallization&inprop=protection%7Ctalkid%7Cwatched%7Cwatchers%7Cvisitingwatchers%7Cnotificationtimestamp%7Csubjectid%7Curl%7Creadable%7Cpreload%7Cdisplaytitle%7Cvarianttitles (Caused by NewConnectionError('<urllib3.connection.HTTPSConnection object at 0x74417aa1ae10>: Failed to establish a new connection: [Errno 101] Network is unreachable'))\n",
      "[Erreur] Impossible de charger la page 'International Union of Crystallography' : HTTPSConnectionPool(host='en.wikipedia.org', port=443): Max retries exceeded with url: /w/api.php?format=json&redirects=1&action=query&prop=info&titles=International+Union+of+Crystallography&inprop=protection%7Ctalkid%7Cwatched%7Cwatchers%7Cvisitingwatchers%7Cnotificationtimestamp%7Csubjectid%7Curl%7Creadable%7Cpreload%7Cdisplaytitle%7Cvarianttitles (Caused by NewConnectionError('<urllib3.connection.HTTPSConnection object at 0x74417aa1a840>: Failed to establish a new connection: [Errno 101] Network is unreachable'))\n",
      "[Erreur] Impossible de charger la page 'Shubnikov Institute of Crystallography RAS' : HTTPSConnectionPool(host='en.wikipedia.org', port=443): Max retries exceeded with url: /w/api.php?format=json&redirects=1&action=query&prop=info&titles=Shubnikov+Institute+of+Crystallography+RAS&inprop=protection%7Ctalkid%7Cwatched%7Cwatchers%7Cvisitingwatchers%7Cnotificationtimestamp%7Csubjectid%7Curl%7Creadable%7Cpreload%7Cdisplaytitle%7Cvarianttitles (Caused by NewConnectionError('<urllib3.connection.HTTPSConnection object at 0x74417aa19550>: Failed to establish a new connection: [Errno 101] Network is unreachable'))\n"
     ]
    },
    {
     "data": {
      "application/vnd.jupyter.widget-view+json": {
       "model_id": "ebb28569469945a48f1b07024807632b",
       "version_major": 2,
       "version_minor": 0
      },
      "text/plain": [
       "Pages in Physics departments:   0%|          | 0/4 [00:00<?, ?page/s]"
      ]
     },
     "metadata": {},
     "output_type": "display_data"
    },
    {
     "name": "stdout",
     "output_type": "stream",
     "text": [
      "[Erreur] Impossible de charger la page 'Department of Physics, Lund University' : HTTPSConnectionPool(host='en.wikipedia.org', port=443): Max retries exceeded with url: /w/api.php?format=json&redirects=1&action=query&prop=info&titles=Department+of+Physics%2C+Lund+University&inprop=protection%7Ctalkid%7Cwatched%7Cwatchers%7Cvisitingwatchers%7Cnotificationtimestamp%7Csubjectid%7Curl%7Creadable%7Cpreload%7Cdisplaytitle%7Cvarianttitles (Caused by NewConnectionError('<urllib3.connection.HTTPSConnection object at 0x74417aa9bec0>: Failed to establish a new connection: [Errno 101] Network is unreachable'))\n",
      "[Erreur] Impossible de charger la page 'Department of Physics, Quaid-e-Azam University' : HTTPSConnectionPool(host='en.wikipedia.org', port=443): Max retries exceeded with url: /w/api.php?format=json&redirects=1&action=query&prop=info&titles=Department+of+Physics%2C+Quaid-e-Azam+University&inprop=protection%7Ctalkid%7Cwatched%7Cwatchers%7Cvisitingwatchers%7Cnotificationtimestamp%7Csubjectid%7Curl%7Creadable%7Cpreload%7Cdisplaytitle%7Cvarianttitles (Caused by NewConnectionError('<urllib3.connection.HTTPSConnection object at 0x74417f54dcd0>: Failed to establish a new connection: [Errno 101] Network is unreachable'))\n",
      "[Erreur] Impossible de charger la page 'Thomas-Institut' : HTTPSConnectionPool(host='en.wikipedia.org', port=443): Max retries exceeded with url: /w/api.php?format=json&redirects=1&action=query&prop=info&titles=Thomas-Institut&inprop=protection%7Ctalkid%7Cwatched%7Cwatchers%7Cvisitingwatchers%7Cnotificationtimestamp%7Csubjectid%7Curl%7Creadable%7Cpreload%7Cdisplaytitle%7Cvarianttitles (Caused by NewConnectionError('<urllib3.connection.HTTPSConnection object at 0x74417aa1b9b0>: Failed to establish a new connection: [Errno 101] Network is unreachable'))\n",
      "[Erreur] Impossible de charger la page 'TUM School of Natural Sciences' : HTTPSConnectionPool(host='en.wikipedia.org', port=443): Max retries exceeded with url: /w/api.php?format=json&redirects=1&action=query&prop=info&titles=TUM+School+of+Natural+Sciences&inprop=protection%7Ctalkid%7Cwatched%7Cwatchers%7Cvisitingwatchers%7Cnotificationtimestamp%7Csubjectid%7Curl%7Creadable%7Cpreload%7Cdisplaytitle%7Cvarianttitles (Caused by NewConnectionError('<urllib3.connection.HTTPSConnection object at 0x74417aa1aa80>: Failed to establish a new connection: [Errno 101] Network is unreachable'))\n"
     ]
    },
    {
     "data": {
      "application/vnd.jupyter.widget-view+json": {
       "model_id": "319c098c38a54fa0adb63c59b537e655",
       "version_major": 2,
       "version_minor": 0
      },
      "text/plain": [
       "Pages in Geophysics organizations:   0%|          | 0/15 [00:00<?, ?page/s]"
      ]
     },
     "metadata": {},
     "output_type": "display_data"
    },
    {
     "name": "stdout",
     "output_type": "stream",
     "text": [
      "[Erreur] Impossible de charger la page 'Department of Petroleum Engineering and Applied Geophysics, NTNU' : HTTPSConnectionPool(host='en.wikipedia.org', port=443): Max retries exceeded with url: /w/api.php?format=json&redirects=1&action=query&prop=info&titles=Department+of+Petroleum+Engineering+and+Applied+Geophysics%2C+NTNU&inprop=protection%7Ctalkid%7Cwatched%7Cwatchers%7Cvisitingwatchers%7Cnotificationtimestamp%7Csubjectid%7Curl%7Creadable%7Cpreload%7Cdisplaytitle%7Cvarianttitles (Caused by NewConnectionError('<urllib3.connection.HTTPSConnection object at 0x74417aa1acf0>: Failed to establish a new connection: [Errno 101] Network is unreachable'))\n",
      "[Erreur] Impossible de charger la page 'EarthScope Primary Instrument Center' : HTTPSConnectionPool(host='en.wikipedia.org', port=443): Max retries exceeded with url: /w/api.php?format=json&redirects=1&action=query&prop=info&titles=EarthScope+Primary+Instrument+Center&inprop=protection%7Ctalkid%7Cwatched%7Cwatchers%7Cvisitingwatchers%7Cnotificationtimestamp%7Csubjectid%7Curl%7Creadable%7Cpreload%7Cdisplaytitle%7Cvarianttitles (Caused by NewConnectionError('<urllib3.connection.HTTPSConnection object at 0x74417aa1ab40>: Failed to establish a new connection: [Errno 101] Network is unreachable'))\n",
      "[Erreur] Impossible de charger la page 'Geophysical Service of the Russian Academy of Sciences' : HTTPSConnectionPool(host='en.wikipedia.org', port=443): Max retries exceeded with url: /w/api.php?format=json&redirects=1&action=query&prop=info&titles=Geophysical+Service+of+the+Russian+Academy+of+Sciences&inprop=protection%7Ctalkid%7Cwatched%7Cwatchers%7Cvisitingwatchers%7Cnotificationtimestamp%7Csubjectid%7Curl%7Creadable%7Cpreload%7Cdisplaytitle%7Cvarianttitles (Caused by NewConnectionError('<urllib3.connection.HTTPSConnection object at 0x74417aaf3350>: Failed to establish a new connection: [Errno 101] Network is unreachable'))\n",
      "[Erreur] Impossible de charger la page 'Glaciogenic Reservoir Analogue Studies Project' : HTTPSConnectionPool(host='en.wikipedia.org', port=443): Max retries exceeded with url: /w/api.php?format=json&redirects=1&action=query&prop=info&titles=Glaciogenic+Reservoir+Analogue+Studies+Project&inprop=protection%7Ctalkid%7Cwatched%7Cwatchers%7Cvisitingwatchers%7Cnotificationtimestamp%7Csubjectid%7Curl%7Creadable%7Cpreload%7Cdisplaytitle%7Cvarianttitles (Caused by NewConnectionError('<urllib3.connection.HTTPSConnection object at 0x74417aa1b410>: Failed to establish a new connection: [Errno 101] Network is unreachable'))\n",
      "[Erreur] Impossible de charger la page 'Institute of Computational Mathematics and Mathematical Geophysics' : HTTPSConnectionPool(host='en.wikipedia.org', port=443): Max retries exceeded with url: /w/api.php?format=json&redirects=1&action=query&prop=info&titles=Institute+of+Computational+Mathematics+and+Mathematical+Geophysics&inprop=protection%7Ctalkid%7Cwatched%7Cwatchers%7Cvisitingwatchers%7Cnotificationtimestamp%7Csubjectid%7Curl%7Creadable%7Cpreload%7Cdisplaytitle%7Cvarianttitles (Caused by NewConnectionError('<urllib3.connection.HTTPSConnection object at 0x74417aa1b380>: Failed to establish a new connection: [Errno 101] Network is unreachable'))\n",
      "[Erreur] Impossible de charger la page 'Institute of Theoretical Geophysics' : HTTPSConnectionPool(host='en.wikipedia.org', port=443): Max retries exceeded with url: /w/api.php?format=json&redirects=1&action=query&prop=info&titles=Institute+of+Theoretical+Geophysics&inprop=protection%7Ctalkid%7Cwatched%7Cwatchers%7Cvisitingwatchers%7Cnotificationtimestamp%7Csubjectid%7Curl%7Creadable%7Cpreload%7Cdisplaytitle%7Cvarianttitles (Caused by NewConnectionError('<urllib3.connection.HTTPSConnection object at 0x74417aa1aa20>: Failed to establish a new connection: [Errno 101] Network is unreachable'))\n",
      "[Erreur] Impossible de charger la page 'Leibniz Institute for Applied Geophysics' : HTTPSConnectionPool(host='en.wikipedia.org', port=443): Max retries exceeded with url: /w/api.php?format=json&redirects=1&action=query&prop=info&titles=Leibniz+Institute+for+Applied+Geophysics&inprop=protection%7Ctalkid%7Cwatched%7Cwatchers%7Cvisitingwatchers%7Cnotificationtimestamp%7Csubjectid%7Curl%7Creadable%7Cpreload%7Cdisplaytitle%7Cvarianttitles (Caused by NewConnectionError('<urllib3.connection.HTTPSConnection object at 0x74417aa1b3b0>: Failed to establish a new connection: [Errno 101] Network is unreachable'))\n",
      "[Erreur] Impossible de charger la page 'National Centers for Environmental Information' : HTTPSConnectionPool(host='en.wikipedia.org', port=443): Max retries exceeded with url: /w/api.php?format=json&redirects=1&action=query&prop=info&titles=National+Centers+for+Environmental+Information&inprop=protection%7Ctalkid%7Cwatched%7Cwatchers%7Cvisitingwatchers%7Cnotificationtimestamp%7Csubjectid%7Curl%7Creadable%7Cpreload%7Cdisplaytitle%7Cvarianttitles (Caused by NewConnectionError('<urllib3.connection.HTTPSConnection object at 0x74417aa9ba40>: Failed to establish a new connection: [Errno 101] Network is unreachable'))\n",
      "[Erreur] Impossible de charger la page 'National Data Repository' : HTTPSConnectionPool(host='en.wikipedia.org', port=443): Max retries exceeded with url: /w/api.php?format=json&redirects=1&action=query&prop=info&titles=National+Data+Repository&inprop=protection%7Ctalkid%7Cwatched%7Cwatchers%7Cvisitingwatchers%7Cnotificationtimestamp%7Csubjectid%7Curl%7Creadable%7Cpreload%7Cdisplaytitle%7Cvarianttitles (Caused by NewConnectionError('<urllib3.connection.HTTPSConnection object at 0x74417aa19dc0>: Failed to establish a new connection: [Errno 101] Network is unreachable'))\n",
      "[Erreur] Impossible de charger la page 'National Geophysical Research Institute' : HTTPSConnectionPool(host='en.wikipedia.org', port=443): Max retries exceeded with url: /w/api.php?format=json&redirects=1&action=query&prop=info&titles=National+Geophysical+Research+Institute&inprop=protection%7Ctalkid%7Cwatched%7Cwatchers%7Cvisitingwatchers%7Cnotificationtimestamp%7Csubjectid%7Curl%7Creadable%7Cpreload%7Cdisplaytitle%7Cvarianttitles (Caused by NewConnectionError('<urllib3.connection.HTTPSConnection object at 0x74417f9f0140>: Failed to establish a new connection: [Errno 101] Network is unreachable'))\n",
      "[Erreur] Impossible de charger la page 'National Institute of Geophysics and Volcanology' : HTTPSConnectionPool(host='en.wikipedia.org', port=443): Max retries exceeded with url: /w/api.php?format=json&redirects=1&action=query&prop=info&titles=National+Institute+of+Geophysics+and+Volcanology&inprop=protection%7Ctalkid%7Cwatched%7Cwatchers%7Cvisitingwatchers%7Cnotificationtimestamp%7Csubjectid%7Curl%7Creadable%7Cpreload%7Cdisplaytitle%7Cvarianttitles (Caused by NewConnectionError('<urllib3.connection.HTTPSConnection object at 0x74417f9f0740>: Failed to establish a new connection: [Errno 101] Network is unreachable'))\n",
      "[Erreur] Impossible de charger la page 'Pan American Institute of Geography and History' : HTTPSConnectionPool(host='en.wikipedia.org', port=443): Max retries exceeded with url: /w/api.php?format=json&redirects=1&action=query&prop=info&titles=Pan+American+Institute+of+Geography+and+History&inprop=protection%7Ctalkid%7Cwatched%7Cwatchers%7Cvisitingwatchers%7Cnotificationtimestamp%7Csubjectid%7Curl%7Creadable%7Cpreload%7Cdisplaytitle%7Cvarianttitles (Caused by NewConnectionError('<urllib3.connection.HTTPSConnection object at 0x74417f9f0ce0>: Failed to establish a new connection: [Errno 101] Network is unreachable'))\n",
      "[Erreur] Impossible de charger la page 'Stanford Earth imaging Project' : HTTPSConnectionPool(host='en.wikipedia.org', port=443): Max retries exceeded with url: /w/api.php?format=json&redirects=1&action=query&prop=info&titles=Stanford+Earth+imaging+Project&inprop=protection%7Ctalkid%7Cwatched%7Cwatchers%7Cvisitingwatchers%7Cnotificationtimestamp%7Csubjectid%7Curl%7Creadable%7Cpreload%7Cdisplaytitle%7Cvarianttitles (Caused by NewConnectionError('<urllib3.connection.HTTPSConnection object at 0x74417aa19190>: Failed to establish a new connection: [Errno 101] Network is unreachable'))\n",
      "[Erreur] Impossible de charger la page 'Sunbury Research Centre' : HTTPSConnectionPool(host='en.wikipedia.org', port=443): Max retries exceeded with url: /w/api.php?format=json&redirects=1&action=query&prop=info&titles=Sunbury+Research+Centre&inprop=protection%7Ctalkid%7Cwatched%7Cwatchers%7Cvisitingwatchers%7Cnotificationtimestamp%7Csubjectid%7Curl%7Creadable%7Cpreload%7Cdisplaytitle%7Cvarianttitles (Caused by NewConnectionError('<urllib3.connection.HTTPSConnection object at 0x74417aa1ba40>: Failed to establish a new connection: [Errno 101] Network is unreachable'))\n",
      "[Erreur] Impossible de charger la page 'Temblor, Inc.' : HTTPSConnectionPool(host='en.wikipedia.org', port=443): Max retries exceeded with url: /w/api.php?format=json&redirects=1&action=query&prop=info&titles=Temblor%2C+Inc.&inprop=protection%7Ctalkid%7Cwatched%7Cwatchers%7Cvisitingwatchers%7Cnotificationtimestamp%7Csubjectid%7Curl%7Creadable%7Cpreload%7Cdisplaytitle%7Cvarianttitles (Caused by NewConnectionError('<urllib3.connection.HTTPSConnection object at 0x74417aa1b740>: Failed to establish a new connection: [Errno 101] Network is unreachable'))\n"
     ]
    },
    {
     "data": {
      "application/vnd.jupyter.widget-view+json": {
       "model_id": "c38b665b914e437b9581267bc6adf952",
       "version_major": 2,
       "version_minor": 0
      },
      "text/plain": [
       "Pages in Physics research institutes:   0%|          | 0/100 [00:00<?, ?page/s]"
      ]
     },
     "metadata": {},
     "output_type": "display_data"
    },
    {
     "name": "stdout",
     "output_type": "stream",
     "text": [
      "[Erreur] Impossible de charger la page 'Abdus Salam Chair in Physics' : HTTPSConnectionPool(host='en.wikipedia.org', port=443): Max retries exceeded with url: /w/api.php?format=json&redirects=1&action=query&prop=info&titles=Abdus+Salam+Chair+in+Physics&inprop=protection%7Ctalkid%7Cwatched%7Cwatchers%7Cvisitingwatchers%7Cnotificationtimestamp%7Csubjectid%7Curl%7Creadable%7Cpreload%7Cdisplaytitle%7Cvarianttitles (Caused by NewConnectionError('<urllib3.connection.HTTPSConnection object at 0x74417aa1aa80>: Failed to establish a new connection: [Errno 101] Network is unreachable'))\n",
      "[Erreur] Impossible de charger la page 'AMOLF' : HTTPSConnectionPool(host='en.wikipedia.org', port=443): Max retries exceeded with url: /w/api.php?format=json&redirects=1&action=query&prop=info&titles=AMOLF&inprop=protection%7Ctalkid%7Cwatched%7Cwatchers%7Cvisitingwatchers%7Cnotificationtimestamp%7Csubjectid%7Curl%7Creadable%7Cpreload%7Cdisplaytitle%7Cvarianttitles (Caused by NewConnectionError('<urllib3.connection.HTTPSConnection object at 0x74417aa9a4b0>: Failed to establish a new connection: [Errno 101] Network is unreachable'))\n",
      "[Erreur] Impossible de charger la page 'ANU Research School of Physics' : HTTPSConnectionPool(host='en.wikipedia.org', port=443): Max retries exceeded with url: /w/api.php?format=json&redirects=1&action=query&prop=info&titles=ANU+Research+School+of+Physics&inprop=protection%7Ctalkid%7Cwatched%7Cwatchers%7Cvisitingwatchers%7Cnotificationtimestamp%7Csubjectid%7Curl%7Creadable%7Cpreload%7Cdisplaytitle%7Cvarianttitles (Caused by NewConnectionError('<urllib3.connection.HTTPSConnection object at 0x74417aa9b770>: Failed to establish a new connection: [Errno 101] Network is unreachable'))\n",
      "[Erreur] Impossible de charger la page 'B. Verkin Institute for Low Temperature Physics and Engineering of the National Academy of Sciences of Ukraine' : HTTPSConnectionPool(host='en.wikipedia.org', port=443): Max retries exceeded with url: /w/api.php?format=json&redirects=1&action=query&prop=info&titles=B.+Verkin+Institute+for+Low+Temperature+Physics+and+Engineering+of+the+National+Academy+of+Sciences+of+Ukraine&inprop=protection%7Ctalkid%7Cwatched%7Cwatchers%7Cvisitingwatchers%7Cnotificationtimestamp%7Csubjectid%7Curl%7Creadable%7Cpreload%7Cdisplaytitle%7Cvarianttitles (Caused by NewConnectionError('<urllib3.connection.HTTPSConnection object at 0x74417aa9a210>: Failed to establish a new connection: [Errno 101] Network is unreachable'))\n",
      "[Erreur] Impossible de charger la page 'Balseiro Institute' : HTTPSConnectionPool(host='en.wikipedia.org', port=443): Max retries exceeded with url: /w/api.php?format=json&redirects=1&action=query&prop=info&titles=Balseiro+Institute&inprop=protection%7Ctalkid%7Cwatched%7Cwatchers%7Cvisitingwatchers%7Cnotificationtimestamp%7Csubjectid%7Curl%7Creadable%7Cpreload%7Cdisplaytitle%7Cvarianttitles (Caused by NewConnectionError('<urllib3.connection.HTTPSConnection object at 0x74417aa9a750>: Failed to establish a new connection: [Errno 101] Network is unreachable'))\n",
      "[Erreur] Impossible de charger la page 'Bangladesh Physical Society' : HTTPSConnectionPool(host='en.wikipedia.org', port=443): Max retries exceeded with url: /w/api.php?format=json&redirects=1&action=query&prop=info&titles=Bangladesh+Physical+Society&inprop=protection%7Ctalkid%7Cwatched%7Cwatchers%7Cvisitingwatchers%7Cnotificationtimestamp%7Csubjectid%7Curl%7Creadable%7Cpreload%7Cdisplaytitle%7Cvarianttitles (Caused by NewConnectionError('<urllib3.connection.HTTPSConnection object at 0x74417aa989e0>: Failed to establish a new connection: [Errno 101] Network is unreachable'))\n",
      "[Erreur] Impossible de charger la page 'Bartol Research Institute' : HTTPSConnectionPool(host='en.wikipedia.org', port=443): Max retries exceeded with url: /w/api.php?format=json&redirects=1&action=query&prop=info&titles=Bartol+Research+Institute&inprop=protection%7Ctalkid%7Cwatched%7Cwatchers%7Cvisitingwatchers%7Cnotificationtimestamp%7Csubjectid%7Curl%7Creadable%7Cpreload%7Cdisplaytitle%7Cvarianttitles (Caused by NewConnectionError('<urllib3.connection.HTTPSConnection object at 0x74417aa98d70>: Failed to establish a new connection: [Errno 101] Network is unreachable'))\n",
      "[Erreur] Impossible de charger la page 'Bell Labs Holmdel Complex' : HTTPSConnectionPool(host='en.wikipedia.org', port=443): Max retries exceeded with url: /w/api.php?format=json&redirects=1&action=query&prop=info&titles=Bell+Labs+Holmdel+Complex&inprop=protection%7Ctalkid%7Cwatched%7Cwatchers%7Cvisitingwatchers%7Cnotificationtimestamp%7Csubjectid%7Curl%7Creadable%7Cpreload%7Cdisplaytitle%7Cvarianttitles (Caused by NewConnectionError('<urllib3.connection.HTTPSConnection object at 0x74417aa19400>: Failed to establish a new connection: [Errno 101] Network is unreachable'))\n",
      "[Erreur] Impossible de charger la page 'Berkeley Center for Theoretical Physics' : HTTPSConnectionPool(host='en.wikipedia.org', port=443): Max retries exceeded with url: /w/api.php?format=json&redirects=1&action=query&prop=info&titles=Berkeley+Center+for+Theoretical+Physics&inprop=protection%7Ctalkid%7Cwatched%7Cwatchers%7Cvisitingwatchers%7Cnotificationtimestamp%7Csubjectid%7Curl%7Creadable%7Cpreload%7Cdisplaytitle%7Cvarianttitles (Caused by NewConnectionError('<urllib3.connection.HTTPSConnection object at 0x74417aa1ba40>: Failed to establish a new connection: [Errno 101] Network is unreachable'))\n",
      "[Erreur] Impossible de charger la page 'BESSY' : HTTPSConnectionPool(host='en.wikipedia.org', port=443): Max retries exceeded with url: /w/api.php?format=json&redirects=1&action=query&prop=info&titles=BESSY&inprop=protection%7Ctalkid%7Cwatched%7Cwatchers%7Cvisitingwatchers%7Cnotificationtimestamp%7Csubjectid%7Curl%7Creadable%7Cpreload%7Cdisplaytitle%7Cvarianttitles (Caused by NewConnectionError('<urllib3.connection.HTTPSConnection object at 0x74417aa19cd0>: Failed to establish a new connection: [Errno 101] Network is unreachable'))\n",
      "[Erreur] Impossible de charger la page 'Bremen Institute for Applied Beam Technology' : HTTPSConnectionPool(host='en.wikipedia.org', port=443): Max retries exceeded with url: /w/api.php?format=json&redirects=1&action=query&prop=info&titles=Bremen+Institute+for+Applied+Beam+Technology&inprop=protection%7Ctalkid%7Cwatched%7Cwatchers%7Cvisitingwatchers%7Cnotificationtimestamp%7Csubjectid%7Curl%7Creadable%7Cpreload%7Cdisplaytitle%7Cvarianttitles (Caused by NewConnectionError('<urllib3.connection.HTTPSConnection object at 0x74417cc2fe00>: Failed to establish a new connection: [Errno 101] Network is unreachable'))\n",
      "[Erreur] Impossible de charger la page 'Brookhaven National Laboratory' : HTTPSConnectionPool(host='en.wikipedia.org', port=443): Max retries exceeded with url: /w/api.php?format=json&redirects=1&action=query&prop=info&titles=Brookhaven+National+Laboratory&inprop=protection%7Ctalkid%7Cwatched%7Cwatchers%7Cvisitingwatchers%7Cnotificationtimestamp%7Csubjectid%7Curl%7Creadable%7Cpreload%7Cdisplaytitle%7Cvarianttitles (Caused by NewConnectionError('<urllib3.connection.HTTPSConnection object at 0x74417aa19640>: Failed to establish a new connection: [Errno 101] Network is unreachable'))\n",
      "[Erreur] Impossible de charger la page 'Center for Complex Quantum Systems' : HTTPSConnectionPool(host='en.wikipedia.org', port=443): Max retries exceeded with url: /w/api.php?format=json&redirects=1&action=query&prop=info&titles=Center+for+Complex+Quantum+Systems&inprop=protection%7Ctalkid%7Cwatched%7Cwatchers%7Cvisitingwatchers%7Cnotificationtimestamp%7Csubjectid%7Curl%7Creadable%7Cpreload%7Cdisplaytitle%7Cvarianttitles (Caused by NewConnectionError('<urllib3.connection.HTTPSConnection object at 0x74417aaf0380>: Failed to establish a new connection: [Errno 101] Network is unreachable'))\n"
     ]
    },
    {
     "data": {
      "application/vnd.jupyter.widget-view+json": {
       "model_id": "7251ea03641f4f9f857308b996f60329",
       "version_major": 2,
       "version_minor": 0
      },
      "text/plain": [
       "Pages in IUPAP:   0%|          | 0/21 [00:00<?, ?page/s]"
      ]
     },
     "metadata": {},
     "output_type": "display_data"
    },
    {
     "data": {
      "application/vnd.jupyter.widget-view+json": {
       "model_id": "e1dde644908d4238a8f473f1b2f992ad",
       "version_major": 2,
       "version_minor": 0
      },
      "text/plain": [
       "Pages in Physics laboratories:   0%|          | 0/32 [00:00<?, ?page/s]"
      ]
     },
     "metadata": {},
     "output_type": "display_data"
    },
    {
     "data": {
      "application/vnd.jupyter.widget-view+json": {
       "model_id": "c0189e7ffcc7444189a9688e64bac2cd",
       "version_major": 2,
       "version_minor": 0
      },
      "text/plain": [
       "Pages in Medical physics organizations:   0%|          | 0/14 [00:00<?, ?page/s]"
      ]
     },
     "metadata": {},
     "output_type": "display_data"
    },
    {
     "data": {
      "application/vnd.jupyter.widget-view+json": {
       "model_id": "9872e113c4204958a2ad99443fe1e6e1",
       "version_major": 2,
       "version_minor": 0
      },
      "text/plain": [
       "Pages in Organizations associated with IUPAP:   0%|          | 0/7 [00:00<?, ?page/s]"
      ]
     },
     "metadata": {},
     "output_type": "display_data"
    },
    {
     "data": {
      "application/vnd.jupyter.widget-view+json": {
       "model_id": "ae0b6130468e47b092cb234b544d16cd",
       "version_major": 2,
       "version_minor": 0
      },
      "text/plain": [
       "Pages in Theoretical physics:   0%|          | 0/100 [00:00<?, ?page/s]"
      ]
     },
     "metadata": {},
     "output_type": "display_data"
    },
    {
     "data": {
      "application/vnd.jupyter.widget-view+json": {
       "model_id": "88155ad390ae4e6ab91b2f6fcf85b8e1",
       "version_major": 2,
       "version_minor": 0
      },
      "text/plain": [
       "Categories (flat):   0%|          | 0/10 [00:00<?, ?cat/s]"
      ]
     },
     "metadata": {},
     "output_type": "display_data"
    },
    {
     "data": {
      "application/vnd.jupyter.widget-view+json": {
       "model_id": "8d7f59beea464a179c9a4c4194c1f711",
       "version_major": 2,
       "version_minor": 0
      },
      "text/plain": [
       "Pages in Classical field theory:   0%|          | 0/4 [00:00<?, ?page/s]"
      ]
     },
     "metadata": {},
     "output_type": "display_data"
    },
    {
     "data": {
      "application/vnd.jupyter.widget-view+json": {
       "model_id": "45ce9430cc074900a5c1e4736ca13e86",
       "version_major": 2,
       "version_minor": 0
      },
      "text/plain": [
       "Categories (flat):   0%|          | 0/3 [00:00<?, ?cat/s]"
      ]
     },
     "metadata": {},
     "output_type": "display_data"
    },
    {
     "data": {
      "application/vnd.jupyter.widget-view+json": {
       "model_id": "64425906f99e4790bb4c0a5719da1efa",
       "version_major": 2,
       "version_minor": 0
      },
      "text/plain": [
       "Pages in Electromagnetism:   0%|          | 0/100 [00:00<?, ?page/s]"
      ]
     },
     "metadata": {},
     "output_type": "display_data"
    },
    {
     "data": {
      "application/vnd.jupyter.widget-view+json": {
       "model_id": "e9a184e34c934dd1bad62614a601a4d6",
       "version_major": 2,
       "version_minor": 0
      },
      "text/plain": [
       "Categories (flat):   0%|          | 0/10 [00:00<?, ?cat/s]"
      ]
     },
     "metadata": {},
     "output_type": "display_data"
    },
    {
     "data": {
      "application/vnd.jupyter.widget-view+json": {
       "model_id": "71e5b877071d4580ae3cd45b524f4247",
       "version_major": 2,
       "version_minor": 0
      },
      "text/plain": [
       "Pages in Electricity:   0%|          | 0/100 [00:00<?, ?page/s]"
      ]
     },
     "metadata": {},
     "output_type": "display_data"
    },
    {
     "data": {
      "application/vnd.jupyter.widget-view+json": {
       "model_id": "5267534ecb114fe2bbaca5edbaf80a8a",
       "version_major": 2,
       "version_minor": 0
      },
      "text/plain": [
       "Pages in Magnetism:   0%|          | 0/100 [00:00<?, ?page/s]"
      ]
     },
     "metadata": {},
     "output_type": "display_data"
    },
    {
     "data": {
      "application/vnd.jupyter.widget-view+json": {
       "model_id": "b3d332dadd924633adeee12e5ad35664",
       "version_major": 2,
       "version_minor": 0
      },
      "text/plain": [
       "Pages in Electromagnetism concepts:   0%|          | 0/3 [00:00<?, ?page/s]"
      ]
     },
     "metadata": {},
     "output_type": "display_data"
    },
    {
     "data": {
      "application/vnd.jupyter.widget-view+json": {
       "model_id": "9557ce5cc674472bb7aa15ed7e980619",
       "version_major": 2,
       "version_minor": 0
      },
      "text/plain": [
       "Pages in Electromagnetic quantities:   0%|          | 0/21 [00:00<?, ?page/s]"
      ]
     },
     "metadata": {},
     "output_type": "display_data"
    },
    {
     "data": {
      "application/vnd.jupyter.widget-view+json": {
       "model_id": "7e3b4b0731864d6aa85a3d248afeebe3",
       "version_major": 2,
       "version_minor": 0
      },
      "text/plain": [
       "Pages in Units in electromagnetism: 0page [00:00, ?page/s]"
      ]
     },
     "metadata": {},
     "output_type": "display_data"
    },
    {
     "data": {
      "application/vnd.jupyter.widget-view+json": {
       "model_id": "51c6ad2ca6c4460e8ec027dec3099a0a",
       "version_major": 2,
       "version_minor": 0
      },
      "text/plain": [
       "Pages in Bioelectromagnetics:   0%|          | 0/9 [00:00<?, ?page/s]"
      ]
     },
     "metadata": {},
     "output_type": "display_data"
    },
    {
     "data": {
      "application/vnd.jupyter.widget-view+json": {
       "model_id": "e7273609172040499344be1ca9fe2b35",
       "version_major": 2,
       "version_minor": 0
      },
      "text/plain": [
       "Pages in Electromagnetic brakes and clutches:   0%|          | 0/5 [00:00<?, ?page/s]"
      ]
     },
     "metadata": {},
     "output_type": "display_data"
    },
    {
     "data": {
      "application/vnd.jupyter.widget-view+json": {
       "model_id": "96f76f07048745feb5e860d072413137",
       "version_major": 2,
       "version_minor": 0
      },
      "text/plain": [
       "Pages in Capacitance:   0%|          | 0/6 [00:00<?, ?page/s]"
      ]
     },
     "metadata": {},
     "output_type": "display_data"
    },
    {
     "data": {
      "application/vnd.jupyter.widget-view+json": {
       "model_id": "23b7837f95944b70a8dc7e9590893cc1",
       "version_major": 2,
       "version_minor": 0
      },
      "text/plain": [
       "Pages in Electric and magnetic fields in matter:   0%|          | 0/93 [00:00<?, ?page/s]"
      ]
     },
     "metadata": {},
     "output_type": "display_data"
    },
    {
     "data": {
      "application/vnd.jupyter.widget-view+json": {
       "model_id": "cc8e6556061143e4b998c2e164861792",
       "version_major": 2,
       "version_minor": 0
      },
      "text/plain": [
       "Pages in Electrical phenomena:   0%|          | 0/72 [00:00<?, ?page/s]"
      ]
     },
     "metadata": {},
     "output_type": "display_data"
    },
    {
     "data": {
      "application/vnd.jupyter.widget-view+json": {
       "model_id": "f094830c97944fc8bddbb47b3a55eae7",
       "version_major": 2,
       "version_minor": 0
      },
      "text/plain": [
       "Pages in General relativity:   0%|          | 0/100 [00:00<?, ?page/s]"
      ]
     },
     "metadata": {},
     "output_type": "display_data"
    },
    {
     "data": {
      "application/vnd.jupyter.widget-view+json": {
       "model_id": "6e3e30f8a43946bf8c9c8bd0114a245b",
       "version_major": 2,
       "version_minor": 0
      },
      "text/plain": [
       "Categories (flat):   0%|          | 0/10 [00:00<?, ?cat/s]"
      ]
     },
     "metadata": {},
     "output_type": "display_data"
    },
    {
     "data": {
      "application/vnd.jupyter.widget-view+json": {
       "model_id": "13213555bc974c98ac0845a3f9146984",
       "version_major": 2,
       "version_minor": 0
      },
      "text/plain": [
       "Pages in Black holes:   0%|          | 0/100 [00:00<?, ?page/s]"
      ]
     },
     "metadata": {},
     "output_type": "display_data"
    },
    {
     "data": {
      "application/vnd.jupyter.widget-view+json": {
       "model_id": "7adb2c9dc12a4c70b1342f9fa2df4e2d",
       "version_major": 2,
       "version_minor": 0
      },
      "text/plain": [
       "Pages in Effects of gravity:   0%|          | 0/38 [00:00<?, ?page/s]"
      ]
     },
     "metadata": {},
     "output_type": "display_data"
    },
    {
     "data": {
      "application/vnd.jupyter.widget-view+json": {
       "model_id": "f00e9789fe4d4f3c920c252a28694ce0",
       "version_major": 2,
       "version_minor": 0
      },
      "text/plain": [
       "Pages in Exact solutions in general relativity:   0%|          | 0/54 [00:00<?, ?page/s]"
      ]
     },
     "metadata": {},
     "output_type": "display_data"
    },
    {
     "data": {
      "application/vnd.jupyter.widget-view+json": {
       "model_id": "ed3236fc8cb7445dbc20b88c459be82c",
       "version_major": 2,
       "version_minor": 0
      },
      "text/plain": [
       "Pages in Faster-than-light travel:   0%|          | 0/8 [00:00<?, ?page/s]"
      ]
     },
     "metadata": {},
     "output_type": "display_data"
    },
    {
     "data": {
      "application/vnd.jupyter.widget-view+json": {
       "model_id": "516e5f269b7b41ebbf3fdc771f99cc5e",
       "version_major": 2,
       "version_minor": 0
      },
      "text/plain": [
       "Pages in Frames of reference:   0%|          | 0/17 [00:00<?, ?page/s]"
      ]
     },
     "metadata": {},
     "output_type": "display_data"
    },
    {
     "data": {
      "application/vnd.jupyter.widget-view+json": {
       "model_id": "003c9c6daa8c4fdba645c53c071e77bd",
       "version_major": 2,
       "version_minor": 0
      },
      "text/plain": [
       "Pages in Gravitational lensing:   0%|          | 0/60 [00:00<?, ?page/s]"
      ]
     },
     "metadata": {},
     "output_type": "display_data"
    },
    {
     "data": {
      "application/vnd.jupyter.widget-view+json": {
       "model_id": "dca727af082942bb96a2707ef74aa971",
       "version_major": 2,
       "version_minor": 0
      },
      "text/plain": [
       "Pages in Gravitational waves:   0%|          | 0/15 [00:00<?, ?page/s]"
      ]
     },
     "metadata": {},
     "output_type": "display_data"
    },
    {
     "data": {
      "application/vnd.jupyter.widget-view+json": {
       "model_id": "d46460340c3249638a8a51912f297ab3",
       "version_major": 2,
       "version_minor": 0
      },
      "text/plain": [
       "Pages in Gravitational-wave astronomy:   0%|          | 0/36 [00:00<?, ?page/s]"
      ]
     },
     "metadata": {},
     "output_type": "display_data"
    },
    {
     "data": {
      "application/vnd.jupyter.widget-view+json": {
       "model_id": "f029d51592834537b2e512a21e80da47",
       "version_major": 2,
       "version_minor": 0
      },
      "text/plain": [
       "Pages in Lorentzian manifolds:   0%|          | 0/39 [00:00<?, ?page/s]"
      ]
     },
     "metadata": {},
     "output_type": "display_data"
    },
    {
     "data": {
      "application/vnd.jupyter.widget-view+json": {
       "model_id": "b874b7019fb44f1ca63319c086e641bb",
       "version_major": 2,
       "version_minor": 0
      },
      "text/plain": [
       "Pages in Mathematical methods in general relativity:   0%|          | 0/35 [00:00<?, ?page/s]"
      ]
     },
     "metadata": {},
     "output_type": "display_data"
    },
    {
     "name": "stdout",
     "output_type": "stream",
     "text": [
      "[Erreur] Impossible de charger la page 'Conformal Killing vector field' : HTTPSConnectionPool(host='en.wikipedia.org', port=443): Read timed out. (read timeout=10.0)\n",
      "[Erreur] Impossible de charger la page 'Congruence (general relativity)' : HTTPSConnectionPool(host='en.wikipedia.org', port=443): Max retries exceeded with url: /w/api.php?format=json&redirects=1&action=query&prop=info&titles=Congruence+%28general+relativity%29&inprop=protection%7Ctalkid%7Cwatched%7Cwatchers%7Cvisitingwatchers%7Cnotificationtimestamp%7Csubjectid%7Curl%7Creadable%7Cpreload%7Cdisplaytitle%7Cvarianttitles (Caused by NewConnectionError('<urllib3.connection.HTTPSConnection object at 0x74417f97f8c0>: Failed to establish a new connection: [Errno 101] Network is unreachable'))\n",
      "[Erreur] Impossible de charger la page 'Construction of a complex null tetrad' : HTTPSConnectionPool(host='en.wikipedia.org', port=443): Max retries exceeded with url: /w/api.php?format=json&redirects=1&action=query&prop=info&titles=Construction+of+a+complex+null+tetrad&inprop=protection%7Ctalkid%7Cwatched%7Cwatchers%7Cvisitingwatchers%7Cnotificationtimestamp%7Csubjectid%7Curl%7Creadable%7Cpreload%7Cdisplaytitle%7Cvarianttitles (Caused by NewConnectionError('<urllib3.connection.HTTPSConnection object at 0x74417f97e4b0>: Failed to establish a new connection: [Errno 101] Network is unreachable'))\n",
      "[Erreur] Impossible de charger la page 'Covariant derivative' : HTTPSConnectionPool(host='en.wikipedia.org', port=443): Max retries exceeded with url: /w/api.php?format=json&redirects=1&action=query&prop=info&titles=Covariant+derivative&inprop=protection%7Ctalkid%7Cwatched%7Cwatchers%7Cvisitingwatchers%7Cnotificationtimestamp%7Csubjectid%7Curl%7Creadable%7Cpreload%7Cdisplaytitle%7Cvarianttitles (Caused by NewConnectionError('<urllib3.connection.HTTPSConnection object at 0x74417f97fcb0>: Failed to establish a new connection: [Errno 101] Network is unreachable'))\n",
      "[Erreur] Impossible de charger la page 'Curvature collineation' : HTTPSConnectionPool(host='en.wikipedia.org', port=443): Max retries exceeded with url: /w/api.php?format=json&redirects=1&action=query&prop=info&titles=Curvature+collineation&inprop=protection%7Ctalkid%7Cwatched%7Cwatchers%7Cvisitingwatchers%7Cnotificationtimestamp%7Csubjectid%7Curl%7Creadable%7Cpreload%7Cdisplaytitle%7Cvarianttitles (Caused by NewConnectionError('<urllib3.connection.HTTPSConnection object at 0x74417f97fa10>: Failed to establish a new connection: [Errno 101] Network is unreachable'))\n",
      "[Erreur] Impossible de charger la page 'Energy condition' : HTTPSConnectionPool(host='en.wikipedia.org', port=443): Max retries exceeded with url: /w/api.php?format=json&redirects=1&action=query&prop=info&titles=Energy+condition&inprop=protection%7Ctalkid%7Cwatched%7Cwatchers%7Cvisitingwatchers%7Cnotificationtimestamp%7Csubjectid%7Curl%7Creadable%7Cpreload%7Cdisplaytitle%7Cvarianttitles (Caused by NewConnectionError('<urllib3.connection.HTTPSConnection object at 0x74417f920620>: Failed to establish a new connection: [Errno 101] Network is unreachable'))\n",
      "[Erreur] Impossible de charger la page 'Fermi–Walker transport' : HTTPSConnectionPool(host='en.wikipedia.org', port=443): Max retries exceeded with url: /w/api.php?format=json&redirects=1&action=query&prop=info&titles=Fermi%E2%80%93Walker+transport&inprop=protection%7Ctalkid%7Cwatched%7Cwatchers%7Cvisitingwatchers%7Cnotificationtimestamp%7Csubjectid%7Curl%7Creadable%7Cpreload%7Cdisplaytitle%7Cvarianttitles (Caused by NewConnectionError('<urllib3.connection.HTTPSConnection object at 0x74417f97d220>: Failed to establish a new connection: [Errno 101] Network is unreachable'))\n",
      "[Erreur] Impossible de charger la page 'Frame fields in general relativity' : HTTPSConnectionPool(host='en.wikipedia.org', port=443): Max retries exceeded with url: /w/api.php?format=json&redirects=1&action=query&prop=info&titles=Frame+fields+in+general+relativity&inprop=protection%7Ctalkid%7Cwatched%7Cwatchers%7Cvisitingwatchers%7Cnotificationtimestamp%7Csubjectid%7Curl%7Creadable%7Cpreload%7Cdisplaytitle%7Cvarianttitles (Caused by NewConnectionError('<urllib3.connection.HTTPSConnection object at 0x74417f97d5e0>: Failed to establish a new connection: [Errno 101] Network is unreachable'))\n",
      "[Erreur] Impossible de charger la page 'GHP formalism' : HTTPSConnectionPool(host='en.wikipedia.org', port=443): Max retries exceeded with url: /w/api.php?format=json&redirects=1&action=query&prop=info&titles=GHP+formalism&inprop=protection%7Ctalkid%7Cwatched%7Cwatchers%7Cvisitingwatchers%7Cnotificationtimestamp%7Csubjectid%7Curl%7Creadable%7Cpreload%7Cdisplaytitle%7Cvarianttitles (Caused by NewConnectionError('<urllib3.connection.HTTPSConnection object at 0x74417f97e780>: Failed to establish a new connection: [Errno 101] Network is unreachable'))\n",
      "[Erreur] Impossible de charger la page 'Globally hyperbolic manifold' : HTTPSConnectionPool(host='en.wikipedia.org', port=443): Max retries exceeded with url: /w/api.php?format=json&redirects=1&action=query&prop=info&titles=Globally+hyperbolic+manifold&inprop=protection%7Ctalkid%7Cwatched%7Cwatchers%7Cvisitingwatchers%7Cnotificationtimestamp%7Csubjectid%7Curl%7Creadable%7Cpreload%7Cdisplaytitle%7Cvarianttitles (Caused by NewConnectionError('<urllib3.connection.HTTPSConnection object at 0x74417f9f3b90>: Failed to establish a new connection: [Errno 101] Network is unreachable'))\n",
      "[Erreur] Impossible de charger la page 'Homothetic vector field' : HTTPSConnectionPool(host='en.wikipedia.org', port=443): Max retries exceeded with url: /w/api.php?format=json&redirects=1&action=query&prop=info&titles=Homothetic+vector+field&inprop=protection%7Ctalkid%7Cwatched%7Cwatchers%7Cvisitingwatchers%7Cnotificationtimestamp%7Csubjectid%7Curl%7Creadable%7Cpreload%7Cdisplaytitle%7Cvarianttitles (Caused by NewConnectionError('<urllib3.connection.HTTPSConnection object at 0x74417f9f1eb0>: Failed to establish a new connection: [Errno 101] Network is unreachable'))\n",
      "[Erreur] Impossible de charger la page 'Linearized gravity' : HTTPSConnectionPool(host='en.wikipedia.org', port=443): Max retries exceeded with url: /w/api.php?format=json&redirects=1&action=query&prop=info&titles=Linearized+gravity&inprop=protection%7Ctalkid%7Cwatched%7Cwatchers%7Cvisitingwatchers%7Cnotificationtimestamp%7Csubjectid%7Curl%7Creadable%7Cpreload%7Cdisplaytitle%7Cvarianttitles (Caused by NewConnectionError('<urllib3.connection.HTTPSConnection object at 0x74417f920380>: Failed to establish a new connection: [Errno 101] Network is unreachable'))\n",
      "[Erreur] Impossible de charger la page 'Matter collineation' : HTTPSConnectionPool(host='en.wikipedia.org', port=443): Max retries exceeded with url: /w/api.php?format=json&redirects=1&action=query&prop=info&titles=Matter+collineation&inprop=protection%7Ctalkid%7Cwatched%7Cwatchers%7Cvisitingwatchers%7Cnotificationtimestamp%7Csubjectid%7Curl%7Creadable%7Cpreload%7Cdisplaytitle%7Cvarianttitles (Caused by NewConnectionError('<urllib3.connection.HTTPSConnection object at 0x74417f920ce0>: Failed to establish a new connection: [Errno 101] Network is unreachable'))\n",
      "[Erreur] Impossible de charger la page 'McVittie metric' : HTTPSConnectionPool(host='en.wikipedia.org', port=443): Max retries exceeded with url: /w/api.php?format=json&redirects=1&action=query&prop=info&titles=McVittie+metric&inprop=protection%7Ctalkid%7Cwatched%7Cwatchers%7Cvisitingwatchers%7Cnotificationtimestamp%7Csubjectid%7Curl%7Creadable%7Cpreload%7Cdisplaytitle%7Cvarianttitles (Caused by NewConnectionError('<urllib3.connection.HTTPSConnection object at 0x74417f9211c0>: Failed to establish a new connection: [Errno 101] Network is unreachable'))\n",
      "[Erreur] Impossible de charger la page 'MTZ black hole' : HTTPSConnectionPool(host='en.wikipedia.org', port=443): Max retries exceeded with url: /w/api.php?format=json&redirects=1&action=query&prop=info&titles=MTZ+black+hole&inprop=protection%7Ctalkid%7Cwatched%7Cwatchers%7Cvisitingwatchers%7Cnotificationtimestamp%7Csubjectid%7Curl%7Creadable%7Cpreload%7Cdisplaytitle%7Cvarianttitles (Caused by NewConnectionError('<urllib3.connection.HTTPSConnection object at 0x74417f9216d0>: Failed to establish a new connection: [Errno 101] Network is unreachable'))\n",
      "[Erreur] Impossible de charger la page 'Newtonian gauge' : HTTPSConnectionPool(host='en.wikipedia.org', port=443): Max retries exceeded with url: /w/api.php?format=json&redirects=1&action=query&prop=info&titles=Newtonian+gauge&inprop=protection%7Ctalkid%7Cwatched%7Cwatchers%7Cvisitingwatchers%7Cnotificationtimestamp%7Csubjectid%7Curl%7Creadable%7Cpreload%7Cdisplaytitle%7Cvarianttitles (Caused by NewConnectionError('<urllib3.connection.HTTPSConnection object at 0x74417f9f0a70>: Failed to establish a new connection: [Errno 101] Network is unreachable'))\n",
      "[Erreur] Impossible de charger la page 'Numerical relativity' : HTTPSConnectionPool(host='en.wikipedia.org', port=443): Max retries exceeded with url: /w/api.php?format=json&redirects=1&action=query&prop=info&titles=Numerical+relativity&inprop=protection%7Ctalkid%7Cwatched%7Cwatchers%7Cvisitingwatchers%7Cnotificationtimestamp%7Csubjectid%7Curl%7Creadable%7Cpreload%7Cdisplaytitle%7Cvarianttitles (Caused by NewConnectionError('<urllib3.connection.HTTPSConnection object at 0x74417f9f1730>: Failed to establish a new connection: [Errno 101] Network is unreachable'))\n",
      "[Erreur] Impossible de charger la page 'Penrose diagram' : HTTPSConnectionPool(host='en.wikipedia.org', port=443): Max retries exceeded with url: /w/api.php?format=json&redirects=1&action=query&prop=info&titles=Penrose+diagram&inprop=protection%7Ctalkid%7Cwatched%7Cwatchers%7Cvisitingwatchers%7Cnotificationtimestamp%7Csubjectid%7Curl%7Creadable%7Cpreload%7Cdisplaytitle%7Cvarianttitles (Caused by NewConnectionError('<urllib3.connection.HTTPSConnection object at 0x74417f97fad0>: Failed to establish a new connection: [Errno 101] Network is unreachable'))\n",
      "[Erreur] Impossible de charger la page 'Penrose–Hawking singularity theorems' : HTTPSConnectionPool(host='en.wikipedia.org', port=443): Max retries exceeded with url: /w/api.php?format=json&redirects=1&action=query&prop=info&titles=Penrose%E2%80%93Hawking+singularity+theorems&inprop=protection%7Ctalkid%7Cwatched%7Cwatchers%7Cvisitingwatchers%7Cnotificationtimestamp%7Csubjectid%7Curl%7Creadable%7Cpreload%7Cdisplaytitle%7Cvarianttitles (Caused by NewConnectionError('<urllib3.connection.HTTPSConnection object at 0x74417f97fc20>: Failed to establish a new connection: [Errno 101] Network is unreachable'))\n",
      "[Erreur] Impossible de charger la page 'Positive energy theorem' : HTTPSConnectionPool(host='en.wikipedia.org', port=443): Max retries exceeded with url: /w/api.php?format=json&redirects=1&action=query&prop=info&titles=Positive+energy+theorem&inprop=protection%7Ctalkid%7Cwatched%7Cwatchers%7Cvisitingwatchers%7Cnotificationtimestamp%7Csubjectid%7Curl%7Creadable%7Cpreload%7Cdisplaytitle%7Cvarianttitles (Caused by NewConnectionError('<urllib3.connection.HTTPSConnection object at 0x74417f97cad0>: Failed to establish a new connection: [Errno 101] Network is unreachable'))\n",
      "[Erreur] Impossible de charger la page 'Regge calculus' : HTTPSConnectionPool(host='en.wikipedia.org', port=443): Max retries exceeded with url: /w/api.php?format=json&redirects=1&action=query&prop=info&titles=Regge+calculus&inprop=protection%7Ctalkid%7Cwatched%7Cwatchers%7Cvisitingwatchers%7Cnotificationtimestamp%7Csubjectid%7Curl%7Creadable%7Cpreload%7Cdisplaytitle%7Cvarianttitles (Caused by NewConnectionError('<urllib3.connection.HTTPSConnection object at 0x74417f9f2ea0>: Failed to establish a new connection: [Errno 101] Network is unreachable'))\n",
      "[Erreur] Impossible de charger la page 'Scalar–vector–tensor decomposition' : HTTPSConnectionPool(host='en.wikipedia.org', port=443): Max retries exceeded with url: /w/api.php?format=json&redirects=1&action=query&prop=info&titles=Scalar%E2%80%93vector%E2%80%93tensor+decomposition&inprop=protection%7Ctalkid%7Cwatched%7Cwatchers%7Cvisitingwatchers%7Cnotificationtimestamp%7Csubjectid%7Curl%7Creadable%7Cpreload%7Cdisplaytitle%7Cvarianttitles (Caused by NewConnectionError('<urllib3.connection.HTTPSConnection object at 0x74417f921040>: Failed to establish a new connection: [Errno 101] Network is unreachable'))\n",
      "[Erreur] Impossible de charger la page 'Solving the geodesic equations' : HTTPSConnectionPool(host='en.wikipedia.org', port=443): Max retries exceeded with url: /w/api.php?format=json&redirects=1&action=query&prop=info&titles=Solving+the+geodesic+equations&inprop=protection%7Ctalkid%7Cwatched%7Cwatchers%7Cvisitingwatchers%7Cnotificationtimestamp%7Csubjectid%7Curl%7Creadable%7Cpreload%7Cdisplaytitle%7Cvarianttitles (Caused by NewConnectionError('<urllib3.connection.HTTPSConnection object at 0x74417f920530>: Failed to establish a new connection: [Errno 101] Network is unreachable'))\n",
      "[Erreur] Impossible de charger la page 'Spacetime symmetries' : HTTPSConnectionPool(host='en.wikipedia.org', port=443): Max retries exceeded with url: /w/api.php?format=json&redirects=1&action=query&prop=info&titles=Spacetime+symmetries&inprop=protection%7Ctalkid%7Cwatched%7Cwatchers%7Cvisitingwatchers%7Cnotificationtimestamp%7Csubjectid%7Curl%7Creadable%7Cpreload%7Cdisplaytitle%7Cvarianttitles (Caused by NewConnectionError('<urllib3.connection.HTTPSConnection object at 0x74417f920980>: Failed to establish a new connection: [Errno 101] Network is unreachable'))\n",
      "[Erreur] Impossible de charger la page 'Test particle' : HTTPSConnectionPool(host='en.wikipedia.org', port=443): Max retries exceeded with url: /w/api.php?format=json&redirects=1&action=query&prop=info&titles=Test+particle&inprop=protection%7Ctalkid%7Cwatched%7Cwatchers%7Cvisitingwatchers%7Cnotificationtimestamp%7Csubjectid%7Curl%7Creadable%7Cpreload%7Cdisplaytitle%7Cvarianttitles (Caused by NewConnectionError('<urllib3.connection.HTTPSConnection object at 0x74417f5aacc0>: Failed to establish a new connection: [Errno 101] Network is unreachable'))\n",
      "[Erreur] Impossible de charger la page 'Trapped surface' : HTTPSConnectionPool(host='en.wikipedia.org', port=443): Max retries exceeded with url: /w/api.php?format=json&redirects=1&action=query&prop=info&titles=Trapped+surface&inprop=protection%7Ctalkid%7Cwatched%7Cwatchers%7Cvisitingwatchers%7Cnotificationtimestamp%7Csubjectid%7Curl%7Creadable%7Cpreload%7Cdisplaytitle%7Cvarianttitles (Caused by NewConnectionError('<urllib3.connection.HTTPSConnection object at 0x74417f97cd70>: Failed to establish a new connection: [Errno 101] Network is unreachable'))\n"
     ]
    },
    {
     "data": {
      "application/vnd.jupyter.widget-view+json": {
       "model_id": "782bd1cec91d44eb8afaa75f534fecf8",
       "version_major": 2,
       "version_minor": 0
      },
      "text/plain": [
       "Pages in Gravity:   0%|          | 0/87 [00:00<?, ?page/s]"
      ]
     },
     "metadata": {},
     "output_type": "display_data"
    },
    {
     "name": "stdout",
     "output_type": "stream",
     "text": [
      "[Erreur] Impossible de charger la page 'Gravity' : HTTPSConnectionPool(host='en.wikipedia.org', port=443): Max retries exceeded with url: /w/api.php?format=json&redirects=1&action=query&prop=info&titles=Gravity&inprop=protection%7Ctalkid%7Cwatched%7Cwatchers%7Cvisitingwatchers%7Cnotificationtimestamp%7Csubjectid%7Curl%7Creadable%7Cpreload%7Cdisplaytitle%7Cvarianttitles (Caused by NewConnectionError('<urllib3.connection.HTTPSConnection object at 0x74417f97c080>: Failed to establish a new connection: [Errno 101] Network is unreachable'))\n",
      "[Erreur] Impossible de charger la page 'Artificial gravity' : HTTPSConnectionPool(host='en.wikipedia.org', port=443): Max retries exceeded with url: /w/api.php?format=json&redirects=1&action=query&prop=info&titles=Artificial+gravity&inprop=protection%7Ctalkid%7Cwatched%7Cwatchers%7Cvisitingwatchers%7Cnotificationtimestamp%7Csubjectid%7Curl%7Creadable%7Cpreload%7Cdisplaytitle%7Cvarianttitles (Caused by NewConnectionError('<urllib3.connection.HTTPSConnection object at 0x74417f9f35f0>: Failed to establish a new connection: [Errno 101] Network is unreachable'))\n",
      "[Erreur] Impossible de charger la page 'Barnes–Hut simulation' : HTTPSConnectionPool(host='en.wikipedia.org', port=443): Max retries exceeded with url: /w/api.php?format=json&redirects=1&action=query&prop=info&titles=Barnes%E2%80%93Hut+simulation&inprop=protection%7Ctalkid%7Cwatched%7Cwatchers%7Cvisitingwatchers%7Cnotificationtimestamp%7Csubjectid%7Curl%7Creadable%7Cpreload%7Cdisplaytitle%7Cvarianttitles (Caused by NewConnectionError('<urllib3.connection.HTTPSConnection object at 0x74417f9f1850>: Failed to establish a new connection: [Errno 101] Network is unreachable'))\n",
      "[Erreur] Impossible de charger la page 'Bentley's paradox' : HTTPSConnectionPool(host='en.wikipedia.org', port=443): Max retries exceeded with url: /w/api.php?format=json&redirects=1&action=query&prop=info&titles=Bentley%27s+paradox&inprop=protection%7Ctalkid%7Cwatched%7Cwatchers%7Cvisitingwatchers%7Cnotificationtimestamp%7Csubjectid%7Curl%7Creadable%7Cpreload%7Cdisplaytitle%7Cvarianttitles (Caused by NewConnectionError('<urllib3.connection.HTTPSConnection object at 0x74417f53a450>: Failed to establish a new connection: [Errno 101] Network is unreachable'))\n",
      "[Erreur] Impossible de charger la page 'Gravitational binding energy' : HTTPSConnectionPool(host='en.wikipedia.org', port=443): Max retries exceeded with url: /w/api.php?format=json&redirects=1&action=query&prop=info&titles=Gravitational+binding+energy&inprop=protection%7Ctalkid%7Cwatched%7Cwatchers%7Cvisitingwatchers%7Cnotificationtimestamp%7Csubjectid%7Curl%7Creadable%7Cpreload%7Cdisplaytitle%7Cvarianttitles (Caused by NewConnectionError('<urllib3.connection.HTTPSConnection object at 0x74417aa9a1e0>: Failed to establish a new connection: [Errno 101] Network is unreachable'))\n",
      "[Erreur] Impossible de charger la page 'Blackett effect' : HTTPSConnectionPool(host='en.wikipedia.org', port=443): Max retries exceeded with url: /w/api.php?format=json&redirects=1&action=query&prop=info&titles=Blackett+effect&inprop=protection%7Ctalkid%7Cwatched%7Cwatchers%7Cvisitingwatchers%7Cnotificationtimestamp%7Csubjectid%7Curl%7Creadable%7Cpreload%7Cdisplaytitle%7Cvarianttitles (Caused by NewConnectionError('<urllib3.connection.HTTPSConnection object at 0x74417aa1aba0>: Failed to establish a new connection: [Errno 101] Network is unreachable'))\n",
      "[Erreur] Impossible de charger la page 'Cavendish experiment' : HTTPSConnectionPool(host='en.wikipedia.org', port=443): Max retries exceeded with url: /w/api.php?format=json&redirects=1&action=query&prop=info&titles=Cavendish+experiment&inprop=protection%7Ctalkid%7Cwatched%7Cwatchers%7Cvisitingwatchers%7Cnotificationtimestamp%7Csubjectid%7Curl%7Creadable%7Cpreload%7Cdisplaytitle%7Cvarianttitles (Caused by NewConnectionError('<urllib3.connection.HTTPSConnection object at 0x74417f9f28a0>: Failed to establish a new connection: [Errno 101] Network is unreachable'))\n",
      "[Erreur] Impossible de charger la page 'Coriolis field' : HTTPSConnectionPool(host='en.wikipedia.org', port=443): Max retries exceeded with url: /w/api.php?format=json&redirects=1&action=query&prop=info&titles=Coriolis+field&inprop=protection%7Ctalkid%7Cwatched%7Cwatchers%7Cvisitingwatchers%7Cnotificationtimestamp%7Csubjectid%7Curl%7Creadable%7Cpreload%7Cdisplaytitle%7Cvarianttitles (Caused by NewConnectionError('<urllib3.connection.HTTPSConnection object at 0x74417f9f3110>: Failed to establish a new connection: [Errno 101] Network is unreachable'))\n",
      "[Erreur] Impossible de charger la page 'Dropping in a Microgravity Environment' : HTTPSConnectionPool(host='en.wikipedia.org', port=443): Max retries exceeded with url: /w/api.php?format=json&redirects=1&action=query&prop=info&titles=Dropping+in+a+Microgravity+Environment&inprop=protection%7Ctalkid%7Cwatched%7Cwatchers%7Cvisitingwatchers%7Cnotificationtimestamp%7Csubjectid%7Curl%7Creadable%7Cpreload%7Cdisplaytitle%7Cvarianttitles (Caused by NewConnectionError('<urllib3.connection.HTTPSConnection object at 0x74417ccd0350>: Failed to establish a new connection: [Errno 101] Network is unreachable'))\n",
      "[Erreur] Impossible de charger la page 'Dynamical dimensional reduction' : HTTPSConnectionPool(host='en.wikipedia.org', port=443): Max retries exceeded with url: /w/api.php?format=json&redirects=1&action=query&prop=info&titles=Dynamical+dimensional+reduction&inprop=protection%7Ctalkid%7Cwatched%7Cwatchers%7Cvisitingwatchers%7Cnotificationtimestamp%7Csubjectid%7Curl%7Creadable%7Cpreload%7Cdisplaytitle%7Cvarianttitles (Caused by NewConnectionError('<urllib3.connection.HTTPSConnection object at 0x74417f97f7d0>: Failed to establish a new connection: [Errno 101] Network is unreachable'))\n",
      "[Erreur] Impossible de charger la page 'Gravity of Earth' : HTTPSConnectionPool(host='en.wikipedia.org', port=443): Max retries exceeded with url: /w/api.php?format=json&redirects=1&action=query&prop=info&titles=Gravity+of+Earth&inprop=protection%7Ctalkid%7Cwatched%7Cwatchers%7Cvisitingwatchers%7Cnotificationtimestamp%7Csubjectid%7Curl%7Creadable%7Cpreload%7Cdisplaytitle%7Cvarianttitles (Caused by NewConnectionError('<urllib3.connection.HTTPSConnection object at 0x74417f97eed0>: Failed to establish a new connection: [Errno 101] Network is unreachable'))\n",
      "[Erreur] Impossible de charger la page 'Einstein–Hilbert action' : HTTPSConnectionPool(host='en.wikipedia.org', port=443): Max retries exceeded with url: /w/api.php?format=json&redirects=1&action=query&prop=info&titles=Einstein%E2%80%93Hilbert+action&inprop=protection%7Ctalkid%7Cwatched%7Cwatchers%7Cvisitingwatchers%7Cnotificationtimestamp%7Csubjectid%7Curl%7Creadable%7Cpreload%7Cdisplaytitle%7Cvarianttitles (Caused by NewConnectionError('<urllib3.connection.HTTPSConnection object at 0x74417f97c2c0>: Failed to establish a new connection: [Errno 101] Network is unreachable'))\n",
      "[Erreur] Impossible de charger la page 'Equations for a falling body' : HTTPSConnectionPool(host='en.wikipedia.org', port=443): Max retries exceeded with url: /w/api.php?format=json&redirects=1&action=query&prop=info&titles=Equations+for+a+falling+body&inprop=protection%7Ctalkid%7Cwatched%7Cwatchers%7Cvisitingwatchers%7Cnotificationtimestamp%7Csubjectid%7Curl%7Creadable%7Cpreload%7Cdisplaytitle%7Cvarianttitles (Caused by NewConnectionError('<urllib3.connection.HTTPSConnection object at 0x74417aa1b350>: Failed to establish a new connection: [Errno 101] Network is unreachable'))\n",
      "[Erreur] Impossible de charger la page 'European Low Gravity Research Association' : HTTPSConnectionPool(host='en.wikipedia.org', port=443): Max retries exceeded with url: /w/api.php?format=json&redirects=1&action=query&prop=info&titles=European+Low+Gravity+Research+Association&inprop=protection%7Ctalkid%7Cwatched%7Cwatchers%7Cvisitingwatchers%7Cnotificationtimestamp%7Csubjectid%7Curl%7Creadable%7Cpreload%7Cdisplaytitle%7Cvarianttitles (Caused by NewConnectionError('<urllib3.connection.HTTPSConnection object at 0x74417aa1aab0>: Failed to establish a new connection: [Errno 101] Network is unreachable'))\n",
      "[Erreur] Impossible de charger la page 'Exotic matter' : HTTPSConnectionPool(host='en.wikipedia.org', port=443): Max retries exceeded with url: /w/api.php?format=json&redirects=1&action=query&prop=info&titles=Exotic+matter&inprop=protection%7Ctalkid%7Cwatched%7Cwatchers%7Cvisitingwatchers%7Cnotificationtimestamp%7Csubjectid%7Curl%7Creadable%7Cpreload%7Cdisplaytitle%7Cvarianttitles (Caused by NewConnectionError('<urllib3.connection.HTTPSConnection object at 0x74417f920b60>: Failed to establish a new connection: [Errno 101] Network is unreachable'))\n",
      "[Erreur] Impossible de charger la page 'James E. Faller' : HTTPSConnectionPool(host='en.wikipedia.org', port=443): Max retries exceeded with url: /w/api.php?format=json&redirects=1&action=query&prop=info&titles=James+E.+Faller&inprop=protection%7Ctalkid%7Cwatched%7Cwatchers%7Cvisitingwatchers%7Cnotificationtimestamp%7Csubjectid%7Curl%7Creadable%7Cpreload%7Cdisplaytitle%7Cvarianttitles (Caused by NewConnectionError('<urllib3.connection.HTTPSConnection object at 0x74417f54e360>: Failed to establish a new connection: [Errno 101] Network is unreachable'))\n",
      "[Erreur] Impossible de charger la page 'Flyby anomaly' : HTTPSConnectionPool(host='en.wikipedia.org', port=443): Max retries exceeded with url: /w/api.php?format=json&redirects=1&action=query&prop=info&titles=Flyby+anomaly&inprop=protection%7Ctalkid%7Cwatched%7Cwatchers%7Cvisitingwatchers%7Cnotificationtimestamp%7Csubjectid%7Curl%7Creadable%7Cpreload%7Cdisplaytitle%7Cvarianttitles (Caused by NewConnectionError('<urllib3.connection.HTTPSConnection object at 0x74417f9f0b00>: Failed to establish a new connection: [Errno 101] Network is unreachable'))\n",
      "[Erreur] Impossible de charger la page 'Free fall' : HTTPSConnectionPool(host='en.wikipedia.org', port=443): Max retries exceeded with url: /w/api.php?format=json&redirects=1&action=query&prop=info&titles=Free+fall&inprop=protection%7Ctalkid%7Cwatched%7Cwatchers%7Cvisitingwatchers%7Cnotificationtimestamp%7Csubjectid%7Curl%7Creadable%7Cpreload%7Cdisplaytitle%7Cvarianttitles (Caused by NewConnectionError('<urllib3.connection.HTTPSConnection object at 0x74417f9f0230>: Failed to establish a new connection: [Errno 101] Network is unreachable'))\n",
      "[Erreur] Impossible de charger la page 'General covariant transformations' : HTTPSConnectionPool(host='en.wikipedia.org', port=443): Max retries exceeded with url: /w/api.php?format=json&redirects=1&action=query&prop=info&titles=General+covariant+transformations&inprop=protection%7Ctalkid%7Cwatched%7Cwatchers%7Cvisitingwatchers%7Cnotificationtimestamp%7Csubjectid%7Curl%7Creadable%7Cpreload%7Cdisplaytitle%7Cvarianttitles (Caused by NewConnectionError('<urllib3.connection.HTTPSConnection object at 0x74417f9f08f0>: Failed to establish a new connection: [Errno 101] Network is unreachable'))\n",
      "[Erreur] Impossible de charger la page 'Introduction to general relativity' : HTTPSConnectionPool(host='en.wikipedia.org', port=443): Max retries exceeded with url: /w/api.php?format=json&redirects=1&action=query&prop=info&titles=Introduction+to+general+relativity&inprop=protection%7Ctalkid%7Cwatched%7Cwatchers%7Cvisitingwatchers%7Cnotificationtimestamp%7Csubjectid%7Curl%7Creadable%7Cpreload%7Cdisplaytitle%7Cvarianttitles (Caused by NewConnectionError('<urllib3.connection.HTTPSConnection object at 0x74417aa1bbc0>: Failed to establish a new connection: [Errno 101] Network is unreachable'))\n",
      "[Erreur] Impossible de charger la page 'Geomorphology' : HTTPSConnectionPool(host='en.wikipedia.org', port=443): Max retries exceeded with url: /w/api.php?format=json&redirects=1&action=query&prop=info&titles=Geomorphology&inprop=protection%7Ctalkid%7Cwatched%7Cwatchers%7Cvisitingwatchers%7Cnotificationtimestamp%7Csubjectid%7Curl%7Creadable%7Cpreload%7Cdisplaytitle%7Cvarianttitles (Caused by NewConnectionError('<urllib3.connection.HTTPSConnection object at 0x74417f97ef30>: Failed to establish a new connection: [Errno 101] Network is unreachable'))\n",
      "[Erreur] Impossible de charger la page 'Geopotential spherical harmonic model' : HTTPSConnectionPool(host='en.wikipedia.org', port=443): Max retries exceeded with url: /w/api.php?format=json&redirects=1&action=query&prop=info&titles=Geopotential+spherical+harmonic+model&inprop=protection%7Ctalkid%7Cwatched%7Cwatchers%7Cvisitingwatchers%7Cnotificationtimestamp%7Csubjectid%7Curl%7Creadable%7Cpreload%7Cdisplaytitle%7Cvarianttitles (Caused by NewConnectionError('<urllib3.connection.HTTPSConnection object at 0x74417f97fa10>: Failed to establish a new connection: [Errno 101] Network is unreachable'))\n",
      "[Erreur] Impossible de charger la page 'Graviquake' : HTTPSConnectionPool(host='en.wikipedia.org', port=443): Max retries exceeded with url: /w/api.php?format=json&redirects=1&action=query&prop=info&titles=Graviquake&inprop=protection%7Ctalkid%7Cwatched%7Cwatchers%7Cvisitingwatchers%7Cnotificationtimestamp%7Csubjectid%7Curl%7Creadable%7Cpreload%7Cdisplaytitle%7Cvarianttitles (Caused by NewConnectionError('<urllib3.connection.HTTPSConnection object at 0x74417f97f890>: Failed to establish a new connection: [Errno 101] Network is unreachable'))\n",
      "[Erreur] Impossible de charger la page 'Gravitational acceleration' : HTTPSConnectionPool(host='en.wikipedia.org', port=443): Max retries exceeded with url: /w/api.php?format=json&redirects=1&action=query&prop=info&titles=Gravitational+acceleration&inprop=protection%7Ctalkid%7Cwatched%7Cwatchers%7Cvisitingwatchers%7Cnotificationtimestamp%7Csubjectid%7Curl%7Creadable%7Cpreload%7Cdisplaytitle%7Cvarianttitles (Caused by NewConnectionError('<urllib3.connection.HTTPSConnection object at 0x74417f97f170>: Failed to establish a new connection: [Errno 101] Network is unreachable'))\n",
      "[Erreur] Impossible de charger la page 'Gravitational biology' : HTTPSConnectionPool(host='en.wikipedia.org', port=443): Max retries exceeded with url: /w/api.php?format=json&redirects=1&action=query&prop=info&titles=Gravitational+biology&inprop=protection%7Ctalkid%7Cwatched%7Cwatchers%7Cvisitingwatchers%7Cnotificationtimestamp%7Csubjectid%7Curl%7Creadable%7Cpreload%7Cdisplaytitle%7Cvarianttitles (Caused by NewConnectionError('<urllib3.connection.HTTPSConnection object at 0x74417f97f260>: Failed to establish a new connection: [Errno 101] Network is unreachable'))\n",
      "[Erreur] Impossible de charger la page 'Gravitational constant' : HTTPSConnectionPool(host='en.wikipedia.org', port=443): Max retries exceeded with url: /w/api.php?format=json&redirects=1&action=query&prop=info&titles=Gravitational+constant&inprop=protection%7Ctalkid%7Cwatched%7Cwatchers%7Cvisitingwatchers%7Cnotificationtimestamp%7Csubjectid%7Curl%7Creadable%7Cpreload%7Cdisplaytitle%7Cvarianttitles (Caused by NewConnectionError('<urllib3.connection.HTTPSConnection object at 0x74417aa192e0>: Failed to establish a new connection: [Errno 101] Network is unreachable'))\n",
      "[Erreur] Impossible de charger la page 'Gravitational energy' : HTTPSConnectionPool(host='en.wikipedia.org', port=443): Max retries exceeded with url: /w/api.php?format=json&redirects=1&action=query&prop=info&titles=Gravitational+energy&inprop=protection%7Ctalkid%7Cwatched%7Cwatchers%7Cvisitingwatchers%7Cnotificationtimestamp%7Csubjectid%7Curl%7Creadable%7Cpreload%7Cdisplaytitle%7Cvarianttitles (Caused by NewConnectionError('<urllib3.connection.HTTPSConnection object at 0x74417f9f3fe0>: Failed to establish a new connection: [Errno 101] Network is unreachable'))\n",
      "[Erreur] Impossible de charger la page 'Gravitational focusing' : HTTPSConnectionPool(host='en.wikipedia.org', port=443): Max retries exceeded with url: /w/api.php?format=json&redirects=1&action=query&prop=info&titles=Gravitational+focusing&inprop=protection%7Ctalkid%7Cwatched%7Cwatchers%7Cvisitingwatchers%7Cnotificationtimestamp%7Csubjectid%7Curl%7Creadable%7Cpreload%7Cdisplaytitle%7Cvarianttitles (Caused by NewConnectionError('<urllib3.connection.HTTPSConnection object at 0x74417f9f3620>: Failed to establish a new connection: [Errno 101] Network is unreachable'))\n",
      "[Erreur] Impossible de charger la page 'Gravitational instability' : HTTPSConnectionPool(host='en.wikipedia.org', port=443): Max retries exceeded with url: /w/api.php?format=json&redirects=1&action=query&prop=info&titles=Gravitational+instability&inprop=protection%7Ctalkid%7Cwatched%7Cwatchers%7Cvisitingwatchers%7Cnotificationtimestamp%7Csubjectid%7Curl%7Creadable%7Cpreload%7Cdisplaytitle%7Cvarianttitles (Caused by NewConnectionError('<urllib3.connection.HTTPSConnection object at 0x74417f9f2030>: Failed to establish a new connection: [Errno 101] Network is unreachable'))\n",
      "[Erreur] Impossible de charger la page 'Gravitational potential' : HTTPSConnectionPool(host='en.wikipedia.org', port=443): Max retries exceeded with url: /w/api.php?format=json&redirects=1&action=query&prop=info&titles=Gravitational+potential&inprop=protection%7Ctalkid%7Cwatched%7Cwatchers%7Cvisitingwatchers%7Cnotificationtimestamp%7Csubjectid%7Curl%7Creadable%7Cpreload%7Cdisplaytitle%7Cvarianttitles (Caused by NewConnectionError('<urllib3.connection.HTTPSConnection object at 0x74417f97fc50>: Failed to establish a new connection: [Errno 101] Network is unreachable'))\n",
      "[Erreur] Impossible de charger la page 'Gravitational scattering' : HTTPSConnectionPool(host='en.wikipedia.org', port=443): Max retries exceeded with url: /w/api.php?format=json&redirects=1&action=query&prop=info&titles=Gravitational+scattering&inprop=protection%7Ctalkid%7Cwatched%7Cwatchers%7Cvisitingwatchers%7Cnotificationtimestamp%7Csubjectid%7Curl%7Creadable%7Cpreload%7Cdisplaytitle%7Cvarianttitles (Caused by NewConnectionError('<urllib3.connection.HTTPSConnection object at 0x74417f9f2750>: Failed to establish a new connection: [Errno 101] Network is unreachable'))\n",
      "[Erreur] Impossible de charger la page 'Gravitational-wave astronomy' : HTTPSConnectionPool(host='en.wikipedia.org', port=443): Max retries exceeded with url: /w/api.php?format=json&redirects=1&action=query&prop=info&titles=Gravitational-wave+astronomy&inprop=protection%7Ctalkid%7Cwatched%7Cwatchers%7Cvisitingwatchers%7Cnotificationtimestamp%7Csubjectid%7Curl%7Creadable%7Cpreload%7Cdisplaytitle%7Cvarianttitles (Caused by NewConnectionError('<urllib3.connection.HTTPSConnection object at 0x74417f9200b0>: Failed to establish a new connection: [Errno 101] Network is unreachable'))\n",
      "[Erreur] Impossible de charger la page 'Gravity feed' : HTTPSConnectionPool(host='en.wikipedia.org', port=443): Max retries exceeded with url: /w/api.php?format=json&redirects=1&action=query&prop=info&titles=Gravity+feed&inprop=protection%7Ctalkid%7Cwatched%7Cwatchers%7Cvisitingwatchers%7Cnotificationtimestamp%7Csubjectid%7Curl%7Creadable%7Cpreload%7Cdisplaytitle%7Cvarianttitles (Caused by NewConnectionError('<urllib3.connection.HTTPSConnection object at 0x744178a4edb0>: Failed to establish a new connection: [Errno 101] Network is unreachable'))\n",
      "[Erreur] Impossible de charger la page 'Gravity of Mars' : HTTPSConnectionPool(host='en.wikipedia.org', port=443): Max retries exceeded with url: /w/api.php?format=json&redirects=1&action=query&prop=info&titles=Gravity+of+Mars&inprop=protection%7Ctalkid%7Cwatched%7Cwatchers%7Cvisitingwatchers%7Cnotificationtimestamp%7Csubjectid%7Curl%7Creadable%7Cpreload%7Cdisplaytitle%7Cvarianttitles (Caused by NewConnectionError('<urllib3.connection.HTTPSConnection object at 0x74417f9f1fd0>: Failed to establish a new connection: [Errno 101] Network is unreachable'))\n",
      "[Erreur] Impossible de charger la page 'Gregory–Laflamme instability' : HTTPSConnectionPool(host='en.wikipedia.org', port=443): Max retries exceeded with url: /w/api.php?format=json&redirects=1&action=query&prop=info&titles=Gregory%E2%80%93Laflamme+instability&inprop=protection%7Ctalkid%7Cwatched%7Cwatchers%7Cvisitingwatchers%7Cnotificationtimestamp%7Csubjectid%7Curl%7Creadable%7Cpreload%7Cdisplaytitle%7Cvarianttitles (Caused by NewConnectionError('<urllib3.connection.HTTPSConnection object at 0x74417f9f2c00>: Failed to establish a new connection: [Errno 101] Network is unreachable'))\n",
      "[Erreur] Impossible de charger la page 'Gurzadyan theorem' : HTTPSConnectionPool(host='en.wikipedia.org', port=443): Max retries exceeded with url: /w/api.php?format=json&redirects=1&action=query&prop=info&titles=Gurzadyan+theorem&inprop=protection%7Ctalkid%7Cwatched%7Cwatchers%7Cvisitingwatchers%7Cnotificationtimestamp%7Csubjectid%7Curl%7Creadable%7Cpreload%7Cdisplaytitle%7Cvarianttitles (Caused by NewConnectionError('<urllib3.connection.HTTPSConnection object at 0x74417f9f2ab0>: Failed to establish a new connection: [Errno 101] Network is unreachable'))\n",
      "[Erreur] Impossible de charger la page 'Homoeoid and focaloid' : HTTPSConnectionPool(host='en.wikipedia.org', port=443): Max retries exceeded with url: /w/api.php?format=json&redirects=1&action=query&prop=info&titles=Homoeoid+and+focaloid&inprop=protection%7Ctalkid%7Cwatched%7Cwatchers%7Cvisitingwatchers%7Cnotificationtimestamp%7Csubjectid%7Curl%7Creadable%7Cpreload%7Cdisplaytitle%7Cvarianttitles (Caused by NewConnectionError('<urllib3.connection.HTTPSConnection object at 0x74417aa183e0>: Failed to establish a new connection: [Errno 101] Network is unreachable'))\n",
      "[Erreur] Impossible de charger la page 'Hypergravity' : HTTPSConnectionPool(host='en.wikipedia.org', port=443): Max retries exceeded with url: /w/api.php?format=json&redirects=1&action=query&prop=info&titles=Hypergravity&inprop=protection%7Ctalkid%7Cwatched%7Cwatchers%7Cvisitingwatchers%7Cnotificationtimestamp%7Csubjectid%7Curl%7Creadable%7Cpreload%7Cdisplaytitle%7Cvarianttitles (Caused by NewConnectionError('<urllib3.connection.HTTPSConnection object at 0x74417f97ef60>: Failed to establish a new connection: [Errno 101] Network is unreachable'))\n",
      "[Erreur] Impossible de charger la page 'Hypotheses non fingo' : HTTPSConnectionPool(host='en.wikipedia.org', port=443): Max retries exceeded with url: /w/api.php?format=json&redirects=1&action=query&prop=info&titles=Hypotheses+non+fingo&inprop=protection%7Ctalkid%7Cwatched%7Cwatchers%7Cvisitingwatchers%7Cnotificationtimestamp%7Csubjectid%7Curl%7Creadable%7Cpreload%7Cdisplaytitle%7Cvarianttitles (Caused by NewConnectionError('<urllib3.connection.HTTPSConnection object at 0x74417f97fa40>: Failed to establish a new connection: [Errno 101] Network is unreachable'))\n",
      "[Erreur] Impossible de charger la page 'Inspiral' : HTTPSConnectionPool(host='en.wikipedia.org', port=443): Max retries exceeded with url: /w/api.php?format=json&redirects=1&action=query&prop=info&titles=Inspiral&inprop=protection%7Ctalkid%7Cwatched%7Cwatchers%7Cvisitingwatchers%7Cnotificationtimestamp%7Csubjectid%7Curl%7Creadable%7Cpreload%7Cdisplaytitle%7Cvarianttitles (Caused by NewConnectionError('<urllib3.connection.HTTPSConnection object at 0x74417f97c080>: Failed to establish a new connection: [Errno 101] Network is unreachable'))\n",
      "[Erreur] Impossible de charger la page 'Intelligent falling' : HTTPSConnectionPool(host='en.wikipedia.org', port=443): Max retries exceeded with url: /w/api.php?format=json&redirects=1&action=query&prop=info&titles=Intelligent+falling&inprop=protection%7Ctalkid%7Cwatched%7Cwatchers%7Cvisitingwatchers%7Cnotificationtimestamp%7Csubjectid%7Curl%7Creadable%7Cpreload%7Cdisplaytitle%7Cvarianttitles (Caused by NewConnectionError('<urllib3.connection.HTTPSConnection object at 0x74417f9211c0>: Failed to establish a new connection: [Errno 101] Network is unreachable'))\n",
      "[Erreur] Impossible de charger la page 'Laser accelerometer' : HTTPSConnectionPool(host='en.wikipedia.org', port=443): Max retries exceeded with url: /w/api.php?format=json&redirects=1&action=query&prop=info&titles=Laser+accelerometer&inprop=protection%7Ctalkid%7Cwatched%7Cwatchers%7Cvisitingwatchers%7Cnotificationtimestamp%7Csubjectid%7Curl%7Creadable%7Cpreload%7Cdisplaytitle%7Cvarianttitles (Caused by NewConnectionError('<urllib3.connection.HTTPSConnection object at 0x74417f5a9490>: Failed to establish a new connection: [Errno 101] Network is unreachable'))\n"
     ]
    },
    {
     "data": {
      "application/vnd.jupyter.widget-view+json": {
       "model_id": "cb7c3e27d742431581b9d265b7c686cc",
       "version_major": 2,
       "version_minor": 0
      },
      "text/plain": [
       "Categories (flat):   0%|          | 0/10 [00:00<?, ?cat/s]"
      ]
     },
     "metadata": {},
     "output_type": "display_data"
    },
    {
     "data": {
      "application/vnd.jupyter.widget-view+json": {
       "model_id": "c3d09ac15cab418397b0a474147711ab",
       "version_major": 2,
       "version_minor": 0
      },
      "text/plain": [
       "Pages in Gravimetry of objects:   0%|          | 0/3 [00:00<?, ?page/s]"
      ]
     },
     "metadata": {},
     "output_type": "display_data"
    },
    {
     "data": {
      "application/vnd.jupyter.widget-view+json": {
       "model_id": "abd115a492974d51b9ec43e0394d2396",
       "version_major": 2,
       "version_minor": 0
      },
      "text/plain": [
       "Pages in Anti-gravity:   0%|          | 0/13 [00:00<?, ?page/s]"
      ]
     },
     "metadata": {},
     "output_type": "display_data"
    },
    {
     "data": {
      "application/vnd.jupyter.widget-view+json": {
       "model_id": "06e25d0851c144c0b6b0984a62c754ed",
       "version_major": 2,
       "version_minor": 0
      },
      "text/plain": [
       "Pages in Effects of gravity:   0%|          | 0/38 [00:00<?, ?page/s]"
      ]
     },
     "metadata": {},
     "output_type": "display_data"
    },
    {
     "data": {
      "application/vnd.jupyter.widget-view+json": {
       "model_id": "8acacd77bda04c8da707d7beb1d95949",
       "version_major": 2,
       "version_minor": 0
      },
      "text/plain": [
       "Pages in Falling:   0%|          | 0/12 [00:00<?, ?page/s]"
      ]
     },
     "metadata": {},
     "output_type": "display_data"
    },
    {
     "data": {
      "application/vnd.jupyter.widget-view+json": {
       "model_id": "bcb8c83242d34208bd2242ee02447641",
       "version_major": 2,
       "version_minor": 0
      },
      "text/plain": [
       "Pages in Fictional characters with gravity abilities:   0%|          | 0/41 [00:00<?, ?page/s]"
      ]
     },
     "metadata": {},
     "output_type": "display_data"
    },
    {
     "data": {
      "application/vnd.jupyter.widget-view+json": {
       "model_id": "32139256f741431e98cdeeb953abe3ee",
       "version_major": 2,
       "version_minor": 0
      },
      "text/plain": [
       "Pages in Gravimetry:   0%|          | 0/27 [00:00<?, ?page/s]"
      ]
     },
     "metadata": {},
     "output_type": "display_data"
    },
    {
     "data": {
      "application/vnd.jupyter.widget-view+json": {
       "model_id": "9dde74f410c34d6cb2601fd80e0edbaa",
       "version_major": 2,
       "version_minor": 0
      },
      "text/plain": [
       "Pages in Gravitational singularities:   0%|          | 0/19 [00:00<?, ?page/s]"
      ]
     },
     "metadata": {},
     "output_type": "display_data"
    },
    {
     "data": {
      "application/vnd.jupyter.widget-view+json": {
       "model_id": "693f796f99044988bd4b7f0a2030d86a",
       "version_major": 2,
       "version_minor": 0
      },
      "text/plain": [
       "Pages in Gravitational waves:   0%|          | 0/15 [00:00<?, ?page/s]"
      ]
     },
     "metadata": {},
     "output_type": "display_data"
    },
    {
     "data": {
      "application/vnd.jupyter.widget-view+json": {
       "model_id": "fb7ceadb56864f5f90649ef7dc015573",
       "version_major": 2,
       "version_minor": 0
      },
      "text/plain": [
       "Pages in Gravitational-wave astronomy:   0%|          | 0/36 [00:00<?, ?page/s]"
      ]
     },
     "metadata": {},
     "output_type": "display_data"
    },
    {
     "data": {
      "application/vnd.jupyter.widget-view+json": {
       "model_id": "4a9314976b674658a89e8d4eac2c7a31",
       "version_major": 2,
       "version_minor": 0
      },
      "text/plain": [
       "Pages in Great Attractor:   0%|          | 0/4 [00:00<?, ?page/s]"
      ]
     },
     "metadata": {},
     "output_type": "display_data"
    },
    {
     "data": {
      "application/vnd.jupyter.widget-view+json": {
       "model_id": "90c7606880d94778bf393840d63e1a33",
       "version_major": 2,
       "version_minor": 0
      },
      "text/plain": [
       "Pages in Hamiltonian mechanics:   0%|          | 0/53 [00:00<?, ?page/s]"
      ]
     },
     "metadata": {},
     "output_type": "display_data"
    },
    {
     "data": {
      "application/vnd.jupyter.widget-view+json": {
       "model_id": "3edda0fac9334e87a8b9bb728d3186fb",
       "version_major": 2,
       "version_minor": 0
      },
      "text/plain": [
       "Categories (flat):   0%|          | 0/1 [00:00<?, ?cat/s]"
      ]
     },
     "metadata": {},
     "output_type": "display_data"
    },
    {
     "data": {
      "application/vnd.jupyter.widget-view+json": {
       "model_id": "6d0c6887d575459eb4177aa0091a12aa",
       "version_major": 2,
       "version_minor": 0
      },
      "text/plain": [
       "Pages in Action (physics):   0%|          | 0/2 [00:00<?, ?page/s]"
      ]
     },
     "metadata": {},
     "output_type": "display_data"
    },
    {
     "data": {
      "application/vnd.jupyter.widget-view+json": {
       "model_id": "daddc36c0f174a1ba6daefee11d07df0",
       "version_major": 2,
       "version_minor": 0
      },
      "text/plain": [
       "Categories (flat):   0%|          | 0/1 [00:00<?, ?cat/s]"
      ]
     },
     "metadata": {},
     "output_type": "display_data"
    },
    {
     "data": {
      "application/vnd.jupyter.widget-view+json": {
       "model_id": "a3c4f304d07d4202a0ae388bebfdadb1",
       "version_major": 2,
       "version_minor": 0
      },
      "text/plain": [
       "Pages in Cell movement:   0%|          | 0/32 [00:00<?, ?page/s]"
      ]
     },
     "metadata": {},
     "output_type": "display_data"
    },
    {
     "data": {
      "application/vnd.jupyter.widget-view+json": {
       "model_id": "ecf1770067ec439f980e3979ffd6fb93",
       "version_major": 2,
       "version_minor": 0
      },
      "text/plain": [
       "Pages in Hypotheses in physics:   0%|          | 0/14 [00:00<?, ?page/s]"
      ]
     },
     "metadata": {},
     "output_type": "display_data"
    },
    {
     "data": {
      "application/vnd.jupyter.widget-view+json": {
       "model_id": "70ab7fdcdab94bd48a66fd71005b77ca",
       "version_major": 2,
       "version_minor": 0
      },
      "text/plain": [
       "Categories (flat):   0%|          | 0/1 [00:00<?, ?cat/s]"
      ]
     },
     "metadata": {},
     "output_type": "display_data"
    },
    {
     "data": {
      "application/vnd.jupyter.widget-view+json": {
       "model_id": "f0a5f10c205343679491c6ec126a995d",
       "version_major": 2,
       "version_minor": 0
      },
      "text/plain": [
       "Pages in Hypothetical particles:   0%|          | 0/19 [00:00<?, ?page/s]"
      ]
     },
     "metadata": {},
     "output_type": "display_data"
    },
    {
     "data": {
      "application/vnd.jupyter.widget-view+json": {
       "model_id": "b343430530654925b415af4fd0442f84",
       "version_major": 2,
       "version_minor": 0
      },
      "text/plain": [
       "Categories (flat):   0%|          | 0/4 [00:00<?, ?cat/s]"
      ]
     },
     "metadata": {},
     "output_type": "display_data"
    },
    {
     "data": {
      "application/vnd.jupyter.widget-view+json": {
       "model_id": "3add09b5cb9f48e6b019065417e190ea",
       "version_major": 2,
       "version_minor": 0
      },
      "text/plain": [
       "Pages in Hypothetical composite particles:   0%|          | 0/16 [00:00<?, ?page/s]"
      ]
     },
     "metadata": {},
     "output_type": "display_data"
    },
    {
     "data": {
      "application/vnd.jupyter.widget-view+json": {
       "model_id": "26e17e394c0648fe804fc78215f91480",
       "version_major": 2,
       "version_minor": 0
      },
      "text/plain": [
       "Pages in Hypothetical elementary particles:   0%|          | 0/45 [00:00<?, ?page/s]"
      ]
     },
     "metadata": {},
     "output_type": "display_data"
    },
    {
     "data": {
      "application/vnd.jupyter.widget-view+json": {
       "model_id": "0797dffccc714baa9bcc2854f40dd0da",
       "version_major": 2,
       "version_minor": 0
      },
      "text/plain": [
       "Pages in Magnetic monopoles:   0%|          | 0/10 [00:00<?, ?page/s]"
      ]
     },
     "metadata": {},
     "output_type": "display_data"
    },
    {
     "data": {
      "application/vnd.jupyter.widget-view+json": {
       "model_id": "9a484594dace4b498254e6a40b1e67bb",
       "version_major": 2,
       "version_minor": 0
      },
      "text/plain": [
       "Pages in Tachyons:   0%|          | 0/6 [00:00<?, ?page/s]"
      ]
     },
     "metadata": {},
     "output_type": "display_data"
    },
    {
     "data": {
      "application/vnd.jupyter.widget-view+json": {
       "model_id": "88be9145b86d46679e57351d3ec69aa5",
       "version_major": 2,
       "version_minor": 0
      },
      "text/plain": [
       "Pages in Theoretical physics institutes:   0%|          | 0/36 [00:00<?, ?page/s]"
      ]
     },
     "metadata": {},
     "output_type": "display_data"
    },
    {
     "data": {
      "application/vnd.jupyter.widget-view+json": {
       "model_id": "db3f4df25db84e6fae0c2c7cb10c2afa",
       "version_major": 2,
       "version_minor": 0
      },
      "text/plain": [
       "Pages in Integrable systems:   0%|          | 0/41 [00:00<?, ?page/s]"
      ]
     },
     "metadata": {},
     "output_type": "display_data"
    },
    {
     "data": {
      "application/vnd.jupyter.widget-view+json": {
       "model_id": "d74ea2d907f44abe875459c30d9a3f2d",
       "version_major": 2,
       "version_minor": 0
      },
      "text/plain": [
       "Categories (flat):   0%|          | 0/2 [00:00<?, ?cat/s]"
      ]
     },
     "metadata": {},
     "output_type": "display_data"
    },
    {
     "data": {
      "application/vnd.jupyter.widget-view+json": {
       "model_id": "ab0da5ac6b13447b9a1270f10d97f3d9",
       "version_major": 2,
       "version_minor": 0
      },
      "text/plain": [
       "Pages in Exactly solvable models:   0%|          | 0/56 [00:00<?, ?page/s]"
      ]
     },
     "metadata": {},
     "output_type": "display_data"
    },
    {
     "data": {
      "application/vnd.jupyter.widget-view+json": {
       "model_id": "7418e8758f1d4077bd9e08f2a42551b9",
       "version_major": 2,
       "version_minor": 0
      },
      "text/plain": [
       "Categories (flat):   0%|          | 0/2 [00:00<?, ?cat/s]"
      ]
     },
     "metadata": {},
     "output_type": "display_data"
    },
    {
     "data": {
      "application/vnd.jupyter.widget-view+json": {
       "model_id": "93e0a3390ac34a579969e46d9e621c66",
       "version_major": 2,
       "version_minor": 0
      },
      "text/plain": [
       "Pages in Exact solutions in general relativity:   0%|          | 0/54 [00:00<?, ?page/s]"
      ]
     },
     "metadata": {},
     "output_type": "display_data"
    },
    {
     "data": {
      "application/vnd.jupyter.widget-view+json": {
       "model_id": "2d710364540741f7b15942d349ba64d9",
       "version_major": 2,
       "version_minor": 0
      },
      "text/plain": [
       "Pages in Solitons:   0%|          | 0/39 [00:00<?, ?page/s]"
      ]
     },
     "metadata": {},
     "output_type": "display_data"
    },
    {
     "data": {
      "application/vnd.jupyter.widget-view+json": {
       "model_id": "90a5aaee4e7b421eaf3d336e6aa30d3b",
       "version_major": 2,
       "version_minor": 0
      },
      "text/plain": [
       "Pages in Quantum models:   0%|          | 0/37 [00:00<?, ?page/s]"
      ]
     },
     "metadata": {},
     "output_type": "display_data"
    },
    {
     "data": {
      "application/vnd.jupyter.widget-view+json": {
       "model_id": "67de8ce8b8214193bec7c5879775ed34",
       "version_major": 2,
       "version_minor": 0
      },
      "text/plain": [
       "Pages in Mathematical physics:   0%|          | 0/100 [00:00<?, ?page/s]"
      ]
     },
     "metadata": {},
     "output_type": "display_data"
    },
    {
     "data": {
      "application/vnd.jupyter.widget-view+json": {
       "model_id": "bc3dce5f0d934532b268498ae563c9cc",
       "version_major": 2,
       "version_minor": 0
      },
      "text/plain": [
       "Categories (flat):   0%|          | 0/10 [00:00<?, ?cat/s]"
      ]
     },
     "metadata": {},
     "output_type": "display_data"
    },
    {
     "data": {
      "application/vnd.jupyter.widget-view+json": {
       "model_id": "28b463a7b92743e4af507b4cf5d550b5",
       "version_major": 2,
       "version_minor": 0
      },
      "text/plain": [
       "Pages in Theorems in mathematical physics:   0%|          | 0/11 [00:00<?, ?page/s]"
      ]
     },
     "metadata": {},
     "output_type": "display_data"
    },
    {
     "data": {
      "application/vnd.jupyter.widget-view+json": {
       "model_id": "a6c3021922884fbb8f82c4471bd80800",
       "version_major": 2,
       "version_minor": 0
      },
      "text/plain": [
       "Categories (flat):   0%|          | 0/3 [00:00<?, ?cat/s]"
      ]
     },
     "metadata": {},
     "output_type": "display_data"
    },
    {
     "data": {
      "application/vnd.jupyter.widget-view+json": {
       "model_id": "490393457126425a8cce00b8c6f2c8fb",
       "version_major": 2,
       "version_minor": 0
      },
      "text/plain": [
       "Pages in Statistical mechanics theorems:   0%|          | 0/14 [00:00<?, ?page/s]"
      ]
     },
     "metadata": {},
     "output_type": "display_data"
    },
    {
     "data": {
      "application/vnd.jupyter.widget-view+json": {
       "model_id": "d2f61e2a9ad9426ea61da2271d44b7b4",
       "version_major": 2,
       "version_minor": 0
      },
      "text/plain": [
       "Pages in Theorems in general relativity:   0%|          | 0/10 [00:00<?, ?page/s]"
      ]
     },
     "metadata": {},
     "output_type": "display_data"
    },
    {
     "data": {
      "application/vnd.jupyter.widget-view+json": {
       "model_id": "c078f81f6f414d6d821fe8acc6d74929",
       "version_major": 2,
       "version_minor": 0
      },
      "text/plain": [
       "Pages in Theorems in quantum mechanics:   0%|          | 0/41 [00:00<?, ?page/s]"
      ]
     },
     "metadata": {},
     "output_type": "display_data"
    },
    {
     "data": {
      "application/vnd.jupyter.widget-view+json": {
       "model_id": "c386a958a7234aa486f60392aacaa07d",
       "version_major": 2,
       "version_minor": 0
      },
      "text/plain": [
       "Pages in Calculus of variations:   0%|          | 0/75 [00:00<?, ?page/s]"
      ]
     },
     "metadata": {},
     "output_type": "display_data"
    },
    {
     "data": {
      "application/vnd.jupyter.widget-view+json": {
       "model_id": "4a5d2e83d412423f88526bbeb4aa9e53",
       "version_major": 2,
       "version_minor": 0
      },
      "text/plain": [
       "Categories (flat):   0%|          | 0/9 [00:00<?, ?cat/s]"
      ]
     },
     "metadata": {},
     "output_type": "display_data"
    },
    {
     "data": {
      "application/vnd.jupyter.widget-view+json": {
       "model_id": "b073267b4e734edaa626913b8feba631",
       "version_major": 2,
       "version_minor": 0
      },
      "text/plain": [
       "Pages in Action (physics):   0%|          | 0/2 [00:00<?, ?page/s]"
      ]
     },
     "metadata": {},
     "output_type": "display_data"
    },
    {
     "data": {
      "application/vnd.jupyter.widget-view+json": {
       "model_id": "c8b7ba99658e4223b58113b395a09676",
       "version_major": 2,
       "version_minor": 0
      },
      "text/plain": [
       "Pages in Variational analysis:   0%|          | 0/15 [00:00<?, ?page/s]"
      ]
     },
     "metadata": {},
     "output_type": "display_data"
    },
    {
     "data": {
      "application/vnd.jupyter.widget-view+json": {
       "model_id": "dc5a8a4cf995413eac45d2eb295b606e",
       "version_major": 2,
       "version_minor": 0
      },
      "text/plain": [
       "Pages in Geodesic (mathematics):   0%|          | 0/19 [00:00<?, ?page/s]"
      ]
     },
     "metadata": {},
     "output_type": "display_data"
    },
    {
     "data": {
      "application/vnd.jupyter.widget-view+json": {
       "model_id": "e46d81e8c8024068afb1dc661e711208",
       "version_major": 2,
       "version_minor": 0
      },
      "text/plain": [
       "Pages in Geometric flow:   0%|          | 0/9 [00:00<?, ?page/s]"
      ]
     },
     "metadata": {},
     "output_type": "display_data"
    },
    {
     "data": {
      "application/vnd.jupyter.widget-view+json": {
       "model_id": "42c546784b204199acbcb9b423001413",
       "version_major": 2,
       "version_minor": 0
      },
      "text/plain": [
       "Pages in Minimal surfaces:   0%|          | 0/36 [00:00<?, ?page/s]"
      ]
     },
     "metadata": {},
     "output_type": "display_data"
    },
    {
     "data": {
      "application/vnd.jupyter.widget-view+json": {
       "model_id": "1d06e4f00e8e414ca08954cce8bb2a3c",
       "version_major": 2,
       "version_minor": 0
      },
      "text/plain": [
       "Pages in Morse theory:   0%|          | 0/17 [00:00<?, ?page/s]"
      ]
     },
     "metadata": {},
     "output_type": "display_data"
    },
    {
     "data": {
      "application/vnd.jupyter.widget-view+json": {
       "model_id": "85b33cf6e0d041d6a7682ceec9283e3d",
       "version_major": 2,
       "version_minor": 0
      },
      "text/plain": [
       "Pages in Optimal control:   0%|          | 0/44 [00:00<?, ?page/s]"
      ]
     },
     "metadata": {},
     "output_type": "display_data"
    },
    {
     "data": {
      "application/vnd.jupyter.widget-view+json": {
       "model_id": "d0edf1d809d3475fbb4c135d33886ccd",
       "version_major": 2,
       "version_minor": 0
      },
      "text/plain": [
       "Pages in Variational formalism of general relativity:   0%|          | 0/4 [00:00<?, ?page/s]"
      ]
     },
     "metadata": {},
     "output_type": "display_data"
    },
    {
     "data": {
      "application/vnd.jupyter.widget-view+json": {
       "model_id": "f49fdebf82044a47bfec890bdd647375",
       "version_major": 2,
       "version_minor": 0
      },
      "text/plain": [
       "Pages in Variational principles:   0%|          | 0/6 [00:00<?, ?page/s]"
      ]
     },
     "metadata": {},
     "output_type": "display_data"
    },
    {
     "data": {
      "application/vnd.jupyter.widget-view+json": {
       "model_id": "a9a79c89a4034d45bc65ab0d51e1a420",
       "version_major": 2,
       "version_minor": 0
      },
      "text/plain": [
       "Pages in Chaos theory:   0%|          | 0/65 [00:00<?, ?page/s]"
      ]
     },
     "metadata": {},
     "output_type": "display_data"
    },
    {
     "data": {
      "application/vnd.jupyter.widget-view+json": {
       "model_id": "50d63643ea3f47ea854a83a33b722693",
       "version_major": 2,
       "version_minor": 0
      },
      "text/plain": [
       "Categories (flat):   0%|          | 0/6 [00:00<?, ?cat/s]"
      ]
     },
     "metadata": {},
     "output_type": "display_data"
    },
    {
     "data": {
      "application/vnd.jupyter.widget-view+json": {
       "model_id": "11a3e5599d4c476fbd3d67fed1dc91aa",
       "version_major": 2,
       "version_minor": 0
      },
      "text/plain": [
       "Pages in Fractals:   0%|          | 0/100 [00:00<?, ?page/s]"
      ]
     },
     "metadata": {},
     "output_type": "display_data"
    },
    {
     "data": {
      "application/vnd.jupyter.widget-view+json": {
       "model_id": "1c8deb04ad2a49faa5a5268cf4a8b3b7",
       "version_major": 2,
       "version_minor": 0
      },
      "text/plain": [
       "Pages in Hidden oscillation:   0%|          | 0/12 [00:00<?, ?page/s]"
      ]
     },
     "metadata": {},
     "output_type": "display_data"
    },
    {
     "data": {
      "application/vnd.jupyter.widget-view+json": {
       "model_id": "6e7c57098c524548a1f6a402891d0f5e",
       "version_major": 2,
       "version_minor": 0
      },
      "text/plain": [
       "Pages in Chaotic maps:   0%|          | 0/50 [00:00<?, ?page/s]"
      ]
     },
     "metadata": {},
     "output_type": "display_data"
    },
    {
     "data": {
      "application/vnd.jupyter.widget-view+json": {
       "model_id": "c7a067d30be04f848cf4ace7e2d955d3",
       "version_major": 2,
       "version_minor": 0
      },
      "text/plain": [
       "Pages in Quantum chaos theory:   0%|          | 0/7 [00:00<?, ?page/s]"
      ]
     },
     "metadata": {},
     "output_type": "display_data"
    },
    {
     "data": {
      "application/vnd.jupyter.widget-view+json": {
       "model_id": "8abaebfaca144375b22736d811fae7ca",
       "version_major": 2,
       "version_minor": 0
      },
      "text/plain": [
       "Pages in Chaos theorists:   0%|          | 0/40 [00:00<?, ?page/s]"
      ]
     },
     "metadata": {},
     "output_type": "display_data"
    },
    {
     "data": {
      "application/vnd.jupyter.widget-view+json": {
       "model_id": "e77ca788e1c14afabaf7091179a71a80",
       "version_major": 2,
       "version_minor": 0
      },
      "text/plain": [
       "Pages in Chaos theory stubs:   0%|          | 0/53 [00:00<?, ?page/s]"
      ]
     },
     "metadata": {},
     "output_type": "display_data"
    },
    {
     "data": {
      "application/vnd.jupyter.widget-view+json": {
       "model_id": "435a20e6ab87448999b663a033bb143f",
       "version_major": 2,
       "version_minor": 0
      },
      "text/plain": [
       "Pages in Differential geometry:   0%|          | 0/100 [00:00<?, ?page/s]"
      ]
     },
     "metadata": {},
     "output_type": "display_data"
    },
    {
     "data": {
      "application/vnd.jupyter.widget-view+json": {
       "model_id": "5807ed6cb15744ee9ce32df20a31b79a",
       "version_major": 2,
       "version_minor": 0
      },
      "text/plain": [
       "Categories (flat):   0%|          | 0/10 [00:00<?, ?cat/s]"
      ]
     },
     "metadata": {},
     "output_type": "display_data"
    },
    {
     "data": {
      "application/vnd.jupyter.widget-view+json": {
       "model_id": "81ab1e6f7a75490997578f6ccc43023f",
       "version_major": 2,
       "version_minor": 0
      },
      "text/plain": [
       "Pages in Theorems in differential geometry:   0%|          | 0/56 [00:00<?, ?page/s]"
      ]
     },
     "metadata": {},
     "output_type": "display_data"
    },
    {
     "data": {
      "application/vnd.jupyter.widget-view+json": {
       "model_id": "4c42f17266a24019ad05b554d903c962",
       "version_major": 2,
       "version_minor": 0
      },
      "text/plain": [
       "Pages in Theorems in Riemannian geometry:   0%|          | 0/24 [00:00<?, ?page/s]"
      ]
     },
     "metadata": {},
     "output_type": "display_data"
    },
    {
     "data": {
      "application/vnd.jupyter.widget-view+json": {
       "model_id": "73d4b5803856416dbc7b50a206b3fb49",
       "version_major": 2,
       "version_minor": 0
      },
      "text/plain": [
       "Pages in Characteristic classes:   0%|          | 0/10 [00:00<?, ?page/s]"
      ]
     },
     "metadata": {},
     "output_type": "display_data"
    },
    {
     "data": {
      "application/vnd.jupyter.widget-view+json": {
       "model_id": "7569a5c01c2f478ca1e579013e072059",
       "version_major": 2,
       "version_minor": 0
      },
      "text/plain": [
       "Pages in Connection (mathematics):   0%|          | 0/38 [00:00<?, ?page/s]"
      ]
     },
     "metadata": {},
     "output_type": "display_data"
    },
    {
     "data": {
      "application/vnd.jupyter.widget-view+json": {
       "model_id": "87bbe53d6f3d4175bd5a6cb8986a6a90",
       "version_major": 2,
       "version_minor": 0
      },
      "text/plain": [
       "Pages in Coordinate systems:   0%|          | 0/45 [00:00<?, ?page/s]"
      ]
     },
     "metadata": {},
     "output_type": "display_data"
    },
    {
     "data": {
      "application/vnd.jupyter.widget-view+json": {
       "model_id": "961efee0953e4b04bd3550aa536c3fd6",
       "version_major": 2,
       "version_minor": 0
      },
      "text/plain": [
       "Pages in Curvature (mathematics):   0%|          | 0/30 [00:00<?, ?page/s]"
      ]
     },
     "metadata": {},
     "output_type": "display_data"
    },
    {
     "data": {
      "application/vnd.jupyter.widget-view+json": {
       "model_id": "1ee1ce8589584a8e9b85acbc40ef7766",
       "version_major": 2,
       "version_minor": 0
      },
      "text/plain": [
       "Pages in Curves:   0%|          | 0/100 [00:00<?, ?page/s]"
      ]
     },
     "metadata": {},
     "output_type": "display_data"
    },
    {
     "data": {
      "application/vnd.jupyter.widget-view+json": {
       "model_id": "cb7483f05b824fe38eaafd3f507f8c39",
       "version_major": 2,
       "version_minor": 0
      },
      "text/plain": [
       "Pages in Differential geometers:   0%|          | 0/100 [00:00<?, ?page/s]"
      ]
     },
     "metadata": {},
     "output_type": "display_data"
    },
    {
     "data": {
      "application/vnd.jupyter.widget-view+json": {
       "model_id": "13254c8a702545638a0b7503d8d95407",
       "version_major": 2,
       "version_minor": 0
      },
      "text/plain": [
       "Pages in Differential geometry journals:   0%|          | 0/2 [00:00<?, ?page/s]"
      ]
     },
     "metadata": {},
     "output_type": "display_data"
    },
    {
     "data": {
      "application/vnd.jupyter.widget-view+json": {
       "model_id": "478d826ff9194e769da2b1b1607a31bb",
       "version_major": 2,
       "version_minor": 0
      },
      "text/plain": [
       "Pages in Finsler geometry:   0%|          | 0/3 [00:00<?, ?page/s]"
      ]
     },
     "metadata": {},
     "output_type": "display_data"
    },
    {
     "data": {
      "application/vnd.jupyter.widget-view+json": {
       "model_id": "d30be0d51e864f3c9a50fe1ac15a15e4",
       "version_major": 2,
       "version_minor": 0
      },
      "text/plain": [
       "Pages in Differential topology:   0%|          | 0/100 [00:00<?, ?page/s]"
      ]
     },
     "metadata": {},
     "output_type": "display_data"
    },
    {
     "data": {
      "application/vnd.jupyter.widget-view+json": {
       "model_id": "6542fa2ddb2349bd98c474a294da90ce",
       "version_major": 2,
       "version_minor": 0
      },
      "text/plain": [
       "Categories (flat):   0%|          | 0/10 [00:00<?, ?cat/s]"
      ]
     },
     "metadata": {},
     "output_type": "display_data"
    },
    {
     "data": {
      "application/vnd.jupyter.widget-view+json": {
       "model_id": "d9a4e0ec827a4e38bdb09c7191ebd6fb",
       "version_major": 2,
       "version_minor": 0
      },
      "text/plain": [
       "Pages in Theorems in differential topology:   0%|          | 0/14 [00:00<?, ?page/s]"
      ]
     },
     "metadata": {},
     "output_type": "display_data"
    },
    {
     "data": {
      "application/vnd.jupyter.widget-view+json": {
       "model_id": "705906acd03f494db4094a7ab1d64902",
       "version_major": 2,
       "version_minor": 0
      },
      "text/plain": [
       "Pages in Contact geometry:   0%|          | 0/6 [00:00<?, ?page/s]"
      ]
     },
     "metadata": {},
     "output_type": "display_data"
    },
    {
     "data": {
      "application/vnd.jupyter.widget-view+json": {
       "model_id": "bbc87c5b272246e895865f0e4782a38f",
       "version_major": 2,
       "version_minor": 0
      },
      "text/plain": [
       "Pages in Diffeomorphisms:   0%|          | 0/16 [00:00<?, ?page/s]"
      ]
     },
     "metadata": {},
     "output_type": "display_data"
    },
    {
     "data": {
      "application/vnd.jupyter.widget-view+json": {
       "model_id": "d6e41a85ed254f29b4a832a0d1304b0e",
       "version_major": 2,
       "version_minor": 0
      },
      "text/plain": [
       "Pages in Differential forms:   0%|          | 0/23 [00:00<?, ?page/s]"
      ]
     },
     "metadata": {},
     "output_type": "display_data"
    },
    {
     "data": {
      "application/vnd.jupyter.widget-view+json": {
       "model_id": "d936f3b5d23941baa6d2db0fd3451f34",
       "version_major": 2,
       "version_minor": 0
      },
      "text/plain": [
       "Pages in Fiber bundles:   0%|          | 0/44 [00:00<?, ?page/s]"
      ]
     },
     "metadata": {},
     "output_type": "display_data"
    },
    {
     "data": {
      "application/vnd.jupyter.widget-view+json": {
       "model_id": "3857a622199646ac99d30252300fcdab",
       "version_major": 2,
       "version_minor": 0
      },
      "text/plain": [
       "Pages in Foliations:   0%|          | 0/11 [00:00<?, ?page/s]"
      ]
     },
     "metadata": {},
     "output_type": "display_data"
    },
    {
     "data": {
      "application/vnd.jupyter.widget-view+json": {
       "model_id": "969e07fc6c3b41b886aa53fa86beb269",
       "version_major": 2,
       "version_minor": 0
      },
      "text/plain": [
       "Pages in Manifolds:   0%|          | 0/94 [00:00<?, ?page/s]"
      ]
     },
     "metadata": {},
     "output_type": "display_data"
    },
    {
     "data": {
      "application/vnd.jupyter.widget-view+json": {
       "model_id": "7c1d7579a4004e7aa31807516dec26cb",
       "version_major": 2,
       "version_minor": 0
      },
      "text/plain": [
       "Pages in Morse theory:   0%|          | 0/17 [00:00<?, ?page/s]"
      ]
     },
     "metadata": {},
     "output_type": "display_data"
    },
    {
     "data": {
      "application/vnd.jupyter.widget-view+json": {
       "model_id": "8e3790e929b44066806d8ac1f1c3be1d",
       "version_major": 2,
       "version_minor": 0
      },
      "text/plain": [
       "Pages in Singularity theory:   0%|          | 0/53 [00:00<?, ?page/s]"
      ]
     },
     "metadata": {},
     "output_type": "display_data"
    },
    {
     "data": {
      "application/vnd.jupyter.widget-view+json": {
       "model_id": "4b0415a67fcf47639798bd640490ff69",
       "version_major": 2,
       "version_minor": 0
      },
      "text/plain": [
       "Pages in Smooth manifolds:   0%|          | 0/19 [00:00<?, ?page/s]"
      ]
     },
     "metadata": {},
     "output_type": "display_data"
    },
    {
     "data": {
      "application/vnd.jupyter.widget-view+json": {
       "model_id": "2716afd69e73457780b266cfcf10f703",
       "version_major": 2,
       "version_minor": 0
      },
      "text/plain": [
       "Pages in Dynamical systems:   0%|          | 0/100 [00:00<?, ?page/s]"
      ]
     },
     "metadata": {},
     "output_type": "display_data"
    },
    {
     "data": {
      "application/vnd.jupyter.widget-view+json": {
       "model_id": "a26fa0d360c3453e8756b2d778d53b65",
       "version_major": 2,
       "version_minor": 0
      },
      "text/plain": [
       "Categories (flat):   0%|          | 0/10 [00:00<?, ?cat/s]"
      ]
     },
     "metadata": {},
     "output_type": "display_data"
    },
    {
     "data": {
      "application/vnd.jupyter.widget-view+json": {
       "model_id": "1593c6ef2d7e4ece9f9ef5b829a2ff5e",
       "version_major": 2,
       "version_minor": 0
      },
      "text/plain": [
       "Pages in Theorems in dynamical systems:   0%|          | 0/31 [00:00<?, ?page/s]"
      ]
     },
     "metadata": {},
     "output_type": "display_data"
    },
    {
     "data": {
      "application/vnd.jupyter.widget-view+json": {
       "model_id": "7a468c4b4d954edb86e28c31839fe91a",
       "version_major": 2,
       "version_minor": 0
      },
      "text/plain": [
       "Pages in Dynamical systems theorists:   0%|          | 0/98 [00:00<?, ?page/s]"
      ]
     },
     "metadata": {},
     "output_type": "display_data"
    },
    {
     "data": {
      "application/vnd.jupyter.widget-view+json": {
       "model_id": "05e0faad5fc04de19415930a33efe989",
       "version_major": 2,
       "version_minor": 0
      },
      "text/plain": [
       "Pages in Arithmetic dynamics:   0%|          | 0/38 [00:00<?, ?page/s]"
      ]
     },
     "metadata": {},
     "output_type": "display_data"
    },
    {
     "data": {
      "application/vnd.jupyter.widget-view+json": {
       "model_id": "2d1e4b427f7c40ec8f941f4c9788b263",
       "version_major": 2,
       "version_minor": 0
      },
      "text/plain": [
       "Pages in Astronomical dynamical systems:   0%|          | 0/6 [00:00<?, ?page/s]"
      ]
     },
     "metadata": {},
     "output_type": "display_data"
    },
    {
     "data": {
      "application/vnd.jupyter.widget-view+json": {
       "model_id": "95dca92aa1db42da9cbb174d3360352d",
       "version_major": 2,
       "version_minor": 0
      },
      "text/plain": [
       "Pages in Bifurcation theory:   0%|          | 0/20 [00:00<?, ?page/s]"
      ]
     },
     "metadata": {},
     "output_type": "display_data"
    },
    {
     "data": {
      "application/vnd.jupyter.widget-view+json": {
       "model_id": "813c249ba88e41e3a354b2fcc52ee76b",
       "version_major": 2,
       "version_minor": 0
      },
      "text/plain": [
       "Pages in Chaotic maps:   0%|          | 0/50 [00:00<?, ?page/s]"
      ]
     },
     "metadata": {},
     "output_type": "display_data"
    },
    {
     "data": {
      "application/vnd.jupyter.widget-view+json": {
       "model_id": "5a04ebbd52f448f4a1067a5b7a39295b",
       "version_major": 2,
       "version_minor": 0
      },
      "text/plain": [
       "Pages in Complex dynamics:   0%|          | 0/16 [00:00<?, ?page/s]"
      ]
     },
     "metadata": {},
     "output_type": "display_data"
    },
    {
     "data": {
      "application/vnd.jupyter.widget-view+json": {
       "model_id": "d6cb11c5534a4f4f8bfa65ad26711cf0",
       "version_major": 2,
       "version_minor": 0
      },
      "text/plain": [
       "Pages in Control theory:   0%|          | 0/100 [00:00<?, ?page/s]"
      ]
     },
     "metadata": {},
     "output_type": "display_data"
    },
    {
     "data": {
      "application/vnd.jupyter.widget-view+json": {
       "model_id": "c58c1a8b3ffb46f893e3c4bea9313b77",
       "version_major": 2,
       "version_minor": 0
      },
      "text/plain": [
       "Pages in Critical phenomena:   0%|          | 0/39 [00:00<?, ?page/s]"
      ]
     },
     "metadata": {},
     "output_type": "display_data"
    },
    {
     "data": {
      "application/vnd.jupyter.widget-view+json": {
       "model_id": "aba148708fc4476d823aa2adb131132d",
       "version_major": 2,
       "version_minor": 0
      },
      "text/plain": [
       "Pages in Dynamical systems journals:   0%|          | 0/7 [00:00<?, ?page/s]"
      ]
     },
     "metadata": {},
     "output_type": "display_data"
    },
    {
     "data": {
      "application/vnd.jupyter.widget-view+json": {
       "model_id": "1059f5ac43d841258ffb719c3eb580de",
       "version_major": 2,
       "version_minor": 0
      },
      "text/plain": [
       "Pages in Gauge theories:   0%|          | 0/82 [00:00<?, ?page/s]"
      ]
     },
     "metadata": {},
     "output_type": "display_data"
    },
    {
     "data": {
      "application/vnd.jupyter.widget-view+json": {
       "model_id": "cf32a592646d4719aa30e615202409fe",
       "version_major": 2,
       "version_minor": 0
      },
      "text/plain": [
       "Categories (flat):   0%|          | 0/3 [00:00<?, ?cat/s]"
      ]
     },
     "metadata": {},
     "output_type": "display_data"
    },
    {
     "data": {
      "application/vnd.jupyter.widget-view+json": {
       "model_id": "41806ef85d05471aab5063dff5d410ca",
       "version_major": 2,
       "version_minor": 0
      },
      "text/plain": [
       "Pages in Anomalies (physics):   0%|          | 0/19 [00:00<?, ?page/s]"
      ]
     },
     "metadata": {},
     "output_type": "display_data"
    },
    {
     "data": {
      "application/vnd.jupyter.widget-view+json": {
       "model_id": "d6329a9709b84b69aa0ae88e0f60ee04",
       "version_major": 2,
       "version_minor": 0
      },
      "text/plain": [
       "Pages in Gauge bosons:   0%|          | 0/12 [00:00<?, ?page/s]"
      ]
     },
     "metadata": {},
     "output_type": "display_data"
    },
    {
     "data": {
      "application/vnd.jupyter.widget-view+json": {
       "model_id": "3aba7151292f44e89872366a37395c8c",
       "version_major": 2,
       "version_minor": 0
      },
      "text/plain": [
       "Pages in Magnetic monopoles:   0%|          | 0/10 [00:00<?, ?page/s]"
      ]
     },
     "metadata": {},
     "output_type": "display_data"
    },
    {
     "data": {
      "application/vnd.jupyter.widget-view+json": {
       "model_id": "4fa89959a0004257b2c1d5a72a3f0dd1",
       "version_major": 2,
       "version_minor": 0
      },
      "text/plain": [
       "Pages in Geodesic (mathematics):   0%|          | 0/19 [00:00<?, ?page/s]"
      ]
     },
     "metadata": {},
     "output_type": "display_data"
    },
    {
     "data": {
      "application/vnd.jupyter.widget-view+json": {
       "model_id": "8784d9c8fe2547f7909db1334fe506fa",
       "version_major": 2,
       "version_minor": 0
      },
      "text/plain": [
       "Pages in Inverse problems:   0%|          | 0/35 [00:00<?, ?page/s]"
      ]
     },
     "metadata": {},
     "output_type": "display_data"
    },
    {
     "data": {
      "application/vnd.jupyter.widget-view+json": {
       "model_id": "47f07db8fd074f2d868adc57fc221a0a",
       "version_major": 2,
       "version_minor": 0
      },
      "text/plain": [
       "Categories (flat):   0%|          | 0/1 [00:00<?, ?cat/s]"
      ]
     },
     "metadata": {},
     "output_type": "display_data"
    },
    {
     "data": {
      "application/vnd.jupyter.widget-view+json": {
       "model_id": "93d29259241f4d8fa7b4caab29d817f3",
       "version_major": 2,
       "version_minor": 0
      },
      "text/plain": [
       "Pages in X-ray computed tomography:   0%|          | 0/39 [00:00<?, ?page/s]"
      ]
     },
     "metadata": {},
     "output_type": "display_data"
    },
    {
     "data": {
      "application/vnd.jupyter.widget-view+json": {
       "model_id": "05090edefb3d464a9e5f49f135581906",
       "version_major": 2,
       "version_minor": 0
      },
      "text/plain": [
       "Pages in Lagrangian mechanics:   0%|          | 0/37 [00:00<?, ?page/s]"
      ]
     },
     "metadata": {},
     "output_type": "display_data"
    },
    {
     "data": {
      "application/vnd.jupyter.widget-view+json": {
       "model_id": "9fa199180aae4a509863b4e82ea3c734",
       "version_major": 2,
       "version_minor": 0
      },
      "text/plain": [
       "Categories (flat):   0%|          | 0/2 [00:00<?, ?cat/s]"
      ]
     },
     "metadata": {},
     "output_type": "display_data"
    },
    {
     "data": {
      "application/vnd.jupyter.widget-view+json": {
       "model_id": "58290562adf04790a09c090828d67627",
       "version_major": 2,
       "version_minor": 0
      },
      "text/plain": [
       "Pages in Action (physics):   0%|          | 0/2 [00:00<?, ?page/s]"
      ]
     },
     "metadata": {},
     "output_type": "display_data"
    },
    {
     "data": {
      "application/vnd.jupyter.widget-view+json": {
       "model_id": "0c32eebfcd344211b18907d5850c8ef6",
       "version_major": 2,
       "version_minor": 0
      },
      "text/plain": [
       "Pages in Satellites orbiting Lagrange points:   0%|          | 0/1 [00:00<?, ?page/s]"
      ]
     },
     "metadata": {},
     "output_type": "display_data"
    },
    {
     "data": {
      "application/vnd.jupyter.widget-view+json": {
       "model_id": "fc25cae749e645398eccfbde41922fda",
       "version_major": 2,
       "version_minor": 0
      },
      "text/plain": [
       "Pages in Obsolete theories in physics:   0%|          | 0/47 [00:00<?, ?page/s]"
      ]
     },
     "metadata": {},
     "output_type": "display_data"
    },
    {
     "data": {
      "application/vnd.jupyter.widget-view+json": {
       "model_id": "bbb2824665ca46f594d0bde995cf65c6",
       "version_major": 2,
       "version_minor": 0
      },
      "text/plain": [
       "Categories (flat):   0%|          | 0/7 [00:00<?, ?cat/s]"
      ]
     },
     "metadata": {},
     "output_type": "display_data"
    },
    {
     "data": {
      "application/vnd.jupyter.widget-view+json": {
       "model_id": "42ad15f630b64f66bdb322955f02c9d4",
       "version_major": 2,
       "version_minor": 0
      },
      "text/plain": [
       "Pages in Aether theories:   0%|          | 0/21 [00:00<?, ?page/s]"
      ]
     },
     "metadata": {},
     "output_type": "display_data"
    },
    {
     "data": {
      "application/vnd.jupyter.widget-view+json": {
       "model_id": "a15b222cb426490c86bef373d062e607",
       "version_major": 2,
       "version_minor": 0
      },
      "text/plain": [
       "Pages in Alchemy:   0%|          | 0/17 [00:00<?, ?page/s]"
      ]
     },
     "metadata": {},
     "output_type": "display_data"
    },
    {
     "data": {
      "application/vnd.jupyter.widget-view+json": {
       "model_id": "2797554bd929400c96cd970edc6871a5",
       "version_major": 2,
       "version_minor": 0
      },
      "text/plain": [
       "Categories (flat):   0%|          | 0/10 [00:00<?, ?cat/s]"
      ]
     },
     "metadata": {},
     "output_type": "display_data"
    },
    {
     "data": {
      "application/vnd.jupyter.widget-view+json": {
       "model_id": "672b4d1b7f7e45fe83ecc83ee358e8e9",
       "version_major": 2,
       "version_minor": 0
      },
      "text/plain": [
       "Pages in Alchemists:   0%|          | 0/3 [00:00<?, ?page/s]"
      ]
     },
     "metadata": {},
     "output_type": "display_data"
    },
    {
     "data": {
      "application/vnd.jupyter.widget-view+json": {
       "model_id": "a54a3bffc7cd4184a59ccd4cbe59a8f4",
       "version_major": 2,
       "version_minor": 0
      },
      "text/plain": [
       "Pages in Alchemical concepts:   0%|          | 0/9 [00:00<?, ?page/s]"
      ]
     },
     "metadata": {},
     "output_type": "display_data"
    },
    {
     "data": {
      "application/vnd.jupyter.widget-view+json": {
       "model_id": "9c328d50b07f456bb00702b057c8cc81",
       "version_major": 2,
       "version_minor": 0
      },
      "text/plain": [
       "Pages in Alchemical documents:   0%|          | 0/45 [00:00<?, ?page/s]"
      ]
     },
     "metadata": {},
     "output_type": "display_data"
    },
    {
     "data": {
      "application/vnd.jupyter.widget-view+json": {
       "model_id": "aaab4551dbc446c3bead153c8192dac2",
       "version_major": 2,
       "version_minor": 0
      },
      "text/plain": [
       "Pages in Fiction about alchemy:   0%|          | 0/18 [00:00<?, ?page/s]"
      ]
     },
     "metadata": {},
     "output_type": "display_data"
    },
    {
     "data": {
      "application/vnd.jupyter.widget-view+json": {
       "model_id": "5b2f73fc5ecd4759ad1b96a730f27cec",
       "version_major": 2,
       "version_minor": 0
      },
      "text/plain": [
       "Pages in Paracelsus:   0%|          | 0/12 [00:00<?, ?page/s]"
      ]
     },
     "metadata": {},
     "output_type": "display_data"
    },
    {
     "data": {
      "application/vnd.jupyter.widget-view+json": {
       "model_id": "c4382e61b30e491c87cb823716d6d9c6",
       "version_major": 2,
       "version_minor": 0
      },
      "text/plain": [
       "Pages in Alchemical processes:   0%|          | 0/26 [00:00<?, ?page/s]"
      ]
     },
     "metadata": {},
     "output_type": "display_data"
    },
    {
     "data": {
      "application/vnd.jupyter.widget-view+json": {
       "model_id": "33fc3fa3ce0e4010bccce68902a93f15",
       "version_major": 2,
       "version_minor": 0
      },
      "text/plain": [
       "Pages in Alchemical substances:   0%|          | 0/69 [00:00<?, ?page/s]"
      ]
     },
     "metadata": {},
     "output_type": "display_data"
    },
    {
     "data": {
      "application/vnd.jupyter.widget-view+json": {
       "model_id": "eefb3a78e3bb46c0bec70aba36e0e9ff",
       "version_major": 2,
       "version_minor": 0
      },
      "text/plain": [
       "Pages in Alchemical symbols:   0%|          | 0/14 [00:00<?, ?page/s]"
      ]
     },
     "metadata": {},
     "output_type": "display_data"
    },
    {
     "data": {
      "application/vnd.jupyter.widget-view+json": {
       "model_id": "fd451a38965e437fa9712ee99884edc5",
       "version_major": 2,
       "version_minor": 0
      },
      "text/plain": [
       "Pages in Alchemical tools:   0%|          | 0/12 [00:00<?, ?page/s]"
      ]
     },
     "metadata": {},
     "output_type": "display_data"
    },
    {
     "data": {
      "application/vnd.jupyter.widget-view+json": {
       "model_id": "eb326697fa2e41f4803c01370b2ba661",
       "version_major": 2,
       "version_minor": 0
      },
      "text/plain": [
       "Pages in Alchemical traditions:   0%|          | 0/6 [00:00<?, ?page/s]"
      ]
     },
     "metadata": {},
     "output_type": "display_data"
    },
    {
     "data": {
      "application/vnd.jupyter.widget-view+json": {
       "model_id": "b90b3a5a0dd045d6a89704d958946e82",
       "version_major": 2,
       "version_minor": 0
      },
      "text/plain": [
       "Pages in Ancient astronomy:   0%|          | 0/40 [00:00<?, ?page/s]"
      ]
     },
     "metadata": {},
     "output_type": "display_data"
    },
    {
     "data": {
      "application/vnd.jupyter.widget-view+json": {
       "model_id": "aa2a6b3a984047d79cf57deaa58a54a1",
       "version_major": 2,
       "version_minor": 0
      },
      "text/plain": [
       "Categories (flat):   0%|          | 0/10 [00:00<?, ?cat/s]"
      ]
     },
     "metadata": {},
     "output_type": "display_data"
    },
    {
     "data": {
      "application/vnd.jupyter.widget-view+json": {
       "model_id": "8f205a22cacc41a2baba6314a9b7ab15",
       "version_major": 2,
       "version_minor": 0
      },
      "text/plain": [
       "Pages in Ancient astronomers:   0%|          | 0/5 [00:00<?, ?page/s]"
      ]
     },
     "metadata": {},
     "output_type": "display_data"
    },
    {
     "data": {
      "application/vnd.jupyter.widget-view+json": {
       "model_id": "2ed4f62b936f4fc7a3a64dc467e10a73",
       "version_major": 2,
       "version_minor": 0
      },
      "text/plain": [
       "Pages in Ancient astronomical observatories:   0%|          | 0/8 [00:00<?, ?page/s]"
      ]
     },
     "metadata": {},
     "output_type": "display_data"
    },
    {
     "data": {
      "application/vnd.jupyter.widget-view+json": {
       "model_id": "73a7b2c02af44e0d9612030ad93e89c8",
       "version_major": 2,
       "version_minor": 0
      },
      "text/plain": [
       "Pages in Ancient calendars:   0%|          | 0/6 [00:00<?, ?page/s]"
      ]
     },
     "metadata": {},
     "output_type": "display_data"
    },
    {
     "data": {
      "application/vnd.jupyter.widget-view+json": {
       "model_id": "d0e13434fbae4ecdb53ff741a0efc214",
       "version_major": 2,
       "version_minor": 0
      },
      "text/plain": [
       "Pages in Ancient Near Eastern cosmology:   0%|          | 0/23 [00:00<?, ?page/s]"
      ]
     },
     "metadata": {},
     "output_type": "display_data"
    },
    {
     "data": {
      "application/vnd.jupyter.widget-view+json": {
       "model_id": "b5ae185d3254437da3e8c949cc9f46ae",
       "version_major": 2,
       "version_minor": 0
      },
      "text/plain": [
       "Pages in Archaeoastronomy:   0%|          | 0/78 [00:00<?, ?page/s]"
      ]
     },
     "metadata": {},
     "output_type": "display_data"
    },
    {
     "data": {
      "application/vnd.jupyter.widget-view+json": {
       "model_id": "e30a70f631404e32b2d83b0217ede106",
       "version_major": 2,
       "version_minor": 0
      },
      "text/plain": [
       "Pages in Astronomical objects known since antiquity:   0%|          | 0/35 [00:00<?, ?page/s]"
      ]
     },
     "metadata": {},
     "output_type": "display_data"
    },
    {
     "data": {
      "application/vnd.jupyter.widget-view+json": {
       "model_id": "c785ff81009444baa1c43dcdef02edc2",
       "version_major": 2,
       "version_minor": 0
      },
      "text/plain": [
       "Pages in Babylonian astronomy:   0%|          | 0/12 [00:00<?, ?page/s]"
      ]
     },
     "metadata": {},
     "output_type": "display_data"
    },
    {
     "data": {
      "application/vnd.jupyter.widget-view+json": {
       "model_id": "d95ad3ebd7cc40caa5f49d17c0917f65",
       "version_major": 2,
       "version_minor": 0
      },
      "text/plain": [
       "Pages in Early scientific cosmologies:   0%|          | 0/27 [00:00<?, ?page/s]"
      ]
     },
     "metadata": {},
     "output_type": "display_data"
    },
    {
     "data": {
      "application/vnd.jupyter.widget-view+json": {
       "model_id": "6d2fcb2403aa4f50813e9cc380da3b43",
       "version_major": 2,
       "version_minor": 0
      },
      "text/plain": [
       "Pages in Ancient Greek astronomy:   0%|          | 0/35 [00:00<?, ?page/s]"
      ]
     },
     "metadata": {},
     "output_type": "display_data"
    },
    {
     "data": {
      "application/vnd.jupyter.widget-view+json": {
       "model_id": "b7a87b9e550f45d794cc0e7fce0daae5",
       "version_major": 2,
       "version_minor": 0
      },
      "text/plain": [
       "Pages in Hindu astronomy:   0%|          | 0/82 [00:00<?, ?page/s]"
      ]
     },
     "metadata": {},
     "output_type": "display_data"
    },
    {
     "data": {
      "application/vnd.jupyter.widget-view+json": {
       "model_id": "177e52db4a1549f89faf8621d7ceebfe",
       "version_major": 2,
       "version_minor": 0
      },
      "text/plain": [
       "Pages in Ancient Greek physics:   0%|          | 0/15 [00:00<?, ?page/s]"
      ]
     },
     "metadata": {},
     "output_type": "display_data"
    },
    {
     "data": {
      "application/vnd.jupyter.widget-view+json": {
       "model_id": "44fc96d61f1d4fe997b1339c312e8525",
       "version_major": 2,
       "version_minor": 0
      },
      "text/plain": [
       "Categories (flat):   0%|          | 0/3 [00:00<?, ?cat/s]"
      ]
     },
     "metadata": {},
     "output_type": "display_data"
    },
    {
     "data": {
      "application/vnd.jupyter.widget-view+json": {
       "model_id": "67871b2bd367436fa4bc7cd6e4beb145",
       "version_major": 2,
       "version_minor": 0
      },
      "text/plain": [
       "Pages in Ancient Greek physicists:   0%|          | 0/20 [00:00<?, ?page/s]"
      ]
     },
     "metadata": {},
     "output_type": "display_data"
    },
    {
     "data": {
      "application/vnd.jupyter.widget-view+json": {
       "model_id": "d3a2c3b16b9942cdb151b9852045c6c9",
       "version_major": 2,
       "version_minor": 0
      },
      "text/plain": [
       "Pages in Ancient Greek metaphysics:   0%|          | 0/3 [00:00<?, ?page/s]"
      ]
     },
     "metadata": {},
     "output_type": "display_data"
    },
    {
     "data": {
      "application/vnd.jupyter.widget-view+json": {
       "model_id": "3c143cfdddc74ecaaf3988e5c3fb519b",
       "version_major": 2,
       "version_minor": 0
      },
      "text/plain": [
       "Pages in Ancient Greek philosophy of mind:   0%|          | 0/1 [00:00<?, ?page/s]"
      ]
     },
     "metadata": {},
     "output_type": "display_data"
    },
    {
     "data": {
      "application/vnd.jupyter.widget-view+json": {
       "model_id": "906bf1b1aa0d46cea8fe424033cf136c",
       "version_major": 2,
       "version_minor": 0
      },
      "text/plain": [
       "Pages in Classical elements:   0%|          | 0/21 [00:00<?, ?page/s]"
      ]
     },
     "metadata": {},
     "output_type": "display_data"
    },
    {
     "data": {
      "application/vnd.jupyter.widget-view+json": {
       "model_id": "f6dcc40f38d149edbd1d5cb4c434de43",
       "version_major": 2,
       "version_minor": 0
      },
      "text/plain": [
       "Categories (flat):   0%|          | 0/8 [00:00<?, ?cat/s]"
      ]
     },
     "metadata": {},
     "output_type": "display_data"
    },
    {
     "data": {
      "application/vnd.jupyter.widget-view+json": {
       "model_id": "ff890a602d534530b5f82b63a23ed79b",
       "version_major": 2,
       "version_minor": 0
      },
      "text/plain": [
       "Pages in Air in religion: 0page [00:00, ?page/s]"
      ]
     },
     "metadata": {},
     "output_type": "display_data"
    },
    {
     "data": {
      "application/vnd.jupyter.widget-view+json": {
       "model_id": "51380ebd2b96467ea77e7cd249048b90",
       "version_major": 2,
       "version_minor": 0
      },
      "text/plain": [
       "Pages in Elemental deities: 0page [00:00, ?page/s]"
      ]
     },
     "metadata": {},
     "output_type": "display_data"
    },
    {
     "data": {
      "application/vnd.jupyter.widget-view+json": {
       "model_id": "d934ee7975674914a18668cf80f36a0e",
       "version_major": 2,
       "version_minor": 0
      },
      "text/plain": [
       "Pages in Earth in religion:   0%|          | 0/9 [00:00<?, ?page/s]"
      ]
     },
     "metadata": {},
     "output_type": "display_data"
    },
    {
     "data": {
      "application/vnd.jupyter.widget-view+json": {
       "model_id": "1d9b01b2ced94a2797d53f6cf980defd",
       "version_major": 2,
       "version_minor": 0
      },
      "text/plain": [
       "Pages in Elementals:   0%|          | 0/13 [00:00<?, ?page/s]"
      ]
     },
     "metadata": {},
     "output_type": "display_data"
    },
    {
     "data": {
      "application/vnd.jupyter.widget-view+json": {
       "model_id": "5d784d4d304449efb3ba75e17e0a59e9",
       "version_major": 2,
       "version_minor": 0
      },
      "text/plain": [
       "Pages in Fiction about the classical elements:   0%|          | 0/5 [00:00<?, ?page/s]"
      ]
     },
     "metadata": {},
     "output_type": "display_data"
    },
    {
     "data": {
      "application/vnd.jupyter.widget-view+json": {
       "model_id": "761da5dbf19a404ebf3f59bcec311a40",
       "version_major": 2,
       "version_minor": 0
      },
      "text/plain": [
       "Pages in Fire in religion:   0%|          | 0/32 [00:00<?, ?page/s]"
      ]
     },
     "metadata": {},
     "output_type": "display_data"
    },
    {
     "data": {
      "application/vnd.jupyter.widget-view+json": {
       "model_id": "4d3ed2741e2e4443bd34d80e2cddf3f9",
       "version_major": 2,
       "version_minor": 0
      },
      "text/plain": [
       "Pages in Water and religion:   0%|          | 0/26 [00:00<?, ?page/s]"
      ]
     },
     "metadata": {},
     "output_type": "display_data"
    },
    {
     "data": {
      "application/vnd.jupyter.widget-view+json": {
       "model_id": "6251b157211e403a99536ee1e3829cd9",
       "version_major": 2,
       "version_minor": 0
      },
      "text/plain": [
       "Pages in Wuxing (Chinese philosophy):   0%|          | 0/10 [00:00<?, ?page/s]"
      ]
     },
     "metadata": {},
     "output_type": "display_data"
    },
    {
     "data": {
      "application/vnd.jupyter.widget-view+json": {
       "model_id": "404afb50b64c4a3cb220939a78908718",
       "version_major": 2,
       "version_minor": 0
      },
      "text/plain": [
       "Pages in Early scientific cosmologies:   0%|          | 0/27 [00:00<?, ?page/s]"
      ]
     },
     "metadata": {},
     "output_type": "display_data"
    },
    {
     "data": {
      "application/vnd.jupyter.widget-view+json": {
       "model_id": "e6b1e64074c84046aacc5141b049efb4",
       "version_major": 2,
       "version_minor": 0
      },
      "text/plain": [
       "Categories (flat):   0%|          | 0/2 [00:00<?, ?cat/s]"
      ]
     },
     "metadata": {},
     "output_type": "display_data"
    },
    {
     "data": {
      "application/vnd.jupyter.widget-view+json": {
       "model_id": "66f484ea6ab54fffa5a74b6d9c7168a9",
       "version_major": 2,
       "version_minor": 0
      },
      "text/plain": [
       "Pages in Ancient astronomers:   0%|          | 0/5 [00:00<?, ?page/s]"
      ]
     },
     "metadata": {},
     "output_type": "display_data"
    },
    {
     "data": {
      "application/vnd.jupyter.widget-view+json": {
       "model_id": "f37eb777fb5f4859a7b39864448a185a",
       "version_major": 2,
       "version_minor": 0
      },
      "text/plain": [
       "Pages in Flat Earth:   0%|          | 0/20 [00:00<?, ?page/s]"
      ]
     },
     "metadata": {},
     "output_type": "display_data"
    },
    {
     "data": {
      "application/vnd.jupyter.widget-view+json": {
       "model_id": "9bfcb521958b479b82b6de3080946fad",
       "version_major": 2,
       "version_minor": 0
      },
      "text/plain": [
       "Pages in Fringe physics:   0%|          | 0/37 [00:00<?, ?page/s]"
      ]
     },
     "metadata": {},
     "output_type": "display_data"
    },
    {
     "data": {
      "application/vnd.jupyter.widget-view+json": {
       "model_id": "1b2b22fb062a4c25a14c238643813694",
       "version_major": 2,
       "version_minor": 0
      },
      "text/plain": [
       "Categories (flat):   0%|          | 0/5 [00:00<?, ?cat/s]"
      ]
     },
     "metadata": {},
     "output_type": "display_data"
    },
    {
     "data": {
      "application/vnd.jupyter.widget-view+json": {
       "model_id": "ee4eb39bae004e94be455204f61e359c",
       "version_major": 2,
       "version_minor": 0
      },
      "text/plain": [
       "Pages in Anti-gravity:   0%|          | 0/13 [00:00<?, ?page/s]"
      ]
     },
     "metadata": {},
     "output_type": "display_data"
    },
    {
     "data": {
      "application/vnd.jupyter.widget-view+json": {
       "model_id": "2be74684ec2e435fa06737dc68e4573a",
       "version_major": 2,
       "version_minor": 0
      },
      "text/plain": [
       "Pages in Cold fusion:   0%|          | 0/35 [00:00<?, ?page/s]"
      ]
     },
     "metadata": {},
     "output_type": "display_data"
    },
    {
     "data": {
      "application/vnd.jupyter.widget-view+json": {
       "model_id": "fd9bee8f53514ddb9e7c0d614d3377a7",
       "version_major": 2,
       "version_minor": 0
      },
      "text/plain": [
       "Pages in Faster-than-light travel:   0%|          | 0/8 [00:00<?, ?page/s]"
      ]
     },
     "metadata": {},
     "output_type": "display_data"
    },
    {
     "data": {
      "application/vnd.jupyter.widget-view+json": {
       "model_id": "c8f10e3d92b04f3dba648efce65efb2c",
       "version_major": 2,
       "version_minor": 0
      },
      "text/plain": [
       "Pages in Perpetual motion:   0%|          | 0/21 [00:00<?, ?page/s]"
      ]
     },
     "metadata": {},
     "output_type": "display_data"
    },
    {
     "data": {
      "application/vnd.jupyter.widget-view+json": {
       "model_id": "14e5caa2b6414a81a4582e164a7be079",
       "version_major": 2,
       "version_minor": 0
      },
      "text/plain": [
       "Pages in Teleportation:   0%|          | 0/9 [00:00<?, ?page/s]"
      ]
     },
     "metadata": {},
     "output_type": "display_data"
    },
    {
     "data": {
      "application/vnd.jupyter.widget-view+json": {
       "model_id": "edec2f954d1d409ea61bcf56673f471f",
       "version_major": 2,
       "version_minor": 0
      },
      "text/plain": [
       "Pages in Physical cosmology:   0%|          | 0/100 [00:00<?, ?page/s]"
      ]
     },
     "metadata": {},
     "output_type": "display_data"
    },
    {
     "data": {
      "application/vnd.jupyter.widget-view+json": {
       "model_id": "f64cc6cd6fc749eabf604c016f3a2c97",
       "version_major": 2,
       "version_minor": 0
      },
      "text/plain": [
       "Categories (flat):   0%|          | 0/10 [00:00<?, ?cat/s]"
      ]
     },
     "metadata": {},
     "output_type": "display_data"
    },
    {
     "data": {
      "application/vnd.jupyter.widget-view+json": {
       "model_id": "df9cd30d6c72499eb4f69d430498b6fe",
       "version_major": 2,
       "version_minor": 0
      },
      "text/plain": [
       "Pages in Anthropic principle:   0%|          | 0/7 [00:00<?, ?page/s]"
      ]
     },
     "metadata": {},
     "output_type": "display_data"
    },
    {
     "data": {
      "application/vnd.jupyter.widget-view+json": {
       "model_id": "526934db333c4172b48e0adb056e8f9d",
       "version_major": 2,
       "version_minor": 0
      },
      "text/plain": [
       "Pages in Physical cosmological concepts:   0%|          | 0/38 [00:00<?, ?page/s]"
      ]
     },
     "metadata": {},
     "output_type": "display_data"
    },
    {
     "data": {
      "application/vnd.jupyter.widget-view+json": {
       "model_id": "2a3dfd775fd94e71b5a434e9989e6bc8",
       "version_major": 2,
       "version_minor": 0
      },
      "text/plain": [
       "Pages in Copernican Revolution:   0%|          | 0/28 [00:00<?, ?page/s]"
      ]
     },
     "metadata": {},
     "output_type": "display_data"
    },
    {
     "data": {
      "application/vnd.jupyter.widget-view+json": {
       "model_id": "ac36e766ab914bdd80550c1f546d0a81",
       "version_major": 2,
       "version_minor": 0
      },
      "text/plain": [
       "Categories (flat):   0%|          | 0/5 [00:00<?, ?cat/s]"
      ]
     },
     "metadata": {},
     "output_type": "display_data"
    },
    {
     "data": {
      "application/vnd.jupyter.widget-view+json": {
       "model_id": "8036438d61ec4943bace96206aa852e4",
       "version_major": 2,
       "version_minor": 0
      },
      "text/plain": [
       "Pages in Tycho Brahe:   0%|          | 0/10 [00:00<?, ?page/s]"
      ]
     },
     "metadata": {},
     "output_type": "display_data"
    },
    {
     "data": {
      "application/vnd.jupyter.widget-view+json": {
       "model_id": "555e94fb60554f1985937c7e6248d4c1",
       "version_major": 2,
       "version_minor": 0
      },
      "text/plain": [
       "Pages in Nicolaus Copernicus:   0%|          | 0/16 [00:00<?, ?page/s]"
      ]
     },
     "metadata": {},
     "output_type": "display_data"
    },
    {
     "data": {
      "application/vnd.jupyter.widget-view+json": {
       "model_id": "78c1fe45264c4448a41df00953487263",
       "version_major": 2,
       "version_minor": 0
      },
      "text/plain": [
       "Pages in Galileo Galilei:   0%|          | 0/32 [00:00<?, ?page/s]"
      ]
     },
     "metadata": {},
     "output_type": "display_data"
    },
    {
     "data": {
      "application/vnd.jupyter.widget-view+json": {
       "model_id": "045f5ed36c4e4ed8917da52d1b0114fb",
       "version_major": 2,
       "version_minor": 0
      },
      "text/plain": [
       "Pages in Galileo affair:   0%|          | 0/12 [00:00<?, ?page/s]"
      ]
     },
     "metadata": {},
     "output_type": "display_data"
    },
    {
     "data": {
      "application/vnd.jupyter.widget-view+json": {
       "model_id": "5b8c95d3cafe44c192c358f3d429116b",
       "version_major": 2,
       "version_minor": 0
      },
      "text/plain": [
       "Pages in Johannes Kepler:   0%|          | 0/20 [00:00<?, ?page/s]"
      ]
     },
     "metadata": {},
     "output_type": "display_data"
    },
    {
     "data": {
      "application/vnd.jupyter.widget-view+json": {
       "model_id": "15e3ea51e8eb45bf9b79a9b044512b55",
       "version_major": 2,
       "version_minor": 0
      },
      "text/plain": [
       "Pages in Cosmic background radiation:   0%|          | 0/13 [00:00<?, ?page/s]"
      ]
     },
     "metadata": {},
     "output_type": "display_data"
    },
    {
     "data": {
      "application/vnd.jupyter.widget-view+json": {
       "model_id": "ac36e8b93f4b4e03a522a9e4ac499775",
       "version_major": 2,
       "version_minor": 0
      },
      "text/plain": [
       "Categories (flat):   0%|          | 0/1 [00:00<?, ?cat/s]"
      ]
     },
     "metadata": {},
     "output_type": "display_data"
    },
    {
     "data": {
      "application/vnd.jupyter.widget-view+json": {
       "model_id": "33b5553acda04b8594e287efb545c750",
       "version_major": 2,
       "version_minor": 0
      },
      "text/plain": [
       "Pages in Cosmic microwave background experiments:   0%|          | 0/44 [00:00<?, ?page/s]"
      ]
     },
     "metadata": {},
     "output_type": "display_data"
    },
    {
     "data": {
      "application/vnd.jupyter.widget-view+json": {
       "model_id": "5cd83e7d94f242059868c4f8d48e259d",
       "version_major": 2,
       "version_minor": 0
      },
      "text/plain": [
       "Pages in Cosmic microwave background experiments:   0%|          | 0/44 [00:00<?, ?page/s]"
      ]
     },
     "metadata": {},
     "output_type": "display_data"
    },
    {
     "name": "stdout",
     "output_type": "stream",
     "text": [
      "[Erreur] Impossible de charger la page 'The E and B Experiment' : HTTPSConnectionPool(host='en.wikipedia.org', port=443): Read timed out. (read timeout=10.0)\n",
      "[Erreur] Impossible de charger la page 'GroundBIRD' : HTTPSConnectionPool(host='en.wikipedia.org', port=443): Max retries exceeded with url: /w/api.php?format=json&redirects=1&action=query&prop=info&titles=GroundBIRD&inprop=protection%7Ctalkid%7Cwatched%7Cwatchers%7Cvisitingwatchers%7Cnotificationtimestamp%7Csubjectid%7Curl%7Creadable%7Cpreload%7Cdisplaytitle%7Cvarianttitles (Caused by NewConnectionError('<urllib3.connection.HTTPSConnection object at 0x74417f717da0>: Failed to establish a new connection: [Errno 101] Network is unreachable'))\n",
      "[Erreur] Impossible de charger la page 'LiteBIRD' : HTTPSConnectionPool(host='en.wikipedia.org', port=443): Max retries exceeded with url: /w/api.php?format=json&redirects=1&action=query&prop=info&titles=LiteBIRD&inprop=protection%7Ctalkid%7Cwatched%7Cwatchers%7Cvisitingwatchers%7Cnotificationtimestamp%7Csubjectid%7Curl%7Creadable%7Cpreload%7Cdisplaytitle%7Cvarianttitles (Caused by NewConnectionError('<urllib3.connection.HTTPSConnection object at 0x74417f7c1310>: Failed to establish a new connection: [Errno 101] Network is unreachable'))\n",
      "[Erreur] Impossible de charger la page 'Millimeter Anisotropy eXperiment IMaging Array' : HTTPSConnectionPool(host='en.wikipedia.org', port=443): Max retries exceeded with url: /w/api.php?format=json&redirects=1&action=query&prop=info&titles=Millimeter+Anisotropy+eXperiment+IMaging+Array&inprop=protection%7Ctalkid%7Cwatched%7Cwatchers%7Cvisitingwatchers%7Cnotificationtimestamp%7Csubjectid%7Curl%7Creadable%7Cpreload%7Cdisplaytitle%7Cvarianttitles (Caused by NewConnectionError('<urllib3.connection.HTTPSConnection object at 0x74417f714d70>: Failed to establish a new connection: [Errno 101] Network is unreachable'))\n",
      "[Erreur] Impossible de charger la page 'Mobile Anisotropy Telescope' : HTTPSConnectionPool(host='en.wikipedia.org', port=443): Max retries exceeded with url: /w/api.php?format=json&redirects=1&action=query&prop=info&titles=Mobile+Anisotropy+Telescope&inprop=protection%7Ctalkid%7Cwatched%7Cwatchers%7Cvisitingwatchers%7Cnotificationtimestamp%7Csubjectid%7Curl%7Creadable%7Cpreload%7Cdisplaytitle%7Cvarianttitles (Caused by NewConnectionError('<urllib3.connection.HTTPSConnection object at 0x74417f716600>: Failed to establish a new connection: [Errno 101] Network is unreachable'))\n",
      "[Erreur] Impossible de charger la page 'Planck (spacecraft)' : HTTPSConnectionPool(host='en.wikipedia.org', port=443): Max retries exceeded with url: /w/api.php?format=json&redirects=1&action=query&prop=info&titles=Planck+%28spacecraft%29&inprop=protection%7Ctalkid%7Cwatched%7Cwatchers%7Cvisitingwatchers%7Cnotificationtimestamp%7Csubjectid%7Curl%7Creadable%7Cpreload%7Cdisplaytitle%7Cvarianttitles (Caused by NewConnectionError('<urllib3.connection.HTTPSConnection object at 0x74417f717b00>: Failed to establish a new connection: [Errno 101] Network is unreachable'))\n",
      "[Erreur] Impossible de charger la page 'POLARBEAR' : HTTPSConnectionPool(host='en.wikipedia.org', port=443): Max retries exceeded with url: /w/api.php?format=json&redirects=1&action=query&prop=info&titles=POLARBEAR&inprop=protection%7Ctalkid%7Cwatched%7Cwatchers%7Cvisitingwatchers%7Cnotificationtimestamp%7Csubjectid%7Curl%7Creadable%7Cpreload%7Cdisplaytitle%7Cvarianttitles (Caused by NewConnectionError('<urllib3.connection.HTTPSConnection object at 0x74417f7301a0>: Failed to establish a new connection: [Errno 101] Network is unreachable'))\n",
      "[Erreur] Impossible de charger la page 'QMAP' : HTTPSConnectionPool(host='en.wikipedia.org', port=443): Max retries exceeded with url: /w/api.php?format=json&redirects=1&action=query&prop=info&titles=QMAP&inprop=protection%7Ctalkid%7Cwatched%7Cwatchers%7Cvisitingwatchers%7Cnotificationtimestamp%7Csubjectid%7Curl%7Creadable%7Cpreload%7Cdisplaytitle%7Cvarianttitles (Caused by NewConnectionError('<urllib3.connection.HTTPSConnection object at 0x74417f730b90>: Failed to establish a new connection: [Errno 101] Network is unreachable'))\n",
      "[Erreur] Impossible de charger la page 'QUaD' : HTTPSConnectionPool(host='en.wikipedia.org', port=443): Max retries exceeded with url: /w/api.php?format=json&redirects=1&action=query&prop=info&titles=QUaD&inprop=protection%7Ctalkid%7Cwatched%7Cwatchers%7Cvisitingwatchers%7Cnotificationtimestamp%7Csubjectid%7Curl%7Creadable%7Cpreload%7Cdisplaytitle%7Cvarianttitles (Caused by NewConnectionError('<urllib3.connection.HTTPSConnection object at 0x74417f730ec0>: Failed to establish a new connection: [Errno 101] Network is unreachable'))\n",
      "[Erreur] Impossible de charger la page 'Qubic experiment' : HTTPSConnectionPool(host='en.wikipedia.org', port=443): Max retries exceeded with url: /w/api.php?format=json&redirects=1&action=query&prop=info&titles=Qubic+experiment&inprop=protection%7Ctalkid%7Cwatched%7Cwatchers%7Cvisitingwatchers%7Cnotificationtimestamp%7Csubjectid%7Curl%7Creadable%7Cpreload%7Cdisplaytitle%7Cvarianttitles (Caused by NewConnectionError('<urllib3.connection.HTTPSConnection object at 0x74417f731520>: Failed to establish a new connection: [Errno 101] Network is unreachable'))\n",
      "[Erreur] Impossible de charger la page 'QUIET' : HTTPSConnectionPool(host='en.wikipedia.org', port=443): Max retries exceeded with url: /w/api.php?format=json&redirects=1&action=query&prop=info&titles=QUIET&inprop=protection%7Ctalkid%7Cwatched%7Cwatchers%7Cvisitingwatchers%7Cnotificationtimestamp%7Csubjectid%7Curl%7Creadable%7Cpreload%7Cdisplaytitle%7Cvarianttitles (Caused by NewConnectionError('<urllib3.connection.HTTPSConnection object at 0x74417f717530>: Failed to establish a new connection: [Errno 101] Network is unreachable'))\n",
      "[Erreur] Impossible de charger la page 'QUIJOTE Experiment' : HTTPSConnectionPool(host='en.wikipedia.org', port=443): Max retries exceeded with url: /w/api.php?format=json&redirects=1&action=query&prop=info&titles=QUIJOTE+Experiment&inprop=protection%7Ctalkid%7Cwatched%7Cwatchers%7Cvisitingwatchers%7Cnotificationtimestamp%7Csubjectid%7Curl%7Creadable%7Cpreload%7Cdisplaytitle%7Cvarianttitles (Caused by NewConnectionError('<urllib3.connection.HTTPSConnection object at 0x74417f714a10>: Failed to establish a new connection: [Errno 101] Network is unreachable'))\n",
      "[Erreur] Impossible de charger la page 'RELIKT-1' : HTTPSConnectionPool(host='en.wikipedia.org', port=443): Max retries exceeded with url: /w/api.php?format=json&redirects=1&action=query&prop=info&titles=RELIKT-1&inprop=protection%7Ctalkid%7Cwatched%7Cwatchers%7Cvisitingwatchers%7Cnotificationtimestamp%7Csubjectid%7Curl%7Creadable%7Cpreload%7Cdisplaytitle%7Cvarianttitles (Caused by NewConnectionError('<urllib3.connection.HTTPSConnection object at 0x74417f715e50>: Failed to establish a new connection: [Errno 101] Network is unreachable'))\n",
      "[Erreur] Impossible de charger la page 'Saskatoon experiment' : HTTPSConnectionPool(host='en.wikipedia.org', port=443): Max retries exceeded with url: /w/api.php?format=json&redirects=1&action=query&prop=info&titles=Saskatoon+experiment&inprop=protection%7Ctalkid%7Cwatched%7Cwatchers%7Cvisitingwatchers%7Cnotificationtimestamp%7Csubjectid%7Curl%7Creadable%7Cpreload%7Cdisplaytitle%7Cvarianttitles (Caused by NewConnectionError('<urllib3.connection.HTTPSConnection object at 0x74417f90be90>: Failed to establish a new connection: [Errno 101] Network is unreachable'))\n",
      "[Erreur] Impossible de charger la page 'Simons Observatory' : HTTPSConnectionPool(host='en.wikipedia.org', port=443): Max retries exceeded with url: /w/api.php?format=json&redirects=1&action=query&prop=info&titles=Simons+Observatory&inprop=protection%7Ctalkid%7Cwatched%7Cwatchers%7Cvisitingwatchers%7Cnotificationtimestamp%7Csubjectid%7Curl%7Creadable%7Cpreload%7Cdisplaytitle%7Cvarianttitles (Caused by NewConnectionError('<urllib3.connection.HTTPSConnection object at 0x74417f7c23c0>: Failed to establish a new connection: [Errno 101] Network is unreachable'))\n",
      "[Erreur] Impossible de charger la page 'Sky Polarization Observatory' : HTTPSConnectionPool(host='en.wikipedia.org', port=443): Max retries exceeded with url: /w/api.php?format=json&redirects=1&action=query&prop=info&titles=Sky+Polarization+Observatory&inprop=protection%7Ctalkid%7Cwatched%7Cwatchers%7Cvisitingwatchers%7Cnotificationtimestamp%7Csubjectid%7Curl%7Creadable%7Cpreload%7Cdisplaytitle%7Cvarianttitles (Caused by NewConnectionError('<urllib3.connection.HTTPSConnection object at 0x74417f730ec0>: Failed to establish a new connection: [Errno 101] Network is unreachable'))\n",
      "[Erreur] Impossible de charger la page 'South Pole Telescope' : HTTPSConnectionPool(host='en.wikipedia.org', port=443): Max retries exceeded with url: /w/api.php?format=json&redirects=1&action=query&prop=info&titles=South+Pole+Telescope&inprop=protection%7Ctalkid%7Cwatched%7Cwatchers%7Cvisitingwatchers%7Cnotificationtimestamp%7Csubjectid%7Curl%7Creadable%7Cpreload%7Cdisplaytitle%7Cvarianttitles (Caused by NewConnectionError('<urllib3.connection.HTTPSConnection object at 0x74417f730bf0>: Failed to establish a new connection: [Errno 101] Network is unreachable'))\n",
      "[Erreur] Impossible de charger la page 'Spider (polarimeter)' : HTTPSConnectionPool(host='en.wikipedia.org', port=443): Max retries exceeded with url: /w/api.php?format=json&redirects=1&action=query&prop=info&titles=Spider+%28polarimeter%29&inprop=protection%7Ctalkid%7Cwatched%7Cwatchers%7Cvisitingwatchers%7Cnotificationtimestamp%7Csubjectid%7Curl%7Creadable%7Cpreload%7Cdisplaytitle%7Cvarianttitles (Caused by NewConnectionError('<urllib3.connection.HTTPSConnection object at 0x74417f730560>: Failed to establish a new connection: [Errno 101] Network is unreachable'))\n",
      "[Erreur] Impossible de charger la page 'Sunyaev–Zel'dovich Array' : HTTPSConnectionPool(host='en.wikipedia.org', port=443): Max retries exceeded with url: /w/api.php?format=json&redirects=1&action=query&prop=info&titles=Sunyaev%E2%80%93Zel%27dovich+Array&inprop=protection%7Ctalkid%7Cwatched%7Cwatchers%7Cvisitingwatchers%7Cnotificationtimestamp%7Csubjectid%7Curl%7Creadable%7Cpreload%7Cdisplaytitle%7Cvarianttitles (Caused by NewConnectionError('<urllib3.connection.HTTPSConnection object at 0x74417f7318e0>: Failed to establish a new connection: [Errno 101] Network is unreachable'))\n",
      "[Erreur] Impossible de charger la page 'Tenerife Experiment' : HTTPSConnectionPool(host='en.wikipedia.org', port=443): Max retries exceeded with url: /w/api.php?format=json&redirects=1&action=query&prop=info&titles=Tenerife+Experiment&inprop=protection%7Ctalkid%7Cwatched%7Cwatchers%7Cvisitingwatchers%7Cnotificationtimestamp%7Csubjectid%7Curl%7Creadable%7Cpreload%7Cdisplaytitle%7Cvarianttitles (Caused by NewConnectionError('<urllib3.connection.HTTPSConnection object at 0x74417f909070>: Failed to establish a new connection: [Errno 101] Network is unreachable'))\n",
      "[Erreur] Impossible de charger la page 'TopHat (telescope)' : HTTPSConnectionPool(host='en.wikipedia.org', port=443): Max retries exceeded with url: /w/api.php?format=json&redirects=1&action=query&prop=info&titles=TopHat+%28telescope%29&inprop=protection%7Ctalkid%7Cwatched%7Cwatchers%7Cvisitingwatchers%7Cnotificationtimestamp%7Csubjectid%7Curl%7Creadable%7Cpreload%7Cdisplaytitle%7Cvarianttitles (Caused by NewConnectionError('<urllib3.connection.HTTPSConnection object at 0x74417f88a3c0>: Failed to establish a new connection: [Errno 101] Network is unreachable'))\n",
      "[Erreur] Impossible de charger la page 'Very Small Array' : HTTPSConnectionPool(host='en.wikipedia.org', port=443): Max retries exceeded with url: /w/api.php?format=json&redirects=1&action=query&prop=info&titles=Very+Small+Array&inprop=protection%7Ctalkid%7Cwatched%7Cwatchers%7Cvisitingwatchers%7Cnotificationtimestamp%7Csubjectid%7Curl%7Creadable%7Cpreload%7Cdisplaytitle%7Cvarianttitles (Caused by NewConnectionError('<urllib3.connection.HTTPSConnection object at 0x74417f717620>: Failed to establish a new connection: [Errno 101] Network is unreachable'))\n",
      "[Erreur] Impossible de charger la page 'Viper telescope' : HTTPSConnectionPool(host='en.wikipedia.org', port=443): Max retries exceeded with url: /w/api.php?format=json&redirects=1&action=query&prop=info&titles=Viper+telescope&inprop=protection%7Ctalkid%7Cwatched%7Cwatchers%7Cvisitingwatchers%7Cnotificationtimestamp%7Csubjectid%7Curl%7Creadable%7Cpreload%7Cdisplaytitle%7Cvarianttitles (Caused by NewConnectionError('<urllib3.connection.HTTPSConnection object at 0x74417f717530>: Failed to establish a new connection: [Errno 101] Network is unreachable'))\n",
      "[Erreur] Impossible de charger la page 'Wilkinson Microwave Anisotropy Probe' : HTTPSConnectionPool(host='en.wikipedia.org', port=443): Max retries exceeded with url: /w/api.php?format=json&redirects=1&action=query&prop=info&titles=Wilkinson+Microwave+Anisotropy+Probe&inprop=protection%7Ctalkid%7Cwatched%7Cwatchers%7Cvisitingwatchers%7Cnotificationtimestamp%7Csubjectid%7Curl%7Creadable%7Cpreload%7Cdisplaytitle%7Cvarianttitles (Caused by NewConnectionError('<urllib3.connection.HTTPSConnection object at 0x74417f730080>: Failed to establish a new connection: [Errno 101] Network is unreachable'))\n"
     ]
    },
    {
     "data": {
      "application/vnd.jupyter.widget-view+json": {
       "model_id": "7a075e6dff70484e9ffa0cd26756cf3d",
       "version_major": 2,
       "version_minor": 0
      },
      "text/plain": [
       "Pages in Cosmogony:   0%|          | 0/19 [00:00<?, ?page/s]"
      ]
     },
     "metadata": {},
     "output_type": "display_data"
    },
    {
     "name": "stdout",
     "output_type": "stream",
     "text": [
      "[Erreur] Impossible de charger la page 'Cosmogony' : HTTPSConnectionPool(host='en.wikipedia.org', port=443): Max retries exceeded with url: /w/api.php?format=json&redirects=1&action=query&prop=info&titles=Cosmogony&inprop=protection%7Ctalkid%7Cwatched%7Cwatchers%7Cvisitingwatchers%7Cnotificationtimestamp%7Csubjectid%7Curl%7Creadable%7Cpreload%7Cdisplaytitle%7Cvarianttitles (Caused by NewConnectionError('<urllib3.connection.HTTPSConnection object at 0x74417f730890>: Failed to establish a new connection: [Errno 101] Network is unreachable'))\n",
      "[Erreur] Impossible de charger la page 'Why is there anything at all?' : HTTPSConnectionPool(host='en.wikipedia.org', port=443): Max retries exceeded with url: /w/api.php?format=json&redirects=1&action=query&prop=info&titles=Why+is+there+anything+at+all%3F&inprop=protection%7Ctalkid%7Cwatched%7Cwatchers%7Cvisitingwatchers%7Cnotificationtimestamp%7Csubjectid%7Curl%7Creadable%7Cpreload%7Cdisplaytitle%7Cvarianttitles (Caused by NewConnectionError('<urllib3.connection.HTTPSConnection object at 0x74417f731af0>: Failed to establish a new connection: [Errno 101] Network is unreachable'))\n",
      "[Erreur] Impossible de charger la page 'Age of the universe' : HTTPSConnectionPool(host='en.wikipedia.org', port=443): Max retries exceeded with url: /w/api.php?format=json&redirects=1&action=query&prop=info&titles=Age+of+the+universe&inprop=protection%7Ctalkid%7Cwatched%7Cwatchers%7Cvisitingwatchers%7Cnotificationtimestamp%7Csubjectid%7Curl%7Creadable%7Cpreload%7Cdisplaytitle%7Cvarianttitles (Caused by NewConnectionError('<urllib3.connection.HTTPSConnection object at 0x74417f7141d0>: Failed to establish a new connection: [Errno 101] Network is unreachable'))\n",
      "[Erreur] Impossible de charger la page 'Apeiron' : HTTPSConnectionPool(host='en.wikipedia.org', port=443): Max retries exceeded with url: /w/api.php?format=json&redirects=1&action=query&prop=info&titles=Apeiron&inprop=protection%7Ctalkid%7Cwatched%7Cwatchers%7Cvisitingwatchers%7Cnotificationtimestamp%7Csubjectid%7Curl%7Creadable%7Cpreload%7Cdisplaytitle%7Cvarianttitles (Caused by NewConnectionError('<urllib3.connection.HTTPSConnection object at 0x74417f717a70>: Failed to establish a new connection: [Errno 101] Network is unreachable'))\n",
      "[Erreur] Impossible de charger la page 'Cosmographia (Bernardus Silvestris)' : HTTPSConnectionPool(host='en.wikipedia.org', port=443): Max retries exceeded with url: /w/api.php?format=json&redirects=1&action=query&prop=info&titles=Cosmographia+%28Bernardus+Silvestris%29&inprop=protection%7Ctalkid%7Cwatched%7Cwatchers%7Cvisitingwatchers%7Cnotificationtimestamp%7Csubjectid%7Curl%7Creadable%7Cpreload%7Cdisplaytitle%7Cvarianttitles (Caused by NewConnectionError('<urllib3.connection.HTTPSConnection object at 0x74417f715a00>: Failed to establish a new connection: [Errno 101] Network is unreachable'))\n",
      "[Erreur] Impossible de charger la page 'Creation myth' : HTTPSConnectionPool(host='en.wikipedia.org', port=443): Max retries exceeded with url: /w/api.php?format=json&redirects=1&action=query&prop=info&titles=Creation+myth&inprop=protection%7Ctalkid%7Cwatched%7Cwatchers%7Cvisitingwatchers%7Cnotificationtimestamp%7Csubjectid%7Curl%7Creadable%7Cpreload%7Cdisplaytitle%7Cvarianttitles (Caused by NewConnectionError('<urllib3.connection.HTTPSConnection object at 0x74417f716f60>: Failed to establish a new connection: [Errno 101] Network is unreachable'))\n",
      "[Erreur] Impossible de charger la page 'The Fall of the Angels' : HTTPSConnectionPool(host='en.wikipedia.org', port=443): Max retries exceeded with url: /w/api.php?format=json&redirects=1&action=query&prop=info&titles=The+Fall+of+the+Angels&inprop=protection%7Ctalkid%7Cwatched%7Cwatchers%7Cvisitingwatchers%7Cnotificationtimestamp%7Csubjectid%7Curl%7Creadable%7Cpreload%7Cdisplaytitle%7Cvarianttitles (Caused by NewConnectionError('<urllib3.connection.HTTPSConnection object at 0x74417f882e70>: Failed to establish a new connection: [Errno 101] Network is unreachable'))\n",
      "[Erreur] Impossible de charger la page 'Formation and evolution of the Solar System' : HTTPSConnectionPool(host='en.wikipedia.org', port=443): Max retries exceeded with url: /w/api.php?format=json&redirects=1&action=query&prop=info&titles=Formation+and+evolution+of+the+Solar+System&inprop=protection%7Ctalkid%7Cwatched%7Cwatchers%7Cvisitingwatchers%7Cnotificationtimestamp%7Csubjectid%7Curl%7Creadable%7Cpreload%7Cdisplaytitle%7Cvarianttitles (Caused by NewConnectionError('<urllib3.connection.HTTPSConnection object at 0x74417f7c2f30>: Failed to establish a new connection: [Errno 101] Network is unreachable'))\n",
      "[Erreur] Impossible de charger la page 'Gravitational instability' : HTTPSConnectionPool(host='en.wikipedia.org', port=443): Max retries exceeded with url: /w/api.php?format=json&redirects=1&action=query&prop=info&titles=Gravitational+instability&inprop=protection%7Ctalkid%7Cwatched%7Cwatchers%7Cvisitingwatchers%7Cnotificationtimestamp%7Csubjectid%7Curl%7Creadable%7Cpreload%7Cdisplaytitle%7Cvarianttitles (Caused by NewConnectionError('<urllib3.connection.HTTPSConnection object at 0x74417f7c16a0>: Failed to establish a new connection: [Errno 101] Network is unreachable'))\n",
      "[Erreur] Impossible de charger la page 'Indo-European cosmogony' : HTTPSConnectionPool(host='en.wikipedia.org', port=443): Max retries exceeded with url: /w/api.php?format=json&redirects=1&action=query&prop=info&titles=Indo-European+cosmogony&inprop=protection%7Ctalkid%7Cwatched%7Cwatchers%7Cvisitingwatchers%7Cnotificationtimestamp%7Csubjectid%7Curl%7Creadable%7Cpreload%7Cdisplaytitle%7Cvarianttitles (Caused by NewConnectionError('<urllib3.connection.HTTPSConnection object at 0x74417f7c33b0>: Failed to establish a new connection: [Errno 101] Network is unreachable'))\n",
      "[Erreur] Impossible de charger la page 'Mongolian cosmogony' : HTTPSConnectionPool(host='en.wikipedia.org', port=443): Max retries exceeded with url: /w/api.php?format=json&redirects=1&action=query&prop=info&titles=Mongolian+cosmogony&inprop=protection%7Ctalkid%7Cwatched%7Cwatchers%7Cvisitingwatchers%7Cnotificationtimestamp%7Csubjectid%7Curl%7Creadable%7Cpreload%7Cdisplaytitle%7Cvarianttitles (Caused by NewConnectionError('<urllib3.connection.HTTPSConnection object at 0x74417f803f80>: Failed to establish a new connection: [Errno 101] Network is unreachable'))\n",
      "[Erreur] Impossible de charger la page 'Nebular hypothesis' : HTTPSConnectionPool(host='en.wikipedia.org', port=443): Max retries exceeded with url: /w/api.php?format=json&redirects=1&action=query&prop=info&titles=Nebular+hypothesis&inprop=protection%7Ctalkid%7Cwatched%7Cwatchers%7Cvisitingwatchers%7Cnotificationtimestamp%7Csubjectid%7Curl%7Creadable%7Cpreload%7Cdisplaytitle%7Cvarianttitles (Caused by NewConnectionError('<urllib3.connection.HTTPSConnection object at 0x74417f7c0530>: Failed to establish a new connection: [Errno 101] Network is unreachable'))\n",
      "[Erreur] Impossible de charger la page 'Origin myth' : HTTPSConnectionPool(host='en.wikipedia.org', port=443): Max retries exceeded with url: /w/api.php?format=json&redirects=1&action=query&prop=info&titles=Origin+myth&inprop=protection%7Ctalkid%7Cwatched%7Cwatchers%7Cvisitingwatchers%7Cnotificationtimestamp%7Csubjectid%7Curl%7Creadable%7Cpreload%7Cdisplaytitle%7Cvarianttitles (Caused by NewConnectionError('<urllib3.connection.HTTPSConnection object at 0x74417f7c3800>: Failed to establish a new connection: [Errno 101] Network is unreachable'))\n",
      "[Erreur] Impossible de charger la page 'Paradise Lost' : HTTPSConnectionPool(host='en.wikipedia.org', port=443): Max retries exceeded with url: /w/api.php?format=json&redirects=1&action=query&prop=info&titles=Paradise+Lost&inprop=protection%7Ctalkid%7Cwatched%7Cwatchers%7Cvisitingwatchers%7Cnotificationtimestamp%7Csubjectid%7Curl%7Creadable%7Cpreload%7Cdisplaytitle%7Cvarianttitles (Caused by NewConnectionError('<urllib3.connection.HTTPSConnection object at 0x74417f923770>: Failed to establish a new connection: [Errno 101] Network is unreachable'))\n",
      "[Erreur] Impossible de charger la page 'Pherecydes of Syros' : HTTPSConnectionPool(host='en.wikipedia.org', port=443): Max retries exceeded with url: /w/api.php?format=json&redirects=1&action=query&prop=info&titles=Pherecydes+of+Syros&inprop=protection%7Ctalkid%7Cwatched%7Cwatchers%7Cvisitingwatchers%7Cnotificationtimestamp%7Csubjectid%7Curl%7Creadable%7Cpreload%7Cdisplaytitle%7Cvarianttitles (Caused by NewConnectionError('<urllib3.connection.HTTPSConnection object at 0x74417f7c1880>: Failed to establish a new connection: [Errno 101] Network is unreachable'))\n",
      "[Erreur] Impossible de charger la page 'The Poem of Angkor Wat' : HTTPSConnectionPool(host='en.wikipedia.org', port=443): Max retries exceeded with url: /w/api.php?format=json&redirects=1&action=query&prop=info&titles=The+Poem+of+Angkor+Wat&inprop=protection%7Ctalkid%7Cwatched%7Cwatchers%7Cvisitingwatchers%7Cnotificationtimestamp%7Csubjectid%7Curl%7Creadable%7Cpreload%7Cdisplaytitle%7Cvarianttitles (Caused by NewConnectionError('<urllib3.connection.HTTPSConnection object at 0x74417f714890>: Failed to establish a new connection: [Errno 101] Network is unreachable'))\n",
      "[Erreur] Impossible de charger la page 'Steady-state model' : HTTPSConnectionPool(host='en.wikipedia.org', port=443): Max retries exceeded with url: /w/api.php?format=json&redirects=1&action=query&prop=info&titles=Steady-state+model&inprop=protection%7Ctalkid%7Cwatched%7Cwatchers%7Cvisitingwatchers%7Cnotificationtimestamp%7Csubjectid%7Curl%7Creadable%7Cpreload%7Cdisplaytitle%7Cvarianttitles (Caused by NewConnectionError('<urllib3.connection.HTTPSConnection object at 0x74417f716de0>: Failed to establish a new connection: [Errno 101] Network is unreachable'))\n",
      "[Erreur] Impossible de charger la page 'Universal Natural History and Theory of the Heavens' : HTTPSConnectionPool(host='en.wikipedia.org', port=443): Max retries exceeded with url: /w/api.php?format=json&redirects=1&action=query&prop=info&titles=Universal+Natural+History+and+Theory+of+the+Heavens&inprop=protection%7Ctalkid%7Cwatched%7Cwatchers%7Cvisitingwatchers%7Cnotificationtimestamp%7Csubjectid%7Curl%7Creadable%7Cpreload%7Cdisplaytitle%7Cvarianttitles (Caused by NewConnectionError('<urllib3.connection.HTTPSConnection object at 0x74417f7179b0>: Failed to establish a new connection: [Errno 101] Network is unreachable'))\n",
      "[Erreur] Impossible de charger la page 'A Universe from Nothing' : HTTPSConnectionPool(host='en.wikipedia.org', port=443): Max retries exceeded with url: /w/api.php?format=json&redirects=1&action=query&prop=info&titles=A+Universe+from+Nothing&inprop=protection%7Ctalkid%7Cwatched%7Cwatchers%7Cvisitingwatchers%7Cnotificationtimestamp%7Csubjectid%7Curl%7Creadable%7Cpreload%7Cdisplaytitle%7Cvarianttitles (Caused by NewConnectionError('<urllib3.connection.HTTPSConnection object at 0x74417f717230>: Failed to establish a new connection: [Errno 101] Network is unreachable'))\n"
     ]
    },
    {
     "data": {
      "application/vnd.jupyter.widget-view+json": {
       "model_id": "ce76f95c6ad34d988b6493b485e3b67e",
       "version_major": 2,
       "version_minor": 0
      },
      "text/plain": [
       "Categories (flat):   0%|          | 0/3 [00:00<?, ?cat/s]"
      ]
     },
     "metadata": {},
     "output_type": "display_data"
    },
    {
     "data": {
      "application/vnd.jupyter.widget-view+json": {
       "model_id": "2d87b74407434158905540ce0c703dc2",
       "version_major": 2,
       "version_minor": 0
      },
      "text/plain": [
       "Pages in Big Bang:   0%|          | 0/30 [00:00<?, ?page/s]"
      ]
     },
     "metadata": {},
     "output_type": "display_data"
    },
    {
     "name": "stdout",
     "output_type": "stream",
     "text": [
      "[Erreur] Impossible de charger la page 'Big Bang' : HTTPSConnectionPool(host='en.wikipedia.org', port=443): Max retries exceeded with url: /w/api.php?format=json&redirects=1&action=query&prop=info&titles=Big+Bang&inprop=protection%7Ctalkid%7Cwatched%7Cwatchers%7Cvisitingwatchers%7Cnotificationtimestamp%7Csubjectid%7Curl%7Creadable%7Cpreload%7Cdisplaytitle%7Cvarianttitles (Caused by NewConnectionError('<urllib3.connection.HTTPSConnection object at 0x74417f715340>: Failed to establish a new connection: [Errno 101] Network is unreachable'))\n",
      "[Erreur] Impossible de charger la page 'Accelerating expansion of the universe' : HTTPSConnectionPool(host='en.wikipedia.org', port=443): Max retries exceeded with url: /w/api.php?format=json&redirects=1&action=query&prop=info&titles=Accelerating+expansion+of+the+universe&inprop=protection%7Ctalkid%7Cwatched%7Cwatchers%7Cvisitingwatchers%7Cnotificationtimestamp%7Csubjectid%7Curl%7Creadable%7Cpreload%7Cdisplaytitle%7Cvarianttitles (Caused by NewConnectionError('<urllib3.connection.HTTPSConnection object at 0x74417f883320>: Failed to establish a new connection: [Errno 101] Network is unreachable'))\n",
      "[Erreur] Impossible de charger la page 'Age of the universe' : HTTPSConnectionPool(host='en.wikipedia.org', port=443): Max retries exceeded with url: /w/api.php?format=json&redirects=1&action=query&prop=info&titles=Age+of+the+universe&inprop=protection%7Ctalkid%7Cwatched%7Cwatchers%7Cvisitingwatchers%7Cnotificationtimestamp%7Csubjectid%7Curl%7Creadable%7Cpreload%7Cdisplaytitle%7Cvarianttitles (Caused by NewConnectionError('<urllib3.connection.HTTPSConnection object at 0x74417f62b7d0>: Failed to establish a new connection: [Errno 101] Network is unreachable'))\n",
      "[Erreur] Impossible de charger la page 'Baryogenesis' : HTTPSConnectionPool(host='en.wikipedia.org', port=443): Max retries exceeded with url: /w/api.php?format=json&redirects=1&action=query&prop=info&titles=Baryogenesis&inprop=protection%7Ctalkid%7Cwatched%7Cwatchers%7Cvisitingwatchers%7Cnotificationtimestamp%7Csubjectid%7Curl%7Creadable%7Cpreload%7Cdisplaytitle%7Cvarianttitles (Caused by NewConnectionError('<urllib3.connection.HTTPSConnection object at 0x74417f7c0ce0>: Failed to establish a new connection: [Errno 101] Network is unreachable'))\n",
      "[Erreur] Impossible de charger la page 'Big Bang nucleosynthesis' : HTTPSConnectionPool(host='en.wikipedia.org', port=443): Max retries exceeded with url: /w/api.php?format=json&redirects=1&action=query&prop=info&titles=Big+Bang+nucleosynthesis&inprop=protection%7Ctalkid%7Cwatched%7Cwatchers%7Cvisitingwatchers%7Cnotificationtimestamp%7Csubjectid%7Curl%7Creadable%7Cpreload%7Cdisplaytitle%7Cvarianttitles (Caused by NewConnectionError('<urllib3.connection.HTTPSConnection object at 0x74417f7c3ef0>: Failed to establish a new connection: [Errno 101] Network is unreachable'))\n",
      "[Erreur] Impossible de charger la page 'Chronology of the universe' : HTTPSConnectionPool(host='en.wikipedia.org', port=443): Max retries exceeded with url: /w/api.php?format=json&redirects=1&action=query&prop=info&titles=Chronology+of+the+universe&inprop=protection%7Ctalkid%7Cwatched%7Cwatchers%7Cvisitingwatchers%7Cnotificationtimestamp%7Csubjectid%7Curl%7Creadable%7Cpreload%7Cdisplaytitle%7Cvarianttitles (Caused by NewConnectionError('<urllib3.connection.HTTPSConnection object at 0x74417f7c0710>: Failed to establish a new connection: [Errno 101] Network is unreachable'))\n",
      "[Erreur] Impossible de charger la page 'Cold Big Bang' : HTTPSConnectionPool(host='en.wikipedia.org', port=443): Max retries exceeded with url: /w/api.php?format=json&redirects=1&action=query&prop=info&titles=Cold+Big+Bang&inprop=protection%7Ctalkid%7Cwatched%7Cwatchers%7Cvisitingwatchers%7Cnotificationtimestamp%7Csubjectid%7Curl%7Creadable%7Cpreload%7Cdisplaytitle%7Cvarianttitles (Caused by NewConnectionError('<urllib3.connection.HTTPSConnection object at 0x74417f809520>: Failed to establish a new connection: [Errno 101] Network is unreachable'))\n",
      "[Erreur] Impossible de charger la page 'Cosmological constant' : HTTPSConnectionPool(host='en.wikipedia.org', port=443): Max retries exceeded with url: /w/api.php?format=json&redirects=1&action=query&prop=info&titles=Cosmological+constant&inprop=protection%7Ctalkid%7Cwatched%7Cwatchers%7Cvisitingwatchers%7Cnotificationtimestamp%7Csubjectid%7Curl%7Creadable%7Cpreload%7Cdisplaytitle%7Cvarianttitles (Caused by NewConnectionError('<urllib3.connection.HTTPSConnection object at 0x74417f90b800>: Failed to establish a new connection: [Errno 101] Network is unreachable'))\n",
      "[Erreur] Impossible de charger la page 'Cosmological lithium problem' : HTTPSConnectionPool(host='en.wikipedia.org', port=443): Max retries exceeded with url: /w/api.php?format=json&redirects=1&action=query&prop=info&titles=Cosmological+lithium+problem&inprop=protection%7Ctalkid%7Cwatched%7Cwatchers%7Cvisitingwatchers%7Cnotificationtimestamp%7Csubjectid%7Curl%7Creadable%7Cpreload%7Cdisplaytitle%7Cvarianttitles (Caused by NewConnectionError('<urllib3.connection.HTTPSConnection object at 0x74417f714e90>: Failed to establish a new connection: [Errno 101] Network is unreachable'))\n",
      "[Erreur] Impossible de charger la page 'Cosmological phase transition' : HTTPSConnectionPool(host='en.wikipedia.org', port=443): Max retries exceeded with url: /w/api.php?format=json&redirects=1&action=query&prop=info&titles=Cosmological+phase+transition&inprop=protection%7Ctalkid%7Cwatched%7Cwatchers%7Cvisitingwatchers%7Cnotificationtimestamp%7Csubjectid%7Curl%7Creadable%7Cpreload%7Cdisplaytitle%7Cvarianttitles (Caused by NewConnectionError('<urllib3.connection.HTTPSConnection object at 0x74417f803d10>: Failed to establish a new connection: [Errno 101] Network is unreachable'))\n",
      "[Erreur] Impossible de charger la page 'Dark Ages Radio Explorer' : HTTPSConnectionPool(host='en.wikipedia.org', port=443): Max retries exceeded with url: /w/api.php?format=json&redirects=1&action=query&prop=info&titles=Dark+Ages+Radio+Explorer&inprop=protection%7Ctalkid%7Cwatched%7Cwatchers%7Cvisitingwatchers%7Cnotificationtimestamp%7Csubjectid%7Curl%7Creadable%7Cpreload%7Cdisplaytitle%7Cvarianttitles (Caused by NewConnectionError('<urllib3.connection.HTTPSConnection object at 0x74417f7c3c80>: Failed to establish a new connection: [Errno 101] Network is unreachable'))\n",
      "[Erreur] Impossible de charger la page 'Electroweak epoch' : HTTPSConnectionPool(host='en.wikipedia.org', port=443): Max retries exceeded with url: /w/api.php?format=json&redirects=1&action=query&prop=info&titles=Electroweak+epoch&inprop=protection%7Ctalkid%7Cwatched%7Cwatchers%7Cvisitingwatchers%7Cnotificationtimestamp%7Csubjectid%7Curl%7Creadable%7Cpreload%7Cdisplaytitle%7Cvarianttitles (Caused by NewConnectionError('<urllib3.connection.HTTPSConnection object at 0x74417f7c2c90>: Failed to establish a new connection: [Errno 101] Network is unreachable'))\n",
      "[Erreur] Impossible de charger la page 'Expansion of the universe' : HTTPSConnectionPool(host='en.wikipedia.org', port=443): Max retries exceeded with url: /w/api.php?format=json&redirects=1&action=query&prop=info&titles=Expansion+of+the+universe&inprop=protection%7Ctalkid%7Cwatched%7Cwatchers%7Cvisitingwatchers%7Cnotificationtimestamp%7Csubjectid%7Curl%7Creadable%7Cpreload%7Cdisplaytitle%7Cvarianttitles (Caused by NewConnectionError('<urllib3.connection.HTTPSConnection object at 0x74417f7c3dd0>: Failed to establish a new connection: [Errno 101] Network is unreachable'))\n",
      "[Erreur] Impossible de charger la page 'Grand unification epoch' : HTTPSConnectionPool(host='en.wikipedia.org', port=443): Max retries exceeded with url: /w/api.php?format=json&redirects=1&action=query&prop=info&titles=Grand+unification+epoch&inprop=protection%7Ctalkid%7Cwatched%7Cwatchers%7Cvisitingwatchers%7Cnotificationtimestamp%7Csubjectid%7Curl%7Creadable%7Cpreload%7Cdisplaytitle%7Cvarianttitles (Caused by NewConnectionError('<urllib3.connection.HTTPSConnection object at 0x74417f88b110>: Failed to establish a new connection: [Errno 101] Network is unreachable'))\n",
      "[Erreur] Impossible de charger la page 'Hadron era' : HTTPSConnectionPool(host='en.wikipedia.org', port=443): Max retries exceeded with url: /w/api.php?format=json&redirects=1&action=query&prop=info&titles=Hadron+era&inprop=protection%7Ctalkid%7Cwatched%7Cwatchers%7Cvisitingwatchers%7Cnotificationtimestamp%7Csubjectid%7Curl%7Creadable%7Cpreload%7Cdisplaytitle%7Cvarianttitles (Caused by NewConnectionError('<urllib3.connection.HTTPSConnection object at 0x74417f731400>: Failed to establish a new connection: [Errno 101] Network is unreachable'))\n",
      "[Erreur] Impossible de charger la page 'History of the Big Bang theory' : HTTPSConnectionPool(host='en.wikipedia.org', port=443): Max retries exceeded with url: /w/api.php?format=json&redirects=1&action=query&prop=info&titles=History+of+the+Big+Bang+theory&inprop=protection%7Ctalkid%7Cwatched%7Cwatchers%7Cvisitingwatchers%7Cnotificationtimestamp%7Csubjectid%7Curl%7Creadable%7Cpreload%7Cdisplaytitle%7Cvarianttitles (Caused by NewConnectionError('<urllib3.connection.HTTPSConnection object at 0x74417f731880>: Failed to establish a new connection: [Errno 101] Network is unreachable'))\n",
      "[Erreur] Impossible de charger la page 'Horrendous Space Kablooie' : HTTPSConnectionPool(host='en.wikipedia.org', port=443): Max retries exceeded with url: /w/api.php?format=json&redirects=1&action=query&prop=info&titles=Horrendous+Space+Kablooie&inprop=protection%7Ctalkid%7Cwatched%7Cwatchers%7Cvisitingwatchers%7Cnotificationtimestamp%7Csubjectid%7Curl%7Creadable%7Cpreload%7Cdisplaytitle%7Cvarianttitles (Caused by NewConnectionError('<urllib3.connection.HTTPSConnection object at 0x74417f7c0d70>: Failed to establish a new connection: [Errno 101] Network is unreachable'))\n",
      "[Erreur] Impossible de charger la page 'Inflationary epoch' : HTTPSConnectionPool(host='en.wikipedia.org', port=443): Max retries exceeded with url: /w/api.php?format=json&redirects=1&action=query&prop=info&titles=Inflationary+epoch&inprop=protection%7Ctalkid%7Cwatched%7Cwatchers%7Cvisitingwatchers%7Cnotificationtimestamp%7Csubjectid%7Curl%7Creadable%7Cpreload%7Cdisplaytitle%7Cvarianttitles (Caused by NewConnectionError('<urllib3.connection.HTTPSConnection object at 0x74417f7c1f40>: Failed to establish a new connection: [Errno 101] Network is unreachable'))\n",
      "[Erreur] Impossible de charger la page 'Initial singularity' : HTTPSConnectionPool(host='en.wikipedia.org', port=443): Max retries exceeded with url: /w/api.php?format=json&redirects=1&action=query&prop=info&titles=Initial+singularity&inprop=protection%7Ctalkid%7Cwatched%7Cwatchers%7Cvisitingwatchers%7Cnotificationtimestamp%7Csubjectid%7Curl%7Creadable%7Cpreload%7Cdisplaytitle%7Cvarianttitles (Caused by NewConnectionError('<urllib3.connection.HTTPSConnection object at 0x74417f7c3a40>: Failed to establish a new connection: [Errno 101] Network is unreachable'))\n",
      "[Erreur] Impossible de charger la page 'Georges Lemaître' : HTTPSConnectionPool(host='en.wikipedia.org', port=443): Max retries exceeded with url: /w/api.php?format=json&redirects=1&action=query&prop=info&titles=Georges+Lema%C3%AEtre&inprop=protection%7Ctalkid%7Cwatched%7Cwatchers%7Cvisitingwatchers%7Cnotificationtimestamp%7Csubjectid%7Curl%7Creadable%7Cpreload%7Cdisplaytitle%7Cvarianttitles (Caused by NewConnectionError('<urllib3.connection.HTTPSConnection object at 0x74417f68f950>: Failed to establish a new connection: [Errno 101] Network is unreachable'))\n",
      "[Erreur] Impossible de charger la page 'Lepton epoch' : HTTPSConnectionPool(host='en.wikipedia.org', port=443): Max retries exceeded with url: /w/api.php?format=json&redirects=1&action=query&prop=info&titles=Lepton+epoch&inprop=protection%7Ctalkid%7Cwatched%7Cwatchers%7Cvisitingwatchers%7Cnotificationtimestamp%7Csubjectid%7Curl%7Creadable%7Cpreload%7Cdisplaytitle%7Cvarianttitles (Caused by NewConnectionError('<urllib3.connection.HTTPSConnection object at 0x74417f716510>: Failed to establish a new connection: [Errno 101] Network is unreachable'))\n",
      "[Erreur] Impossible de charger la page 'MACS 1423-z7p64' : HTTPSConnectionPool(host='en.wikipedia.org', port=443): Max retries exceeded with url: /w/api.php?format=json&redirects=1&action=query&prop=info&titles=MACS+1423-z7p64&inprop=protection%7Ctalkid%7Cwatched%7Cwatchers%7Cvisitingwatchers%7Cnotificationtimestamp%7Csubjectid%7Curl%7Creadable%7Cpreload%7Cdisplaytitle%7Cvarianttitles (Caused by NewConnectionError('<urllib3.connection.HTTPSConnection object at 0x74417f717710>: Failed to establish a new connection: [Errno 101] Network is unreachable'))\n",
      "[Erreur] Impossible de charger la page 'Non-standard cosmology' : HTTPSConnectionPool(host='en.wikipedia.org', port=443): Max retries exceeded with url: /w/api.php?format=json&redirects=1&action=query&prop=info&titles=Non-standard+cosmology&inprop=protection%7Ctalkid%7Cwatched%7Cwatchers%7Cvisitingwatchers%7Cnotificationtimestamp%7Csubjectid%7Curl%7Creadable%7Cpreload%7Cdisplaytitle%7Cvarianttitles (Caused by NewConnectionError('<urllib3.connection.HTTPSConnection object at 0x74417f7c10d0>: Failed to establish a new connection: [Errno 101] Network is unreachable'))\n",
      "[Erreur] Impossible de charger la page 'Photon epoch' : HTTPSConnectionPool(host='en.wikipedia.org', port=443): Max retries exceeded with url: /w/api.php?format=json&redirects=1&action=query&prop=info&titles=Photon+epoch&inprop=protection%7Ctalkid%7Cwatched%7Cwatchers%7Cvisitingwatchers%7Cnotificationtimestamp%7Csubjectid%7Curl%7Creadable%7Cpreload%7Cdisplaytitle%7Cvarianttitles (Caused by NewConnectionError('<urllib3.connection.HTTPSConnection object at 0x74417f731df0>: Failed to establish a new connection: [Errno 101] Network is unreachable'))\n",
      "[Erreur] Impossible de charger la page 'Planck epoch' : HTTPSConnectionPool(host='en.wikipedia.org', port=443): Max retries exceeded with url: /w/api.php?format=json&redirects=1&action=query&prop=info&titles=Planck+epoch&inprop=protection%7Ctalkid%7Cwatched%7Cwatchers%7Cvisitingwatchers%7Cnotificationtimestamp%7Csubjectid%7Curl%7Creadable%7Cpreload%7Cdisplaytitle%7Cvarianttitles (Caused by NewConnectionError('<urllib3.connection.HTTPSConnection object at 0x74417f883320>: Failed to establish a new connection: [Errno 101] Network is unreachable'))\n",
      "[Erreur] Impossible de charger la page 'Quark epoch' : HTTPSConnectionPool(host='en.wikipedia.org', port=443): Max retries exceeded with url: /w/api.php?format=json&redirects=1&action=query&prop=info&titles=Quark+epoch&inprop=protection%7Ctalkid%7Cwatched%7Cwatchers%7Cvisitingwatchers%7Cnotificationtimestamp%7Csubjectid%7Curl%7Creadable%7Cpreload%7Cdisplaytitle%7Cvarianttitles (Caused by NewConnectionError('<urllib3.connection.HTTPSConnection object at 0x74417f62ba10>: Failed to establish a new connection: [Errno 101] Network is unreachable'))\n"
     ]
    },
    {
     "data": {
      "application/vnd.jupyter.widget-view+json": {
       "model_id": "15b1ff33e61c4c49a90158310dff34e9",
       "version_major": 2,
       "version_minor": 0
      },
      "text/plain": [
       "Pages in Chaos (cosmogony):   0%|          | 0/9 [00:00<?, ?page/s]"
      ]
     },
     "metadata": {},
     "output_type": "display_data"
    },
    {
     "data": {
      "application/vnd.jupyter.widget-view+json": {
       "model_id": "a2c263cb86eb4d76a6ee7af928767d9c",
       "version_major": 2,
       "version_minor": 0
      },
      "text/plain": [
       "Pages in Creation myths:   0%|          | 0/100 [00:00<?, ?page/s]"
      ]
     },
     "metadata": {},
     "output_type": "display_data"
    },
    {
     "data": {
      "application/vnd.jupyter.widget-view+json": {
       "model_id": "fcc464bcb30f403f8140d1515d6818b0",
       "version_major": 2,
       "version_minor": 0
      },
      "text/plain": [
       "Pages in Cosmographers:   0%|          | 0/11 [00:00<?, ?page/s]"
      ]
     },
     "metadata": {},
     "output_type": "display_data"
    },
    {
     "data": {
      "application/vnd.jupyter.widget-view+json": {
       "model_id": "6959bd2cccb146a9968c217746b10ea7",
       "version_major": 2,
       "version_minor": 0
      },
      "text/plain": [
       "Pages in Cosmologists:   0%|          | 0/33 [00:00<?, ?page/s]"
      ]
     },
     "metadata": {},
     "output_type": "display_data"
    },
    {
     "data": {
      "application/vnd.jupyter.widget-view+json": {
       "model_id": "b4eb2fd342f34fcba2bdea17c24f8a46",
       "version_major": 2,
       "version_minor": 0
      },
      "text/plain": [
       "Categories (flat):   0%|          | 0/3 [00:00<?, ?cat/s]"
      ]
     },
     "metadata": {},
     "output_type": "display_data"
    },
    {
     "data": {
      "application/vnd.jupyter.widget-view+json": {
       "model_id": "c53987ceb2b042d2a0e0f781754235ea",
       "version_major": 2,
       "version_minor": 0
      },
      "text/plain": [
       "Pages in Cosmologists by nationality: 0page [00:00, ?page/s]"
      ]
     },
     "metadata": {},
     "output_type": "display_data"
    },
    {
     "data": {
      "application/vnd.jupyter.widget-view+json": {
       "model_id": "0e28703d0e934dd999c7b678b111a26b",
       "version_major": 2,
       "version_minor": 0
      },
      "text/plain": [
       "Pages in Ancient Greek cosmologists:   0%|          | 0/2 [00:00<?, ?page/s]"
      ]
     },
     "metadata": {},
     "output_type": "display_data"
    },
    {
     "data": {
      "application/vnd.jupyter.widget-view+json": {
       "model_id": "c192641662984bde8fb8d62b042e991e",
       "version_major": 2,
       "version_minor": 0
      },
      "text/plain": [
       "Pages in Philosophers of cosmology:   0%|          | 0/19 [00:00<?, ?page/s]"
      ]
     },
     "metadata": {},
     "output_type": "display_data"
    },
    {
     "data": {
      "application/vnd.jupyter.widget-view+json": {
       "model_id": "ad567c54e7224657bf44a34809bd6f0f",
       "version_major": 2,
       "version_minor": 0
      },
      "text/plain": [
       "Pages in Cosmology books:   0%|          | 0/48 [00:00<?, ?page/s]"
      ]
     },
     "metadata": {},
     "output_type": "display_data"
    },
    {
     "data": {
      "application/vnd.jupyter.widget-view+json": {
       "model_id": "059310f367e741759b25c63834fb5075",
       "version_major": 2,
       "version_minor": 0
      },
      "text/plain": [
       "Pages in Dark energy:   0%|          | 0/23 [00:00<?, ?page/s]"
      ]
     },
     "metadata": {},
     "output_type": "display_data"
    },
    {
     "data": {
      "application/vnd.jupyter.widget-view+json": {
       "model_id": "e9b7fd97ebc54b3bb7d2745e15320bd8",
       "version_major": 2,
       "version_minor": 0
      },
      "text/plain": [
       "Pages in Quantum mechanics:   0%|          | 0/100 [00:00<?, ?page/s]"
      ]
     },
     "metadata": {},
     "output_type": "display_data"
    },
    {
     "data": {
      "application/vnd.jupyter.widget-view+json": {
       "model_id": "b0b77daeda0a45f58d6e759928364081",
       "version_major": 2,
       "version_minor": 0
      },
      "text/plain": [
       "Categories (flat):   0%|          | 0/10 [00:00<?, ?cat/s]"
      ]
     },
     "metadata": {},
     "output_type": "display_data"
    },
    {
     "data": {
      "application/vnd.jupyter.widget-view+json": {
       "model_id": "c6896cb3d26d4e8fbe2056b66af4adff",
       "version_major": 2,
       "version_minor": 0
      },
      "text/plain": [
       "Pages in Quantum physicists:   0%|          | 0/100 [00:00<?, ?page/s]"
      ]
     },
     "metadata": {},
     "output_type": "display_data"
    },
    {
     "data": {
      "application/vnd.jupyter.widget-view+json": {
       "model_id": "6035876732db4e0388c45edf0f392704",
       "version_major": 2,
       "version_minor": 0
      },
      "text/plain": [
       "Categories (flat):   0%|          | 0/7 [00:00<?, ?cat/s]"
      ]
     },
     "metadata": {},
     "output_type": "display_data"
    },
    {
     "data": {
      "application/vnd.jupyter.widget-view+json": {
       "model_id": "6aa37fdfe1ff457abdbae41839ab7794",
       "version_major": 2,
       "version_minor": 0
      },
      "text/plain": [
       "Pages in Quantum information scientists:   0%|          | 0/51 [00:00<?, ?page/s]"
      ]
     },
     "metadata": {},
     "output_type": "display_data"
    },
    {
     "data": {
      "application/vnd.jupyter.widget-view+json": {
       "model_id": "b1d22cbbc0784919bf2db76fd052d202",
       "version_major": 2,
       "version_minor": 0
      },
      "text/plain": [
       "Pages in American quantum physicists:   0%|          | 0/65 [00:00<?, ?page/s]"
      ]
     },
     "metadata": {},
     "output_type": "display_data"
    },
    {
     "data": {
      "application/vnd.jupyter.widget-view+json": {
       "model_id": "32c6000b209f48758f6711a7a5a9a97e",
       "version_major": 2,
       "version_minor": 0
      },
      "text/plain": [
       "Pages in British quantum physicists:   0%|          | 0/23 [00:00<?, ?page/s]"
      ]
     },
     "metadata": {},
     "output_type": "display_data"
    },
    {
     "data": {
      "application/vnd.jupyter.widget-view+json": {
       "model_id": "4ea99cc57b0e4761a77ff44bd24283aa",
       "version_major": 2,
       "version_minor": 0
      },
      "text/plain": [
       "Pages in Fictional Quantum Physicists:   0%|          | 0/2 [00:00<?, ?page/s]"
      ]
     },
     "metadata": {},
     "output_type": "display_data"
    },
    {
     "data": {
      "application/vnd.jupyter.widget-view+json": {
       "model_id": "b697976a47ec4924a5c9a93f7a10ca32",
       "version_major": 2,
       "version_minor": 0
      },
      "text/plain": [
       "Pages in German quantum physicists:   0%|          | 0/35 [00:00<?, ?page/s]"
      ]
     },
     "metadata": {},
     "output_type": "display_data"
    },
    {
     "data": {
      "application/vnd.jupyter.widget-view+json": {
       "model_id": "2b76b2f0f1ef4ecdb7d45da73828d5c0",
       "version_major": 2,
       "version_minor": 0
      },
      "text/plain": [
       "Pages in Indian quantum physicists:   0%|          | 0/12 [00:00<?, ?page/s]"
      ]
     },
     "metadata": {},
     "output_type": "display_data"
    },
    {
     "data": {
      "application/vnd.jupyter.widget-view+json": {
       "model_id": "9e22ec23999c48fd9158cafac9f98afb",
       "version_major": 2,
       "version_minor": 0
      },
      "text/plain": [
       "Pages in Quantum gravity physicists:   0%|          | 0/17 [00:00<?, ?page/s]"
      ]
     },
     "metadata": {},
     "output_type": "display_data"
    },
    {
     "data": {
      "application/vnd.jupyter.widget-view+json": {
       "model_id": "6af070b0a116424f8e91460f6209cbf3",
       "version_major": 2,
       "version_minor": 0
      },
      "text/plain": [
       "Pages in Works about quantum mechanics:   0%|          | 0/18 [00:00<?, ?page/s]"
      ]
     },
     "metadata": {},
     "output_type": "display_data"
    },
    {
     "data": {
      "application/vnd.jupyter.widget-view+json": {
       "model_id": "cd4af3dffd174e448d486d962ef101b7",
       "version_major": 2,
       "version_minor": 0
      },
      "text/plain": [
       "Categories (flat):   0%|          | 0/2 [00:00<?, ?cat/s]"
      ]
     },
     "metadata": {},
     "output_type": "display_data"
    },
    {
     "data": {
      "application/vnd.jupyter.widget-view+json": {
       "model_id": "91350c7a610246759690b74c14978c8f",
       "version_major": 2,
       "version_minor": 0
      },
      "text/plain": [
       "Pages in Fiction about quantum mechanics:   0%|          | 0/6 [00:00<?, ?page/s]"
      ]
     },
     "metadata": {},
     "output_type": "display_data"
    },
    {
     "data": {
      "application/vnd.jupyter.widget-view+json": {
       "model_id": "0354bbded22749e197c7419b73fc63fb",
       "version_major": 2,
       "version_minor": 0
      },
      "text/plain": [
       "Pages in Quantum mechanics journals:   0%|          | 0/8 [00:00<?, ?page/s]"
      ]
     },
     "metadata": {},
     "output_type": "display_data"
    },
    {
     "data": {
      "application/vnd.jupyter.widget-view+json": {
       "model_id": "2e14660fe5f64bcb8b5c650e398b6b2f",
       "version_major": 2,
       "version_minor": 0
      },
      "text/plain": [
       "Pages in Applications of quantum mechanics:   0%|          | 0/9 [00:00<?, ?page/s]"
      ]
     },
     "metadata": {},
     "output_type": "display_data"
    },
    {
     "data": {
      "application/vnd.jupyter.widget-view+json": {
       "model_id": "c3a4b261f0bf4bc7bb822e769e7f6c42",
       "version_major": 2,
       "version_minor": 0
      },
      "text/plain": [
       "Categories (flat):   0%|          | 0/1 [00:00<?, ?cat/s]"
      ]
     },
     "metadata": {},
     "output_type": "display_data"
    },
    {
     "data": {
      "application/vnd.jupyter.widget-view+json": {
       "model_id": "36a9b18cfb564a8890dfa6661f1deb7e",
       "version_major": 2,
       "version_minor": 0
      },
      "text/plain": [
       "Pages in Quantum information science:   0%|          | 0/100 [00:00<?, ?page/s]"
      ]
     },
     "metadata": {},
     "output_type": "display_data"
    },
    {
     "data": {
      "application/vnd.jupyter.widget-view+json": {
       "model_id": "17e22e2cc58e40faa2eaa75a7d5d43fa",
       "version_major": 2,
       "version_minor": 0
      },
      "text/plain": [
       "Pages in Atomic physics:   0%|          | 0/100 [00:00<?, ?page/s]"
      ]
     },
     "metadata": {},
     "output_type": "display_data"
    },
    {
     "ename": "KeyboardInterrupt",
     "evalue": "",
     "output_type": "error",
     "traceback": [
      "\u001b[0;31m---------------------------------------------------------------------------\u001b[0m",
      "\u001b[0;31mKeyboardInterrupt\u001b[0m                         Traceback (most recent call last)",
      "Cell \u001b[0;32mIn[9], line 2\u001b[0m\n\u001b[1;32m      1\u001b[0m \u001b[38;5;66;03m# # Sauvegarder les pages dans des fichiers\u001b[39;00m\n\u001b[0;32m----> 2\u001b[0m Save_Wikipedia_Tree_Flat_To_Files(\n\u001b[1;32m      3\u001b[0m       Wiki_Api\u001b[38;5;241m=\u001b[39mwiki,\n\u001b[1;32m      4\u001b[0m       Tree_Dict\u001b[38;5;241m=\u001b[39mloaded_tree,\n\u001b[1;32m      5\u001b[0m       Root_Folder\u001b[38;5;241m=\u001b[39m\u001b[38;5;124m\"\u001b[39m\u001b[38;5;124mData\u001b[39m\u001b[38;5;124m\"\u001b[39m\n\u001b[1;32m      6\u001b[0m   )\n",
      "File \u001b[0;32m~/Etudes/Personel/Projects/Projects_Computer/RAG/RAG_Wikipedia/Main_Scripts/../Modules/Documents_Download.py:261\u001b[0m, in \u001b[0;36mSave_Wikipedia_Tree_Flat_To_Files\u001b[0;34m(Wiki_Api, Tree_Dict, Root_Folder)\u001b[0m\n\u001b[1;32m    258\u001b[0m         \u001b[38;5;28;01mif\u001b[39;00m subcats:\n\u001b[1;32m    259\u001b[0m             save_pages_flat(subcats)\n\u001b[0;32m--> 261\u001b[0m save_pages_flat(Tree_Dict)\n",
      "File \u001b[0;32m~/Etudes/Personel/Projects/Projects_Computer/RAG/RAG_Wikipedia/Main_Scripts/../Modules/Documents_Download.py:259\u001b[0m, in \u001b[0;36mSave_Wikipedia_Tree_Flat_To_Files.<locals>.save_pages_flat\u001b[0;34m(tree)\u001b[0m\n\u001b[1;32m    257\u001b[0m         \u001b[38;5;28;01mcontinue\u001b[39;00m\n\u001b[1;32m    258\u001b[0m \u001b[38;5;28;01mif\u001b[39;00m subcats:\n\u001b[0;32m--> 259\u001b[0m     save_pages_flat(subcats)\n",
      "File \u001b[0;32m~/Etudes/Personel/Projects/Projects_Computer/RAG/RAG_Wikipedia/Main_Scripts/../Modules/Documents_Download.py:259\u001b[0m, in \u001b[0;36mSave_Wikipedia_Tree_Flat_To_Files.<locals>.save_pages_flat\u001b[0;34m(tree)\u001b[0m\n\u001b[1;32m    257\u001b[0m         \u001b[38;5;28;01mcontinue\u001b[39;00m\n\u001b[1;32m    258\u001b[0m \u001b[38;5;28;01mif\u001b[39;00m subcats:\n\u001b[0;32m--> 259\u001b[0m     save_pages_flat(subcats)\n",
      "File \u001b[0;32m~/Etudes/Personel/Projects/Projects_Computer/RAG/RAG_Wikipedia/Main_Scripts/../Modules/Documents_Download.py:252\u001b[0m, in \u001b[0;36mSave_Wikipedia_Tree_Flat_To_Files.<locals>.save_pages_flat\u001b[0;34m(tree)\u001b[0m\n\u001b[1;32m    250\u001b[0m     \u001b[38;5;28;01mwith\u001b[39;00m \u001b[38;5;28mopen\u001b[39m(file_path, \u001b[38;5;124m\"\u001b[39m\u001b[38;5;124mw\u001b[39m\u001b[38;5;124m\"\u001b[39m, encoding\u001b[38;5;241m=\u001b[39m\u001b[38;5;124m\"\u001b[39m\u001b[38;5;124mutf-8\u001b[39m\u001b[38;5;124m\"\u001b[39m) \u001b[38;5;28;01mas\u001b[39;00m f:\n\u001b[1;32m    251\u001b[0m         f\u001b[38;5;241m.\u001b[39mwrite(page\u001b[38;5;241m.\u001b[39mtext)\n\u001b[0;32m--> 252\u001b[0m     time\u001b[38;5;241m.\u001b[39msleep(\u001b[38;5;241m0.5\u001b[39m)  \u001b[38;5;66;03m# éviter d’abuser du serveur\u001b[39;00m\n\u001b[1;32m    253\u001b[0m \u001b[38;5;28;01melse\u001b[39;00m:\n\u001b[1;32m    254\u001b[0m     \u001b[38;5;28mprint\u001b[39m(\u001b[38;5;124mf\u001b[39m\u001b[38;5;124m\"\u001b[39m\u001b[38;5;124mPage \u001b[39m\u001b[38;5;124m'\u001b[39m\u001b[38;5;132;01m{\u001b[39;00mpage_title\u001b[38;5;132;01m}\u001b[39;00m\u001b[38;5;124m'\u001b[39m\u001b[38;5;124m introuvable.\u001b[39m\u001b[38;5;124m\"\u001b[39m)\n",
      "\u001b[0;31mKeyboardInterrupt\u001b[0m: "
     ]
    }
   ],
   "source": [
    "  # # Sauvegarder les pages dans des fichiers\n",
    "Save_Wikipedia_Tree_Flat_To_Files(\n",
    "        Wiki_Api=wiki,\n",
    "        Tree_Dict=loaded_tree,\n",
    "        Root_Folder=\"Data\"\n",
    "    )"
   ]
  }
 ],
 "metadata": {
  "kernelspec": {
   "display_name": "Personal",
   "language": "python",
   "name": "python3"
  },
  "language_info": {
   "codemirror_mode": {
    "name": "ipython",
    "version": 3
   },
   "file_extension": ".py",
   "mimetype": "text/x-python",
   "name": "python",
   "nbconvert_exporter": "python",
   "pygments_lexer": "ipython3",
   "version": "3.12.4"
  }
 },
 "nbformat": 4,
 "nbformat_minor": 5
}
